{
 "cells": [
  {
   "cell_type": "markdown",
   "metadata": {},
   "source": [
    "# Accessing your data in DataFrames\n"
   ]
  },
  {
   "cell_type": "markdown",
   "metadata": {},
   "source": [
    "---\n",
    "\n",
    "*To preserve the mystery, select from the notebook menus*\n",
    "\n",
    "`Edit -> Clear All Outputs`\n",
    "\n",
    "---"
   ]
  },
  {
   "cell_type": "code",
   "execution_count": 1,
   "metadata": {},
   "outputs": [],
   "source": [
    "import polars as pl"
   ]
  },
  {
   "cell_type": "code",
   "execution_count": 2,
   "metadata": {},
   "outputs": [],
   "source": [
    "data_dict = {'letters':['A','B','c','D','eee'], \n",
    "             'hundreds':[100,200,300,400,500], \n",
    "             'tens':[10.0,20.0,30.0,40.0,50.0],\n",
    "             'boolean':[True,False,True,True,False]}"
   ]
  },
  {
   "cell_type": "code",
   "execution_count": 3,
   "metadata": {},
   "outputs": [
    {
     "data": {
      "text/html": [
       "<div><style>\n",
       ".dataframe > thead > tr,\n",
       ".dataframe > tbody > tr {\n",
       "  text-align: right;\n",
       "  white-space: pre-wrap;\n",
       "}\n",
       "</style>\n",
       "<small>shape: (5, 4)</small><table border=\"1\" class=\"dataframe\"><thead><tr><th>letters</th><th>hundreds</th><th>tens</th><th>boolean</th></tr><tr><td>str</td><td>i64</td><td>f64</td><td>bool</td></tr></thead><tbody><tr><td>&quot;A&quot;</td><td>100</td><td>10.0</td><td>true</td></tr><tr><td>&quot;B&quot;</td><td>200</td><td>20.0</td><td>false</td></tr><tr><td>&quot;c&quot;</td><td>300</td><td>30.0</td><td>true</td></tr><tr><td>&quot;D&quot;</td><td>400</td><td>40.0</td><td>true</td></tr><tr><td>&quot;eee&quot;</td><td>500</td><td>50.0</td><td>false</td></tr></tbody></table></div>"
      ],
      "text/plain": [
       "shape: (5, 4)\n",
       "┌─────────┬──────────┬──────┬─────────┐\n",
       "│ letters ┆ hundreds ┆ tens ┆ boolean │\n",
       "│ ---     ┆ ---      ┆ ---  ┆ ---     │\n",
       "│ str     ┆ i64      ┆ f64  ┆ bool    │\n",
       "╞═════════╪══════════╪══════╪═════════╡\n",
       "│ A       ┆ 100      ┆ 10.0 ┆ true    │\n",
       "│ B       ┆ 200      ┆ 20.0 ┆ false   │\n",
       "│ c       ┆ 300      ┆ 30.0 ┆ true    │\n",
       "│ D       ┆ 400      ┆ 40.0 ┆ true    │\n",
       "│ eee     ┆ 500      ┆ 50.0 ┆ false   │\n",
       "└─────────┴──────────┴──────┴─────────┘"
      ]
     },
     "execution_count": 3,
     "metadata": {},
     "output_type": "execute_result"
    }
   ],
   "source": [
    "df = pl.DataFrame(data_dict)\n",
    "df"
   ]
  },
  {
   "cell_type": "markdown",
   "metadata": {},
   "source": [
    "## DataFrame Attributes"
   ]
  },
  {
   "cell_type": "markdown",
   "metadata": {
    "tags": []
   },
   "source": [
    "### Each column has a data \"type\"\n",
    "\n",
    "- **String** text string\n",
    "- **Int64** is a 64-bit integer (whole number). The number of bits is just the amount of internal storage used for that number. *For integers it limits how big the number can be.*\n",
    "- **Float64** is a \"floating point\" number (number with decimal places). *For floats the number of bits limits the precision of the number.*\n",
    "- **Boolean** is a booleal value, which is just True/False"
   ]
  },
  {
   "cell_type": "markdown",
   "metadata": {},
   "source": [
    "### Schema includes both the column names and types\n",
    "\n",
    "which is more handy than `df.dtypes`, which still exists in Polars"
   ]
  },
  {
   "cell_type": "code",
   "execution_count": 5,
   "metadata": {},
   "outputs": [
    {
     "data": {
      "text/plain": [
       "Schema([('letters', String),\n",
       "        ('hundreds', Int64),\n",
       "        ('tens', Float64),\n",
       "        ('boolean', Boolean)])"
      ]
     },
     "execution_count": 5,
     "metadata": {},
     "output_type": "execute_result"
    }
   ],
   "source": [
    "df.schema"
   ]
  },
  {
   "cell_type": "markdown",
   "metadata": {},
   "source": [
    "### Polars has no index\n",
    "\n",
    "In Pandas, the index is the \"row names\", but Polars stores its values in a different way (columns), so it's not as focused on accessing rows of data. (There are still ways to do it, but you'll have to get used to not having as easy row access.)"
   ]
  },
  {
   "cell_type": "markdown",
   "metadata": {},
   "source": [
    "### DataFrame columns\n",
    "\n",
    "You can get a list of column names"
   ]
  },
  {
   "cell_type": "code",
   "execution_count": 5,
   "metadata": {},
   "outputs": [
    {
     "data": {
      "text/plain": [
       "['letters', 'hundreds', 'tens', 'boolean']"
      ]
     },
     "execution_count": 5,
     "metadata": {},
     "output_type": "execute_result"
    }
   ],
   "source": [
    "df.columns"
   ]
  },
  {
   "cell_type": "markdown",
   "metadata": {},
   "source": [
    "---\n",
    "\n",
    "## Returning columns with `.select()`"
   ]
  },
  {
   "cell_type": "markdown",
   "metadata": {},
   "source": [
    "### Single name gives single column\n",
    "\n",
    "- This returns a Series.\n",
    "- *This is a sortcut method. Preferred syntax is to explicitly call `pl.col('name')` as shown below.*"
   ]
  },
  {
   "cell_type": "code",
   "execution_count": 6,
   "metadata": {},
   "outputs": [
    {
     "data": {
      "text/html": [
       "<div><style>\n",
       ".dataframe > thead > tr,\n",
       ".dataframe > tbody > tr {\n",
       "  text-align: right;\n",
       "  white-space: pre-wrap;\n",
       "}\n",
       "</style>\n",
       "<small>shape: (5, 1)</small><table border=\"1\" class=\"dataframe\"><thead><tr><th>hundreds</th></tr><tr><td>i64</td></tr></thead><tbody><tr><td>100</td></tr><tr><td>200</td></tr><tr><td>300</td></tr><tr><td>400</td></tr><tr><td>500</td></tr></tbody></table></div>"
      ],
      "text/plain": [
       "shape: (5, 1)\n",
       "┌──────────┐\n",
       "│ hundreds │\n",
       "│ ---      │\n",
       "│ i64      │\n",
       "╞══════════╡\n",
       "│ 100      │\n",
       "│ 200      │\n",
       "│ 300      │\n",
       "│ 400      │\n",
       "│ 500      │\n",
       "└──────────┘"
      ]
     },
     "execution_count": 6,
     "metadata": {},
     "output_type": "execute_result"
    }
   ],
   "source": [
    "df.select('hundreds')"
   ]
  },
  {
   "cell_type": "markdown",
   "metadata": {},
   "source": [
    "### Comma-separated column names inside the parentheses gives multiple columns\n",
    "\n",
    "In Pandas you need a Python list, but here you can just do a comma separated sequence of names. *Again, this is a shortcut method*"
   ]
  },
  {
   "cell_type": "code",
   "execution_count": 7,
   "metadata": {},
   "outputs": [
    {
     "data": {
      "text/html": [
       "<div><style>\n",
       ".dataframe > thead > tr,\n",
       ".dataframe > tbody > tr {\n",
       "  text-align: right;\n",
       "  white-space: pre-wrap;\n",
       "}\n",
       "</style>\n",
       "<small>shape: (5, 2)</small><table border=\"1\" class=\"dataframe\"><thead><tr><th>tens</th><th>hundreds</th></tr><tr><td>f64</td><td>i64</td></tr></thead><tbody><tr><td>10.0</td><td>100</td></tr><tr><td>20.0</td><td>200</td></tr><tr><td>30.0</td><td>300</td></tr><tr><td>40.0</td><td>400</td></tr><tr><td>50.0</td><td>500</td></tr></tbody></table></div>"
      ],
      "text/plain": [
       "shape: (5, 2)\n",
       "┌──────┬──────────┐\n",
       "│ tens ┆ hundreds │\n",
       "│ ---  ┆ ---      │\n",
       "│ f64  ┆ i64      │\n",
       "╞══════╪══════════╡\n",
       "│ 10.0 ┆ 100      │\n",
       "│ 20.0 ┆ 200      │\n",
       "│ 30.0 ┆ 300      │\n",
       "│ 40.0 ┆ 400      │\n",
       "│ 50.0 ┆ 500      │\n",
       "└──────┴──────────┘"
      ]
     },
     "execution_count": 7,
     "metadata": {},
     "output_type": "execute_result"
    }
   ],
   "source": [
    "df.select('tens','hundreds')"
   ]
  },
  {
   "cell_type": "markdown",
   "metadata": {},
   "source": [
    "### Preferred method for specifying a column: `pl.col('name')`"
   ]
  },
  {
   "cell_type": "code",
   "execution_count": 11,
   "metadata": {},
   "outputs": [
    {
     "data": {
      "text/html": [
       "<div><style>\n",
       ".dataframe > thead > tr,\n",
       ".dataframe > tbody > tr {\n",
       "  text-align: right;\n",
       "  white-space: pre-wrap;\n",
       "}\n",
       "</style>\n",
       "<small>shape: (5, 2)</small><table border=\"1\" class=\"dataframe\"><thead><tr><th>tens</th><th>hundreds</th></tr><tr><td>f64</td><td>i64</td></tr></thead><tbody><tr><td>10.0</td><td>100</td></tr><tr><td>20.0</td><td>200</td></tr><tr><td>30.0</td><td>300</td></tr><tr><td>40.0</td><td>400</td></tr><tr><td>50.0</td><td>500</td></tr></tbody></table></div>"
      ],
      "text/plain": [
       "shape: (5, 2)\n",
       "┌──────┬──────────┐\n",
       "│ tens ┆ hundreds │\n",
       "│ ---  ┆ ---      │\n",
       "│ f64  ┆ i64      │\n",
       "╞══════╪══════════╡\n",
       "│ 10.0 ┆ 100      │\n",
       "│ 20.0 ┆ 200      │\n",
       "│ 30.0 ┆ 300      │\n",
       "│ 40.0 ┆ 400      │\n",
       "│ 50.0 ┆ 500      │\n",
       "└──────┴──────────┘"
      ]
     },
     "execution_count": 11,
     "metadata": {},
     "output_type": "execute_result"
    }
   ],
   "source": [
    "df.select(pl.col('tens','hundreds'))"
   ]
  },
  {
   "cell_type": "markdown",
   "metadata": {},
   "source": [
    "### Other methods for specifying which columns you want – not just by name!\n",
    "\n",
    "This will give you back all of the `Int64` integer columns"
   ]
  },
  {
   "cell_type": "code",
   "execution_count": 10,
   "metadata": {},
   "outputs": [
    {
     "data": {
      "text/html": [
       "<div><style>\n",
       ".dataframe > thead > tr,\n",
       ".dataframe > tbody > tr {\n",
       "  text-align: right;\n",
       "  white-space: pre-wrap;\n",
       "}\n",
       "</style>\n",
       "<small>shape: (5, 1)</small><table border=\"1\" class=\"dataframe\"><thead><tr><th>hundreds</th></tr><tr><td>i64</td></tr></thead><tbody><tr><td>100</td></tr><tr><td>200</td></tr><tr><td>300</td></tr><tr><td>400</td></tr><tr><td>500</td></tr></tbody></table></div>"
      ],
      "text/plain": [
       "shape: (5, 1)\n",
       "┌──────────┐\n",
       "│ hundreds │\n",
       "│ ---      │\n",
       "│ i64      │\n",
       "╞══════════╡\n",
       "│ 100      │\n",
       "│ 200      │\n",
       "│ 300      │\n",
       "│ 400      │\n",
       "│ 500      │\n",
       "└──────────┘"
      ]
     },
     "execution_count": 10,
     "metadata": {},
     "output_type": "execute_result"
    }
   ],
   "source": [
    "df.select(pl.col(pl.Int64))"
   ]
  },
  {
   "cell_type": "code",
   "execution_count": 17,
   "metadata": {},
   "outputs": [
    {
     "data": {
      "text/html": [
       "<div><style>\n",
       ".dataframe > thead > tr,\n",
       ".dataframe > tbody > tr {\n",
       "  text-align: right;\n",
       "  white-space: pre-wrap;\n",
       "}\n",
       "</style>\n",
       "<small>shape: (5, 4)</small><table border=\"1\" class=\"dataframe\"><thead><tr><th>letters</th><th>hundreds</th><th>tens</th><th>boolean</th></tr><tr><td>str</td><td>i64</td><td>f64</td><td>bool</td></tr></thead><tbody><tr><td>&quot;A&quot;</td><td>100</td><td>10.0</td><td>true</td></tr><tr><td>&quot;B&quot;</td><td>200</td><td>20.0</td><td>false</td></tr><tr><td>&quot;c&quot;</td><td>300</td><td>30.0</td><td>true</td></tr><tr><td>&quot;D&quot;</td><td>400</td><td>40.0</td><td>true</td></tr><tr><td>&quot;eee&quot;</td><td>500</td><td>50.0</td><td>false</td></tr></tbody></table></div>"
      ],
      "text/plain": [
       "shape: (5, 4)\n",
       "┌─────────┬──────────┬──────┬─────────┐\n",
       "│ letters ┆ hundreds ┆ tens ┆ boolean │\n",
       "│ ---     ┆ ---      ┆ ---  ┆ ---     │\n",
       "│ str     ┆ i64      ┆ f64  ┆ bool    │\n",
       "╞═════════╪══════════╪══════╪═════════╡\n",
       "│ A       ┆ 100      ┆ 10.0 ┆ true    │\n",
       "│ B       ┆ 200      ┆ 20.0 ┆ false   │\n",
       "│ c       ┆ 300      ┆ 30.0 ┆ true    │\n",
       "│ D       ┆ 400      ┆ 40.0 ┆ true    │\n",
       "│ eee     ┆ 500      ┆ 50.0 ┆ false   │\n",
       "└─────────┴──────────┴──────┴─────────┘"
      ]
     },
     "execution_count": 17,
     "metadata": {},
     "output_type": "execute_result"
    }
   ],
   "source": [
    "df.select(pl.all())"
   ]
  },
  {
   "cell_type": "markdown",
   "metadata": {},
   "source": [
    "#### You seem to need both the beginning and end marks when excluding by RegEx"
   ]
  },
  {
   "cell_type": "code",
   "execution_count": 30,
   "metadata": {},
   "outputs": [
    {
     "data": {
      "text/html": [
       "<div><style>\n",
       ".dataframe > thead > tr,\n",
       ".dataframe > tbody > tr {\n",
       "  text-align: right;\n",
       "  white-space: pre-wrap;\n",
       "}\n",
       "</style>\n",
       "<small>shape: (5, 3)</small><table border=\"1\" class=\"dataframe\"><thead><tr><th>letters</th><th>hundreds</th><th>tens</th></tr><tr><td>str</td><td>i64</td><td>f64</td></tr></thead><tbody><tr><td>&quot;A&quot;</td><td>100</td><td>10.0</td></tr><tr><td>&quot;B&quot;</td><td>200</td><td>20.0</td></tr><tr><td>&quot;c&quot;</td><td>300</td><td>30.0</td></tr><tr><td>&quot;D&quot;</td><td>400</td><td>40.0</td></tr><tr><td>&quot;eee&quot;</td><td>500</td><td>50.0</td></tr></tbody></table></div>"
      ],
      "text/plain": [
       "shape: (5, 3)\n",
       "┌─────────┬──────────┬──────┐\n",
       "│ letters ┆ hundreds ┆ tens │\n",
       "│ ---     ┆ ---      ┆ ---  │\n",
       "│ str     ┆ i64      ┆ f64  │\n",
       "╞═════════╪══════════╪══════╡\n",
       "│ A       ┆ 100      ┆ 10.0 │\n",
       "│ B       ┆ 200      ┆ 20.0 │\n",
       "│ c       ┆ 300      ┆ 30.0 │\n",
       "│ D       ┆ 400      ┆ 40.0 │\n",
       "│ eee     ┆ 500      ┆ 50.0 │\n",
       "└─────────┴──────────┴──────┘"
      ]
     },
     "execution_count": 30,
     "metadata": {},
     "output_type": "execute_result"
    }
   ],
   "source": [
    "df.select(pl.all().exclude('^boo.*$'))"
   ]
  },
  {
   "cell_type": "markdown",
   "metadata": {},
   "source": [
    "### Polars Selectors\n",
    "\n",
    "There is a super handy set of generic selectors for columns by type or content: [Polars Selectors docs](https://docs.pola.rs/api/python/stable/reference/selectors.html)"
   ]
  },
  {
   "cell_type": "code",
   "execution_count": 8,
   "metadata": {},
   "outputs": [],
   "source": [
    "import polars.selectors as cs"
   ]
  },
  {
   "cell_type": "code",
   "execution_count": 9,
   "metadata": {},
   "outputs": [
    {
     "data": {
      "text/html": [
       "<div><style>\n",
       ".dataframe > thead > tr,\n",
       ".dataframe > tbody > tr {\n",
       "  text-align: right;\n",
       "  white-space: pre-wrap;\n",
       "}\n",
       "</style>\n",
       "<small>shape: (5, 2)</small><table border=\"1\" class=\"dataframe\"><thead><tr><th>hundreds</th><th>tens</th></tr><tr><td>i64</td><td>f64</td></tr></thead><tbody><tr><td>100</td><td>10.0</td></tr><tr><td>200</td><td>20.0</td></tr><tr><td>300</td><td>30.0</td></tr><tr><td>400</td><td>40.0</td></tr><tr><td>500</td><td>50.0</td></tr></tbody></table></div>"
      ],
      "text/plain": [
       "shape: (5, 2)\n",
       "┌──────────┬──────┐\n",
       "│ hundreds ┆ tens │\n",
       "│ ---      ┆ ---  │\n",
       "│ i64      ┆ f64  │\n",
       "╞══════════╪══════╡\n",
       "│ 100      ┆ 10.0 │\n",
       "│ 200      ┆ 20.0 │\n",
       "│ 300      ┆ 30.0 │\n",
       "│ 400      ┆ 40.0 │\n",
       "│ 500      ┆ 50.0 │\n",
       "└──────────┴──────┘"
      ]
     },
     "execution_count": 9,
     "metadata": {},
     "output_type": "execute_result"
    }
   ],
   "source": [
    "df.select(cs.numeric())"
   ]
  },
  {
   "cell_type": "code",
   "execution_count": 14,
   "metadata": {},
   "outputs": [
    {
     "data": {
      "text/html": [
       "<div><style>\n",
       ".dataframe > thead > tr,\n",
       ".dataframe > tbody > tr {\n",
       "  text-align: right;\n",
       "  white-space: pre-wrap;\n",
       "}\n",
       "</style>\n",
       "<small>shape: (5, 1)</small><table border=\"1\" class=\"dataframe\"><thead><tr><th>letters</th></tr><tr><td>str</td></tr></thead><tbody><tr><td>&quot;A&quot;</td></tr><tr><td>&quot;B&quot;</td></tr><tr><td>&quot;c&quot;</td></tr><tr><td>&quot;D&quot;</td></tr><tr><td>&quot;eee&quot;</td></tr></tbody></table></div>"
      ],
      "text/plain": [
       "shape: (5, 1)\n",
       "┌─────────┐\n",
       "│ letters │\n",
       "│ ---     │\n",
       "│ str     │\n",
       "╞═════════╡\n",
       "│ A       │\n",
       "│ B       │\n",
       "│ c       │\n",
       "│ D       │\n",
       "│ eee     │\n",
       "└─────────┘"
      ]
     },
     "execution_count": 14,
     "metadata": {},
     "output_type": "execute_result"
    }
   ],
   "source": [
    "df.select(cs.string())"
   ]
  },
  {
   "cell_type": "code",
   "execution_count": 15,
   "metadata": {},
   "outputs": [
    {
     "data": {
      "text/html": [
       "<div><style>\n",
       ".dataframe > thead > tr,\n",
       ".dataframe > tbody > tr {\n",
       "  text-align: right;\n",
       "  white-space: pre-wrap;\n",
       "}\n",
       "</style>\n",
       "<small>shape: (5, 1)</small><table border=\"1\" class=\"dataframe\"><thead><tr><th>boolean</th></tr><tr><td>bool</td></tr></thead><tbody><tr><td>true</td></tr><tr><td>false</td></tr><tr><td>true</td></tr><tr><td>true</td></tr><tr><td>false</td></tr></tbody></table></div>"
      ],
      "text/plain": [
       "shape: (5, 1)\n",
       "┌─────────┐\n",
       "│ boolean │\n",
       "│ ---     │\n",
       "│ bool    │\n",
       "╞═════════╡\n",
       "│ true    │\n",
       "│ false   │\n",
       "│ true    │\n",
       "│ true    │\n",
       "│ false   │\n",
       "└─────────┘"
      ]
     },
     "execution_count": 15,
     "metadata": {},
     "output_type": "execute_result"
    }
   ],
   "source": [
    "df.select(cs.boolean())"
   ]
  },
  {
   "cell_type": "code",
   "execution_count": 25,
   "metadata": {},
   "outputs": [
    {
     "data": {
      "text/html": [
       "<div><style>\n",
       ".dataframe > thead > tr,\n",
       ".dataframe > tbody > tr {\n",
       "  text-align: right;\n",
       "  white-space: pre-wrap;\n",
       "}\n",
       "</style>\n",
       "<small>shape: (5, 1)</small><table border=\"1\" class=\"dataframe\"><thead><tr><th>tens</th></tr><tr><td>f64</td></tr></thead><tbody><tr><td>10.0</td></tr><tr><td>20.0</td></tr><tr><td>30.0</td></tr><tr><td>40.0</td></tr><tr><td>50.0</td></tr></tbody></table></div>"
      ],
      "text/plain": [
       "shape: (5, 1)\n",
       "┌──────┐\n",
       "│ tens │\n",
       "│ ---  │\n",
       "│ f64  │\n",
       "╞══════╡\n",
       "│ 10.0 │\n",
       "│ 20.0 │\n",
       "│ 30.0 │\n",
       "│ 40.0 │\n",
       "│ 50.0 │\n",
       "└──────┘"
      ]
     },
     "execution_count": 25,
     "metadata": {},
     "output_type": "execute_result"
    }
   ],
   "source": [
    "df.select(cs.contains('en'))"
   ]
  },
  {
   "cell_type": "code",
   "execution_count": 10,
   "metadata": {},
   "outputs": [
    {
     "data": {
      "text/html": [
       "<div><style>\n",
       ".dataframe > thead > tr,\n",
       ".dataframe > tbody > tr {\n",
       "  text-align: right;\n",
       "  white-space: pre-wrap;\n",
       "}\n",
       "</style>\n",
       "<small>shape: (5, 3)</small><table border=\"1\" class=\"dataframe\"><thead><tr><th>letters</th><th>hundreds</th><th>tens</th></tr><tr><td>str</td><td>i64</td><td>f64</td></tr></thead><tbody><tr><td>&quot;A&quot;</td><td>100</td><td>10.0</td></tr><tr><td>&quot;B&quot;</td><td>200</td><td>20.0</td></tr><tr><td>&quot;c&quot;</td><td>300</td><td>30.0</td></tr><tr><td>&quot;D&quot;</td><td>400</td><td>40.0</td></tr><tr><td>&quot;eee&quot;</td><td>500</td><td>50.0</td></tr></tbody></table></div>"
      ],
      "text/plain": [
       "shape: (5, 3)\n",
       "┌─────────┬──────────┬──────┐\n",
       "│ letters ┆ hundreds ┆ tens │\n",
       "│ ---     ┆ ---      ┆ ---  │\n",
       "│ str     ┆ i64      ┆ f64  │\n",
       "╞═════════╪══════════╪══════╡\n",
       "│ A       ┆ 100      ┆ 10.0 │\n",
       "│ B       ┆ 200      ┆ 20.0 │\n",
       "│ c       ┆ 300      ┆ 30.0 │\n",
       "│ D       ┆ 400      ┆ 40.0 │\n",
       "│ eee     ┆ 500      ┆ 50.0 │\n",
       "└─────────┴──────────┴──────┘"
      ]
     },
     "execution_count": 10,
     "metadata": {},
     "output_type": "execute_result"
    }
   ],
   "source": [
    "df.select(cs.exclude('^boo.*$'))"
   ]
  },
  {
   "cell_type": "code",
   "execution_count": 11,
   "metadata": {},
   "outputs": [
    {
     "data": {
      "text/html": [
       "<div><style>\n",
       ".dataframe > thead > tr,\n",
       ".dataframe > tbody > tr {\n",
       "  text-align: right;\n",
       "  white-space: pre-wrap;\n",
       "}\n",
       "</style>\n",
       "<small>shape: (5, 2)</small><table border=\"1\" class=\"dataframe\"><thead><tr><th>letters</th><th>tens</th></tr><tr><td>str</td><td>f64</td></tr></thead><tbody><tr><td>&quot;A&quot;</td><td>10.0</td></tr><tr><td>&quot;B&quot;</td><td>20.0</td></tr><tr><td>&quot;c&quot;</td><td>30.0</td></tr><tr><td>&quot;D&quot;</td><td>40.0</td></tr><tr><td>&quot;eee&quot;</td><td>50.0</td></tr></tbody></table></div>"
      ],
      "text/plain": [
       "shape: (5, 2)\n",
       "┌─────────┬──────┐\n",
       "│ letters ┆ tens │\n",
       "│ ---     ┆ ---  │\n",
       "│ str     ┆ f64  │\n",
       "╞═════════╪══════╡\n",
       "│ A       ┆ 10.0 │\n",
       "│ B       ┆ 20.0 │\n",
       "│ c       ┆ 30.0 │\n",
       "│ D       ┆ 40.0 │\n",
       "│ eee     ┆ 50.0 │\n",
       "└─────────┴──────┘"
      ]
     },
     "execution_count": 11,
     "metadata": {},
     "output_type": "execute_result"
    }
   ],
   "source": [
    "df.select(cs.exclude('^boo.*$',pl.Int64))"
   ]
  },
  {
   "cell_type": "markdown",
   "metadata": {
    "tags": []
   },
   "source": [
    "---\n",
    "\n",
    "## Returning rows using `.filter()`\n",
    "\n",
    "- In Pandas, you select rows and columns with the same `.loc[rows,columns]` method\n",
    "- **In Polars, you return rows with `.filter()`\n",
    "- So, again, you normally won't use a single method like `.loc[]` in Polars, you choose\n",
    "    - columns with `.select()` and\n",
    "    - rows with `.filter()`"
   ]
  },
  {
   "cell_type": "markdown",
   "metadata": {},
   "source": [
    "### Boolean tests\n",
    "\n",
    "- **It's very common to want all the rows from your DataFrame which pass a certain test**, or set of criteria.\n",
    "- In polars this test is an expression (whereas in Pandas it would have returned a boolean Series)"
   ]
  },
  {
   "cell_type": "code",
   "execution_count": 16,
   "metadata": {},
   "outputs": [
    {
     "data": {
      "text/html": [
       "[(col(\"tens\")) < (dyn int: 35)]"
      ],
      "text/plain": [
       "<Expr ['[(col(\"tens\")) < (dyn int: 35)…'] at 0x127D50F50>"
      ]
     },
     "execution_count": 16,
     "metadata": {},
     "output_type": "execute_result"
    }
   ],
   "source": [
    "pl.col('tens') < 35"
   ]
  },
  {
   "cell_type": "markdown",
   "metadata": {},
   "source": [
    "### Return a boolean 1-D Polars DataFrame by putting the test in a select call"
   ]
  },
  {
   "cell_type": "code",
   "execution_count": 32,
   "metadata": {},
   "outputs": [
    {
     "data": {
      "text/html": [
       "<div><style>\n",
       ".dataframe > thead > tr,\n",
       ".dataframe > tbody > tr {\n",
       "  text-align: right;\n",
       "  white-space: pre-wrap;\n",
       "}\n",
       "</style>\n",
       "<small>shape: (5, 1)</small><table border=\"1\" class=\"dataframe\"><thead><tr><th>tens</th></tr><tr><td>bool</td></tr></thead><tbody><tr><td>true</td></tr><tr><td>true</td></tr><tr><td>true</td></tr><tr><td>false</td></tr><tr><td>false</td></tr></tbody></table></div>"
      ],
      "text/plain": [
       "shape: (5, 1)\n",
       "┌───────┐\n",
       "│ tens  │\n",
       "│ ---   │\n",
       "│ bool  │\n",
       "╞═══════╡\n",
       "│ true  │\n",
       "│ true  │\n",
       "│ true  │\n",
       "│ false │\n",
       "│ false │\n",
       "└───────┘"
      ]
     },
     "execution_count": 32,
     "metadata": {},
     "output_type": "execute_result"
    }
   ],
   "source": [
    "df.select(pl.col('tens') < 35)"
   ]
  },
  {
   "cell_type": "code",
   "execution_count": 36,
   "metadata": {},
   "outputs": [
    {
     "data": {
      "text/html": [
       "<div><style>\n",
       ".dataframe > thead > tr,\n",
       ".dataframe > tbody > tr {\n",
       "  text-align: right;\n",
       "  white-space: pre-wrap;\n",
       "}\n",
       "</style>\n",
       "<small>shape: (5, 1)</small><table border=\"1\" class=\"dataframe\"><thead><tr><th>tens_gt_35</th></tr><tr><td>bool</td></tr></thead><tbody><tr><td>true</td></tr><tr><td>true</td></tr><tr><td>true</td></tr><tr><td>false</td></tr><tr><td>false</td></tr></tbody></table></div>"
      ],
      "text/plain": [
       "shape: (5, 1)\n",
       "┌────────────┐\n",
       "│ tens_gt_35 │\n",
       "│ ---        │\n",
       "│ bool       │\n",
       "╞════════════╡\n",
       "│ true       │\n",
       "│ true       │\n",
       "│ true       │\n",
       "│ false      │\n",
       "│ false      │\n",
       "└────────────┘"
      ]
     },
     "execution_count": 36,
     "metadata": {},
     "output_type": "execute_result"
    }
   ],
   "source": [
    "df.select((pl.col('tens') < 35).alias('tens_gt_35'))"
   ]
  },
  {
   "cell_type": "markdown",
   "metadata": {},
   "source": [
    "### Rows are returned where boolean test == True\n",
    "\n",
    "**This avoids one of the screwy bits if Pandas! In Pandas, if we use a single bracket `df[]` with a boolean Series inside, we get back rows instead of columns!**\n",
    "\n",
    "Here we know we're going to get back rows that pass the test because we're using `.filter()`\n"
   ]
  },
  {
   "cell_type": "code",
   "execution_count": 33,
   "metadata": {},
   "outputs": [
    {
     "data": {
      "text/html": [
       "<div><style>\n",
       ".dataframe > thead > tr,\n",
       ".dataframe > tbody > tr {\n",
       "  text-align: right;\n",
       "  white-space: pre-wrap;\n",
       "}\n",
       "</style>\n",
       "<small>shape: (3, 4)</small><table border=\"1\" class=\"dataframe\"><thead><tr><th>letters</th><th>hundreds</th><th>tens</th><th>boolean</th></tr><tr><td>str</td><td>i64</td><td>f64</td><td>bool</td></tr></thead><tbody><tr><td>&quot;A&quot;</td><td>100</td><td>10.0</td><td>true</td></tr><tr><td>&quot;B&quot;</td><td>200</td><td>20.0</td><td>false</td></tr><tr><td>&quot;c&quot;</td><td>300</td><td>30.0</td><td>true</td></tr></tbody></table></div>"
      ],
      "text/plain": [
       "shape: (3, 4)\n",
       "┌─────────┬──────────┬──────┬─────────┐\n",
       "│ letters ┆ hundreds ┆ tens ┆ boolean │\n",
       "│ ---     ┆ ---      ┆ ---  ┆ ---     │\n",
       "│ str     ┆ i64      ┆ f64  ┆ bool    │\n",
       "╞═════════╪══════════╪══════╪═════════╡\n",
       "│ A       ┆ 100      ┆ 10.0 ┆ true    │\n",
       "│ B       ┆ 200      ┆ 20.0 ┆ false   │\n",
       "│ c       ┆ 300      ┆ 30.0 ┆ true    │\n",
       "└─────────┴──────────┴──────┴─────────┘"
      ]
     },
     "execution_count": 33,
     "metadata": {},
     "output_type": "execute_result"
    }
   ],
   "source": [
    "df.filter(pl.col('tens') < 35)"
   ]
  },
  {
   "cell_type": "code",
   "execution_count": 34,
   "metadata": {},
   "outputs": [
    {
     "data": {
      "text/html": [
       "<div><style>\n",
       ".dataframe > thead > tr,\n",
       ".dataframe > tbody > tr {\n",
       "  text-align: right;\n",
       "  white-space: pre-wrap;\n",
       "}\n",
       "</style>\n",
       "<small>shape: (3, 4)</small><table border=\"1\" class=\"dataframe\"><thead><tr><th>letters</th><th>hundreds</th><th>tens</th><th>boolean</th></tr><tr><td>str</td><td>i64</td><td>f64</td><td>bool</td></tr></thead><tbody><tr><td>&quot;A&quot;</td><td>100</td><td>10.0</td><td>true</td></tr><tr><td>&quot;c&quot;</td><td>300</td><td>30.0</td><td>true</td></tr><tr><td>&quot;D&quot;</td><td>400</td><td>40.0</td><td>true</td></tr></tbody></table></div>"
      ],
      "text/plain": [
       "shape: (3, 4)\n",
       "┌─────────┬──────────┬──────┬─────────┐\n",
       "│ letters ┆ hundreds ┆ tens ┆ boolean │\n",
       "│ ---     ┆ ---      ┆ ---  ┆ ---     │\n",
       "│ str     ┆ i64      ┆ f64  ┆ bool    │\n",
       "╞═════════╪══════════╪══════╪═════════╡\n",
       "│ A       ┆ 100      ┆ 10.0 ┆ true    │\n",
       "│ c       ┆ 300      ┆ 30.0 ┆ true    │\n",
       "│ D       ┆ 400      ┆ 40.0 ┆ true    │\n",
       "└─────────┴──────────┴──────┴─────────┘"
      ]
     },
     "execution_count": 34,
     "metadata": {},
     "output_type": "execute_result"
    }
   ],
   "source": [
    "df.filter(pl.col('boolean'))"
   ]
  },
  {
   "cell_type": "markdown",
   "metadata": {},
   "source": [
    "### More complicated conditionals\n",
    "\n",
    "You can combine multiple conditions if you put them in parentheses and put a logical operator between.\n",
    "\n",
    "- `&` = \"and\"\n",
    "- `|` = \"or\"  *(It's called a \"pipe\" character, and it's `shift-\\` above the Enter/Return key)*"
   ]
  },
  {
   "cell_type": "code",
   "execution_count": 37,
   "metadata": {},
   "outputs": [
    {
     "data": {
      "text/html": [
       "<div><style>\n",
       ".dataframe > thead > tr,\n",
       ".dataframe > tbody > tr {\n",
       "  text-align: right;\n",
       "  white-space: pre-wrap;\n",
       "}\n",
       "</style>\n",
       "<small>shape: (1, 4)</small><table border=\"1\" class=\"dataframe\"><thead><tr><th>letters</th><th>hundreds</th><th>tens</th><th>boolean</th></tr><tr><td>str</td><td>i64</td><td>f64</td><td>bool</td></tr></thead><tbody><tr><td>&quot;c&quot;</td><td>300</td><td>30.0</td><td>true</td></tr></tbody></table></div>"
      ],
      "text/plain": [
       "shape: (1, 4)\n",
       "┌─────────┬──────────┬──────┬─────────┐\n",
       "│ letters ┆ hundreds ┆ tens ┆ boolean │\n",
       "│ ---     ┆ ---      ┆ ---  ┆ ---     │\n",
       "│ str     ┆ i64      ┆ f64  ┆ bool    │\n",
       "╞═════════╪══════════╪══════╪═════════╡\n",
       "│ c       ┆ 300      ┆ 30.0 ┆ true    │\n",
       "└─────────┴──────────┴──────┴─────────┘"
      ]
     },
     "execution_count": 37,
     "metadata": {},
     "output_type": "execute_result"
    }
   ],
   "source": [
    "df.filter((pl.col('tens') < 35) & (pl.col('hundreds') > 200))"
   ]
  },
  {
   "cell_type": "markdown",
   "metadata": {},
   "source": [
    "---\n",
    "\n",
    "*To try the exercise below, if you haven't been executing the cells above, select this cell and from the Jupyter menus choose*\n",
    "\n",
    "`Run -> Run All Above Selected Cell`"
   ]
  },
  {
   "cell_type": "markdown",
   "metadata": {},
   "source": [
    "### **EXERCISE**\n",
    "\n",
    "**Return all rows in `df` where the \"hundreds\" column value is greater than or equal to 400**\n",
    "\n",
    "*Note: Type instead of using copy/paste for better retention*"
   ]
  },
  {
   "cell_type": "code",
   "execution_count": null,
   "metadata": {},
   "outputs": [],
   "source": []
  },
  {
   "cell_type": "markdown",
   "metadata": {},
   "source": [
    "---\n",
    "\n",
    "### Returning a single item from a DataFrame\n",
    "\n",
    "*NOTE: Not sure how important this one is. I'm including it for now because I wondered how to do it. This one is a little strange because you're using row indices, which I'm not sure how to find for a given row...*\n",
    "\n",
    "from the [docs](https://docs.pola.rs/api/python/stable/reference/dataframe/api/polars.DataFrame.item.html)\n",
    "\n",
    "- If row/col not provided, this is equivalent to `df[0,0]`, with a check that the shape is (1,1).\n",
    "- With row/col, this is equivalent to df[row,col]."
   ]
  },
  {
   "cell_type": "code",
   "execution_count": 38,
   "metadata": {},
   "outputs": [
    {
     "data": {
      "text/plain": [
       "'A'"
      ]
     },
     "execution_count": 38,
     "metadata": {},
     "output_type": "execute_result"
    }
   ],
   "source": [
    "df.item(0,'letters')"
   ]
  },
  {
   "cell_type": "markdown",
   "metadata": {},
   "source": [
    "### Return single row as a list\n",
    "\n",
    "*Again, not sure how much you'd use this. Filter always gives back a DataFrame. This you have to access through a row integer index, which I'm not sure how you find...*"
   ]
  },
  {
   "cell_type": "code",
   "execution_count": 42,
   "metadata": {},
   "outputs": [
    {
     "data": {
      "text/plain": [
       "('A', 100, 10.0, True)"
      ]
     },
     "execution_count": 42,
     "metadata": {},
     "output_type": "execute_result"
    }
   ],
   "source": [
    "df.row(0)"
   ]
  },
  {
   "cell_type": "markdown",
   "metadata": {},
   "source": [
    "### Colon `:` for selecting whole or slices\n",
    "\n",
    "There are ways of doing slicing with Polars, but again, I'm not sure how important it is..."
   ]
  },
  {
   "cell_type": "markdown",
   "metadata": {},
   "source": [
    "---\n",
    "\n",
    "*To try the exercise below, if you haven't been executing the cells above, select this cell and from the Jupyter menus choose*\n",
    "\n",
    "`Run -> Run All Above Selected Cell`"
   ]
  },
  {
   "cell_type": "code",
   "execution_count": null,
   "metadata": {},
   "outputs": [],
   "source": []
  },
  {
   "cell_type": "markdown",
   "metadata": {},
   "source": [
    "---"
   ]
  },
  {
   "cell_type": "markdown",
   "metadata": {},
   "source": [
    "---\n",
    "\n",
    "*To try the exercise below, if you haven't been executing the cells above, select this cell and from the Jupyter menus choose*\n",
    "\n",
    "`Run -> Run All Above Selected Cell`"
   ]
  },
  {
   "cell_type": "markdown",
   "metadata": {},
   "source": [
    "### **EXERCISE**\n",
    "\n",
    "**Using the `df2.filter()` notation, return all columns for all rows in which the \"boolean\" column is True**\n",
    "\n",
    "*Note: Type instead of using copy/paste for better retention*"
   ]
  },
  {
   "cell_type": "code",
   "execution_count": null,
   "metadata": {},
   "outputs": [],
   "source": []
  },
  {
   "cell_type": "markdown",
   "metadata": {
    "tags": []
   },
   "source": [
    "---\n",
    "\n",
    "## `df.sql()` for returning a DataFrame with SQL\n",
    "\n",
    "There doesn't seem to be a way of inserting variable values into the SQL string besides the standard `?` Python string injection method, but that risks SQL injection into your code if you're not controling that input."
   ]
  },
  {
   "cell_type": "markdown",
   "metadata": {
    "tags": []
   },
   "source": [
    "### Format your query as a string in quotes\n",
    "\n",
    "- You can refer to column names (that don't have spaces) directly in the expression"
   ]
  },
  {
   "cell_type": "code",
   "execution_count": 48,
   "metadata": {},
   "outputs": [
    {
     "data": {
      "text/html": [
       "<div><style>\n",
       ".dataframe > thead > tr,\n",
       ".dataframe > tbody > tr {\n",
       "  text-align: right;\n",
       "  white-space: pre-wrap;\n",
       "}\n",
       "</style>\n",
       "<small>shape: (3, 4)</small><table border=\"1\" class=\"dataframe\"><thead><tr><th>letters</th><th>hundreds</th><th>tens</th><th>boolean</th></tr><tr><td>str</td><td>i64</td><td>f64</td><td>bool</td></tr></thead><tbody><tr><td>&quot;A&quot;</td><td>100</td><td>10.0</td><td>true</td></tr><tr><td>&quot;B&quot;</td><td>200</td><td>20.0</td><td>false</td></tr><tr><td>&quot;c&quot;</td><td>300</td><td>30.0</td><td>true</td></tr></tbody></table></div>"
      ],
      "text/plain": [
       "shape: (3, 4)\n",
       "┌─────────┬──────────┬──────┬─────────┐\n",
       "│ letters ┆ hundreds ┆ tens ┆ boolean │\n",
       "│ ---     ┆ ---      ┆ ---  ┆ ---     │\n",
       "│ str     ┆ i64      ┆ f64  ┆ bool    │\n",
       "╞═════════╪══════════╪══════╪═════════╡\n",
       "│ A       ┆ 100      ┆ 10.0 ┆ true    │\n",
       "│ B       ┆ 200      ┆ 20.0 ┆ false   │\n",
       "│ c       ┆ 300      ┆ 30.0 ┆ true    │\n",
       "└─────────┴──────────┴──────┴─────────┘"
      ]
     },
     "execution_count": 48,
     "metadata": {},
     "output_type": "execute_result"
    }
   ],
   "source": [
    "df.sql(\"\"\"\n",
    "    SELECT * FROM self\n",
    "    WHERE tens < 35\n",
    "    \"\"\")"
   ]
  },
  {
   "cell_type": "markdown",
   "metadata": {},
   "source": [
    "---\n",
    "\n",
    "## No SettingWithCopyWarning in Polars\n",
    "\n",
    "In Pandas, if you select a subset of your DataFrame and assign to a new variable as a way to keep just a couple columns of your DataFrame, you will run into a **SettingWithCopyWarning** if you try to change that new DataFrame. *Because of some Pandas inner-workings, when you slice or index into a DataFrame it's not actually clear whether it will create a \"view\" into the original DataFrame or a copy of the data!* \n",
    "\n",
    "That doesn't happen in Polars. **Columns are Immutable in Polars!**"
   ]
  },
  {
   "cell_type": "code",
   "execution_count": 57,
   "metadata": {},
   "outputs": [
    {
     "data": {
      "text/html": [
       "<div><style>\n",
       ".dataframe > thead > tr,\n",
       ".dataframe > tbody > tr {\n",
       "  text-align: right;\n",
       "  white-space: pre-wrap;\n",
       "}\n",
       "</style>\n",
       "<small>shape: (5, 2)</small><table border=\"1\" class=\"dataframe\"><thead><tr><th>hundreds</th><th>tens</th></tr><tr><td>i64</td><td>f64</td></tr></thead><tbody><tr><td>100</td><td>10.0</td></tr><tr><td>200</td><td>20.0</td></tr><tr><td>300</td><td>30.0</td></tr><tr><td>400</td><td>40.0</td></tr><tr><td>500</td><td>50.0</td></tr></tbody></table></div>"
      ],
      "text/plain": [
       "shape: (5, 2)\n",
       "┌──────────┬──────┐\n",
       "│ hundreds ┆ tens │\n",
       "│ ---      ┆ ---  │\n",
       "│ i64      ┆ f64  │\n",
       "╞══════════╪══════╡\n",
       "│ 100      ┆ 10.0 │\n",
       "│ 200      ┆ 20.0 │\n",
       "│ 300      ┆ 30.0 │\n",
       "│ 400      ┆ 40.0 │\n",
       "│ 500      ┆ 50.0 │\n",
       "└──────────┴──────┘"
      ]
     },
     "execution_count": 57,
     "metadata": {},
     "output_type": "execute_result"
    }
   ],
   "source": [
    "df_nums = df.select(pl.col('hundreds','tens'))\n",
    "df_nums"
   ]
  },
  {
   "cell_type": "markdown",
   "metadata": {},
   "source": [
    "## Return DataFrame with new columns using `.with_columns()`"
   ]
  },
  {
   "cell_type": "code",
   "execution_count": 58,
   "metadata": {},
   "outputs": [
    {
     "data": {
      "text/html": [
       "<div><style>\n",
       ".dataframe > thead > tr,\n",
       ".dataframe > tbody > tr {\n",
       "  text-align: right;\n",
       "  white-space: pre-wrap;\n",
       "}\n",
       "</style>\n",
       "<small>shape: (5, 3)</small><table border=\"1\" class=\"dataframe\"><thead><tr><th>hundreds</th><th>tens</th><th>sums</th></tr><tr><td>i64</td><td>f64</td><td>f64</td></tr></thead><tbody><tr><td>100</td><td>10.0</td><td>110.0</td></tr><tr><td>200</td><td>20.0</td><td>220.0</td></tr><tr><td>300</td><td>30.0</td><td>330.0</td></tr><tr><td>400</td><td>40.0</td><td>440.0</td></tr><tr><td>500</td><td>50.0</td><td>550.0</td></tr></tbody></table></div>"
      ],
      "text/plain": [
       "shape: (5, 3)\n",
       "┌──────────┬──────┬───────┐\n",
       "│ hundreds ┆ tens ┆ sums  │\n",
       "│ ---      ┆ ---  ┆ ---   │\n",
       "│ i64      ┆ f64  ┆ f64   │\n",
       "╞══════════╪══════╪═══════╡\n",
       "│ 100      ┆ 10.0 ┆ 110.0 │\n",
       "│ 200      ┆ 20.0 ┆ 220.0 │\n",
       "│ 300      ┆ 30.0 ┆ 330.0 │\n",
       "│ 400      ┆ 40.0 ┆ 440.0 │\n",
       "│ 500      ┆ 50.0 ┆ 550.0 │\n",
       "└──────────┴──────┴───────┘"
      ]
     },
     "execution_count": 58,
     "metadata": {},
     "output_type": "execute_result"
    }
   ],
   "source": [
    "df_nums.with_columns(sums = pl.col('hundreds') + pl.col('tens'))\n"
   ]
  },
  {
   "cell_type": "code",
   "execution_count": 59,
   "metadata": {},
   "outputs": [
    {
     "data": {
      "text/html": [
       "<div><style>\n",
       ".dataframe > thead > tr,\n",
       ".dataframe > tbody > tr {\n",
       "  text-align: right;\n",
       "  white-space: pre-wrap;\n",
       "}\n",
       "</style>\n",
       "<small>shape: (5, 3)</small><table border=\"1\" class=\"dataframe\"><thead><tr><th>hundreds</th><th>tens</th><th>sums</th></tr><tr><td>i64</td><td>f64</td><td>f64</td></tr></thead><tbody><tr><td>100</td><td>10.0</td><td>110.0</td></tr><tr><td>200</td><td>20.0</td><td>220.0</td></tr><tr><td>300</td><td>30.0</td><td>330.0</td></tr><tr><td>400</td><td>40.0</td><td>440.0</td></tr><tr><td>500</td><td>50.0</td><td>550.0</td></tr></tbody></table></div>"
      ],
      "text/plain": [
       "shape: (5, 3)\n",
       "┌──────────┬──────┬───────┐\n",
       "│ hundreds ┆ tens ┆ sums  │\n",
       "│ ---      ┆ ---  ┆ ---   │\n",
       "│ i64      ┆ f64  ┆ f64   │\n",
       "╞══════════╪══════╪═══════╡\n",
       "│ 100      ┆ 10.0 ┆ 110.0 │\n",
       "│ 200      ┆ 20.0 ┆ 220.0 │\n",
       "│ 300      ┆ 30.0 ┆ 330.0 │\n",
       "│ 400      ┆ 40.0 ┆ 440.0 │\n",
       "│ 500      ┆ 50.0 ┆ 550.0 │\n",
       "└──────────┴──────┴───────┘"
      ]
     },
     "execution_count": 59,
     "metadata": {},
     "output_type": "execute_result"
    }
   ],
   "source": [
    "df_nums.with_columns((pl.col('hundreds') + pl.col('tens')).alias('sums'))"
   ]
  },
  {
   "cell_type": "markdown",
   "metadata": {},
   "source": [
    "### Not sure yet how to change values in Polars since columns are immutable..."
   ]
  },
  {
   "cell_type": "code",
   "execution_count": null,
   "metadata": {},
   "outputs": [],
   "source": []
  }
 ],
 "metadata": {
  "kernelspec": {
   "display_name": "Python 3 (ipykernel)",
   "language": "python",
   "name": "python3"
  },
  "language_info": {
   "codemirror_mode": {
    "name": "ipython",
    "version": 3
   },
   "file_extension": ".py",
   "mimetype": "text/x-python",
   "name": "python",
   "nbconvert_exporter": "python",
   "pygments_lexer": "ipython3",
   "version": "3.12.8"
  },
  "toc-autonumbering": false,
  "toc-showmarkdowntxt": false
 },
 "nbformat": 4,
 "nbformat_minor": 4
}
