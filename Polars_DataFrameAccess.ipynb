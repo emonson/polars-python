{
 "cells": [
  {
   "cell_type": "markdown",
   "metadata": {},
   "source": [
    "# Accessing your data in DataFrames\n",
    "\n",
    "*Note: There is also a longer, more complete version of this information in the notebook [FullAccessingDataFrames](FullAccessingDataFrames.ipynb)*\n",
    "\n",
    "One big problem with Pandas is that, sometimes for historical reasons, there are multiple ways of doing the same thing. **The syntax for accessing DataFrames has always been one of the most confusing aspects for me!**\n",
    "\n",
    "Let's make a toy DataFrame to see some of the features"
   ]
  },
  {
   "cell_type": "markdown",
   "metadata": {},
   "source": [
    "---\n",
    "\n",
    "*To preserve the mystery, select from the notebook menus*\n",
    "\n",
    "`Edit -> Clear All Outputs`\n",
    "\n",
    "---"
   ]
  },
  {
   "cell_type": "code",
   "execution_count": 1,
   "metadata": {},
   "outputs": [],
   "source": [
    "import pandas as pd\n",
    "import polars as pl"
   ]
  },
  {
   "cell_type": "code",
   "execution_count": 2,
   "metadata": {},
   "outputs": [],
   "source": [
    "data_dict = {'letters':['A','B','c','D','eee'], \n",
    "             'hundreds':[100,200,300,400,500], \n",
    "             'tens':[10.0,20.0,30.0,40.0,50.0],\n",
    "             'boolean':[True,False,True,True,False]}"
   ]
  },
  {
   "cell_type": "code",
   "execution_count": 3,
   "metadata": {},
   "outputs": [
    {
     "data": {
      "text/html": [
       "<div><style>\n",
       ".dataframe > thead > tr,\n",
       ".dataframe > tbody > tr {\n",
       "  text-align: right;\n",
       "  white-space: pre-wrap;\n",
       "}\n",
       "</style>\n",
       "<small>shape: (5, 4)</small><table border=\"1\" class=\"dataframe\"><thead><tr><th>letters</th><th>hundreds</th><th>tens</th><th>boolean</th></tr><tr><td>str</td><td>i64</td><td>f64</td><td>bool</td></tr></thead><tbody><tr><td>&quot;A&quot;</td><td>100</td><td>10.0</td><td>true</td></tr><tr><td>&quot;B&quot;</td><td>200</td><td>20.0</td><td>false</td></tr><tr><td>&quot;c&quot;</td><td>300</td><td>30.0</td><td>true</td></tr><tr><td>&quot;D&quot;</td><td>400</td><td>40.0</td><td>true</td></tr><tr><td>&quot;eee&quot;</td><td>500</td><td>50.0</td><td>false</td></tr></tbody></table></div>"
      ],
      "text/plain": [
       "shape: (5, 4)\n",
       "┌─────────┬──────────┬──────┬─────────┐\n",
       "│ letters ┆ hundreds ┆ tens ┆ boolean │\n",
       "│ ---     ┆ ---      ┆ ---  ┆ ---     │\n",
       "│ str     ┆ i64      ┆ f64  ┆ bool    │\n",
       "╞═════════╪══════════╪══════╪═════════╡\n",
       "│ A       ┆ 100      ┆ 10.0 ┆ true    │\n",
       "│ B       ┆ 200      ┆ 20.0 ┆ false   │\n",
       "│ c       ┆ 300      ┆ 30.0 ┆ true    │\n",
       "│ D       ┆ 400      ┆ 40.0 ┆ true    │\n",
       "│ eee     ┆ 500      ┆ 50.0 ┆ false   │\n",
       "└─────────┴──────────┴──────┴─────────┘"
      ]
     },
     "execution_count": 3,
     "metadata": {},
     "output_type": "execute_result"
    }
   ],
   "source": [
    "df = pl.DataFrame(data_dict)\n",
    "df"
   ]
  },
  {
   "cell_type": "markdown",
   "metadata": {},
   "source": [
    "## DataFrame Attributes"
   ]
  },
  {
   "cell_type": "markdown",
   "metadata": {
    "tags": []
   },
   "source": [
    "### Each column has a data \"type\"\n",
    "\n",
    "- **object** is how Pandas refers to strings of text\n",
    "- **int64** is a 64-bit integer (whole number). The number of bits is just the amount of internal storage used for that number. *For integers it limits how big the number can be.* **Note that the default int64 can not store NaN/Null values!** See the [integer NA documentation](https://pandas.pydata.org/pandas-docs/stable/user_guide/integer_na.html) for more information.\n",
    "- **float64** is a \"floating point\" number (number with decimal places). *For floats the number of bits limits the precision of the number.*\n",
    "- **bool** is a booleal value, which is just True/False"
   ]
  },
  {
   "cell_type": "code",
   "execution_count": 50,
   "metadata": {},
   "outputs": [
    {
     "data": {
      "text/plain": [
       "[String, Int64, Float64, Boolean]"
      ]
     },
     "execution_count": 50,
     "metadata": {},
     "output_type": "execute_result"
    }
   ],
   "source": [
    "df.dtypes"
   ]
  },
  {
   "cell_type": "code",
   "execution_count": 4,
   "metadata": {},
   "outputs": [
    {
     "data": {
      "text/plain": [
       "Schema([('letters', String),\n",
       "        ('hundreds', Int64),\n",
       "        ('tens', Float64),\n",
       "        ('boolean', Boolean)])"
      ]
     },
     "execution_count": 4,
     "metadata": {},
     "output_type": "execute_result"
    }
   ],
   "source": [
    "df.schema"
   ]
  },
  {
   "cell_type": "markdown",
   "metadata": {},
   "source": [
    "### DataFrame index\n",
    "\n",
    "Notice the column of sequential integers off to the left-hand side of the DataFrame output. That is the DataFrame's **index**. \n",
    "\n",
    "- **The index contains the names of the rows**\n",
    "- Because we didn't explicitly specify an index column, Pandas created one for us"
   ]
  },
  {
   "cell_type": "raw",
   "metadata": {},
   "source": [
    "df.index"
   ]
  },
  {
   "cell_type": "markdown",
   "metadata": {},
   "source": [
    "### DataFrame columns\n",
    "\n",
    "There is a separate index of column names"
   ]
  },
  {
   "cell_type": "code",
   "execution_count": 5,
   "metadata": {},
   "outputs": [
    {
     "data": {
      "text/plain": [
       "['letters', 'hundreds', 'tens', 'boolean']"
      ]
     },
     "execution_count": 5,
     "metadata": {},
     "output_type": "execute_result"
    }
   ],
   "source": [
    "df.columns"
   ]
  },
  {
   "cell_type": "markdown",
   "metadata": {},
   "source": [
    "---\n",
    "\n",
    "## `df[]` with a name for column indexing/selecting\n",
    "\n",
    "The most common, and concise, way of selecting a column out of a DataFrame is just using square brackets with the column name inside – similar to how you access a dictionary value using it's key."
   ]
  },
  {
   "cell_type": "markdown",
   "metadata": {},
   "source": [
    "### Single name gives single column\n",
    "\n",
    "This returns a Series"
   ]
  },
  {
   "cell_type": "code",
   "execution_count": 6,
   "metadata": {},
   "outputs": [
    {
     "data": {
      "text/html": [
       "<div><style>\n",
       ".dataframe > thead > tr,\n",
       ".dataframe > tbody > tr {\n",
       "  text-align: right;\n",
       "  white-space: pre-wrap;\n",
       "}\n",
       "</style>\n",
       "<small>shape: (5, 1)</small><table border=\"1\" class=\"dataframe\"><thead><tr><th>hundreds</th></tr><tr><td>i64</td></tr></thead><tbody><tr><td>100</td></tr><tr><td>200</td></tr><tr><td>300</td></tr><tr><td>400</td></tr><tr><td>500</td></tr></tbody></table></div>"
      ],
      "text/plain": [
       "shape: (5, 1)\n",
       "┌──────────┐\n",
       "│ hundreds │\n",
       "│ ---      │\n",
       "│ i64      │\n",
       "╞══════════╡\n",
       "│ 100      │\n",
       "│ 200      │\n",
       "│ 300      │\n",
       "│ 400      │\n",
       "│ 500      │\n",
       "└──────────┘"
      ]
     },
     "execution_count": 6,
     "metadata": {},
     "output_type": "execute_result"
    }
   ],
   "source": [
    "df.select('hundreds')"
   ]
  },
  {
   "cell_type": "markdown",
   "metadata": {},
   "source": [
    "### List of column names inside the square brackets gives multiple columns\n",
    "\n",
    "You can select multiple columns by putting a *list of column names* inside the square brackets. This returns a DataFrame"
   ]
  },
  {
   "cell_type": "code",
   "execution_count": 8,
   "metadata": {},
   "outputs": [
    {
     "data": {
      "text/html": [
       "<div><style>\n",
       ".dataframe > thead > tr,\n",
       ".dataframe > tbody > tr {\n",
       "  text-align: right;\n",
       "  white-space: pre-wrap;\n",
       "}\n",
       "</style>\n",
       "<small>shape: (5, 2)</small><table border=\"1\" class=\"dataframe\"><thead><tr><th>tens</th><th>hundreds</th></tr><tr><td>f64</td><td>i64</td></tr></thead><tbody><tr><td>10.0</td><td>100</td></tr><tr><td>20.0</td><td>200</td></tr><tr><td>30.0</td><td>300</td></tr><tr><td>40.0</td><td>400</td></tr><tr><td>50.0</td><td>500</td></tr></tbody></table></div>"
      ],
      "text/plain": [
       "shape: (5, 2)\n",
       "┌──────┬──────────┐\n",
       "│ tens ┆ hundreds │\n",
       "│ ---  ┆ ---      │\n",
       "│ f64  ┆ i64      │\n",
       "╞══════╪══════════╡\n",
       "│ 10.0 ┆ 100      │\n",
       "│ 20.0 ┆ 200      │\n",
       "│ 30.0 ┆ 300      │\n",
       "│ 40.0 ┆ 400      │\n",
       "│ 50.0 ┆ 500      │\n",
       "└──────┴──────────┘"
      ]
     },
     "execution_count": 8,
     "metadata": {},
     "output_type": "execute_result"
    }
   ],
   "source": [
    "df.select('tens','hundreds')"
   ]
  },
  {
   "cell_type": "code",
   "execution_count": 11,
   "metadata": {},
   "outputs": [
    {
     "data": {
      "text/html": [
       "<div><style>\n",
       ".dataframe > thead > tr,\n",
       ".dataframe > tbody > tr {\n",
       "  text-align: right;\n",
       "  white-space: pre-wrap;\n",
       "}\n",
       "</style>\n",
       "<small>shape: (5, 2)</small><table border=\"1\" class=\"dataframe\"><thead><tr><th>tens</th><th>hundreds</th></tr><tr><td>f64</td><td>i64</td></tr></thead><tbody><tr><td>10.0</td><td>100</td></tr><tr><td>20.0</td><td>200</td></tr><tr><td>30.0</td><td>300</td></tr><tr><td>40.0</td><td>400</td></tr><tr><td>50.0</td><td>500</td></tr></tbody></table></div>"
      ],
      "text/plain": [
       "shape: (5, 2)\n",
       "┌──────┬──────────┐\n",
       "│ tens ┆ hundreds │\n",
       "│ ---  ┆ ---      │\n",
       "│ f64  ┆ i64      │\n",
       "╞══════╪══════════╡\n",
       "│ 10.0 ┆ 100      │\n",
       "│ 20.0 ┆ 200      │\n",
       "│ 30.0 ┆ 300      │\n",
       "│ 40.0 ┆ 400      │\n",
       "│ 50.0 ┆ 500      │\n",
       "└──────┴──────────┘"
      ]
     },
     "execution_count": 11,
     "metadata": {},
     "output_type": "execute_result"
    }
   ],
   "source": [
    "df.select(pl.col('tens','hundreds'))"
   ]
  },
  {
   "cell_type": "code",
   "execution_count": 10,
   "metadata": {},
   "outputs": [
    {
     "data": {
      "text/html": [
       "<div><style>\n",
       ".dataframe > thead > tr,\n",
       ".dataframe > tbody > tr {\n",
       "  text-align: right;\n",
       "  white-space: pre-wrap;\n",
       "}\n",
       "</style>\n",
       "<small>shape: (5, 1)</small><table border=\"1\" class=\"dataframe\"><thead><tr><th>hundreds</th></tr><tr><td>i64</td></tr></thead><tbody><tr><td>100</td></tr><tr><td>200</td></tr><tr><td>300</td></tr><tr><td>400</td></tr><tr><td>500</td></tr></tbody></table></div>"
      ],
      "text/plain": [
       "shape: (5, 1)\n",
       "┌──────────┐\n",
       "│ hundreds │\n",
       "│ ---      │\n",
       "│ i64      │\n",
       "╞══════════╡\n",
       "│ 100      │\n",
       "│ 200      │\n",
       "│ 300      │\n",
       "│ 400      │\n",
       "│ 500      │\n",
       "└──────────┘"
      ]
     },
     "execution_count": 10,
     "metadata": {},
     "output_type": "execute_result"
    }
   ],
   "source": [
    "df.select(pl.col(pl.Int64))"
   ]
  },
  {
   "cell_type": "markdown",
   "metadata": {},
   "source": [
    "### Polars Selectors\n",
    "\n",
    "https://docs.pola.rs/api/python/stable/reference/selectors.html"
   ]
  },
  {
   "cell_type": "code",
   "execution_count": 12,
   "metadata": {},
   "outputs": [],
   "source": [
    "import polars.selectors as cs"
   ]
  },
  {
   "cell_type": "code",
   "execution_count": 13,
   "metadata": {},
   "outputs": [
    {
     "data": {
      "text/html": [
       "<div><style>\n",
       ".dataframe > thead > tr,\n",
       ".dataframe > tbody > tr {\n",
       "  text-align: right;\n",
       "  white-space: pre-wrap;\n",
       "}\n",
       "</style>\n",
       "<small>shape: (5, 2)</small><table border=\"1\" class=\"dataframe\"><thead><tr><th>hundreds</th><th>tens</th></tr><tr><td>i64</td><td>f64</td></tr></thead><tbody><tr><td>100</td><td>10.0</td></tr><tr><td>200</td><td>20.0</td></tr><tr><td>300</td><td>30.0</td></tr><tr><td>400</td><td>40.0</td></tr><tr><td>500</td><td>50.0</td></tr></tbody></table></div>"
      ],
      "text/plain": [
       "shape: (5, 2)\n",
       "┌──────────┬──────┐\n",
       "│ hundreds ┆ tens │\n",
       "│ ---      ┆ ---  │\n",
       "│ i64      ┆ f64  │\n",
       "╞══════════╪══════╡\n",
       "│ 100      ┆ 10.0 │\n",
       "│ 200      ┆ 20.0 │\n",
       "│ 300      ┆ 30.0 │\n",
       "│ 400      ┆ 40.0 │\n",
       "│ 500      ┆ 50.0 │\n",
       "└──────────┴──────┘"
      ]
     },
     "execution_count": 13,
     "metadata": {},
     "output_type": "execute_result"
    }
   ],
   "source": [
    "df.select(cs.numeric())"
   ]
  },
  {
   "cell_type": "code",
   "execution_count": 14,
   "metadata": {},
   "outputs": [
    {
     "data": {
      "text/html": [
       "<div><style>\n",
       ".dataframe > thead > tr,\n",
       ".dataframe > tbody > tr {\n",
       "  text-align: right;\n",
       "  white-space: pre-wrap;\n",
       "}\n",
       "</style>\n",
       "<small>shape: (5, 1)</small><table border=\"1\" class=\"dataframe\"><thead><tr><th>letters</th></tr><tr><td>str</td></tr></thead><tbody><tr><td>&quot;A&quot;</td></tr><tr><td>&quot;B&quot;</td></tr><tr><td>&quot;c&quot;</td></tr><tr><td>&quot;D&quot;</td></tr><tr><td>&quot;eee&quot;</td></tr></tbody></table></div>"
      ],
      "text/plain": [
       "shape: (5, 1)\n",
       "┌─────────┐\n",
       "│ letters │\n",
       "│ ---     │\n",
       "│ str     │\n",
       "╞═════════╡\n",
       "│ A       │\n",
       "│ B       │\n",
       "│ c       │\n",
       "│ D       │\n",
       "│ eee     │\n",
       "└─────────┘"
      ]
     },
     "execution_count": 14,
     "metadata": {},
     "output_type": "execute_result"
    }
   ],
   "source": [
    "df.select(cs.string())"
   ]
  },
  {
   "cell_type": "code",
   "execution_count": 15,
   "metadata": {},
   "outputs": [
    {
     "data": {
      "text/html": [
       "<div><style>\n",
       ".dataframe > thead > tr,\n",
       ".dataframe > tbody > tr {\n",
       "  text-align: right;\n",
       "  white-space: pre-wrap;\n",
       "}\n",
       "</style>\n",
       "<small>shape: (5, 1)</small><table border=\"1\" class=\"dataframe\"><thead><tr><th>boolean</th></tr><tr><td>bool</td></tr></thead><tbody><tr><td>true</td></tr><tr><td>false</td></tr><tr><td>true</td></tr><tr><td>true</td></tr><tr><td>false</td></tr></tbody></table></div>"
      ],
      "text/plain": [
       "shape: (5, 1)\n",
       "┌─────────┐\n",
       "│ boolean │\n",
       "│ ---     │\n",
       "│ bool    │\n",
       "╞═════════╡\n",
       "│ true    │\n",
       "│ false   │\n",
       "│ true    │\n",
       "│ true    │\n",
       "│ false   │\n",
       "└─────────┘"
      ]
     },
     "execution_count": 15,
     "metadata": {},
     "output_type": "execute_result"
    }
   ],
   "source": [
    "df.select(cs.boolean())"
   ]
  },
  {
   "cell_type": "code",
   "execution_count": 25,
   "metadata": {},
   "outputs": [
    {
     "data": {
      "text/html": [
       "<div><style>\n",
       ".dataframe > thead > tr,\n",
       ".dataframe > tbody > tr {\n",
       "  text-align: right;\n",
       "  white-space: pre-wrap;\n",
       "}\n",
       "</style>\n",
       "<small>shape: (5, 1)</small><table border=\"1\" class=\"dataframe\"><thead><tr><th>tens</th></tr><tr><td>f64</td></tr></thead><tbody><tr><td>10.0</td></tr><tr><td>20.0</td></tr><tr><td>30.0</td></tr><tr><td>40.0</td></tr><tr><td>50.0</td></tr></tbody></table></div>"
      ],
      "text/plain": [
       "shape: (5, 1)\n",
       "┌──────┐\n",
       "│ tens │\n",
       "│ ---  │\n",
       "│ f64  │\n",
       "╞══════╡\n",
       "│ 10.0 │\n",
       "│ 20.0 │\n",
       "│ 30.0 │\n",
       "│ 40.0 │\n",
       "│ 50.0 │\n",
       "└──────┘"
      ]
     },
     "execution_count": 25,
     "metadata": {},
     "output_type": "execute_result"
    }
   ],
   "source": [
    "df.select(cs.contains('en'))"
   ]
  },
  {
   "cell_type": "code",
   "execution_count": 17,
   "metadata": {},
   "outputs": [
    {
     "data": {
      "text/html": [
       "<div><style>\n",
       ".dataframe > thead > tr,\n",
       ".dataframe > tbody > tr {\n",
       "  text-align: right;\n",
       "  white-space: pre-wrap;\n",
       "}\n",
       "</style>\n",
       "<small>shape: (5, 4)</small><table border=\"1\" class=\"dataframe\"><thead><tr><th>letters</th><th>hundreds</th><th>tens</th><th>boolean</th></tr><tr><td>str</td><td>i64</td><td>f64</td><td>bool</td></tr></thead><tbody><tr><td>&quot;A&quot;</td><td>100</td><td>10.0</td><td>true</td></tr><tr><td>&quot;B&quot;</td><td>200</td><td>20.0</td><td>false</td></tr><tr><td>&quot;c&quot;</td><td>300</td><td>30.0</td><td>true</td></tr><tr><td>&quot;D&quot;</td><td>400</td><td>40.0</td><td>true</td></tr><tr><td>&quot;eee&quot;</td><td>500</td><td>50.0</td><td>false</td></tr></tbody></table></div>"
      ],
      "text/plain": [
       "shape: (5, 4)\n",
       "┌─────────┬──────────┬──────┬─────────┐\n",
       "│ letters ┆ hundreds ┆ tens ┆ boolean │\n",
       "│ ---     ┆ ---      ┆ ---  ┆ ---     │\n",
       "│ str     ┆ i64      ┆ f64  ┆ bool    │\n",
       "╞═════════╪══════════╪══════╪═════════╡\n",
       "│ A       ┆ 100      ┆ 10.0 ┆ true    │\n",
       "│ B       ┆ 200      ┆ 20.0 ┆ false   │\n",
       "│ c       ┆ 300      ┆ 30.0 ┆ true    │\n",
       "│ D       ┆ 400      ┆ 40.0 ┆ true    │\n",
       "│ eee     ┆ 500      ┆ 50.0 ┆ false   │\n",
       "└─────────┴──────────┴──────┴─────────┘"
      ]
     },
     "execution_count": 17,
     "metadata": {},
     "output_type": "execute_result"
    }
   ],
   "source": [
    "df.select(pl.all())"
   ]
  },
  {
   "cell_type": "code",
   "execution_count": 30,
   "metadata": {},
   "outputs": [
    {
     "data": {
      "text/html": [
       "<div><style>\n",
       ".dataframe > thead > tr,\n",
       ".dataframe > tbody > tr {\n",
       "  text-align: right;\n",
       "  white-space: pre-wrap;\n",
       "}\n",
       "</style>\n",
       "<small>shape: (5, 3)</small><table border=\"1\" class=\"dataframe\"><thead><tr><th>letters</th><th>hundreds</th><th>tens</th></tr><tr><td>str</td><td>i64</td><td>f64</td></tr></thead><tbody><tr><td>&quot;A&quot;</td><td>100</td><td>10.0</td></tr><tr><td>&quot;B&quot;</td><td>200</td><td>20.0</td></tr><tr><td>&quot;c&quot;</td><td>300</td><td>30.0</td></tr><tr><td>&quot;D&quot;</td><td>400</td><td>40.0</td></tr><tr><td>&quot;eee&quot;</td><td>500</td><td>50.0</td></tr></tbody></table></div>"
      ],
      "text/plain": [
       "shape: (5, 3)\n",
       "┌─────────┬──────────┬──────┐\n",
       "│ letters ┆ hundreds ┆ tens │\n",
       "│ ---     ┆ ---      ┆ ---  │\n",
       "│ str     ┆ i64      ┆ f64  │\n",
       "╞═════════╪══════════╪══════╡\n",
       "│ A       ┆ 100      ┆ 10.0 │\n",
       "│ B       ┆ 200      ┆ 20.0 │\n",
       "│ c       ┆ 300      ┆ 30.0 │\n",
       "│ D       ┆ 400      ┆ 40.0 │\n",
       "│ eee     ┆ 500      ┆ 50.0 │\n",
       "└─────────┴──────────┴──────┘"
      ]
     },
     "execution_count": 30,
     "metadata": {},
     "output_type": "execute_result"
    }
   ],
   "source": [
    "df.select(pl.all().exclude('^boo.*$'))"
   ]
  },
  {
   "cell_type": "code",
   "execution_count": 31,
   "metadata": {},
   "outputs": [
    {
     "data": {
      "text/html": [
       "<div><style>\n",
       ".dataframe > thead > tr,\n",
       ".dataframe > tbody > tr {\n",
       "  text-align: right;\n",
       "  white-space: pre-wrap;\n",
       "}\n",
       "</style>\n",
       "<small>shape: (5, 2)</small><table border=\"1\" class=\"dataframe\"><thead><tr><th>letters</th><th>tens</th></tr><tr><td>str</td><td>f64</td></tr></thead><tbody><tr><td>&quot;A&quot;</td><td>10.0</td></tr><tr><td>&quot;B&quot;</td><td>20.0</td></tr><tr><td>&quot;c&quot;</td><td>30.0</td></tr><tr><td>&quot;D&quot;</td><td>40.0</td></tr><tr><td>&quot;eee&quot;</td><td>50.0</td></tr></tbody></table></div>"
      ],
      "text/plain": [
       "shape: (5, 2)\n",
       "┌─────────┬──────┐\n",
       "│ letters ┆ tens │\n",
       "│ ---     ┆ ---  │\n",
       "│ str     ┆ f64  │\n",
       "╞═════════╪══════╡\n",
       "│ A       ┆ 10.0 │\n",
       "│ B       ┆ 20.0 │\n",
       "│ c       ┆ 30.0 │\n",
       "│ D       ┆ 40.0 │\n",
       "│ eee     ┆ 50.0 │\n",
       "└─────────┴──────┘"
      ]
     },
     "execution_count": 31,
     "metadata": {},
     "output_type": "execute_result"
    }
   ],
   "source": [
    "df.select(cs.exclude('^boo.*$',pl.Int64))"
   ]
  },
  {
   "cell_type": "markdown",
   "metadata": {
    "tags": []
   },
   "source": [
    "---\n",
    "\n",
    "## `df[]` with boolean Series returns multiple rows, all columns"
   ]
  },
  {
   "cell_type": "markdown",
   "metadata": {},
   "source": [
    "### Boolean Series\n",
    "\n",
    "**It's very common to want all the rows from your DataFrame which pass a certain test**, or set of criteria. You can write the test itself in a very straightforward way, returning a `Series` of True/False boolean values."
   ]
  },
  {
   "cell_type": "code",
   "execution_count": 16,
   "metadata": {},
   "outputs": [
    {
     "data": {
      "text/html": [
       "[(col(\"tens\")) < (dyn int: 35)]"
      ],
      "text/plain": [
       "<Expr ['[(col(\"tens\")) < (dyn int: 35)…'] at 0x127D50F50>"
      ]
     },
     "execution_count": 16,
     "metadata": {},
     "output_type": "execute_result"
    }
   ],
   "source": [
    "pl.col('tens') < 35"
   ]
  },
  {
   "cell_type": "code",
   "execution_count": 32,
   "metadata": {},
   "outputs": [
    {
     "data": {
      "text/html": [
       "<div><style>\n",
       ".dataframe > thead > tr,\n",
       ".dataframe > tbody > tr {\n",
       "  text-align: right;\n",
       "  white-space: pre-wrap;\n",
       "}\n",
       "</style>\n",
       "<small>shape: (5, 1)</small><table border=\"1\" class=\"dataframe\"><thead><tr><th>tens</th></tr><tr><td>bool</td></tr></thead><tbody><tr><td>true</td></tr><tr><td>true</td></tr><tr><td>true</td></tr><tr><td>false</td></tr><tr><td>false</td></tr></tbody></table></div>"
      ],
      "text/plain": [
       "shape: (5, 1)\n",
       "┌───────┐\n",
       "│ tens  │\n",
       "│ ---   │\n",
       "│ bool  │\n",
       "╞═══════╡\n",
       "│ true  │\n",
       "│ true  │\n",
       "│ true  │\n",
       "│ false │\n",
       "│ false │\n",
       "└───────┘"
      ]
     },
     "execution_count": 32,
     "metadata": {},
     "output_type": "execute_result"
    }
   ],
   "source": [
    "df.select(pl.col('tens') < 35)"
   ]
  },
  {
   "cell_type": "code",
   "execution_count": 36,
   "metadata": {},
   "outputs": [
    {
     "data": {
      "text/html": [
       "<div><style>\n",
       ".dataframe > thead > tr,\n",
       ".dataframe > tbody > tr {\n",
       "  text-align: right;\n",
       "  white-space: pre-wrap;\n",
       "}\n",
       "</style>\n",
       "<small>shape: (5, 1)</small><table border=\"1\" class=\"dataframe\"><thead><tr><th>tens_gt_35</th></tr><tr><td>bool</td></tr></thead><tbody><tr><td>true</td></tr><tr><td>true</td></tr><tr><td>true</td></tr><tr><td>false</td></tr><tr><td>false</td></tr></tbody></table></div>"
      ],
      "text/plain": [
       "shape: (5, 1)\n",
       "┌────────────┐\n",
       "│ tens_gt_35 │\n",
       "│ ---        │\n",
       "│ bool       │\n",
       "╞════════════╡\n",
       "│ true       │\n",
       "│ true       │\n",
       "│ true       │\n",
       "│ false      │\n",
       "│ false      │\n",
       "└────────────┘"
      ]
     },
     "execution_count": 36,
     "metadata": {},
     "output_type": "execute_result"
    }
   ],
   "source": [
    "df.select((pl.col('tens') < 35).alias('tens_gt_35'))"
   ]
  },
  {
   "cell_type": "markdown",
   "metadata": {},
   "source": [
    "### Rows are returned where boolean Series == True\n",
    "\n",
    "**Things are getting screwy! If we use a single bracket with a boolean Series inside, we get back rows instead of columns!**\n",
    "\n",
    "*This can be confusing, but it's convenient enough that you'll see it quite often. Note that you can easily use the `df.loc[,:]` notation below to do the same thing, which is somewhat more clear and readable.*\n"
   ]
  },
  {
   "cell_type": "code",
   "execution_count": 33,
   "metadata": {},
   "outputs": [
    {
     "data": {
      "text/html": [
       "<div><style>\n",
       ".dataframe > thead > tr,\n",
       ".dataframe > tbody > tr {\n",
       "  text-align: right;\n",
       "  white-space: pre-wrap;\n",
       "}\n",
       "</style>\n",
       "<small>shape: (3, 4)</small><table border=\"1\" class=\"dataframe\"><thead><tr><th>letters</th><th>hundreds</th><th>tens</th><th>boolean</th></tr><tr><td>str</td><td>i64</td><td>f64</td><td>bool</td></tr></thead><tbody><tr><td>&quot;A&quot;</td><td>100</td><td>10.0</td><td>true</td></tr><tr><td>&quot;B&quot;</td><td>200</td><td>20.0</td><td>false</td></tr><tr><td>&quot;c&quot;</td><td>300</td><td>30.0</td><td>true</td></tr></tbody></table></div>"
      ],
      "text/plain": [
       "shape: (3, 4)\n",
       "┌─────────┬──────────┬──────┬─────────┐\n",
       "│ letters ┆ hundreds ┆ tens ┆ boolean │\n",
       "│ ---     ┆ ---      ┆ ---  ┆ ---     │\n",
       "│ str     ┆ i64      ┆ f64  ┆ bool    │\n",
       "╞═════════╪══════════╪══════╪═════════╡\n",
       "│ A       ┆ 100      ┆ 10.0 ┆ true    │\n",
       "│ B       ┆ 200      ┆ 20.0 ┆ false   │\n",
       "│ c       ┆ 300      ┆ 30.0 ┆ true    │\n",
       "└─────────┴──────────┴──────┴─────────┘"
      ]
     },
     "execution_count": 33,
     "metadata": {},
     "output_type": "execute_result"
    }
   ],
   "source": [
    "df.filter(pl.col('tens') < 35)"
   ]
  },
  {
   "cell_type": "code",
   "execution_count": 34,
   "metadata": {},
   "outputs": [
    {
     "data": {
      "text/html": [
       "<div><style>\n",
       ".dataframe > thead > tr,\n",
       ".dataframe > tbody > tr {\n",
       "  text-align: right;\n",
       "  white-space: pre-wrap;\n",
       "}\n",
       "</style>\n",
       "<small>shape: (3, 4)</small><table border=\"1\" class=\"dataframe\"><thead><tr><th>letters</th><th>hundreds</th><th>tens</th><th>boolean</th></tr><tr><td>str</td><td>i64</td><td>f64</td><td>bool</td></tr></thead><tbody><tr><td>&quot;A&quot;</td><td>100</td><td>10.0</td><td>true</td></tr><tr><td>&quot;c&quot;</td><td>300</td><td>30.0</td><td>true</td></tr><tr><td>&quot;D&quot;</td><td>400</td><td>40.0</td><td>true</td></tr></tbody></table></div>"
      ],
      "text/plain": [
       "shape: (3, 4)\n",
       "┌─────────┬──────────┬──────┬─────────┐\n",
       "│ letters ┆ hundreds ┆ tens ┆ boolean │\n",
       "│ ---     ┆ ---      ┆ ---  ┆ ---     │\n",
       "│ str     ┆ i64      ┆ f64  ┆ bool    │\n",
       "╞═════════╪══════════╪══════╪═════════╡\n",
       "│ A       ┆ 100      ┆ 10.0 ┆ true    │\n",
       "│ c       ┆ 300      ┆ 30.0 ┆ true    │\n",
       "│ D       ┆ 400      ┆ 40.0 ┆ true    │\n",
       "└─────────┴──────────┴──────┴─────────┘"
      ]
     },
     "execution_count": 34,
     "metadata": {},
     "output_type": "execute_result"
    }
   ],
   "source": [
    "df.filter(pl.col('boolean'))"
   ]
  },
  {
   "cell_type": "markdown",
   "metadata": {},
   "source": [
    "### More complicated conditionals\n",
    "\n",
    "You can combine multiple conditions if you put them in parentheses and put a logical operator between.\n",
    "\n",
    "- `&` = \"and\"\n",
    "- `|` = \"or\"  *(It's called a \"pipe\" character, and it's `shift-\\` above the Enter/Return key)*"
   ]
  },
  {
   "cell_type": "code",
   "execution_count": 37,
   "metadata": {},
   "outputs": [
    {
     "data": {
      "text/html": [
       "<div><style>\n",
       ".dataframe > thead > tr,\n",
       ".dataframe > tbody > tr {\n",
       "  text-align: right;\n",
       "  white-space: pre-wrap;\n",
       "}\n",
       "</style>\n",
       "<small>shape: (1, 4)</small><table border=\"1\" class=\"dataframe\"><thead><tr><th>letters</th><th>hundreds</th><th>tens</th><th>boolean</th></tr><tr><td>str</td><td>i64</td><td>f64</td><td>bool</td></tr></thead><tbody><tr><td>&quot;c&quot;</td><td>300</td><td>30.0</td><td>true</td></tr></tbody></table></div>"
      ],
      "text/plain": [
       "shape: (1, 4)\n",
       "┌─────────┬──────────┬──────┬─────────┐\n",
       "│ letters ┆ hundreds ┆ tens ┆ boolean │\n",
       "│ ---     ┆ ---      ┆ ---  ┆ ---     │\n",
       "│ str     ┆ i64      ┆ f64  ┆ bool    │\n",
       "╞═════════╪══════════╪══════╪═════════╡\n",
       "│ c       ┆ 300      ┆ 30.0 ┆ true    │\n",
       "└─────────┴──────────┴──────┴─────────┘"
      ]
     },
     "execution_count": 37,
     "metadata": {},
     "output_type": "execute_result"
    }
   ],
   "source": [
    "df.filter((pl.col('tens') < 35) & (pl.col('hundreds') > 200))"
   ]
  },
  {
   "cell_type": "markdown",
   "metadata": {},
   "source": [
    "---\n",
    "\n",
    "*To try the exercise below, if you haven't been executing the cells above, select this cell and from the Jupyter menus choose*\n",
    "\n",
    "`Run -> Run All Above Selected Cell`"
   ]
  },
  {
   "cell_type": "markdown",
   "metadata": {},
   "source": [
    "### **EXERCISE**\n",
    "\n",
    "**Return all rows in `df` where the \"hundreds\" column value is greater than or equal to 400**\n",
    "\n",
    "*Note: Type instead of using copy/paste for better retention*"
   ]
  },
  {
   "cell_type": "code",
   "execution_count": null,
   "metadata": {},
   "outputs": [],
   "source": []
  },
  {
   "cell_type": "markdown",
   "metadata": {},
   "source": [
    "---"
   ]
  },
  {
   "cell_type": "markdown",
   "metadata": {},
   "source": [
    "## Row Index doesn't have to be integers!\n",
    "\n",
    "The Index values aren't \"row numbers\". Instead, **the Index values are the names of the rows, so you can use things like strings or dates for the Index**. Let's start by making a new column.\n",
    "\n",
    "*Note that if we creating a new column from a list we need to make sure we don't make any mistakes in the order of the DataFrame rows compared to the order in our list! A more reliable solution would be to create a Series with explicit Index values and assign to the new column from that. If you initialize a Series with a Dictionary, the key values will be used as the row Index. Try reordering the key value pairs and verify that the row assignments stay the same!*\n",
    "\n",
    "*Better:* `df['spelled_out'] = pd.Series({0:'One', 1:'Two', 2:'Three', 3:'Four', 4:'Five'})`\n",
    "\n",
    "Here we'll just do it the simpler way..."
   ]
  },
  {
   "cell_type": "raw",
   "metadata": {},
   "source": [
    "df['spelled_out'] = ['One','Two','Three','Four','Five']\n",
    "df"
   ]
  },
  {
   "cell_type": "markdown",
   "metadata": {},
   "source": [
    "### We can set one of the columns as the Index"
   ]
  },
  {
   "cell_type": "raw",
   "metadata": {},
   "source": [
    "df2 = df.set_index('spelled_out')\n",
    "df2"
   ]
  },
  {
   "cell_type": "markdown",
   "metadata": {},
   "source": [
    "### Every column's Series has this same Index"
   ]
  },
  {
   "cell_type": "raw",
   "metadata": {},
   "source": [
    "df2['letters']"
   ]
  },
  {
   "cell_type": "raw",
   "metadata": {},
   "source": [
    "df2['tens']"
   ]
  },
  {
   "cell_type": "markdown",
   "metadata": {},
   "source": [
    "---\n",
    "\n",
    "## `df.loc[row,col]` for label-based, multi-axis indexing\n",
    "\n",
    "**This is the best access/selection method!** It lets you select first along rows, and then along columns, in both directions simultaneoulsy using row and column \"labels\", which are the row index and column names."
   ]
  },
  {
   "cell_type": "code",
   "execution_count": 38,
   "metadata": {},
   "outputs": [
    {
     "data": {
      "text/plain": [
       "'A'"
      ]
     },
     "execution_count": 38,
     "metadata": {},
     "output_type": "execute_result"
    }
   ],
   "source": [
    "df.item(0,'letters')"
   ]
  },
  {
   "cell_type": "markdown",
   "metadata": {},
   "source": [
    "### Colon `:` for selecting whole or slices\n",
    "\n",
    "A notation that comes from accessing lists in Python is the \"slice\" operator, which is specified with a colon between two values. \n",
    "\n",
    "- **The colon by itself denotes all Index entries in a row or column.**\n",
    "\n",
    "So, here we return all rows and a single column."
   ]
  },
  {
   "cell_type": "raw",
   "metadata": {},
   "source": [
    "df2.loc[:,'hundreds']"
   ]
  },
  {
   "cell_type": "markdown",
   "metadata": {},
   "source": [
    "### Slice end-points are included in Pandas selections\n",
    "\n",
    "Unlike Python lists, in Pandas the slice includes both end points!\n"
   ]
  },
  {
   "cell_type": "raw",
   "metadata": {},
   "source": [
    "df2.loc[:,'hundreds':'tens']"
   ]
  },
  {
   "cell_type": "markdown",
   "metadata": {},
   "source": [
    "---\n",
    "\n",
    "*To try the exercise below, if you haven't been executing the cells above, select this cell and from the Jupyter menus choose*\n",
    "\n",
    "`Run -> Run All Above Selected Cell`"
   ]
  },
  {
   "cell_type": "markdown",
   "metadata": {},
   "source": [
    "### **EXERCISE**\n",
    "\n",
    "**Do you know how to use the slice notation to specify just the rows up to and including \"Three\"?**\n",
    "\n",
    "*Note: Type instead of using copy/paste for better retention*"
   ]
  },
  {
   "cell_type": "code",
   "execution_count": null,
   "metadata": {},
   "outputs": [],
   "source": []
  },
  {
   "cell_type": "markdown",
   "metadata": {},
   "source": [
    "---"
   ]
  },
  {
   "cell_type": "markdown",
   "metadata": {},
   "source": [
    "### Lists for combinations\n",
    "\n",
    "Lists of values work the same as with the `df[]` notation. *Note that again, order matters for what is returned!*"
   ]
  },
  {
   "cell_type": "raw",
   "metadata": {},
   "source": [
    "df2.loc[:,['tens','letters']]"
   ]
  },
  {
   "cell_type": "markdown",
   "metadata": {},
   "source": [
    "### Single rows are a Series, too\n",
    "\n",
    "- Remember, any 1D result, row or column, will be a Series in Pandas\n",
    "- When you're returning a row, the Index will be the column names"
   ]
  },
  {
   "cell_type": "code",
   "execution_count": 42,
   "metadata": {},
   "outputs": [
    {
     "data": {
      "text/plain": [
       "('A', 100, 10.0, True)"
      ]
     },
     "execution_count": 42,
     "metadata": {},
     "output_type": "execute_result"
    }
   ],
   "source": [
    "df.row(0)"
   ]
  },
  {
   "cell_type": "raw",
   "metadata": {},
   "source": [
    "df2.loc['Three',:]"
   ]
  },
  {
   "cell_type": "markdown",
   "metadata": {},
   "source": [
    "### Boolean Series can be used for selecting True rows or columns\n",
    "\n",
    "But notice with this syntax you can tell easily whether you're using the boolean Series to select rows or columns, unlike with the `df[]` syntax."
   ]
  },
  {
   "cell_type": "raw",
   "metadata": {},
   "source": [
    "df2.loc[df2['tens']<35,:]"
   ]
  },
  {
   "cell_type": "markdown",
   "metadata": {},
   "source": [
    "---\n",
    "\n",
    "*To try the exercise below, if you haven't been executing the cells above, select this cell and from the Jupyter menus choose*\n",
    "\n",
    "`Run -> Run All Above Selected Cell`"
   ]
  },
  {
   "cell_type": "markdown",
   "metadata": {},
   "source": [
    "### **EXERCISE**\n",
    "\n",
    "**Using the `df2.loc[]` notation, return all columns for all rows in which the \"boolean\" column is True**\n",
    "\n",
    "*Note: Type instead of using copy/paste for better retention*"
   ]
  },
  {
   "cell_type": "code",
   "execution_count": null,
   "metadata": {},
   "outputs": [],
   "source": []
  },
  {
   "cell_type": "markdown",
   "metadata": {
    "tags": []
   },
   "source": [
    "---\n",
    "\n",
    "## `df.query()` for selecting rows like in SQL \"where\" statement\n",
    "\n",
    "**The idea is to return rows where column content meets certain criteria, like when you use a boolean series inside of a `df[]` statement**\n",
    "\n",
    "This is not a syntax I'm very experienced with, but people coming from the SQL (Structured Query Language) relational database query world might feel more comfortable with this form. It does sometimes have the advantage of shorter, more readable conditional expressions.\n",
    "\n",
    "Some bulleted text below is from the Pandas [DataFrame.query documentation](https://pandas.pydata.org/docs/reference/api/pandas.DataFrame.query.html):"
   ]
  },
  {
   "cell_type": "markdown",
   "metadata": {
    "tags": []
   },
   "source": [
    "### Format your query as a string in quotes\n",
    "\n",
    "- You can refer to column names (that don't have spaces) directly in the expression"
   ]
  },
  {
   "cell_type": "raw",
   "metadata": {},
   "source": [
    "df2.query('tens < 35')"
   ]
  },
  {
   "cell_type": "code",
   "execution_count": 48,
   "metadata": {},
   "outputs": [
    {
     "data": {
      "text/html": [
       "<div><style>\n",
       ".dataframe > thead > tr,\n",
       ".dataframe > tbody > tr {\n",
       "  text-align: right;\n",
       "  white-space: pre-wrap;\n",
       "}\n",
       "</style>\n",
       "<small>shape: (3, 4)</small><table border=\"1\" class=\"dataframe\"><thead><tr><th>letters</th><th>hundreds</th><th>tens</th><th>boolean</th></tr><tr><td>str</td><td>i64</td><td>f64</td><td>bool</td></tr></thead><tbody><tr><td>&quot;A&quot;</td><td>100</td><td>10.0</td><td>true</td></tr><tr><td>&quot;B&quot;</td><td>200</td><td>20.0</td><td>false</td></tr><tr><td>&quot;c&quot;</td><td>300</td><td>30.0</td><td>true</td></tr></tbody></table></div>"
      ],
      "text/plain": [
       "shape: (3, 4)\n",
       "┌─────────┬──────────┬──────┬─────────┐\n",
       "│ letters ┆ hundreds ┆ tens ┆ boolean │\n",
       "│ ---     ┆ ---      ┆ ---  ┆ ---     │\n",
       "│ str     ┆ i64      ┆ f64  ┆ bool    │\n",
       "╞═════════╪══════════╪══════╪═════════╡\n",
       "│ A       ┆ 100      ┆ 10.0 ┆ true    │\n",
       "│ B       ┆ 200      ┆ 20.0 ┆ false   │\n",
       "│ c       ┆ 300      ┆ 30.0 ┆ true    │\n",
       "└─────────┴──────────┴──────┴─────────┘"
      ]
     },
     "execution_count": 48,
     "metadata": {},
     "output_type": "execute_result"
    }
   ],
   "source": [
    "df.sql(\"\"\"\n",
    "    SELECT * FROM self\n",
    "    WHERE tens < 35\n",
    "    \"\"\")"
   ]
  },
  {
   "cell_type": "markdown",
   "metadata": {},
   "source": [
    "### Query can refer to variables in the environment\n",
    "\n",
    "- You can refer to variables in the environment by prefixing them with an ‘@’ character"
   ]
  },
  {
   "cell_type": "raw",
   "metadata": {},
   "source": [
    "cutoff_value = 35\n",
    "df2.query('tens < @cutoff_value')"
   ]
  },
  {
   "cell_type": "markdown",
   "metadata": {
    "tags": []
   },
   "source": [
    "### Need backticks around column names with spaces\n",
    "\n",
    "- You can refer to column names that are not valid Python variable names by surrounding them in backticks. Thus, column names containing spaces or punctuations (besides underscores) or starting with digits must be surrounded by backticks. (For example, a column named “Area (cm^2)” would be referenced as \\`Area (cm^2)\\`). \n",
    "- Strings in the conditional need the opposite type of quotes than you've used to surround the expression itself\n"
   ]
  },
  {
   "cell_type": "markdown",
   "metadata": {},
   "source": [
    "*Note that this returns a DataFrame even for a single row, which is actually the same behavior as*\n",
    "\n",
    "```\n",
    "df2[df2['more letters'] == 'DD']\n",
    "```"
   ]
  },
  {
   "cell_type": "raw",
   "metadata": {},
   "source": [
    "df2['more letters'] = df2['letters'] + df2['letters']\n",
    "\n",
    "df2.query(\"`more letters` == 'DD'\")"
   ]
  },
  {
   "cell_type": "markdown",
   "metadata": {},
   "source": [
    "### Complex conditionals use \"and\" / \"or\"\n",
    "\n",
    "- Logical expressions can either use \"and\" or \"or\", or \"&\" or \"|\" for more complex conditionals.\n",
    "\n",
    "**This is where the queries are slightly more readable than the other form**\n",
    "\n",
    "```\n",
    "df2[(df2['tens'] < 35) & (df2['boolean'] == True)]\n",
    "```"
   ]
  },
  {
   "cell_type": "raw",
   "metadata": {},
   "source": [
    "df2.query(\"tens < 35 and boolean == True\")"
   ]
  },
  {
   "cell_type": "markdown",
   "metadata": {
    "tags": []
   },
   "source": [
    "---\n",
    "\n",
    "## I've skipped the integer selection methods\n",
    "\n",
    "Indexing by integers using the `df.iloc[row index, column index]` method is good to know about, but frankly, I hardly ever find myself using that method – I prefer to use labels. \n",
    "\n",
    "*I never use integers inside the `df[]` notation – it is just a historical leftover that should be avoided!*\n",
    "\n",
    "See the [FullAccessingDataFrames notebook](FullAccessingDataFrames.ipynb) to learn more."
   ]
  },
  {
   "cell_type": "markdown",
   "metadata": {},
   "source": [
    "---\n",
    "\n",
    "## SettingWithCopyWarning\n",
    "\n",
    "If you select a subset of your DataFrame and assign to a new variable as a way to keep just a couple columns of your DataFrame, you will run into a **SettingWithCopyWarning** if you try to change that new DataFrame. \n",
    "\n",
    "*Because of some Pandas inner-workings, when you slice or index into a DataFrame it's not actually clear whether it will create a \"view\" into the original DataFrame or a copy of the data!* "
   ]
  },
  {
   "cell_type": "code",
   "execution_count": 57,
   "metadata": {},
   "outputs": [
    {
     "data": {
      "text/html": [
       "<div><style>\n",
       ".dataframe > thead > tr,\n",
       ".dataframe > tbody > tr {\n",
       "  text-align: right;\n",
       "  white-space: pre-wrap;\n",
       "}\n",
       "</style>\n",
       "<small>shape: (5, 2)</small><table border=\"1\" class=\"dataframe\"><thead><tr><th>hundreds</th><th>tens</th></tr><tr><td>i64</td><td>f64</td></tr></thead><tbody><tr><td>100</td><td>10.0</td></tr><tr><td>200</td><td>20.0</td></tr><tr><td>300</td><td>30.0</td></tr><tr><td>400</td><td>40.0</td></tr><tr><td>500</td><td>50.0</td></tr></tbody></table></div>"
      ],
      "text/plain": [
       "shape: (5, 2)\n",
       "┌──────────┬──────┐\n",
       "│ hundreds ┆ tens │\n",
       "│ ---      ┆ ---  │\n",
       "│ i64      ┆ f64  │\n",
       "╞══════════╪══════╡\n",
       "│ 100      ┆ 10.0 │\n",
       "│ 200      ┆ 20.0 │\n",
       "│ 300      ┆ 30.0 │\n",
       "│ 400      ┆ 40.0 │\n",
       "│ 500      ┆ 50.0 │\n",
       "└──────────┴──────┘"
      ]
     },
     "execution_count": 57,
     "metadata": {},
     "output_type": "execute_result"
    }
   ],
   "source": [
    "df_nums = df.select(pl.col('hundreds','tens'))\n",
    "df_nums"
   ]
  },
  {
   "cell_type": "markdown",
   "metadata": {},
   "source": [
    "### ~~It does the operation but gives you a confusing warning~~\n",
    "\n",
    "You don't want these warnings all over the place in your notebook or you'll miss really important errors and warnings, and there's a chance you might be doing something wrong, anyway!"
   ]
  },
  {
   "cell_type": "code",
   "execution_count": 58,
   "metadata": {},
   "outputs": [
    {
     "data": {
      "text/html": [
       "<div><style>\n",
       ".dataframe > thead > tr,\n",
       ".dataframe > tbody > tr {\n",
       "  text-align: right;\n",
       "  white-space: pre-wrap;\n",
       "}\n",
       "</style>\n",
       "<small>shape: (5, 3)</small><table border=\"1\" class=\"dataframe\"><thead><tr><th>hundreds</th><th>tens</th><th>sums</th></tr><tr><td>i64</td><td>f64</td><td>f64</td></tr></thead><tbody><tr><td>100</td><td>10.0</td><td>110.0</td></tr><tr><td>200</td><td>20.0</td><td>220.0</td></tr><tr><td>300</td><td>30.0</td><td>330.0</td></tr><tr><td>400</td><td>40.0</td><td>440.0</td></tr><tr><td>500</td><td>50.0</td><td>550.0</td></tr></tbody></table></div>"
      ],
      "text/plain": [
       "shape: (5, 3)\n",
       "┌──────────┬──────┬───────┐\n",
       "│ hundreds ┆ tens ┆ sums  │\n",
       "│ ---      ┆ ---  ┆ ---   │\n",
       "│ i64      ┆ f64  ┆ f64   │\n",
       "╞══════════╪══════╪═══════╡\n",
       "│ 100      ┆ 10.0 ┆ 110.0 │\n",
       "│ 200      ┆ 20.0 ┆ 220.0 │\n",
       "│ 300      ┆ 30.0 ┆ 330.0 │\n",
       "│ 400      ┆ 40.0 ┆ 440.0 │\n",
       "│ 500      ┆ 50.0 ┆ 550.0 │\n",
       "└──────────┴──────┴───────┘"
      ]
     },
     "execution_count": 58,
     "metadata": {},
     "output_type": "execute_result"
    }
   ],
   "source": [
    "df_nums.with_columns(sums = pl.col('hundreds') + pl.col('tens'))\n"
   ]
  },
  {
   "cell_type": "code",
   "execution_count": 59,
   "metadata": {},
   "outputs": [
    {
     "data": {
      "text/html": [
       "<div><style>\n",
       ".dataframe > thead > tr,\n",
       ".dataframe > tbody > tr {\n",
       "  text-align: right;\n",
       "  white-space: pre-wrap;\n",
       "}\n",
       "</style>\n",
       "<small>shape: (5, 3)</small><table border=\"1\" class=\"dataframe\"><thead><tr><th>hundreds</th><th>tens</th><th>sums</th></tr><tr><td>i64</td><td>f64</td><td>f64</td></tr></thead><tbody><tr><td>100</td><td>10.0</td><td>110.0</td></tr><tr><td>200</td><td>20.0</td><td>220.0</td></tr><tr><td>300</td><td>30.0</td><td>330.0</td></tr><tr><td>400</td><td>40.0</td><td>440.0</td></tr><tr><td>500</td><td>50.0</td><td>550.0</td></tr></tbody></table></div>"
      ],
      "text/plain": [
       "shape: (5, 3)\n",
       "┌──────────┬──────┬───────┐\n",
       "│ hundreds ┆ tens ┆ sums  │\n",
       "│ ---      ┆ ---  ┆ ---   │\n",
       "│ i64      ┆ f64  ┆ f64   │\n",
       "╞══════════╪══════╪═══════╡\n",
       "│ 100      ┆ 10.0 ┆ 110.0 │\n",
       "│ 200      ┆ 20.0 ┆ 220.0 │\n",
       "│ 300      ┆ 30.0 ┆ 330.0 │\n",
       "│ 400      ┆ 40.0 ┆ 440.0 │\n",
       "│ 500      ┆ 50.0 ┆ 550.0 │\n",
       "└──────────┴──────┴───────┘"
      ]
     },
     "execution_count": 59,
     "metadata": {},
     "output_type": "execute_result"
    }
   ],
   "source": [
    "df_nums.with_columns((pl.col('hundreds') + pl.col('tens')).alias('sums'))"
   ]
  },
  {
   "cell_type": "markdown",
   "metadata": {},
   "source": [
    "### Create an explicit `.copy()`\n",
    "\n",
    "**If you are assigning a subset of a DataFrame to a new variable**, with the intention of creating a copy that you'll work on independently of the original, **create an explicit copy by chaining the `.copy()` method to the end!**\n",
    "\n",
    "Additional learning resources:\n",
    "- [The best explanation of the SettingWithCopyWarning I've seen](https://www.dataquest.io/blog/settingwithcopywarning/)\n",
    "- [A complicated explanation in the Pandas documentation](https://pandas.pydata.org/pandas-docs/version/0.22/indexing.html#indexing-view-versus-copy)\n"
   ]
  },
  {
   "cell_type": "raw",
   "metadata": {},
   "source": [
    "df_nums = df2[['hundreds','tens']].copy()\n",
    "df_nums['sums'] = df_nums['hundreds'] + df_nums['tens']\n",
    "df_nums"
   ]
  },
  {
   "cell_type": "markdown",
   "metadata": {},
   "source": [
    "---\n",
    "\n",
    "## `df.loc[row,col]` for setting values\n",
    "\n",
    "So far we've been accessing values in DataFrames to read/get what's already there, but **the same methods can be used for setting values on DataFrame subsets**!"
   ]
  },
  {
   "cell_type": "raw",
   "metadata": {},
   "source": [
    "df_set = df2.loc[:,['tens','hundreds']].copy()\n",
    "df_set"
   ]
  },
  {
   "cell_type": "raw",
   "metadata": {},
   "source": [
    "df_set.loc['Three',:] = 50\n",
    "df_set"
   ]
  },
  {
   "cell_type": "raw",
   "metadata": {},
   "source": [
    "df_set.loc[df_set['tens'] <= 45.0, 'hundreds'] = 0\n",
    "df_set"
   ]
  },
  {
   "cell_type": "markdown",
   "metadata": {
    "tags": []
   },
   "source": [
    "---\n",
    "\n",
    "## Selection method you'll see, but don't really need!\n",
    "\n",
    "A very good article on more advanced Pandas features where there are multiple ways of doing similar things, and [Ted Petrou's](https://medium.com/@petrou.theodore) \n",
    "opinions on which to use, is \n",
    "[Minimally Sufficient Pandas](https://medium.com/dunder-data/minimally-sufficient-pandas-a8e67f2a2428). \n",
    "\n",
    "*These pieces are taken from that article, but there's a lot more great content there that we don't have time to cover.*"
   ]
  },
  {
   "cell_type": "markdown",
   "metadata": {},
   "source": [
    "### Selecting a single column with the \"dot\" notation\n",
    "\n",
    "A very common alternative to selecting a single column with the `df['name']` bracket notation you'll see all the time, is what's called the \"dot\" notation, where you follow the dataframe name by a dot and the column name, `df.name`"
   ]
  },
  {
   "cell_type": "raw",
   "metadata": {},
   "source": [
    "df2.hundreds"
   ]
  },
  {
   "cell_type": "markdown",
   "metadata": {},
   "source": [
    "### Issues with the \"dot\" notation\n",
    "\n",
    "There are three issues with using dot notation. It doesn’t work in the following situations:\n",
    "\n",
    "- When there are spaces in the column name\n",
    "- When the column name is the same as a DataFrame method\n",
    "- When the name of a column you want to access is stored in a variable"
   ]
  },
  {
   "cell_type": "markdown",
   "metadata": {},
   "source": [
    "#### Spaces in the columns name"
   ]
  },
  {
   "cell_type": "raw",
   "metadata": {},
   "source": [
    "df2['more letters']"
   ]
  },
  {
   "cell_type": "raw",
   "metadata": {},
   "source": [
    "df2.more letters"
   ]
  },
  {
   "cell_type": "markdown",
   "metadata": {},
   "source": [
    "#### Column name is the same as a DataFrame method\n",
    "\n",
    "`sum` can be the name of one of our columns, and it's easy to access those values with the \"quoted name in square brackets\" notation:"
   ]
  },
  {
   "cell_type": "raw",
   "metadata": {},
   "source": [
    "df2['sum'] = df2['tens'] + df2['hundreds']\n",
    "df2['sum']"
   ]
  },
  {
   "cell_type": "markdown",
   "metadata": {},
   "source": [
    "**But if we try to access that column's values with the \"dot\" notation, there is a problem.** The output here will seem confusing, but it's basically saying that `.sum` is a method (built-in function) of the DataFrame."
   ]
  },
  {
   "cell_type": "raw",
   "metadata": {},
   "source": [
    "df2.sum"
   ]
  },
  {
   "cell_type": "markdown",
   "metadata": {},
   "source": [
    "#### The column name is stored in a variable\n",
    "\n",
    "It's not uncommon to want to access a column who's name string has been stored in a variable"
   ]
  },
  {
   "cell_type": "raw",
   "metadata": {},
   "source": [
    "column_name = 'tens'\n",
    "df2[column_name]"
   ]
  },
  {
   "cell_type": "markdown",
   "metadata": {},
   "source": [
    "**But, again, that doesn't work with the \"dot\" notation**"
   ]
  },
  {
   "cell_type": "raw",
   "metadata": {},
   "source": [
    "df2.column_name"
   ]
  },
  {
   "cell_type": "markdown",
   "metadata": {},
   "source": [
    "### Lots of Pandas is written with the dot notation. Why?\n",
    "\n",
    "Many tutorials make use of the dot notation to select a single column of data. Why is this done when the brackets seem to be clearly superior? \n",
    "\n",
    "- It might be because **the official documentation contains plenty of examples that use it**\n",
    "- It also ***uses three fewer characters which entices the very laziest amongst us***"
   ]
  },
  {
   "cell_type": "markdown",
   "metadata": {},
   "source": [
    "---"
   ]
  },
  {
   "cell_type": "code",
   "execution_count": null,
   "metadata": {},
   "outputs": [],
   "source": []
  }
 ],
 "metadata": {
  "kernelspec": {
   "display_name": "Python 3 (ipykernel)",
   "language": "python",
   "name": "python3"
  },
  "language_info": {
   "codemirror_mode": {
    "name": "ipython",
    "version": 3
   },
   "file_extension": ".py",
   "mimetype": "text/x-python",
   "name": "python",
   "nbconvert_exporter": "python",
   "pygments_lexer": "ipython3",
   "version": "3.13.1"
  },
  "toc-autonumbering": false,
  "toc-showmarkdowntxt": false
 },
 "nbformat": 4,
 "nbformat_minor": 4
}
