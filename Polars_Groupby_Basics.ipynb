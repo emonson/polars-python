{
 "cells": [
  {
   "cell_type": "markdown",
   "metadata": {},
   "source": [
    "# Split-Apply-Combine operations with `.groupby()`\n",
    "\n",
    "Our data often consists of individual observations or events. To make sense of the patterns in the data it can be helpful to aggregate the data within categorical groups. The general method is described as the Split-Apply-Combine strategy for data analysis, as described in [this classic paper by Hadley Wickham](https://www.jstatsoft.org/article/view/v040i01/v40i01.pdf).\n",
    "\n",
    "- In SQL this is done with `GROUPBY`\n",
    "- In Tableau this is done with all visualizations + Level of Detail (LOD) calculations\n",
    "- In R this is done with the `dplyr` package using `group_by()` and `summarize()`\n",
    "- **In Python with Pandas this is done with `.groupby()`**"
   ]
  },
  {
   "cell_type": "markdown",
   "metadata": {},
   "source": [
    "## Groupby\n",
    "\n",
    "From [the Pandas `.groupby()` documentation](https://pandas.pydata.org/pandas-docs/stable/user_guide/groupby.html):\n",
    "\n",
    "**By “group by” we are referring to a process involving one or more of the following steps:**\n",
    "\n",
    "- **Splitting** the data into groups based on some criteria\n",
    "- **Applying** a function to each group independently\n",
    "- **Combining** the results into a data structure\n",
    "\n",
    "After splitting, in **the apply step**, we do something to the groups, like:\n",
    "\n",
    "- **Aggregation**: compute a summary statistic (or statistics) for each group, like group sums or means, or group sizes / counts. \n",
    "    - ***Reduces the number of rows to one per group***\n",
    "- **Transformation**: perform some group-specific computations and return a like-indexed object, such as a standardize data (zscore) within a group, or filling NAs within groups with a value derived from each group. \n",
    "    - ***Keeps the number of rows the same (e.g. a new column with the group average in each row for easy comparisons to the individuals)***\n",
    "- **Filtration**: discard some groups, according to a group-wise computation that evaluates True or False, such as discarding data that belongs to groups with only a few members, or filtering out data based on the group sum or mean\n"
   ]
  },
  {
   "cell_type": "markdown",
   "metadata": {},
   "source": [
    "### Graphical Example \n",
    "\n",
    "As Jake VanderPlas shows in the \n",
    "[Aggregation and Grouping](http://nbviewer.jupyter.org/github/jakevdp/PythonDataScienceHandbook/blob/master/notebooks/03.08-Aggregation-and-Grouping.ipynb) \n",
    "section of his excellent \n",
    "[Python Data Science Handbook](https://github.com/jakevdp/PythonDataScienceHandbook), \n",
    "an archtypical example of a `groupby()` operation with a sum aggregation is:\n",
    "\n",
    "<img src='images/split-apply-combine.svg' width=600>"
   ]
  },
  {
   "cell_type": "markdown",
   "metadata": {},
   "source": [
    "---\n",
    "\n",
    "*To preserve the mystery, select from the notebook menus*\n",
    "\n",
    "`Edit -> Clear All Outputs`"
   ]
  },
  {
   "cell_type": "markdown",
   "metadata": {},
   "source": [
    "---\n",
    "\n",
    "## Pandas groupby syntax\n",
    "\n",
    "Let's try just a slightly more complex example to familiarize ourselves with the Pandas syntax for the aggregation and transformation operations. **To see some very common behaviors, we need multiple numerical columns.** *(We'll save multiple categorical columns for later...)*"
   ]
  },
  {
   "cell_type": "code",
   "execution_count": 1,
   "metadata": {},
   "outputs": [],
   "source": [
    "import pandas as pd\n",
    "import polars as pl"
   ]
  },
  {
   "cell_type": "markdown",
   "metadata": {},
   "source": [
    "### Create the example DataFrame"
   ]
  },
  {
   "cell_type": "code",
   "execution_count": 2,
   "metadata": {},
   "outputs": [
    {
     "data": {
      "text/html": [
       "<div><style>\n",
       ".dataframe > thead > tr,\n",
       ".dataframe > tbody > tr {\n",
       "  text-align: right;\n",
       "  white-space: pre-wrap;\n",
       "}\n",
       "</style>\n",
       "<small>shape: (6, 3)</small><table border=\"1\" class=\"dataframe\"><thead><tr><th>key</th><th>data1</th><th>data2</th></tr><tr><td>str</td><td>i64</td><td>f64</td></tr></thead><tbody><tr><td>&quot;A&quot;</td><td>2</td><td>0.1</td></tr><tr><td>&quot;B&quot;</td><td>4</td><td>0.2</td></tr><tr><td>&quot;C&quot;</td><td>6</td><td>0.3</td></tr><tr><td>&quot;A&quot;</td><td>8</td><td>0.4</td></tr><tr><td>&quot;B&quot;</td><td>10</td><td>0.5</td></tr><tr><td>&quot;C&quot;</td><td>12</td><td>0.6</td></tr></tbody></table></div>"
      ],
      "text/plain": [
       "shape: (6, 3)\n",
       "┌─────┬───────┬───────┐\n",
       "│ key ┆ data1 ┆ data2 │\n",
       "│ --- ┆ ---   ┆ ---   │\n",
       "│ str ┆ i64   ┆ f64   │\n",
       "╞═════╪═══════╪═══════╡\n",
       "│ A   ┆ 2     ┆ 0.1   │\n",
       "│ B   ┆ 4     ┆ 0.2   │\n",
       "│ C   ┆ 6     ┆ 0.3   │\n",
       "│ A   ┆ 8     ┆ 0.4   │\n",
       "│ B   ┆ 10    ┆ 0.5   │\n",
       "│ C   ┆ 12    ┆ 0.6   │\n",
       "└─────┴───────┴───────┘"
      ]
     },
     "execution_count": 2,
     "metadata": {},
     "output_type": "execute_result"
    }
   ],
   "source": [
    "key_list = ['A','B','C','A','B','C']\n",
    "data1_list = [2, 4, 6, 8, 10, 12]\n",
    "data2_list = [0.1, 0.2, 0.3, 0.4, 0.5, 0.6]\n",
    "\n",
    "df = pl.DataFrame({'key':key_list, 'data1':data1_list, 'data2':data2_list})\n",
    "df"
   ]
  },
  {
   "cell_type": "markdown",
   "metadata": {},
   "source": [
    "### The `.groupby()` operation returns a groupby object"
   ]
  },
  {
   "cell_type": "code",
   "execution_count": 5,
   "metadata": {},
   "outputs": [
    {
     "data": {
      "text/plain": [
       "<polars.dataframe.group_by.GroupBy at 0x1683a7230>"
      ]
     },
     "execution_count": 5,
     "metadata": {},
     "output_type": "execute_result"
    }
   ],
   "source": [
    "group = df.group_by('key')\n",
    "group"
   ]
  },
  {
   "cell_type": "markdown",
   "metadata": {},
   "source": [
    "### The individual rows in each group are still separate!\n",
    "\n",
    "What you see returned are the keys and they indexes (names) of the rows"
   ]
  },
  {
   "cell_type": "code",
   "execution_count": 17,
   "metadata": {},
   "outputs": [
    {
     "data": {
      "text/html": [
       "<div><style>\n",
       ".dataframe > thead > tr,\n",
       ".dataframe > tbody > tr {\n",
       "  text-align: right;\n",
       "  white-space: pre-wrap;\n",
       "}\n",
       "</style>\n",
       "<small>shape: (3, 3)</small><table border=\"1\" class=\"dataframe\"><thead><tr><th>key</th><th>data1</th><th>data2</th></tr><tr><td>str</td><td>list[i64]</td><td>list[f64]</td></tr></thead><tbody><tr><td>&quot;B&quot;</td><td>[4, 10]</td><td>[0.2, 0.5]</td></tr><tr><td>&quot;A&quot;</td><td>[2, 8]</td><td>[0.1, 0.4]</td></tr><tr><td>&quot;C&quot;</td><td>[6, 12]</td><td>[0.3, 0.6]</td></tr></tbody></table></div>"
      ],
      "text/plain": [
       "shape: (3, 3)\n",
       "┌─────┬───────────┬────────────┐\n",
       "│ key ┆ data1     ┆ data2      │\n",
       "│ --- ┆ ---       ┆ ---        │\n",
       "│ str ┆ list[i64] ┆ list[f64]  │\n",
       "╞═════╪═══════════╪════════════╡\n",
       "│ B   ┆ [4, 10]   ┆ [0.2, 0.5] │\n",
       "│ A   ┆ [2, 8]    ┆ [0.1, 0.4] │\n",
       "│ C   ┆ [6, 12]   ┆ [0.3, 0.6] │\n",
       "└─────┴───────────┴────────────┘"
      ]
     },
     "execution_count": 17,
     "metadata": {},
     "output_type": "execute_result"
    }
   ],
   "source": [
    "group.all()"
   ]
  },
  {
   "cell_type": "code",
   "execution_count": 33,
   "metadata": {},
   "outputs": [
    {
     "data": {
      "text/html": [
       "<div><style>\n",
       ".dataframe > thead > tr,\n",
       ".dataframe > tbody > tr {\n",
       "  text-align: right;\n",
       "  white-space: pre-wrap;\n",
       "}\n",
       "</style>\n",
       "<small>shape: (2, 3)</small><table border=\"1\" class=\"dataframe\"><thead><tr><th>key</th><th>data1</th><th>data2</th></tr><tr><td>str</td><td>list[i64]</td><td>list[f64]</td></tr></thead><tbody><tr><td>&quot;B&quot;</td><td>[4, 10]</td><td>[0.2, 0.5]</td></tr><tr><td>&quot;C&quot;</td><td>[6, 12]</td><td>[0.3, 0.6]</td></tr></tbody></table></div>"
      ],
      "text/plain": [
       "shape: (2, 3)\n",
       "┌─────┬───────────┬────────────┐\n",
       "│ key ┆ data1     ┆ data2      │\n",
       "│ --- ┆ ---       ┆ ---        │\n",
       "│ str ┆ list[i64] ┆ list[f64]  │\n",
       "╞═════╪═══════════╪════════════╡\n",
       "│ B   ┆ [4, 10]   ┆ [0.2, 0.5] │\n",
       "│ C   ┆ [6, 12]   ┆ [0.3, 0.6] │\n",
       "└─────┴───────────┴────────────┘"
      ]
     },
     "execution_count": 33,
     "metadata": {},
     "output_type": "execute_result"
    }
   ],
   "source": [
    "df.group_by('key').all().filter(pl.col('key')!=\"A\")"
   ]
  },
  {
   "cell_type": "code",
   "execution_count": 34,
   "metadata": {},
   "outputs": [
    {
     "data": {
      "text/html": [
       "<div><style>\n",
       ".dataframe > thead > tr,\n",
       ".dataframe > tbody > tr {\n",
       "  text-align: right;\n",
       "  white-space: pre-wrap;\n",
       "}\n",
       "</style>\n",
       "<small>shape: (2, 3)</small><table border=\"1\" class=\"dataframe\"><thead><tr><th>key</th><th>data1</th><th>data2</th></tr><tr><td>str</td><td>list[i64]</td><td>list[f64]</td></tr></thead><tbody><tr><td>&quot;B&quot;</td><td>[4, 10]</td><td>[0.2, 0.5]</td></tr><tr><td>&quot;C&quot;</td><td>[6, 12]</td><td>[0.3, 0.6]</td></tr></tbody></table></div>"
      ],
      "text/plain": [
       "shape: (2, 3)\n",
       "┌─────┬───────────┬────────────┐\n",
       "│ key ┆ data1     ┆ data2      │\n",
       "│ --- ┆ ---       ┆ ---        │\n",
       "│ str ┆ list[i64] ┆ list[f64]  │\n",
       "╞═════╪═══════════╪════════════╡\n",
       "│ B   ┆ [4, 10]   ┆ [0.2, 0.5] │\n",
       "│ C   ┆ [6, 12]   ┆ [0.3, 0.6] │\n",
       "└─────┴───────────┴────────────┘"
      ]
     },
     "execution_count": 34,
     "metadata": {},
     "output_type": "execute_result"
    }
   ],
   "source": [
    "df.filter(pl.col('key')!=\"A\").group_by('key').all()"
   ]
  },
  {
   "cell_type": "markdown",
   "metadata": {},
   "source": [
    "### We can access the groups"
   ]
  },
  {
   "cell_type": "code",
   "execution_count": 19,
   "metadata": {},
   "outputs": [
    {
     "name": "stdout",
     "output_type": "stream",
     "text": [
      "('A',)\n",
      "shape: (2, 3)\n",
      "┌─────┬───────┬───────┐\n",
      "│ key ┆ data1 ┆ data2 │\n",
      "│ --- ┆ ---   ┆ ---   │\n",
      "│ str ┆ i64   ┆ f64   │\n",
      "╞═════╪═══════╪═══════╡\n",
      "│ A   ┆ 2     ┆ 0.1   │\n",
      "│ A   ┆ 8     ┆ 0.4   │\n",
      "└─────┴───────┴───────┘\n",
      "('B',)\n",
      "shape: (2, 3)\n",
      "┌─────┬───────┬───────┐\n",
      "│ key ┆ data1 ┆ data2 │\n",
      "│ --- ┆ ---   ┆ ---   │\n",
      "│ str ┆ i64   ┆ f64   │\n",
      "╞═════╪═══════╪═══════╡\n",
      "│ B   ┆ 4     ┆ 0.2   │\n",
      "│ B   ┆ 10    ┆ 0.5   │\n",
      "└─────┴───────┴───────┘\n",
      "('C',)\n",
      "shape: (2, 3)\n",
      "┌─────┬───────┬───────┐\n",
      "│ key ┆ data1 ┆ data2 │\n",
      "│ --- ┆ ---   ┆ ---   │\n",
      "│ str ┆ i64   ┆ f64   │\n",
      "╞═════╪═══════╪═══════╡\n",
      "│ C   ┆ 6     ┆ 0.3   │\n",
      "│ C   ┆ 12    ┆ 0.6   │\n",
      "└─────┴───────┴───────┘\n"
     ]
    }
   ],
   "source": [
    "for name, data in df.group_by(\"key\"):  \n",
    "    print(name)\n",
    "    print(data)"
   ]
  },
  {
   "cell_type": "markdown",
   "metadata": {},
   "source": [
    "---\n",
    "\n",
    "## Aggregate\n",
    "\n",
    "\n",
    "There are a few different variations of the aggregate syntax. The excellent blog post \n",
    "[Minimally Sufficient Pandas](https://medium.com/dunder-data/minimally-sufficient-pandas-a8e67f2a2428) \n",
    "by Ted Petrou talks about the trade-offs. Later I will show you a shortcut method, but in general I try to follow his suggestions for preferred syntax.\n",
    "\n",
    "- `.agg()` is just short for `.aggregate()` and is fine to use\n",
    "- **The aggregate method returns a DataFrame with a single combined row for each group**\n",
    "- You can specify multiple statistical functions at once with a list\n",
    "\n",
    "Some [descriptive statistics are built into Pandas](https://pandas.pydata.org/pandas-docs/stable/user_guide/basics.html#descriptive-statistics) and it's easy to import\n",
    "[NumPy](https://numpy.org/) (Numerical Python) and use functions from there, too."
   ]
  },
  {
   "cell_type": "markdown",
   "metadata": {},
   "source": [
    "## Preferred aggregate syntax\n",
    "\n",
    "Because in many cases we have multiple data columns, **the preferred aggregation syntax specifies both the name of the data column and the function(s) to be applied in a dictionary format**\n",
    "\n",
    "`df.groupby('grouping column').agg({'aggregating column':'aggregating function'})`"
   ]
  },
  {
   "cell_type": "code",
   "execution_count": 20,
   "metadata": {},
   "outputs": [
    {
     "data": {
      "text/html": [
       "<div><style>\n",
       ".dataframe > thead > tr,\n",
       ".dataframe > tbody > tr {\n",
       "  text-align: right;\n",
       "  white-space: pre-wrap;\n",
       "}\n",
       "</style>\n",
       "<small>shape: (3, 2)</small><table border=\"1\" class=\"dataframe\"><thead><tr><th>key</th><th>data1</th></tr><tr><td>str</td><td>i64</td></tr></thead><tbody><tr><td>&quot;A&quot;</td><td>10</td></tr><tr><td>&quot;B&quot;</td><td>14</td></tr><tr><td>&quot;C&quot;</td><td>18</td></tr></tbody></table></div>"
      ],
      "text/plain": [
       "shape: (3, 2)\n",
       "┌─────┬───────┐\n",
       "│ key ┆ data1 │\n",
       "│ --- ┆ ---   │\n",
       "│ str ┆ i64   │\n",
       "╞═════╪═══════╡\n",
       "│ A   ┆ 10    │\n",
       "│ B   ┆ 14    │\n",
       "│ C   ┆ 18    │\n",
       "└─────┴───────┘"
      ]
     },
     "execution_count": 20,
     "metadata": {},
     "output_type": "execute_result"
    }
   ],
   "source": [
    "df.group_by('key').agg(pl.col('data1').sum())"
   ]
  },
  {
   "cell_type": "markdown",
   "metadata": {},
   "source": [
    "### Easy to apply different functions to different columns\n",
    "\n",
    "Notice we don't retain any record of the applied function with only one function per column..."
   ]
  },
  {
   "cell_type": "code",
   "execution_count": 23,
   "metadata": {},
   "outputs": [
    {
     "data": {
      "text/html": [
       "<div><style>\n",
       ".dataframe > thead > tr,\n",
       ".dataframe > tbody > tr {\n",
       "  text-align: right;\n",
       "  white-space: pre-wrap;\n",
       "}\n",
       "</style>\n",
       "<small>shape: (3, 3)</small><table border=\"1\" class=\"dataframe\"><thead><tr><th>key</th><th>data1sum</th><th>data2</th></tr><tr><td>str</td><td>i64</td><td>f64</td></tr></thead><tbody><tr><td>&quot;A&quot;</td><td>10</td><td>0.25</td></tr><tr><td>&quot;C&quot;</td><td>18</td><td>0.45</td></tr><tr><td>&quot;B&quot;</td><td>14</td><td>0.35</td></tr></tbody></table></div>"
      ],
      "text/plain": [
       "shape: (3, 3)\n",
       "┌─────┬──────────┬───────┐\n",
       "│ key ┆ data1sum ┆ data2 │\n",
       "│ --- ┆ ---      ┆ ---   │\n",
       "│ str ┆ i64      ┆ f64   │\n",
       "╞═════╪══════════╪═══════╡\n",
       "│ A   ┆ 10       ┆ 0.25  │\n",
       "│ C   ┆ 18       ┆ 0.45  │\n",
       "│ B   ┆ 14       ┆ 0.35  │\n",
       "└─────┴──────────┴───────┘"
      ]
     },
     "execution_count": 23,
     "metadata": {},
     "output_type": "execute_result"
    }
   ],
   "source": [
    "df.group_by('key').agg(pl.col('data1').sum().alias('data1sum'),\n",
    "                     pl.col('data2').mean())"
   ]
  },
  {
   "cell_type": "markdown",
   "metadata": {},
   "source": [
    "### Multiple aggregation functions list results in multi-index columns\n",
    "\n",
    "- You can supply a list of functions\n",
    "- The multi-index combines the original column name with the aggregation function that was applied"
   ]
  },
  {
   "cell_type": "raw",
   "metadata": {},
   "source": [
    "sum_mean = df.groupby('key').agg({'data1':['sum','mean']})\n",
    "sum_mean"
   ]
  },
  {
   "cell_type": "markdown",
   "metadata": {},
   "source": [
    "### Multi-index is selected by a tuple\n",
    "\n",
    "We'll cover this further in Groupy_NCexploration. It's the same situation if a groupby() returns a multi-index in the rows."
   ]
  },
  {
   "cell_type": "raw",
   "metadata": {},
   "source": [
    "sum_mean.loc[:,('data1','sum')]"
   ]
  },
  {
   "cell_type": "markdown",
   "metadata": {},
   "source": [
    "### Just the highest level gets you all underneath\n",
    "\n",
    "*You can't just use the lower level, or you'll get an error*"
   ]
  },
  {
   "cell_type": "raw",
   "metadata": {},
   "source": [
    "sum_mean.loc[:,('data1')]"
   ]
  },
  {
   "cell_type": "markdown",
   "metadata": {},
   "source": [
    "---\n",
    "\n",
    "#### This \"function name only\" shortcut syntax is not recommended\n",
    "\n",
    "But you may see it around, and it does work fine for a quick result. The aggregation function is applied to all the numeric columns."
   ]
  },
  {
   "cell_type": "raw",
   "metadata": {},
   "source": [
    "df.groupby('key').agg('sum')"
   ]
  },
  {
   "cell_type": "raw",
   "metadata": {},
   "source": [
    "df.groupby('key').agg(['sum','mean'])"
   ]
  },
  {
   "cell_type": "markdown",
   "metadata": {},
   "source": [
    "---\n",
    "\n",
    "**To try the exercise below, select this cell and from the Jupyter menus choose**\n",
    "\n",
    "`Run -> Run All Above Selected Cell`"
   ]
  },
  {
   "cell_type": "markdown",
   "metadata": {},
   "source": [
    "## EXERCISE\n",
    "\n",
    "**Use the preferred syntax to find the minimum and maximum simultaneously on only the \"data2\" column of `df` within the \"key\" groups**\n",
    "\n",
    "*Note: Type instead of using copy/paste for better retention*"
   ]
  },
  {
   "cell_type": "code",
   "execution_count": null,
   "metadata": {},
   "outputs": [],
   "source": []
  },
  {
   "cell_type": "markdown",
   "metadata": {},
   "source": [
    "*Expected output*\n",
    "\n",
    "<img src='images/data2_max_min.png'>"
   ]
  },
  {
   "cell_type": "markdown",
   "metadata": {},
   "source": [
    "---\n",
    "\n",
    "## Transform\n",
    "\n",
    "**You'll probably use aggregation more often, but it's important to know how to transform.** \n",
    "\n",
    "- Applies a function to each of the groups\n",
    "- Only a single function is allowed – it will be applied to all the columns\n",
    "- **Doesn't change the number of rows from the original!**\n",
    "- *Notice that we lost the 'key' column, but we retain the original Index!*"
   ]
  },
  {
   "cell_type": "raw",
   "metadata": {},
   "source": [
    "df.groupby('key').transform('mean')"
   ]
  },
  {
   "cell_type": "code",
   "execution_count": 36,
   "metadata": {},
   "outputs": [
    {
     "data": {
      "text/html": [
       "<div><style>\n",
       ".dataframe > thead > tr,\n",
       ".dataframe > tbody > tr {\n",
       "  text-align: right;\n",
       "  white-space: pre-wrap;\n",
       "}\n",
       "</style>\n",
       "<small>shape: (6, 2)</small><table border=\"1\" class=\"dataframe\"><thead><tr><th>key</th><th>data1</th></tr><tr><td>str</td><td>f64</td></tr></thead><tbody><tr><td>&quot;A&quot;</td><td>5.0</td></tr><tr><td>&quot;B&quot;</td><td>7.0</td></tr><tr><td>&quot;C&quot;</td><td>9.0</td></tr><tr><td>&quot;A&quot;</td><td>5.0</td></tr><tr><td>&quot;B&quot;</td><td>7.0</td></tr><tr><td>&quot;C&quot;</td><td>9.0</td></tr></tbody></table></div>"
      ],
      "text/plain": [
       "shape: (6, 2)\n",
       "┌─────┬───────┐\n",
       "│ key ┆ data1 │\n",
       "│ --- ┆ ---   │\n",
       "│ str ┆ f64   │\n",
       "╞═════╪═══════╡\n",
       "│ A   ┆ 5.0   │\n",
       "│ B   ┆ 7.0   │\n",
       "│ C   ┆ 9.0   │\n",
       "│ A   ┆ 5.0   │\n",
       "│ B   ┆ 7.0   │\n",
       "│ C   ┆ 9.0   │\n",
       "└─────┴───────┘"
      ]
     },
     "execution_count": 36,
     "metadata": {},
     "output_type": "execute_result"
    }
   ],
   "source": [
    "df.select(pl.col('key'),\n",
    "          pl.col('data1').mean().over('key'))"
   ]
  },
  {
   "cell_type": "code",
   "execution_count": 37,
   "metadata": {},
   "outputs": [
    {
     "data": {
      "text/html": [
       "<div><style>\n",
       ".dataframe > thead > tr,\n",
       ".dataframe > tbody > tr {\n",
       "  text-align: right;\n",
       "  white-space: pre-wrap;\n",
       "}\n",
       "</style>\n",
       "<small>shape: (6, 4)</small><table border=\"1\" class=\"dataframe\"><thead><tr><th>key</th><th>data1</th><th>data2</th><th>data1meanOverKey</th></tr><tr><td>str</td><td>i64</td><td>f64</td><td>f64</td></tr></thead><tbody><tr><td>&quot;A&quot;</td><td>2</td><td>0.1</td><td>5.0</td></tr><tr><td>&quot;B&quot;</td><td>4</td><td>0.2</td><td>7.0</td></tr><tr><td>&quot;C&quot;</td><td>6</td><td>0.3</td><td>9.0</td></tr><tr><td>&quot;A&quot;</td><td>8</td><td>0.4</td><td>5.0</td></tr><tr><td>&quot;B&quot;</td><td>10</td><td>0.5</td><td>7.0</td></tr><tr><td>&quot;C&quot;</td><td>12</td><td>0.6</td><td>9.0</td></tr></tbody></table></div>"
      ],
      "text/plain": [
       "shape: (6, 4)\n",
       "┌─────┬───────┬───────┬──────────────────┐\n",
       "│ key ┆ data1 ┆ data2 ┆ data1meanOverKey │\n",
       "│ --- ┆ ---   ┆ ---   ┆ ---              │\n",
       "│ str ┆ i64   ┆ f64   ┆ f64              │\n",
       "╞═════╪═══════╪═══════╪══════════════════╡\n",
       "│ A   ┆ 2     ┆ 0.1   ┆ 5.0              │\n",
       "│ B   ┆ 4     ┆ 0.2   ┆ 7.0              │\n",
       "│ C   ┆ 6     ┆ 0.3   ┆ 9.0              │\n",
       "│ A   ┆ 8     ┆ 0.4   ┆ 5.0              │\n",
       "│ B   ┆ 10    ┆ 0.5   ┆ 7.0              │\n",
       "│ C   ┆ 12    ┆ 0.6   ┆ 9.0              │\n",
       "└─────┴───────┴───────┴──────────────────┘"
      ]
     },
     "execution_count": 37,
     "metadata": {},
     "output_type": "execute_result"
    }
   ],
   "source": [
    "df.with_columns(pl.col('data1').mean().over('key').alias('data1meanOverKey'))"
   ]
  },
  {
   "cell_type": "code",
   "execution_count": 38,
   "metadata": {},
   "outputs": [
    {
     "data": {
      "text/html": [
       "<div><style>\n",
       ".dataframe > thead > tr,\n",
       ".dataframe > tbody > tr {\n",
       "  text-align: right;\n",
       "  white-space: pre-wrap;\n",
       "}\n",
       "</style>\n",
       "<small>shape: (6, 4)</small><table border=\"1\" class=\"dataframe\"><thead><tr><th>key</th><th>data1</th><th>data2</th><th>data1meanOverKey</th></tr><tr><td>str</td><td>i64</td><td>f64</td><td>f64</td></tr></thead><tbody><tr><td>&quot;A&quot;</td><td>2</td><td>0.1</td><td>5.0</td></tr><tr><td>&quot;B&quot;</td><td>4</td><td>0.2</td><td>7.0</td></tr><tr><td>&quot;C&quot;</td><td>6</td><td>0.3</td><td>9.0</td></tr><tr><td>&quot;A&quot;</td><td>8</td><td>0.4</td><td>5.0</td></tr><tr><td>&quot;B&quot;</td><td>10</td><td>0.5</td><td>7.0</td></tr><tr><td>&quot;C&quot;</td><td>12</td><td>0.6</td><td>9.0</td></tr></tbody></table></div>"
      ],
      "text/plain": [
       "shape: (6, 4)\n",
       "┌─────┬───────┬───────┬──────────────────┐\n",
       "│ key ┆ data1 ┆ data2 ┆ data1meanOverKey │\n",
       "│ --- ┆ ---   ┆ ---   ┆ ---              │\n",
       "│ str ┆ i64   ┆ f64   ┆ f64              │\n",
       "╞═════╪═══════╪═══════╪══════════════════╡\n",
       "│ A   ┆ 2     ┆ 0.1   ┆ 5.0              │\n",
       "│ B   ┆ 4     ┆ 0.2   ┆ 7.0              │\n",
       "│ C   ┆ 6     ┆ 0.3   ┆ 9.0              │\n",
       "│ A   ┆ 8     ┆ 0.4   ┆ 5.0              │\n",
       "│ B   ┆ 10    ┆ 0.5   ┆ 7.0              │\n",
       "│ C   ┆ 12    ┆ 0.6   ┆ 9.0              │\n",
       "└─────┴───────┴───────┴──────────────────┘"
      ]
     },
     "execution_count": 38,
     "metadata": {},
     "output_type": "execute_result"
    }
   ],
   "source": [
    "df.with_columns(data1meanOverKey = pl.col('data1').mean().over('key'))"
   ]
  },
  {
   "cell_type": "code",
   "execution_count": 35,
   "metadata": {},
   "outputs": [
    {
     "data": {
      "text/html": [
       "<div><style>\n",
       ".dataframe > thead > tr,\n",
       ".dataframe > tbody > tr {\n",
       "  text-align: right;\n",
       "  white-space: pre-wrap;\n",
       "}\n",
       "</style>\n",
       "<small>shape: (6, 3)</small><table border=\"1\" class=\"dataframe\"><thead><tr><th>key</th><th>data1meanOverKey</th><th>data2</th></tr><tr><td>str</td><td>f64</td><td>f64</td></tr></thead><tbody><tr><td>&quot;A&quot;</td><td>5.0</td><td>0.25</td></tr><tr><td>&quot;B&quot;</td><td>7.0</td><td>0.35</td></tr><tr><td>&quot;C&quot;</td><td>9.0</td><td>0.45</td></tr><tr><td>&quot;A&quot;</td><td>5.0</td><td>0.25</td></tr><tr><td>&quot;B&quot;</td><td>7.0</td><td>0.35</td></tr><tr><td>&quot;C&quot;</td><td>9.0</td><td>0.45</td></tr></tbody></table></div>"
      ],
      "text/plain": [
       "shape: (6, 3)\n",
       "┌─────┬──────────────────┬───────┐\n",
       "│ key ┆ data1meanOverKey ┆ data2 │\n",
       "│ --- ┆ ---              ┆ ---   │\n",
       "│ str ┆ f64              ┆ f64   │\n",
       "╞═════╪══════════════════╪═══════╡\n",
       "│ A   ┆ 5.0              ┆ 0.25  │\n",
       "│ B   ┆ 7.0              ┆ 0.35  │\n",
       "│ C   ┆ 9.0              ┆ 0.45  │\n",
       "│ A   ┆ 5.0              ┆ 0.25  │\n",
       "│ B   ┆ 7.0              ┆ 0.35  │\n",
       "│ C   ┆ 9.0              ┆ 0.45  │\n",
       "└─────┴──────────────────┴───────┘"
      ]
     },
     "execution_count": 35,
     "metadata": {},
     "output_type": "execute_result"
    }
   ],
   "source": [
    "df.select(pl.col('key'),\n",
    "          pl.col('data1').mean().over('key').alias('data1meanOverKey'),\n",
    "          pl.col('data2').mean().over('key'))"
   ]
  },
  {
   "cell_type": "markdown",
   "metadata": {},
   "source": [
    "### Transform a single column\n",
    "\n",
    "More commonly you'll want to operate on a single column so you can compare individuals in that column to the group result.\n",
    "\n",
    "**If you want a single column (Series) out, you have to either**\n",
    "\n",
    "- select a single column from the groupby object to pass to the transform function\n",
    "- select a single column from the transform output\n",
    "\n",
    "**using the standard \"name of column in square brackets\" notation**"
   ]
  },
  {
   "cell_type": "raw",
   "metadata": {},
   "source": [
    "df.groupby('key')['data1'].transform('mean')"
   ]
  },
  {
   "cell_type": "raw",
   "metadata": {},
   "source": [
    "df.groupby('key').transform('mean')['data1']"
   ]
  },
  {
   "cell_type": "code",
   "execution_count": 26,
   "metadata": {},
   "outputs": [
    {
     "data": {
      "text/html": [
       "<div><style>\n",
       ".dataframe > thead > tr,\n",
       ".dataframe > tbody > tr {\n",
       "  text-align: right;\n",
       "  white-space: pre-wrap;\n",
       "}\n",
       "</style>\n",
       "<small>shape: (6, 1)</small><table border=\"1\" class=\"dataframe\"><thead><tr><th>data1</th></tr><tr><td>f64</td></tr></thead><tbody><tr><td>5.0</td></tr><tr><td>7.0</td></tr><tr><td>9.0</td></tr><tr><td>5.0</td></tr><tr><td>7.0</td></tr><tr><td>9.0</td></tr></tbody></table></div>"
      ],
      "text/plain": [
       "shape: (6, 1)\n",
       "┌───────┐\n",
       "│ data1 │\n",
       "│ ---   │\n",
       "│ f64   │\n",
       "╞═══════╡\n",
       "│ 5.0   │\n",
       "│ 7.0   │\n",
       "│ 9.0   │\n",
       "│ 5.0   │\n",
       "│ 7.0   │\n",
       "│ 9.0   │\n",
       "└───────┘"
      ]
     },
     "execution_count": 26,
     "metadata": {},
     "output_type": "execute_result"
    }
   ],
   "source": [
    "df.select(pl.col('data1').mean().over('key'))"
   ]
  },
  {
   "cell_type": "markdown",
   "metadata": {},
   "source": [
    "### Store the tranform results so we can use it in a comparison\n",
    "\n",
    "- Here we're just storing the result in a new variable\n",
    "- We could alternatively store the transform results as a new column in the original DataFrame if we wanted to, say, color points in a plot"
   ]
  },
  {
   "cell_type": "raw",
   "metadata": {},
   "source": [
    "data1_mean = df.groupby('key')['data1'].transform('mean')\n",
    "data1_mean"
   ]
  },
  {
   "cell_type": "markdown",
   "metadata": {},
   "source": [
    "### Return the rows that are above the group mean\n",
    "\n",
    "Just so you can picture what's going on, let's look at the comparison first by itself, which returns a boolean Series"
   ]
  },
  {
   "cell_type": "raw",
   "metadata": {},
   "source": [
    "df['data1'] > data1_mean"
   ]
  },
  {
   "cell_type": "markdown",
   "metadata": {},
   "source": [
    "#### Now let's use the result to only return the rows that evaluate to True"
   ]
  },
  {
   "cell_type": "raw",
   "metadata": {},
   "source": [
    "df.loc[df['data1'] > data1_mean, :]"
   ]
  },
  {
   "cell_type": "markdown",
   "metadata": {},
   "source": [
    "#### Or we could have just done all of the operations at once"
   ]
  },
  {
   "cell_type": "raw",
   "metadata": {},
   "source": [
    "df.loc[df['data1'] > df.groupby('key')['data1'].transform('mean'), :]"
   ]
  },
  {
   "cell_type": "code",
   "execution_count": 27,
   "metadata": {},
   "outputs": [
    {
     "data": {
      "text/html": [
       "<div><style>\n",
       ".dataframe > thead > tr,\n",
       ".dataframe > tbody > tr {\n",
       "  text-align: right;\n",
       "  white-space: pre-wrap;\n",
       "}\n",
       "</style>\n",
       "<small>shape: (3, 3)</small><table border=\"1\" class=\"dataframe\"><thead><tr><th>key</th><th>data1</th><th>data2</th></tr><tr><td>str</td><td>i64</td><td>f64</td></tr></thead><tbody><tr><td>&quot;A&quot;</td><td>8</td><td>0.4</td></tr><tr><td>&quot;B&quot;</td><td>10</td><td>0.5</td></tr><tr><td>&quot;C&quot;</td><td>12</td><td>0.6</td></tr></tbody></table></div>"
      ],
      "text/plain": [
       "shape: (3, 3)\n",
       "┌─────┬───────┬───────┐\n",
       "│ key ┆ data1 ┆ data2 │\n",
       "│ --- ┆ ---   ┆ ---   │\n",
       "│ str ┆ i64   ┆ f64   │\n",
       "╞═════╪═══════╪═══════╡\n",
       "│ A   ┆ 8     ┆ 0.4   │\n",
       "│ B   ┆ 10    ┆ 0.5   │\n",
       "│ C   ┆ 12    ┆ 0.6   │\n",
       "└─────┴───────┴───────┘"
      ]
     },
     "execution_count": 27,
     "metadata": {},
     "output_type": "execute_result"
    }
   ],
   "source": [
    "df.filter((pl.col('data1') > pl.col('data1').mean().over('key')))"
   ]
  },
  {
   "cell_type": "markdown",
   "metadata": {},
   "source": [
    "---\n",
    "\n",
    "**To try the exercise below, select this cell and from the Jupyter menus choose**\n",
    "\n",
    "`Run -> Run All Above Selected Cell`"
   ]
  },
  {
   "cell_type": "markdown",
   "metadata": {},
   "source": [
    "## EXERCISE\n",
    "\n",
    "**Transform the \"key\" group \"data2\" minimums and store in a new `data2_min` variable**\n",
    "\n",
    "*Note: Type instead of using copy/paste for better retention*"
   ]
  },
  {
   "cell_type": "code",
   "execution_count": null,
   "metadata": {},
   "outputs": [],
   "source": []
  },
  {
   "cell_type": "markdown",
   "metadata": {},
   "source": [
    "*Expected output*\n",
    "\n",
    "<img src='images/data2_min_series.png'>"
   ]
  },
  {
   "cell_type": "markdown",
   "metadata": {},
   "source": [
    "## EXERCISE\n",
    "\n",
    "**Return the rows where data2 value == data2_min**"
   ]
  },
  {
   "cell_type": "code",
   "execution_count": null,
   "metadata": {},
   "outputs": [],
   "source": []
  },
  {
   "cell_type": "markdown",
   "metadata": {},
   "source": [
    "*Expected output*\n",
    "\n",
    "<img src='images/data2_equals_min_rows.png'>"
   ]
  },
  {
   "cell_type": "markdown",
   "metadata": {},
   "source": [
    "---"
   ]
  },
  {
   "cell_type": "markdown",
   "metadata": {},
   "source": [
    "## Filter – remove groups based on conditional function results\n",
    "\n",
    "Just a quick example of filtering after groupby. Here's a reminder of the \"key\" group means."
   ]
  },
  {
   "cell_type": "code",
   "execution_count": 20,
   "metadata": {},
   "outputs": [
    {
     "data": {
      "text/html": [
       "<div>\n",
       "<style scoped>\n",
       "    .dataframe tbody tr th:only-of-type {\n",
       "        vertical-align: middle;\n",
       "    }\n",
       "\n",
       "    .dataframe tbody tr th {\n",
       "        vertical-align: top;\n",
       "    }\n",
       "\n",
       "    .dataframe thead th {\n",
       "        text-align: right;\n",
       "    }\n",
       "</style>\n",
       "<table border=\"1\" class=\"dataframe\">\n",
       "  <thead>\n",
       "    <tr style=\"text-align: right;\">\n",
       "      <th></th>\n",
       "      <th>data2</th>\n",
       "    </tr>\n",
       "    <tr>\n",
       "      <th>key</th>\n",
       "      <th></th>\n",
       "    </tr>\n",
       "  </thead>\n",
       "  <tbody>\n",
       "    <tr>\n",
       "      <th>A</th>\n",
       "      <td>0.25</td>\n",
       "    </tr>\n",
       "    <tr>\n",
       "      <th>B</th>\n",
       "      <td>0.35</td>\n",
       "    </tr>\n",
       "    <tr>\n",
       "      <th>C</th>\n",
       "      <td>0.45</td>\n",
       "    </tr>\n",
       "  </tbody>\n",
       "</table>\n",
       "</div>"
      ],
      "text/plain": [
       "     data2\n",
       "key       \n",
       "A     0.25\n",
       "B     0.35\n",
       "C     0.45"
      ]
     },
     "execution_count": 20,
     "metadata": {},
     "output_type": "execute_result"
    }
   ],
   "source": [
    "df.groupby('key').agg({'data2':'mean'})"
   ]
  },
  {
   "cell_type": "markdown",
   "metadata": {},
   "source": [
    "### Need to supply a function that operates on each group's DataFrame\n",
    "\n",
    "- The groupby will happen, and then each group will have this function applied to its DataFrame\n",
    "- **You are defining what should pass through the filter!**\n",
    "- You get back the original DataFrame only including the rows that made it through the filter\n",
    "\n",
    "#### Using a lambda function in the filter\n",
    "\n",
    "I always find lambda functions a little awkward, but it is handy to be able to define a function in-place. `x` will represent a DataFrame after the groupby operation in this case."
   ]
  },
  {
   "cell_type": "raw",
   "metadata": {},
   "source": [
    "df.groupby('key').filter(lambda x: x['data2'].mean() > 0.3)"
   ]
  },
  {
   "cell_type": "code",
   "execution_count": 42,
   "metadata": {},
   "outputs": [
    {
     "data": {
      "text/html": [
       "<div><style>\n",
       ".dataframe > thead > tr,\n",
       ".dataframe > tbody > tr {\n",
       "  text-align: right;\n",
       "  white-space: pre-wrap;\n",
       "}\n",
       "</style>\n",
       "<small>shape: (4, 4)</small><table border=\"1\" class=\"dataframe\"><thead><tr><th>key</th><th>mean_value</th><th>data1</th><th>data2</th></tr><tr><td>str</td><td>f64</td><td>i64</td><td>f64</td></tr></thead><tbody><tr><td>&quot;B&quot;</td><td>0.35</td><td>4</td><td>0.2</td></tr><tr><td>&quot;C&quot;</td><td>0.45</td><td>6</td><td>0.3</td></tr><tr><td>&quot;B&quot;</td><td>0.35</td><td>10</td><td>0.5</td></tr><tr><td>&quot;C&quot;</td><td>0.45</td><td>12</td><td>0.6</td></tr></tbody></table></div>"
      ],
      "text/plain": [
       "shape: (4, 4)\n",
       "┌─────┬────────────┬───────┬───────┐\n",
       "│ key ┆ mean_value ┆ data1 ┆ data2 │\n",
       "│ --- ┆ ---        ┆ ---   ┆ ---   │\n",
       "│ str ┆ f64        ┆ i64   ┆ f64   │\n",
       "╞═════╪════════════╪═══════╪═══════╡\n",
       "│ B   ┆ 0.35       ┆ 4     ┆ 0.2   │\n",
       "│ C   ┆ 0.45       ┆ 6     ┆ 0.3   │\n",
       "│ B   ┆ 0.35       ┆ 10    ┆ 0.5   │\n",
       "│ C   ┆ 0.45       ┆ 12    ┆ 0.6   │\n",
       "└─────┴────────────┴───────┴───────┘"
      ]
     },
     "execution_count": 42,
     "metadata": {},
     "output_type": "execute_result"
    }
   ],
   "source": [
    "(df.group_by(\"key\")\n",
    "    .agg(pl.col(\"data2\").mean().alias(\"mean_value\"))\n",
    "    .filter(pl.col(\"mean_value\") > 0.3)\n",
    "    .join(df, on=\"key\")\n",
    ")"
   ]
  },
  {
   "cell_type": "markdown",
   "metadata": {},
   "source": [
    "#### Defining the filter function separately\n",
    "\n",
    "The alternative to using a lambda function would have been to first define a function that takes a DataFrame and returns a boolean True/False value, and then pass it to the `.filter()` method"
   ]
  },
  {
   "cell_type": "raw",
   "metadata": {},
   "source": [
    "def pass_high_mean(x):\n",
    "    return x['data2'].mean() > 0.3\n",
    "\n",
    "df.groupby('key').filter(pass_high_mean)"
   ]
  },
  {
   "cell_type": "code",
   "execution_count": null,
   "metadata": {},
   "outputs": [],
   "source": []
  }
 ],
 "metadata": {
  "kernelspec": {
   "display_name": "Python 3 (ipykernel)",
   "language": "python",
   "name": "python3"
  },
  "language_info": {
   "codemirror_mode": {
    "name": "ipython",
    "version": 3
   },
   "file_extension": ".py",
   "mimetype": "text/x-python",
   "name": "python",
   "nbconvert_exporter": "python",
   "pygments_lexer": "ipython3",
   "version": "3.13.1"
  }
 },
 "nbformat": 4,
 "nbformat_minor": 4
}
