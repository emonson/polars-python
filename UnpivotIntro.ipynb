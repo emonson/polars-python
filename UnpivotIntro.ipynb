{
 "cells": [
  {
   "cell_type": "markdown",
   "metadata": {
    "slideshow": {
     "slide_type": "slide"
    }
   },
   "source": [
    "## Messy situation: Column headers are values, not variable names\n",
    "\n",
    "***This is one of the more common messy data situations, so also one of the more common manipulations you need to get data into a tidy form!***\n",
    "\n",
    "For example, many government data sets are in a format which is **good for visual lookup, but not for analysis and exploration**, with measurements in various years spread across multiple columns."
   ]
  },
  {
   "cell_type": "markdown",
   "metadata": {},
   "source": [
    "---\n",
    "\n",
    "*To preserve the mystery, select from the notebook menus*\n",
    "\n",
    "`Edit -> Clear All Outputs`\n",
    "\n",
    "---"
   ]
  },
  {
   "cell_type": "markdown",
   "metadata": {
    "slideshow": {
     "slide_type": "slide"
    }
   },
   "source": [
    "### A toy example – years as column headers\n",
    "\n",
    "Let's define a simple, small DataFrame with that structure:"
   ]
  },
  {
   "cell_type": "code",
   "execution_count": 6,
   "metadata": {},
   "outputs": [],
   "source": [
    "import polars as pl\n",
    "import polars.selectors as cs\n"
   ]
  },
  {
   "cell_type": "code",
   "execution_count": 2,
   "metadata": {},
   "outputs": [
    {
     "data": {
      "text/html": [
       "<div><style>\n",
       ".dataframe > thead > tr,\n",
       ".dataframe > tbody > tr {\n",
       "  text-align: right;\n",
       "  white-space: pre-wrap;\n",
       "}\n",
       "</style>\n",
       "<small>shape: (3, 4)</small><table border=\"1\" class=\"dataframe\"><thead><tr><th>state</th><th>2009</th><th>2010</th><th>2011</th></tr><tr><td>str</td><td>i64</td><td>i64</td><td>i64</td></tr></thead><tbody><tr><td>&quot;Maine&quot;</td><td>1</td><td>4</td><td>7</td></tr><tr><td>&quot;Alaska&quot;</td><td>2</td><td>5</td><td>8</td></tr><tr><td>&quot;Ohio&quot;</td><td>3</td><td>6</td><td>9</td></tr></tbody></table></div>"
      ],
      "text/plain": [
       "shape: (3, 4)\n",
       "┌────────┬──────┬──────┬──────┐\n",
       "│ state  ┆ 2009 ┆ 2010 ┆ 2011 │\n",
       "│ ---    ┆ ---  ┆ ---  ┆ ---  │\n",
       "│ str    ┆ i64  ┆ i64  ┆ i64  │\n",
       "╞════════╪══════╪══════╪══════╡\n",
       "│ Maine  ┆ 1    ┆ 4    ┆ 7    │\n",
       "│ Alaska ┆ 2    ┆ 5    ┆ 8    │\n",
       "│ Ohio   ┆ 3    ┆ 6    ┆ 9    │\n",
       "└────────┴──────┴──────┴──────┘"
      ]
     },
     "execution_count": 2,
     "metadata": {},
     "output_type": "execute_result"
    }
   ],
   "source": [
    "df = pl.DataFrame({'state':['Maine','Alaska','Ohio'],\n",
    "                  '2009':[1,2,3],\n",
    "                  '2010':[4,5,6],\n",
    "                  '2011':[7,8,9]})\n",
    "df"
   ]
  },
  {
   "cell_type": "markdown",
   "metadata": {
    "slideshow": {
     "slide_type": "slide"
    }
   },
   "source": [
    "## Transforming from *wide* into *tall* format\n",
    "\n",
    "The problems with this format are \n",
    "\n",
    "- **The column headers are really a Dimension that should be in its own *Year* column**\n",
    "- **The values, spread across the multiple rows and columns in the body of the table, are a Measure that should be in a single column.**\n",
    "\n",
    "Confusingly, every language seems to have its own term for this process / transformation:\n",
    "\n",
    "- **In Polars you do an \"unpivot\"**\n",
    "- In Pandas you do a \"melt\"\n",
    "- In the R `tidyr` package this is a \"gather\"\n",
    "- In OpenRefine it's a \"Transpose->Transpose cells across columns into rows...\" operation\n",
    "- In Tableau this is called a \"Pivot\" (which is the most confusing one)\n",
    "- Many call this process \"un-pivoting\", since a *Pivot Table* in Excel (and Pandas, actually) converts data in the opposite direction, from the *tall* format into *wide*. \n"
   ]
  },
  {
   "cell_type": "markdown",
   "metadata": {},
   "source": [
    "### To `.unpivot()` you minimally need to specify the columns that are going to be unpivoted\n",
    "\n",
    "**If you don't want to keep any ID columns**, and just melt a few, you can just specify the value columns to melt.\n",
    "\n",
    "Since this is the default argument you can choose to leave out the `on=`, but it's not a bad idea in your code to spell this out explicitly. "
   ]
  },
  {
   "cell_type": "code",
   "execution_count": 8,
   "metadata": {},
   "outputs": [
    {
     "data": {
      "text/html": [
       "<div><style>\n",
       ".dataframe > thead > tr,\n",
       ".dataframe > tbody > tr {\n",
       "  text-align: right;\n",
       "  white-space: pre-wrap;\n",
       "}\n",
       "</style>\n",
       "<small>shape: (9, 2)</small><table border=\"1\" class=\"dataframe\"><thead><tr><th>variable</th><th>value</th></tr><tr><td>str</td><td>i64</td></tr></thead><tbody><tr><td>&quot;2009&quot;</td><td>1</td></tr><tr><td>&quot;2009&quot;</td><td>2</td></tr><tr><td>&quot;2009&quot;</td><td>3</td></tr><tr><td>&quot;2010&quot;</td><td>4</td></tr><tr><td>&quot;2010&quot;</td><td>5</td></tr><tr><td>&quot;2010&quot;</td><td>6</td></tr><tr><td>&quot;2011&quot;</td><td>7</td></tr><tr><td>&quot;2011&quot;</td><td>8</td></tr><tr><td>&quot;2011&quot;</td><td>9</td></tr></tbody></table></div>"
      ],
      "text/plain": [
       "shape: (9, 2)\n",
       "┌──────────┬───────┐\n",
       "│ variable ┆ value │\n",
       "│ ---      ┆ ---   │\n",
       "│ str      ┆ i64   │\n",
       "╞══════════╪═══════╡\n",
       "│ 2009     ┆ 1     │\n",
       "│ 2009     ┆ 2     │\n",
       "│ 2009     ┆ 3     │\n",
       "│ 2010     ┆ 4     │\n",
       "│ 2010     ┆ 5     │\n",
       "│ 2010     ┆ 6     │\n",
       "│ 2011     ┆ 7     │\n",
       "│ 2011     ┆ 8     │\n",
       "│ 2011     ┆ 9     │\n",
       "└──────────┴───────┘"
      ]
     },
     "execution_count": 8,
     "metadata": {},
     "output_type": "execute_result"
    }
   ],
   "source": [
    "df.unpivot(on=['2009','2010','2011'])"
   ]
  },
  {
   "cell_type": "markdown",
   "metadata": {},
   "source": [
    "### You can also specify the columns you're not going to unpivot\n",
    "\n",
    "The argument name for the list of columns that don't get melted is `index`. \n",
    "\n",
    "\n",
    "\n",
    "- The `index` \"identifies\" the rest of the columns in each original row. **They are the IDs, or the key fields, which uniquely identify the rows in the original table.**\n",
    "- All the rest of the columns will get melted / un-pivoted\n",
    "\n",
    "*Notice that*\n",
    "\n",
    "- *the column headers by default end up in a column called \"variable\"*\n",
    "- *the table body values end up in a column called \"value\"*\n",
    "- *the index get repeated for each original column*"
   ]
  },
  {
   "cell_type": "code",
   "execution_count": 4,
   "metadata": {},
   "outputs": [
    {
     "data": {
      "text/html": [
       "<div><style>\n",
       ".dataframe > thead > tr,\n",
       ".dataframe > tbody > tr {\n",
       "  text-align: right;\n",
       "  white-space: pre-wrap;\n",
       "}\n",
       "</style>\n",
       "<small>shape: (9, 3)</small><table border=\"1\" class=\"dataframe\"><thead><tr><th>state</th><th>variable</th><th>value</th></tr><tr><td>str</td><td>str</td><td>i64</td></tr></thead><tbody><tr><td>&quot;Maine&quot;</td><td>&quot;2009&quot;</td><td>1</td></tr><tr><td>&quot;Alaska&quot;</td><td>&quot;2009&quot;</td><td>2</td></tr><tr><td>&quot;Ohio&quot;</td><td>&quot;2009&quot;</td><td>3</td></tr><tr><td>&quot;Maine&quot;</td><td>&quot;2010&quot;</td><td>4</td></tr><tr><td>&quot;Alaska&quot;</td><td>&quot;2010&quot;</td><td>5</td></tr><tr><td>&quot;Ohio&quot;</td><td>&quot;2010&quot;</td><td>6</td></tr><tr><td>&quot;Maine&quot;</td><td>&quot;2011&quot;</td><td>7</td></tr><tr><td>&quot;Alaska&quot;</td><td>&quot;2011&quot;</td><td>8</td></tr><tr><td>&quot;Ohio&quot;</td><td>&quot;2011&quot;</td><td>9</td></tr></tbody></table></div>"
      ],
      "text/plain": [
       "shape: (9, 3)\n",
       "┌────────┬──────────┬───────┐\n",
       "│ state  ┆ variable ┆ value │\n",
       "│ ---    ┆ ---      ┆ ---   │\n",
       "│ str    ┆ str      ┆ i64   │\n",
       "╞════════╪══════════╪═══════╡\n",
       "│ Maine  ┆ 2009     ┆ 1     │\n",
       "│ Alaska ┆ 2009     ┆ 2     │\n",
       "│ Ohio   ┆ 2009     ┆ 3     │\n",
       "│ Maine  ┆ 2010     ┆ 4     │\n",
       "│ Alaska ┆ 2010     ┆ 5     │\n",
       "│ Ohio   ┆ 2010     ┆ 6     │\n",
       "│ Maine  ┆ 2011     ┆ 7     │\n",
       "│ Alaska ┆ 2011     ┆ 8     │\n",
       "│ Ohio   ┆ 2011     ┆ 9     │\n",
       "└────────┴──────────┴───────┘"
      ]
     },
     "execution_count": 4,
     "metadata": {},
     "output_type": "execute_result"
    }
   ],
   "source": [
    "df2 = df.unpivot(index='state')\n",
    "df2"
   ]
  },
  {
   "cell_type": "markdown",
   "metadata": {},
   "source": [
    "## More complete `.unpivot()` statement\n",
    "\n",
    "You can explicitly specify any combination of these:\n",
    "\n",
    "- list of columns that get melted from columns into rows: `on=`\n",
    "- list of columns that don't get melted (and, thus, will get repeated): `index=`\n",
    "- name you want for the column that used to be column headers: `variable_name=`\n",
    "- name you want for the column that used to be the table body values: `value_name=`\n"
   ]
  },
  {
   "cell_type": "code",
   "execution_count": 10,
   "metadata": {},
   "outputs": [
    {
     "data": {
      "text/html": [
       "<div><style>\n",
       ".dataframe > thead > tr,\n",
       ".dataframe > tbody > tr {\n",
       "  text-align: right;\n",
       "  white-space: pre-wrap;\n",
       "}\n",
       "</style>\n",
       "<small>shape: (9, 3)</small><table border=\"1\" class=\"dataframe\"><thead><tr><th>state</th><th>year</th><th>number</th></tr><tr><td>str</td><td>str</td><td>i64</td></tr></thead><tbody><tr><td>&quot;Maine&quot;</td><td>&quot;2009&quot;</td><td>1</td></tr><tr><td>&quot;Alaska&quot;</td><td>&quot;2009&quot;</td><td>2</td></tr><tr><td>&quot;Ohio&quot;</td><td>&quot;2009&quot;</td><td>3</td></tr><tr><td>&quot;Maine&quot;</td><td>&quot;2010&quot;</td><td>4</td></tr><tr><td>&quot;Alaska&quot;</td><td>&quot;2010&quot;</td><td>5</td></tr><tr><td>&quot;Ohio&quot;</td><td>&quot;2010&quot;</td><td>6</td></tr><tr><td>&quot;Maine&quot;</td><td>&quot;2011&quot;</td><td>7</td></tr><tr><td>&quot;Alaska&quot;</td><td>&quot;2011&quot;</td><td>8</td></tr><tr><td>&quot;Ohio&quot;</td><td>&quot;2011&quot;</td><td>9</td></tr></tbody></table></div>"
      ],
      "text/plain": [
       "shape: (9, 3)\n",
       "┌────────┬──────┬────────┐\n",
       "│ state  ┆ year ┆ number │\n",
       "│ ---    ┆ ---  ┆ ---    │\n",
       "│ str    ┆ str  ┆ i64    │\n",
       "╞════════╪══════╪════════╡\n",
       "│ Maine  ┆ 2009 ┆ 1      │\n",
       "│ Alaska ┆ 2009 ┆ 2      │\n",
       "│ Ohio   ┆ 2009 ┆ 3      │\n",
       "│ Maine  ┆ 2010 ┆ 4      │\n",
       "│ Alaska ┆ 2010 ┆ 5      │\n",
       "│ Ohio   ┆ 2010 ┆ 6      │\n",
       "│ Maine  ┆ 2011 ┆ 7      │\n",
       "│ Alaska ┆ 2011 ┆ 8      │\n",
       "│ Ohio   ┆ 2011 ┆ 9      │\n",
       "└────────┴──────┴────────┘"
      ]
     },
     "execution_count": 10,
     "metadata": {},
     "output_type": "execute_result"
    }
   ],
   "source": [
    "df2 = df.unpivot(on=['2009','2010','2011'],\n",
    "                 index=['state'],\n",
    "                 variable_name='year',\n",
    "                 value_name='number')\n",
    "df2"
   ]
  },
  {
   "cell_type": "markdown",
   "metadata": {},
   "source": [
    "---\n",
    "\n",
    "## Sorting a DataFrame\n",
    "\n",
    "You can sort the rows of a DataFrame according to any column, or ordered combination of columns.\n",
    "\n",
    "- Like most DataFrame methods (functions), this returns a DataFrame, it doesn't change anthing in place.\n",
    "- So, **the results won't be saved unless you assign the results of the sort to a variable or run it with the argument `inplace=True`!**\n",
    "- Sometimes this is useful to just inspect a DataFrame in a certain sort order, when you don't really need to save the results.\n",
    "- Notice that the default is to sort in \"ascending\" order, or `ascending=True`. \n",
    "- To get descending, you need to specify `ascending=False`.\n",
    "\n",
    "*Notice that the Index doesn't get regenerated in the new sorted order by default. This is so you can do something like add another column from a Series and things won't be messed up just because you sorted the main DataFrame first!*\n"
   ]
  },
  {
   "cell_type": "code",
   "execution_count": 13,
   "metadata": {},
   "outputs": [
    {
     "data": {
      "text/html": [
       "<div><style>\n",
       ".dataframe > thead > tr,\n",
       ".dataframe > tbody > tr {\n",
       "  text-align: right;\n",
       "  white-space: pre-wrap;\n",
       "}\n",
       "</style>\n",
       "<small>shape: (9, 3)</small><table border=\"1\" class=\"dataframe\"><thead><tr><th>state</th><th>year</th><th>number</th></tr><tr><td>str</td><td>str</td><td>i64</td></tr></thead><tbody><tr><td>&quot;Alaska&quot;</td><td>&quot;2009&quot;</td><td>2</td></tr><tr><td>&quot;Alaska&quot;</td><td>&quot;2010&quot;</td><td>5</td></tr><tr><td>&quot;Alaska&quot;</td><td>&quot;2011&quot;</td><td>8</td></tr><tr><td>&quot;Maine&quot;</td><td>&quot;2009&quot;</td><td>1</td></tr><tr><td>&quot;Maine&quot;</td><td>&quot;2010&quot;</td><td>4</td></tr><tr><td>&quot;Maine&quot;</td><td>&quot;2011&quot;</td><td>7</td></tr><tr><td>&quot;Ohio&quot;</td><td>&quot;2009&quot;</td><td>3</td></tr><tr><td>&quot;Ohio&quot;</td><td>&quot;2010&quot;</td><td>6</td></tr><tr><td>&quot;Ohio&quot;</td><td>&quot;2011&quot;</td><td>9</td></tr></tbody></table></div>"
      ],
      "text/plain": [
       "shape: (9, 3)\n",
       "┌────────┬──────┬────────┐\n",
       "│ state  ┆ year ┆ number │\n",
       "│ ---    ┆ ---  ┆ ---    │\n",
       "│ str    ┆ str  ┆ i64    │\n",
       "╞════════╪══════╪════════╡\n",
       "│ Alaska ┆ 2009 ┆ 2      │\n",
       "│ Alaska ┆ 2010 ┆ 5      │\n",
       "│ Alaska ┆ 2011 ┆ 8      │\n",
       "│ Maine  ┆ 2009 ┆ 1      │\n",
       "│ Maine  ┆ 2010 ┆ 4      │\n",
       "│ Maine  ┆ 2011 ┆ 7      │\n",
       "│ Ohio   ┆ 2009 ┆ 3      │\n",
       "│ Ohio   ┆ 2010 ┆ 6      │\n",
       "│ Ohio   ┆ 2011 ┆ 9      │\n",
       "└────────┴──────┴────────┘"
      ]
     },
     "execution_count": 13,
     "metadata": {},
     "output_type": "execute_result"
    }
   ],
   "source": [
    "df2.sort(by='state')"
   ]
  },
  {
   "cell_type": "markdown",
   "metadata": {},
   "source": [
    "#### See, it displayed `df2` in the sorted order above, but the sort didn't really get saved!"
   ]
  },
  {
   "cell_type": "code",
   "execution_count": 14,
   "metadata": {},
   "outputs": [
    {
     "data": {
      "text/html": [
       "<div><style>\n",
       ".dataframe > thead > tr,\n",
       ".dataframe > tbody > tr {\n",
       "  text-align: right;\n",
       "  white-space: pre-wrap;\n",
       "}\n",
       "</style>\n",
       "<small>shape: (9, 3)</small><table border=\"1\" class=\"dataframe\"><thead><tr><th>state</th><th>year</th><th>number</th></tr><tr><td>str</td><td>str</td><td>i64</td></tr></thead><tbody><tr><td>&quot;Maine&quot;</td><td>&quot;2009&quot;</td><td>1</td></tr><tr><td>&quot;Alaska&quot;</td><td>&quot;2009&quot;</td><td>2</td></tr><tr><td>&quot;Ohio&quot;</td><td>&quot;2009&quot;</td><td>3</td></tr><tr><td>&quot;Maine&quot;</td><td>&quot;2010&quot;</td><td>4</td></tr><tr><td>&quot;Alaska&quot;</td><td>&quot;2010&quot;</td><td>5</td></tr><tr><td>&quot;Ohio&quot;</td><td>&quot;2010&quot;</td><td>6</td></tr><tr><td>&quot;Maine&quot;</td><td>&quot;2011&quot;</td><td>7</td></tr><tr><td>&quot;Alaska&quot;</td><td>&quot;2011&quot;</td><td>8</td></tr><tr><td>&quot;Ohio&quot;</td><td>&quot;2011&quot;</td><td>9</td></tr></tbody></table></div>"
      ],
      "text/plain": [
       "shape: (9, 3)\n",
       "┌────────┬──────┬────────┐\n",
       "│ state  ┆ year ┆ number │\n",
       "│ ---    ┆ ---  ┆ ---    │\n",
       "│ str    ┆ str  ┆ i64    │\n",
       "╞════════╪══════╪════════╡\n",
       "│ Maine  ┆ 2009 ┆ 1      │\n",
       "│ Alaska ┆ 2009 ┆ 2      │\n",
       "│ Ohio   ┆ 2009 ┆ 3      │\n",
       "│ Maine  ┆ 2010 ┆ 4      │\n",
       "│ Alaska ┆ 2010 ┆ 5      │\n",
       "│ Ohio   ┆ 2010 ┆ 6      │\n",
       "│ Maine  ┆ 2011 ┆ 7      │\n",
       "│ Alaska ┆ 2011 ┆ 8      │\n",
       "│ Ohio   ┆ 2011 ┆ 9      │\n",
       "└────────┴──────┴────────┘"
      ]
     },
     "execution_count": 14,
     "metadata": {},
     "output_type": "execute_result"
    }
   ],
   "source": [
    "df2"
   ]
  },
  {
   "cell_type": "markdown",
   "metadata": {},
   "source": [
    "### Sorting rows by multiple columns\n",
    "\n",
    "Here we'll first sort the rows \"descending\" by 'year', and then within each year sort by 'state'. It's not necessary, but it's slightly more readable if you specify the argument name `by`."
   ]
  },
  {
   "cell_type": "code",
   "execution_count": 24,
   "metadata": {},
   "outputs": [
    {
     "data": {
      "text/html": [
       "<div><style>\n",
       ".dataframe > thead > tr,\n",
       ".dataframe > tbody > tr {\n",
       "  text-align: right;\n",
       "  white-space: pre-wrap;\n",
       "}\n",
       "</style>\n",
       "<small>shape: (9, 3)</small><table border=\"1\" class=\"dataframe\"><thead><tr><th>state</th><th>year</th><th>number</th></tr><tr><td>str</td><td>str</td><td>i64</td></tr></thead><tbody><tr><td>&quot;Alaska&quot;</td><td>&quot;2009&quot;</td><td>2</td></tr><tr><td>&quot;Maine&quot;</td><td>&quot;2009&quot;</td><td>1</td></tr><tr><td>&quot;Ohio&quot;</td><td>&quot;2009&quot;</td><td>3</td></tr><tr><td>&quot;Alaska&quot;</td><td>&quot;2010&quot;</td><td>5</td></tr><tr><td>&quot;Maine&quot;</td><td>&quot;2010&quot;</td><td>4</td></tr><tr><td>&quot;Ohio&quot;</td><td>&quot;2010&quot;</td><td>6</td></tr><tr><td>&quot;Alaska&quot;</td><td>&quot;2011&quot;</td><td>8</td></tr><tr><td>&quot;Maine&quot;</td><td>&quot;2011&quot;</td><td>7</td></tr><tr><td>&quot;Ohio&quot;</td><td>&quot;2011&quot;</td><td>9</td></tr></tbody></table></div>"
      ],
      "text/plain": [
       "shape: (9, 3)\n",
       "┌────────┬──────┬────────┐\n",
       "│ state  ┆ year ┆ number │\n",
       "│ ---    ┆ ---  ┆ ---    │\n",
       "│ str    ┆ str  ┆ i64    │\n",
       "╞════════╪══════╪════════╡\n",
       "│ Alaska ┆ 2009 ┆ 2      │\n",
       "│ Maine  ┆ 2009 ┆ 1      │\n",
       "│ Ohio   ┆ 2009 ┆ 3      │\n",
       "│ Alaska ┆ 2010 ┆ 5      │\n",
       "│ Maine  ┆ 2010 ┆ 4      │\n",
       "│ Ohio   ┆ 2010 ┆ 6      │\n",
       "│ Alaska ┆ 2011 ┆ 8      │\n",
       "│ Maine  ┆ 2011 ┆ 7      │\n",
       "│ Ohio   ┆ 2011 ┆ 9      │\n",
       "└────────┴──────┴────────┘"
      ]
     },
     "execution_count": 24,
     "metadata": {},
     "output_type": "execute_result"
    }
   ],
   "source": [
    "df2 = df2.sort(by=['year','state'], descending=False)\n",
    "df2"
   ]
  },
  {
   "cell_type": "markdown",
   "metadata": {},
   "source": [
    "#### `descending` can also take a list the same length as `by`"
   ]
  },
  {
   "cell_type": "code",
   "execution_count": 18,
   "metadata": {},
   "outputs": [
    {
     "data": {
      "text/html": [
       "<div><style>\n",
       ".dataframe > thead > tr,\n",
       ".dataframe > tbody > tr {\n",
       "  text-align: right;\n",
       "  white-space: pre-wrap;\n",
       "}\n",
       "</style>\n",
       "<small>shape: (9, 3)</small><table border=\"1\" class=\"dataframe\"><thead><tr><th>state</th><th>year</th><th>number</th></tr><tr><td>str</td><td>str</td><td>i64</td></tr></thead><tbody><tr><td>&quot;Ohio&quot;</td><td>&quot;2009&quot;</td><td>3</td></tr><tr><td>&quot;Maine&quot;</td><td>&quot;2009&quot;</td><td>1</td></tr><tr><td>&quot;Alaska&quot;</td><td>&quot;2009&quot;</td><td>2</td></tr><tr><td>&quot;Ohio&quot;</td><td>&quot;2010&quot;</td><td>6</td></tr><tr><td>&quot;Maine&quot;</td><td>&quot;2010&quot;</td><td>4</td></tr><tr><td>&quot;Alaska&quot;</td><td>&quot;2010&quot;</td><td>5</td></tr><tr><td>&quot;Ohio&quot;</td><td>&quot;2011&quot;</td><td>9</td></tr><tr><td>&quot;Maine&quot;</td><td>&quot;2011&quot;</td><td>7</td></tr><tr><td>&quot;Alaska&quot;</td><td>&quot;2011&quot;</td><td>8</td></tr></tbody></table></div>"
      ],
      "text/plain": [
       "shape: (9, 3)\n",
       "┌────────┬──────┬────────┐\n",
       "│ state  ┆ year ┆ number │\n",
       "│ ---    ┆ ---  ┆ ---    │\n",
       "│ str    ┆ str  ┆ i64    │\n",
       "╞════════╪══════╪════════╡\n",
       "│ Ohio   ┆ 2009 ┆ 3      │\n",
       "│ Maine  ┆ 2009 ┆ 1      │\n",
       "│ Alaska ┆ 2009 ┆ 2      │\n",
       "│ Ohio   ┆ 2010 ┆ 6      │\n",
       "│ Maine  ┆ 2010 ┆ 4      │\n",
       "│ Alaska ┆ 2010 ┆ 5      │\n",
       "│ Ohio   ┆ 2011 ┆ 9      │\n",
       "│ Maine  ┆ 2011 ┆ 7      │\n",
       "│ Alaska ┆ 2011 ┆ 8      │\n",
       "└────────┴──────┴────────┘"
      ]
     },
     "execution_count": 18,
     "metadata": {},
     "output_type": "execute_result"
    }
   ],
   "source": [
    "df2 = df2.sort(by=['year','state'], descending=[False,True])\n",
    "df2"
   ]
  },
  {
   "cell_type": "markdown",
   "metadata": {},
   "source": [
    "---\n",
    "\n",
    "## Chaining commands\n",
    "\n",
    "It's more efficient to chain commands together instead of creating intermediate variables when you don't really need them.\n",
    "\n",
    "I first learned about this in the article [4 Pandas Anti-Patterns](https://www.aidancooper.co.uk/pandas-anti-patterns/) by Aidan Cooper. He references and credits Matt Harrison's excellent book [Effective Pandas](https://store.metasnake.com/effective-pandas-book?xgtab&). *(Chapter 35 covers how to debug chained commands.)*"
   ]
  },
  {
   "cell_type": "markdown",
   "metadata": {},
   "source": [
    "### Melt plus sort all in one command\n",
    "\n",
    "One of the keys to chaining in a readable way is that the Python interpreter doesn't care if you break lines or have consistent indentation for things in parentheses."
   ]
  },
  {
   "cell_type": "code",
   "execution_count": 26,
   "metadata": {},
   "outputs": [
    {
     "data": {
      "text/html": [
       "<div><style>\n",
       ".dataframe > thead > tr,\n",
       ".dataframe > tbody > tr {\n",
       "  text-align: right;\n",
       "  white-space: pre-wrap;\n",
       "}\n",
       "</style>\n",
       "<small>shape: (9, 3)</small><table border=\"1\" class=\"dataframe\"><thead><tr><th>state</th><th>year</th><th>number</th></tr><tr><td>str</td><td>str</td><td>i64</td></tr></thead><tbody><tr><td>&quot;Alaska&quot;</td><td>&quot;2009&quot;</td><td>2</td></tr><tr><td>&quot;Maine&quot;</td><td>&quot;2009&quot;</td><td>1</td></tr><tr><td>&quot;Ohio&quot;</td><td>&quot;2009&quot;</td><td>3</td></tr><tr><td>&quot;Alaska&quot;</td><td>&quot;2010&quot;</td><td>5</td></tr><tr><td>&quot;Maine&quot;</td><td>&quot;2010&quot;</td><td>4</td></tr><tr><td>&quot;Ohio&quot;</td><td>&quot;2010&quot;</td><td>6</td></tr><tr><td>&quot;Alaska&quot;</td><td>&quot;2011&quot;</td><td>8</td></tr><tr><td>&quot;Maine&quot;</td><td>&quot;2011&quot;</td><td>7</td></tr><tr><td>&quot;Ohio&quot;</td><td>&quot;2011&quot;</td><td>9</td></tr></tbody></table></div>"
      ],
      "text/plain": [
       "shape: (9, 3)\n",
       "┌────────┬──────┬────────┐\n",
       "│ state  ┆ year ┆ number │\n",
       "│ ---    ┆ ---  ┆ ---    │\n",
       "│ str    ┆ str  ┆ i64    │\n",
       "╞════════╪══════╪════════╡\n",
       "│ Alaska ┆ 2009 ┆ 2      │\n",
       "│ Maine  ┆ 2009 ┆ 1      │\n",
       "│ Ohio   ┆ 2009 ┆ 3      │\n",
       "│ Alaska ┆ 2010 ┆ 5      │\n",
       "│ Maine  ┆ 2010 ┆ 4      │\n",
       "│ Ohio   ┆ 2010 ┆ 6      │\n",
       "│ Alaska ┆ 2011 ┆ 8      │\n",
       "│ Maine  ┆ 2011 ┆ 7      │\n",
       "│ Ohio   ┆ 2011 ┆ 9      │\n",
       "└────────┴──────┴────────┘"
      ]
     },
     "execution_count": 26,
     "metadata": {},
     "output_type": "execute_result"
    }
   ],
   "source": [
    "df_tidy_sorted = (df\n",
    " .unpivot(\n",
    "     on=['2009','2010','2011'],\n",
    "     index='state',\n",
    "     variable_name='year', \n",
    "     value_name='number')\n",
    " .sort(\n",
    "     by=['year','state'], \n",
    "     descending=False)\n",
    ")\n",
    "\n",
    "df_tidy_sorted"
   ]
  },
  {
   "cell_type": "code",
   "execution_count": null,
   "metadata": {},
   "outputs": [],
   "source": []
  }
 ],
 "metadata": {
  "kernelspec": {
   "display_name": "polars",
   "language": "python",
   "name": "python3"
  },
  "language_info": {
   "codemirror_mode": {
    "name": "ipython",
    "version": 3
   },
   "file_extension": ".py",
   "mimetype": "text/x-python",
   "name": "python",
   "nbconvert_exporter": "python",
   "pygments_lexer": "ipython3",
   "version": "3.12.8"
  }
 },
 "nbformat": 4,
 "nbformat_minor": 4
}
