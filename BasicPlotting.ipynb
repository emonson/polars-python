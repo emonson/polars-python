{
 "cells": [
  {
   "cell_type": "markdown",
   "metadata": {},
   "source": [
    "# Basic plotting with Pandas\n",
    "\n",
    "Pandas has some built-in methods for plotting, based in the background on Matplotlib, the very powerful (and for me, confusing) grand-daddy of the Python visualization modules.\n",
    "\n",
    "**[Pandas chart visualization documentation](https://pandas.pydata.org/pandas-docs/stable/user_guide/visualization.html)**\n",
    "has much more detail and more plot types than we'll cover here.\n",
    "\n",
    "We'll start, like usual, by importing Pandas"
   ]
  },
  {
   "cell_type": "code",
   "execution_count": 14,
   "metadata": {},
   "outputs": [],
   "source": [
    "import pandas as pd\n",
    "import polars as pl\n",
    "import altair as alt"
   ]
  },
  {
   "cell_type": "markdown",
   "metadata": {},
   "source": [
    "Note: For some older versions of Jupyter notebooks we also need to use an\n",
    "[iPython magic command](https://ipython.readthedocs.io/en/stable/interactive/magics.html)\n",
    "to tell Matplotlib to render inline in the notebook. *Change the cell below to a code cell if you find you need to execute it.*"
   ]
  },
  {
   "cell_type": "raw",
   "metadata": {},
   "source": [
    "%matplotlib inline"
   ]
  },
  {
   "cell_type": "markdown",
   "metadata": {},
   "source": [
    "---\n",
    "\n",
    "*To preserve the mystery, select from the notebook menus*\n",
    "\n",
    "`Edit -> Clear All Outputs`\n",
    "\n",
    "---"
   ]
  },
  {
   "cell_type": "markdown",
   "metadata": {},
   "source": [
    "## Loading the data from a CSV file\n",
    "\n",
    "This is the first time you're seeing data loading from a CSV (Commma-Separated Value) file. That's a very common file type for tablular (spreadsheet) data, where the values are stored in a plain text file, and the values are separated with commas as the \"delimeter\" (separating) character. Another common delimeter is a tab character.\n",
    "\n",
    "It's not uncommon to run into cases when you need to change the `read_csv()` defaults to do things like force column data types, but here we can get away with just supplying the file name. For a much more full example of options, see the beginning of the [Groupby_NCexploration.ipynb](Groupby_NCexploration.ipynb) notebook.\n",
    "\n",
    "*With most `read_csv()` and `to_csv()` commands you should get into the habit of including what's called the \"[character encoding](https://docs.python.org/3/library/codecs.html#standard-encodings)\" explicitly in the arguments you pass. There are many encoding schemes that allow text files to include characters beyond the first 256 ASCII characters, such as accented and Asian language characters. For example, the most common character encoding is called UTF-8.*\n",
    "\n",
    "So, I almost always would write the commands like this:\n",
    "\n",
    "```\n",
    "df = pd.read_csv('in_file.csv', encoding='utf-8')\n",
    "df.to_csv('out_file.csv', encoding='utf-8')\n",
    "```"
   ]
  },
  {
   "cell_type": "code",
   "execution_count": 2,
   "metadata": {},
   "outputs": [],
   "source": [
    "df = pl.read_csv('data/women_percent_deg_usa_subset.csv')"
   ]
  },
  {
   "cell_type": "markdown",
   "metadata": {},
   "source": [
    "### Percent women in bachelor's degree categories data set\n",
    "\n",
    "The Department of Education Statistics releases a data set annually containing the percentage of bachelor's degrees granted to women. The data set is broken up into 17 categories of degrees, with each column as a separate category. Randal Olson has made it available on \n",
    "[his personal website](http://www.randalolson.com/wp-content/uploads/percent-bachelors-degrees-women-usa.csv), or you can get it from [Kaggle](https://www.kaggle.com/sureshsrinivas/bachelorsdegreewomenusa)\n",
    "\n",
    "**For this exercise we will look at a subset of five of the degrees.**"
   ]
  },
  {
   "cell_type": "markdown",
   "metadata": {},
   "source": [
    "#### `.head()` and `.tail()`\n",
    "\n",
    "Often DataFrames are too large to view all at once. The Jupyter notebook default for the maximum number of rows to display is 60, but sometimes we want an even shorter view of the data, so we print out the first or last few rows using the `.head()` or `.tail()` methods."
   ]
  },
  {
   "cell_type": "code",
   "execution_count": 5,
   "metadata": {},
   "outputs": [
    {
     "data": {
      "text/html": [
       "<div><style>\n",
       ".dataframe > thead > tr,\n",
       ".dataframe > tbody > tr {\n",
       "  text-align: right;\n",
       "  white-space: pre-wrap;\n",
       "}\n",
       "</style>\n",
       "<small>shape: (5, 6)</small><table border=\"1\" class=\"dataframe\"><thead><tr><th>Year</th><th>Agriculture</th><th>Business</th><th>Engineering</th><th>Health</th><th>Psychology</th></tr><tr><td>i64</td><td>f64</td><td>f64</td><td>f64</td><td>f64</td><td>f64</td></tr></thead><tbody><tr><td>1970</td><td>4.229798</td><td>9.064439</td><td>0.8</td><td>77.1</td><td>44.4</td></tr><tr><td>1971</td><td>5.452797</td><td>9.503187</td><td>1.0</td><td>75.5</td><td>46.2</td></tr><tr><td>1972</td><td>7.42071</td><td>10.558962</td><td>1.2</td><td>76.9</td><td>47.6</td></tr><tr><td>1973</td><td>9.653602</td><td>12.804602</td><td>1.6</td><td>77.4</td><td>50.4</td></tr><tr><td>1974</td><td>14.074623</td><td>16.20485</td><td>2.2</td><td>77.9</td><td>52.6</td></tr></tbody></table></div>"
      ],
      "text/plain": [
       "shape: (5, 6)\n",
       "┌──────┬─────────────┬───────────┬─────────────┬────────┬────────────┐\n",
       "│ Year ┆ Agriculture ┆ Business  ┆ Engineering ┆ Health ┆ Psychology │\n",
       "│ ---  ┆ ---         ┆ ---       ┆ ---         ┆ ---    ┆ ---        │\n",
       "│ i64  ┆ f64         ┆ f64       ┆ f64         ┆ f64    ┆ f64        │\n",
       "╞══════╪═════════════╪═══════════╪═════════════╪════════╪════════════╡\n",
       "│ 1970 ┆ 4.229798    ┆ 9.064439  ┆ 0.8         ┆ 77.1   ┆ 44.4       │\n",
       "│ 1971 ┆ 5.452797    ┆ 9.503187  ┆ 1.0         ┆ 75.5   ┆ 46.2       │\n",
       "│ 1972 ┆ 7.42071     ┆ 10.558962 ┆ 1.2         ┆ 76.9   ┆ 47.6       │\n",
       "│ 1973 ┆ 9.653602    ┆ 12.804602 ┆ 1.6         ┆ 77.4   ┆ 50.4       │\n",
       "│ 1974 ┆ 14.074623   ┆ 16.20485  ┆ 2.2         ┆ 77.9   ┆ 52.6       │\n",
       "└──────┴─────────────┴───────────┴─────────────┴────────┴────────────┘"
      ]
     },
     "execution_count": 5,
     "metadata": {},
     "output_type": "execute_result"
    }
   ],
   "source": [
    "df.head()"
   ]
  },
  {
   "cell_type": "markdown",
   "metadata": {},
   "source": [
    "#### You can put a number in the parentheses to control the line count"
   ]
  },
  {
   "cell_type": "code",
   "execution_count": 6,
   "metadata": {},
   "outputs": [
    {
     "data": {
      "text/html": [
       "<div><style>\n",
       ".dataframe > thead > tr,\n",
       ".dataframe > tbody > tr {\n",
       "  text-align: right;\n",
       "  white-space: pre-wrap;\n",
       "}\n",
       "</style>\n",
       "<small>shape: (3, 6)</small><table border=\"1\" class=\"dataframe\"><thead><tr><th>Year</th><th>Agriculture</th><th>Business</th><th>Engineering</th><th>Health</th><th>Psychology</th></tr><tr><td>i64</td><td>f64</td><td>f64</td><td>f64</td><td>f64</td><td>f64</td></tr></thead><tbody><tr><td>2009</td><td>48.667224</td><td>48.840474</td><td>16.8</td><td>85.1</td><td>77.1</td></tr><tr><td>2010</td><td>48.730042</td><td>48.757988</td><td>17.2</td><td>85.0</td><td>77.0</td></tr><tr><td>2011</td><td>50.037182</td><td>48.180418</td><td>17.5</td><td>84.8</td><td>76.7</td></tr></tbody></table></div>"
      ],
      "text/plain": [
       "shape: (3, 6)\n",
       "┌──────┬─────────────┬───────────┬─────────────┬────────┬────────────┐\n",
       "│ Year ┆ Agriculture ┆ Business  ┆ Engineering ┆ Health ┆ Psychology │\n",
       "│ ---  ┆ ---         ┆ ---       ┆ ---         ┆ ---    ┆ ---        │\n",
       "│ i64  ┆ f64         ┆ f64       ┆ f64         ┆ f64    ┆ f64        │\n",
       "╞══════╪═════════════╪═══════════╪═════════════╪════════╪════════════╡\n",
       "│ 2009 ┆ 48.667224   ┆ 48.840474 ┆ 16.8        ┆ 85.1   ┆ 77.1       │\n",
       "│ 2010 ┆ 48.730042   ┆ 48.757988 ┆ 17.2        ┆ 85.0   ┆ 77.0       │\n",
       "│ 2011 ┆ 50.037182   ┆ 48.180418 ┆ 17.5        ┆ 84.8   ┆ 76.7       │\n",
       "└──────┴─────────────┴───────────┴─────────────┴────────┴────────────┘"
      ]
     },
     "execution_count": 6,
     "metadata": {},
     "output_type": "execute_result"
    }
   ],
   "source": [
    "df.tail(3)"
   ]
  },
  {
   "cell_type": "markdown",
   "metadata": {},
   "source": [
    "---\n",
    "\n",
    "## Line plot\n",
    "\n",
    "We often print table values to see what our data looks like, but **data visualization is a marvelous way to explore our data!**\n",
    "\n",
    "Since this is a time-series, the natural starting place for visualization is a line plot. Pandas has a pretty simple syntax for its basic chart types.\n",
    "\n",
    "You can either use the plot method directly, and tell it which \"kind\" of plot you want, \n",
    "\n",
    "`df.plot(kind='line')`\n",
    "\n",
    "or you can follow the plot with a dot and the type of plot\n",
    "\n",
    "`df.plot.line()`"
   ]
  },
  {
   "cell_type": "markdown",
   "metadata": {},
   "source": [
    "### Pandas plots expect \"wide\" data kind of like Excel does!\n",
    "\n",
    "Pandas is kind of like Excel for plotting, in that it wants the data in the sort of \"wide\" format our data is in right now, where our X-axis data is in one column, and each series that will go on the Y-axis are in separate columns. \n",
    "\n",
    "**This probably means that Pandas expects you to make a Pivot Table out of your data before plotting, just like Excel does!**\n",
    "\n",
    "*I show in other notebooks that packages like Seaborn and Altair want the data in \"tidy\" or \"tall\" format, as do the \"tidyverse\" R packages and some commercial programs like Tableau.*"
   ]
  },
  {
   "cell_type": "markdown",
   "metadata": {},
   "source": [
    "#### If you specify the x column, then Pandas will assume you want to use the rest for Y!"
   ]
  },
  {
   "cell_type": "raw",
   "metadata": {},
   "source": [
    "df.plot.line(x='Year')"
   ]
  },
  {
   "cell_type": "markdown",
   "metadata": {},
   "source": [
    "#### Or, you can specify which columns to plot with `y=[,,]`"
   ]
  },
  {
   "cell_type": "raw",
   "metadata": {},
   "source": [
    "df.plot.line(x='Year', y=['Business','Health'])"
   ]
  },
  {
   "cell_type": "markdown",
   "metadata": {},
   "source": [
    "### Index is default for X\n",
    "\n",
    "If you don't specify anything for X, Pandas will assume you want to use the DataFrame Index. In this case we have a default, sequential integer Index, and we see the Year gets plotted as one of our lines."
   ]
  },
  {
   "cell_type": "raw",
   "metadata": {},
   "source": [
    "df.plot.line()"
   ]
  },
  {
   "cell_type": "markdown",
   "metadata": {},
   "source": [
    "### Set Index from a column\n",
    "\n",
    "We can set the Year column to be the Index with `df.set_index()`\n",
    "\n",
    "**Note that this time we're using the `inplace=True` argument instead of reassigning the result.** A lot of Pandas DataFrame methods have this option."
   ]
  },
  {
   "cell_type": "raw",
   "metadata": {},
   "source": [
    "df.set_index('Year', inplace=True)\n",
    "df.head()"
   ]
  },
  {
   "cell_type": "markdown",
   "metadata": {},
   "source": [
    "#### Now we don't have to specify X"
   ]
  },
  {
   "cell_type": "raw",
   "metadata": {},
   "source": [
    "df.plot.line()"
   ]
  },
  {
   "cell_type": "markdown",
   "metadata": {},
   "source": [
    "### Get rid of annoying text output with ; (semi-colon)\n",
    "\n",
    "Some Python objects have a useful default output when the cell is executed. These plots do not – that's why you see the `<AxesSubplot:xlabel='Year'>` before the plot itself. I get tired of that extra text output inside <> charcters that also prints out with a Matplotlib plot.\n",
    "\n",
    "*It seems that the only way to get rid of that text is to follow your plot command by a semi-colon character `;`. Evidently that suppresses cell output, which here is that extra text.*"
   ]
  },
  {
   "cell_type": "raw",
   "metadata": {},
   "source": [
    "df.plot.line();"
   ]
  },
  {
   "cell_type": "markdown",
   "metadata": {},
   "source": [
    "## Polars uses Altair by default, so you need tidy data!\n",
    "\n",
    "- plot using Altair considered unstable [https://docs.pola.rs/api/python/stable/reference/dataframe/plot.html]()\n",
    "- altair>=5.4.0 is required for `.plot`"
   ]
  },
  {
   "cell_type": "code",
   "execution_count": 26,
   "metadata": {},
   "outputs": [
    {
     "data": {
      "text/html": [
       "<div><style>\n",
       ".dataframe > thead > tr,\n",
       ".dataframe > tbody > tr {\n",
       "  text-align: right;\n",
       "  white-space: pre-wrap;\n",
       "}\n",
       "</style>\n",
       "<small>shape: (210, 4)</small><table border=\"1\" class=\"dataframe\"><thead><tr><th>Year</th><th>Field</th><th>Percent</th><th>Yeardate</th></tr><tr><td>i64</td><td>str</td><td>f64</td><td>datetime[μs]</td></tr></thead><tbody><tr><td>1970</td><td>&quot;Agriculture&quot;</td><td>4.229798</td><td>1970-01-01 00:00:00</td></tr><tr><td>1971</td><td>&quot;Agriculture&quot;</td><td>5.452797</td><td>1971-01-01 00:00:00</td></tr><tr><td>1972</td><td>&quot;Agriculture&quot;</td><td>7.42071</td><td>1972-01-01 00:00:00</td></tr><tr><td>1973</td><td>&quot;Agriculture&quot;</td><td>9.653602</td><td>1973-01-01 00:00:00</td></tr><tr><td>1974</td><td>&quot;Agriculture&quot;</td><td>14.074623</td><td>1974-01-01 00:00:00</td></tr><tr><td>&hellip;</td><td>&hellip;</td><td>&hellip;</td><td>&hellip;</td></tr><tr><td>2007</td><td>&quot;Psychology&quot;</td><td>77.1</td><td>2007-01-01 00:00:00</td></tr><tr><td>2008</td><td>&quot;Psychology&quot;</td><td>77.2</td><td>2008-01-01 00:00:00</td></tr><tr><td>2009</td><td>&quot;Psychology&quot;</td><td>77.1</td><td>2009-01-01 00:00:00</td></tr><tr><td>2010</td><td>&quot;Psychology&quot;</td><td>77.0</td><td>2010-01-01 00:00:00</td></tr><tr><td>2011</td><td>&quot;Psychology&quot;</td><td>76.7</td><td>2011-01-01 00:00:00</td></tr></tbody></table></div>"
      ],
      "text/plain": [
       "shape: (210, 4)\n",
       "┌──────┬─────────────┬───────────┬─────────────────────┐\n",
       "│ Year ┆ Field       ┆ Percent   ┆ Yeardate            │\n",
       "│ ---  ┆ ---         ┆ ---       ┆ ---                 │\n",
       "│ i64  ┆ str         ┆ f64       ┆ datetime[μs]        │\n",
       "╞══════╪═════════════╪═══════════╪═════════════════════╡\n",
       "│ 1970 ┆ Agriculture ┆ 4.229798  ┆ 1970-01-01 00:00:00 │\n",
       "│ 1971 ┆ Agriculture ┆ 5.452797  ┆ 1971-01-01 00:00:00 │\n",
       "│ 1972 ┆ Agriculture ┆ 7.42071   ┆ 1972-01-01 00:00:00 │\n",
       "│ 1973 ┆ Agriculture ┆ 9.653602  ┆ 1973-01-01 00:00:00 │\n",
       "│ 1974 ┆ Agriculture ┆ 14.074623 ┆ 1974-01-01 00:00:00 │\n",
       "│ …    ┆ …           ┆ …         ┆ …                   │\n",
       "│ 2007 ┆ Psychology  ┆ 77.1      ┆ 2007-01-01 00:00:00 │\n",
       "│ 2008 ┆ Psychology  ┆ 77.2      ┆ 2008-01-01 00:00:00 │\n",
       "│ 2009 ┆ Psychology  ┆ 77.1      ┆ 2009-01-01 00:00:00 │\n",
       "│ 2010 ┆ Psychology  ┆ 77.0      ┆ 2010-01-01 00:00:00 │\n",
       "│ 2011 ┆ Psychology  ┆ 76.7      ┆ 2011-01-01 00:00:00 │\n",
       "└──────┴─────────────┴───────────┴─────────────────────┘"
      ]
     },
     "execution_count": 26,
     "metadata": {},
     "output_type": "execute_result"
    }
   ],
   "source": [
    "df_tall = df.unpivot(\n",
    "    index='Year',\n",
    "    variable_name = 'Field',\n",
    "    value_name = 'Percent'\n",
    ").with_columns(pl.col('Year')\n",
    "                     .cast(pl.String)\n",
    "                     .str\n",
    "                     .to_datetime(\"%Y\")\n",
    "                     .alias('Yeardate')\n",
    "                    )\n",
    "df_tall"
   ]
  },
  {
   "cell_type": "code",
   "execution_count": 27,
   "metadata": {},
   "outputs": [
    {
     "data": {
      "text/html": [
       "\n",
       "<style>\n",
       "  #altair-viz-3119d26fd97b4ed48e0c031f5b036769.vega-embed {\n",
       "    width: 100%;\n",
       "    display: flex;\n",
       "  }\n",
       "\n",
       "  #altair-viz-3119d26fd97b4ed48e0c031f5b036769.vega-embed details,\n",
       "  #altair-viz-3119d26fd97b4ed48e0c031f5b036769.vega-embed details summary {\n",
       "    position: relative;\n",
       "  }\n",
       "</style>\n",
       "<div id=\"altair-viz-3119d26fd97b4ed48e0c031f5b036769\"></div>\n",
       "<script type=\"text/javascript\">\n",
       "  var VEGA_DEBUG = (typeof VEGA_DEBUG == \"undefined\") ? {} : VEGA_DEBUG;\n",
       "  (function(spec, embedOpt){\n",
       "    let outputDiv = document.currentScript.previousElementSibling;\n",
       "    if (outputDiv.id !== \"altair-viz-3119d26fd97b4ed48e0c031f5b036769\") {\n",
       "      outputDiv = document.getElementById(\"altair-viz-3119d26fd97b4ed48e0c031f5b036769\");\n",
       "    }\n",
       "\n",
       "    const paths = {\n",
       "      \"vega\": \"https://cdn.jsdelivr.net/npm/vega@5?noext\",\n",
       "      \"vega-lib\": \"https://cdn.jsdelivr.net/npm/vega-lib?noext\",\n",
       "      \"vega-lite\": \"https://cdn.jsdelivr.net/npm/vega-lite@5.20.1?noext\",\n",
       "      \"vega-embed\": \"https://cdn.jsdelivr.net/npm/vega-embed@6?noext\",\n",
       "    };\n",
       "\n",
       "    function maybeLoadScript(lib, version) {\n",
       "      var key = `${lib.replace(\"-\", \"\")}_version`;\n",
       "      return (VEGA_DEBUG[key] == version) ?\n",
       "        Promise.resolve(paths[lib]) :\n",
       "        new Promise(function(resolve, reject) {\n",
       "          var s = document.createElement('script');\n",
       "          document.getElementsByTagName(\"head\")[0].appendChild(s);\n",
       "          s.async = true;\n",
       "          s.onload = () => {\n",
       "            VEGA_DEBUG[key] = version;\n",
       "            return resolve(paths[lib]);\n",
       "          };\n",
       "          s.onerror = () => reject(`Error loading script: ${paths[lib]}`);\n",
       "          s.src = paths[lib];\n",
       "        });\n",
       "    }\n",
       "\n",
       "    function showError(err) {\n",
       "      outputDiv.innerHTML = `<div class=\"error\" style=\"color:red;\">${err}</div>`;\n",
       "      throw err;\n",
       "    }\n",
       "\n",
       "    function displayChart(vegaEmbed) {\n",
       "      vegaEmbed(outputDiv, spec, embedOpt)\n",
       "        .catch(err => showError(`Javascript Error: ${err.message}<br>This usually means there's a typo in your chart specification. See the javascript console for the full traceback.`));\n",
       "    }\n",
       "\n",
       "    if(typeof define === \"function\" && define.amd) {\n",
       "      requirejs.config({paths});\n",
       "      let deps = [\"vega-embed\"];\n",
       "      require(deps, displayChart, err => showError(`Error loading script: ${err.message}`));\n",
       "    } else {\n",
       "      maybeLoadScript(\"vega\", \"5\")\n",
       "        .then(() => maybeLoadScript(\"vega-lite\", \"5.20.1\"))\n",
       "        .then(() => maybeLoadScript(\"vega-embed\", \"6\"))\n",
       "        .catch(showError)\n",
       "        .then(() => displayChart(vegaEmbed));\n",
       "    }\n",
       "  })({\"config\": {\"view\": {\"continuousWidth\": 300, \"continuousHeight\": 300}}, \"data\": {\"name\": \"data-7bd34bc17e6719b4e12365c5b18fa641\"}, \"mark\": {\"type\": \"line\", \"tooltip\": true}, \"encoding\": {\"color\": {\"field\": \"Field\", \"type\": \"nominal\"}, \"x\": {\"field\": \"Year\", \"type\": \"quantitative\"}, \"y\": {\"field\": \"Percent\", \"type\": \"quantitative\"}}, \"params\": [{\"name\": \"param_14\", \"select\": {\"type\": \"interval\", \"encodings\": [\"x\", \"y\"]}, \"bind\": \"scales\"}], \"$schema\": \"https://vega.github.io/schema/vega-lite/v5.20.1.json\", \"datasets\": {\"data-7bd34bc17e6719b4e12365c5b18fa641\": [{\"Year\": 1970, \"Field\": \"Agriculture\", \"Percent\": 4.22979798, \"Yeardate\": \"1970-01-01T00:00:00\"}, {\"Year\": 1971, \"Field\": \"Agriculture\", \"Percent\": 5.452796685, \"Yeardate\": \"1971-01-01T00:00:00\"}, {\"Year\": 1972, \"Field\": \"Agriculture\", \"Percent\": 7.42071022, \"Yeardate\": \"1972-01-01T00:00:00\"}, {\"Year\": 1973, \"Field\": \"Agriculture\", \"Percent\": 9.653602412, \"Yeardate\": \"1973-01-01T00:00:00\"}, {\"Year\": 1974, \"Field\": \"Agriculture\", \"Percent\": 14.07462346, \"Yeardate\": \"1974-01-01T00:00:00\"}, {\"Year\": 1975, \"Field\": \"Agriculture\", \"Percent\": 18.33316153, \"Yeardate\": \"1975-01-01T00:00:00\"}, {\"Year\": 1976, \"Field\": \"Agriculture\", \"Percent\": 22.25276005, \"Yeardate\": \"1976-01-01T00:00:00\"}, {\"Year\": 1977, \"Field\": \"Agriculture\", \"Percent\": 24.6401766, \"Yeardate\": \"1977-01-01T00:00:00\"}, {\"Year\": 1978, \"Field\": \"Agriculture\", \"Percent\": 27.14619175, \"Yeardate\": \"1978-01-01T00:00:00\"}, {\"Year\": 1979, \"Field\": \"Agriculture\", \"Percent\": 29.63336549, \"Yeardate\": \"1979-01-01T00:00:00\"}, {\"Year\": 1980, \"Field\": \"Agriculture\", \"Percent\": 30.75938956, \"Yeardate\": \"1980-01-01T00:00:00\"}, {\"Year\": 1981, \"Field\": \"Agriculture\", \"Percent\": 31.31865519, \"Yeardate\": \"1981-01-01T00:00:00\"}, {\"Year\": 1982, \"Field\": \"Agriculture\", \"Percent\": 32.63666364, \"Yeardate\": \"1982-01-01T00:00:00\"}, {\"Year\": 1983, \"Field\": \"Agriculture\", \"Percent\": 31.6353471, \"Yeardate\": \"1983-01-01T00:00:00\"}, {\"Year\": 1984, \"Field\": \"Agriculture\", \"Percent\": 31.09294748, \"Yeardate\": \"1984-01-01T00:00:00\"}, {\"Year\": 1985, \"Field\": \"Agriculture\", \"Percent\": 31.3796588, \"Yeardate\": \"1985-01-01T00:00:00\"}, {\"Year\": 1986, \"Field\": \"Agriculture\", \"Percent\": 31.19871923, \"Yeardate\": \"1986-01-01T00:00:00\"}, {\"Year\": 1987, \"Field\": \"Agriculture\", \"Percent\": 31.48642948, \"Yeardate\": \"1987-01-01T00:00:00\"}, {\"Year\": 1988, \"Field\": \"Agriculture\", \"Percent\": 31.08508746, \"Yeardate\": \"1988-01-01T00:00:00\"}, {\"Year\": 1989, \"Field\": \"Agriculture\", \"Percent\": 31.6124031, \"Yeardate\": \"1989-01-01T00:00:00\"}, {\"Year\": 1990, \"Field\": \"Agriculture\", \"Percent\": 32.70344407, \"Yeardate\": \"1990-01-01T00:00:00\"}, {\"Year\": 1991, \"Field\": \"Agriculture\", \"Percent\": 34.71183749, \"Yeardate\": \"1991-01-01T00:00:00\"}, {\"Year\": 1992, \"Field\": \"Agriculture\", \"Percent\": 33.93165961, \"Yeardate\": \"1992-01-01T00:00:00\"}, {\"Year\": 1993, \"Field\": \"Agriculture\", \"Percent\": 34.94683208, \"Yeardate\": \"1993-01-01T00:00:00\"}, {\"Year\": 1994, \"Field\": \"Agriculture\", \"Percent\": 36.03267447, \"Yeardate\": \"1994-01-01T00:00:00\"}, {\"Year\": 1995, \"Field\": \"Agriculture\", \"Percent\": 36.84480747, \"Yeardate\": \"1995-01-01T00:00:00\"}, {\"Year\": 1996, \"Field\": \"Agriculture\", \"Percent\": 38.96977475, \"Yeardate\": \"1996-01-01T00:00:00\"}, {\"Year\": 1997, \"Field\": \"Agriculture\", \"Percent\": 40.68568483, \"Yeardate\": \"1997-01-01T00:00:00\"}, {\"Year\": 1998, \"Field\": \"Agriculture\", \"Percent\": 41.91240333, \"Yeardate\": \"1998-01-01T00:00:00\"}, {\"Year\": 1999, \"Field\": \"Agriculture\", \"Percent\": 42.88720191, \"Yeardate\": \"1999-01-01T00:00:00\"}, {\"Year\": 2000, \"Field\": \"Agriculture\", \"Percent\": 45.05776637, \"Yeardate\": \"2000-01-01T00:00:00\"}, {\"Year\": 2001, \"Field\": \"Agriculture\", \"Percent\": 45.86601517, \"Yeardate\": \"2001-01-01T00:00:00\"}, {\"Year\": 2002, \"Field\": \"Agriculture\", \"Percent\": 47.13465821, \"Yeardate\": \"2002-01-01T00:00:00\"}, {\"Year\": 2003, \"Field\": \"Agriculture\", \"Percent\": 47.93518721, \"Yeardate\": \"2003-01-01T00:00:00\"}, {\"Year\": 2004, \"Field\": \"Agriculture\", \"Percent\": 47.88714025, \"Yeardate\": \"2004-01-01T00:00:00\"}, {\"Year\": 2005, \"Field\": \"Agriculture\", \"Percent\": 47.67275409, \"Yeardate\": \"2005-01-01T00:00:00\"}, {\"Year\": 2006, \"Field\": \"Agriculture\", \"Percent\": 46.79029957, \"Yeardate\": \"2006-01-01T00:00:00\"}, {\"Year\": 2007, \"Field\": \"Agriculture\", \"Percent\": 47.60502633, \"Yeardate\": \"2007-01-01T00:00:00\"}, {\"Year\": 2008, \"Field\": \"Agriculture\", \"Percent\": 47.570834, \"Yeardate\": \"2008-01-01T00:00:00\"}, {\"Year\": 2009, \"Field\": \"Agriculture\", \"Percent\": 48.66722357, \"Yeardate\": \"2009-01-01T00:00:00\"}, {\"Year\": 2010, \"Field\": \"Agriculture\", \"Percent\": 48.73004227, \"Yeardate\": \"2010-01-01T00:00:00\"}, {\"Year\": 2011, \"Field\": \"Agriculture\", \"Percent\": 50.03718193, \"Yeardate\": \"2011-01-01T00:00:00\"}, {\"Year\": 1970, \"Field\": \"Business\", \"Percent\": 9.064438975, \"Yeardate\": \"1970-01-01T00:00:00\"}, {\"Year\": 1971, \"Field\": \"Business\", \"Percent\": 9.503186594, \"Yeardate\": \"1971-01-01T00:00:00\"}, {\"Year\": 1972, \"Field\": \"Business\", \"Percent\": 10.5589621, \"Yeardate\": \"1972-01-01T00:00:00\"}, {\"Year\": 1973, \"Field\": \"Business\", \"Percent\": 12.80460152, \"Yeardate\": \"1973-01-01T00:00:00\"}, {\"Year\": 1974, \"Field\": \"Business\", \"Percent\": 16.20485038, \"Yeardate\": \"1974-01-01T00:00:00\"}, {\"Year\": 1975, \"Field\": \"Business\", \"Percent\": 19.68624931, \"Yeardate\": \"1975-01-01T00:00:00\"}, {\"Year\": 1976, \"Field\": \"Business\", \"Percent\": 23.4300375, \"Yeardate\": \"1976-01-01T00:00:00\"}, {\"Year\": 1977, \"Field\": \"Business\", \"Percent\": 27.16342715, \"Yeardate\": \"1977-01-01T00:00:00\"}, {\"Year\": 1978, \"Field\": \"Business\", \"Percent\": 30.52751868, \"Yeardate\": \"1978-01-01T00:00:00\"}, {\"Year\": 1979, \"Field\": \"Business\", \"Percent\": 33.62163381, \"Yeardate\": \"1979-01-01T00:00:00\"}, {\"Year\": 1980, \"Field\": \"Business\", \"Percent\": 36.76572529, \"Yeardate\": \"1980-01-01T00:00:00\"}, {\"Year\": 1981, \"Field\": \"Business\", \"Percent\": 39.26622984, \"Yeardate\": \"1981-01-01T00:00:00\"}, {\"Year\": 1982, \"Field\": \"Business\", \"Percent\": 41.94937335, \"Yeardate\": \"1982-01-01T00:00:00\"}, {\"Year\": 1983, \"Field\": \"Business\", \"Percent\": 43.54206966, \"Yeardate\": \"1983-01-01T00:00:00\"}, {\"Year\": 1984, \"Field\": \"Business\", \"Percent\": 45.12403027, \"Yeardate\": \"1984-01-01T00:00:00\"}, {\"Year\": 1985, \"Field\": \"Business\", \"Percent\": 45.747782, \"Yeardate\": \"1985-01-01T00:00:00\"}, {\"Year\": 1986, \"Field\": \"Business\", \"Percent\": 46.53291505, \"Yeardate\": \"1986-01-01T00:00:00\"}, {\"Year\": 1987, \"Field\": \"Business\", \"Percent\": 46.69046648, \"Yeardate\": \"1987-01-01T00:00:00\"}, {\"Year\": 1988, \"Field\": \"Business\", \"Percent\": 46.7648277, \"Yeardate\": \"1988-01-01T00:00:00\"}, {\"Year\": 1989, \"Field\": \"Business\", \"Percent\": 46.7815648, \"Yeardate\": \"1989-01-01T00:00:00\"}, {\"Year\": 1990, \"Field\": \"Business\", \"Percent\": 47.20085084, \"Yeardate\": \"1990-01-01T00:00:00\"}, {\"Year\": 1991, \"Field\": \"Business\", \"Percent\": 47.22432481, \"Yeardate\": \"1991-01-01T00:00:00\"}, {\"Year\": 1992, \"Field\": \"Business\", \"Percent\": 47.21939541, \"Yeardate\": \"1992-01-01T00:00:00\"}, {\"Year\": 1993, \"Field\": \"Business\", \"Percent\": 47.63933161, \"Yeardate\": \"1993-01-01T00:00:00\"}, {\"Year\": 1994, \"Field\": \"Business\", \"Percent\": 47.98392441, \"Yeardate\": \"1994-01-01T00:00:00\"}, {\"Year\": 1995, \"Field\": \"Business\", \"Percent\": 48.57318101, \"Yeardate\": \"1995-01-01T00:00:00\"}, {\"Year\": 1996, \"Field\": \"Business\", \"Percent\": 48.6473926, \"Yeardate\": \"1996-01-01T00:00:00\"}, {\"Year\": 1997, \"Field\": \"Business\", \"Percent\": 48.56105033, \"Yeardate\": \"1997-01-01T00:00:00\"}, {\"Year\": 1998, \"Field\": \"Business\", \"Percent\": 49.2585152, \"Yeardate\": \"1998-01-01T00:00:00\"}, {\"Year\": 1999, \"Field\": \"Business\", \"Percent\": 49.81020815, \"Yeardate\": \"1999-01-01T00:00:00\"}, {\"Year\": 2000, \"Field\": \"Business\", \"Percent\": 49.80361649, \"Yeardate\": \"2000-01-01T00:00:00\"}, {\"Year\": 2001, \"Field\": \"Business\", \"Percent\": 50.27514494, \"Yeardate\": \"2001-01-01T00:00:00\"}, {\"Year\": 2002, \"Field\": \"Business\", \"Percent\": 50.5523346, \"Yeardate\": \"2002-01-01T00:00:00\"}, {\"Year\": 2003, \"Field\": \"Business\", \"Percent\": 50.34559774, \"Yeardate\": \"2003-01-01T00:00:00\"}, {\"Year\": 2004, \"Field\": \"Business\", \"Percent\": 49.95089449, \"Yeardate\": \"2004-01-01T00:00:00\"}, {\"Year\": 2005, \"Field\": \"Business\", \"Percent\": 49.79185139, \"Yeardate\": \"2005-01-01T00:00:00\"}, {\"Year\": 2006, \"Field\": \"Business\", \"Percent\": 49.21091439, \"Yeardate\": \"2006-01-01T00:00:00\"}, {\"Year\": 2007, \"Field\": \"Business\", \"Percent\": 49.00045935, \"Yeardate\": \"2007-01-01T00:00:00\"}, {\"Year\": 2008, \"Field\": \"Business\", \"Percent\": 48.88802678, \"Yeardate\": \"2008-01-01T00:00:00\"}, {\"Year\": 2009, \"Field\": \"Business\", \"Percent\": 48.84047414, \"Yeardate\": \"2009-01-01T00:00:00\"}, {\"Year\": 2010, \"Field\": \"Business\", \"Percent\": 48.75798769, \"Yeardate\": \"2010-01-01T00:00:00\"}, {\"Year\": 2011, \"Field\": \"Business\", \"Percent\": 48.18041792, \"Yeardate\": \"2011-01-01T00:00:00\"}, {\"Year\": 1970, \"Field\": \"Engineering\", \"Percent\": 0.8, \"Yeardate\": \"1970-01-01T00:00:00\"}, {\"Year\": 1971, \"Field\": \"Engineering\", \"Percent\": 1.0, \"Yeardate\": \"1971-01-01T00:00:00\"}, {\"Year\": 1972, \"Field\": \"Engineering\", \"Percent\": 1.2, \"Yeardate\": \"1972-01-01T00:00:00\"}, {\"Year\": 1973, \"Field\": \"Engineering\", \"Percent\": 1.6, \"Yeardate\": \"1973-01-01T00:00:00\"}, {\"Year\": 1974, \"Field\": \"Engineering\", \"Percent\": 2.2, \"Yeardate\": \"1974-01-01T00:00:00\"}, {\"Year\": 1975, \"Field\": \"Engineering\", \"Percent\": 3.2, \"Yeardate\": \"1975-01-01T00:00:00\"}, {\"Year\": 1976, \"Field\": \"Engineering\", \"Percent\": 4.5, \"Yeardate\": \"1976-01-01T00:00:00\"}, {\"Year\": 1977, \"Field\": \"Engineering\", \"Percent\": 6.8, \"Yeardate\": \"1977-01-01T00:00:00\"}, {\"Year\": 1978, \"Field\": \"Engineering\", \"Percent\": 8.4, \"Yeardate\": \"1978-01-01T00:00:00\"}, {\"Year\": 1979, \"Field\": \"Engineering\", \"Percent\": 9.4, \"Yeardate\": \"1979-01-01T00:00:00\"}, {\"Year\": 1980, \"Field\": \"Engineering\", \"Percent\": 10.3, \"Yeardate\": \"1980-01-01T00:00:00\"}, {\"Year\": 1981, \"Field\": \"Engineering\", \"Percent\": 11.6, \"Yeardate\": \"1981-01-01T00:00:00\"}, {\"Year\": 1982, \"Field\": \"Engineering\", \"Percent\": 12.4, \"Yeardate\": \"1982-01-01T00:00:00\"}, {\"Year\": 1983, \"Field\": \"Engineering\", \"Percent\": 13.1, \"Yeardate\": \"1983-01-01T00:00:00\"}, {\"Year\": 1984, \"Field\": \"Engineering\", \"Percent\": 13.5, \"Yeardate\": \"1984-01-01T00:00:00\"}, {\"Year\": 1985, \"Field\": \"Engineering\", \"Percent\": 13.5, \"Yeardate\": \"1985-01-01T00:00:00\"}, {\"Year\": 1986, \"Field\": \"Engineering\", \"Percent\": 13.9, \"Yeardate\": \"1986-01-01T00:00:00\"}, {\"Year\": 1987, \"Field\": \"Engineering\", \"Percent\": 14.0, \"Yeardate\": \"1987-01-01T00:00:00\"}, {\"Year\": 1988, \"Field\": \"Engineering\", \"Percent\": 13.9, \"Yeardate\": \"1988-01-01T00:00:00\"}, {\"Year\": 1989, \"Field\": \"Engineering\", \"Percent\": 14.1, \"Yeardate\": \"1989-01-01T00:00:00\"}, {\"Year\": 1990, \"Field\": \"Engineering\", \"Percent\": 14.1, \"Yeardate\": \"1990-01-01T00:00:00\"}, {\"Year\": 1991, \"Field\": \"Engineering\", \"Percent\": 14.0, \"Yeardate\": \"1991-01-01T00:00:00\"}, {\"Year\": 1992, \"Field\": \"Engineering\", \"Percent\": 14.5, \"Yeardate\": \"1992-01-01T00:00:00\"}, {\"Year\": 1993, \"Field\": \"Engineering\", \"Percent\": 14.9, \"Yeardate\": \"1993-01-01T00:00:00\"}, {\"Year\": 1994, \"Field\": \"Engineering\", \"Percent\": 15.7, \"Yeardate\": \"1994-01-01T00:00:00\"}, {\"Year\": 1995, \"Field\": \"Engineering\", \"Percent\": 16.2, \"Yeardate\": \"1995-01-01T00:00:00\"}, {\"Year\": 1996, \"Field\": \"Engineering\", \"Percent\": 16.7, \"Yeardate\": \"1996-01-01T00:00:00\"}, {\"Year\": 1997, \"Field\": \"Engineering\", \"Percent\": 17.0, \"Yeardate\": \"1997-01-01T00:00:00\"}, {\"Year\": 1998, \"Field\": \"Engineering\", \"Percent\": 17.8, \"Yeardate\": \"1998-01-01T00:00:00\"}, {\"Year\": 1999, \"Field\": \"Engineering\", \"Percent\": 18.6, \"Yeardate\": \"1999-01-01T00:00:00\"}, {\"Year\": 2000, \"Field\": \"Engineering\", \"Percent\": 18.4, \"Yeardate\": \"2000-01-01T00:00:00\"}, {\"Year\": 2001, \"Field\": \"Engineering\", \"Percent\": 19.0, \"Yeardate\": \"2001-01-01T00:00:00\"}, {\"Year\": 2002, \"Field\": \"Engineering\", \"Percent\": 18.7, \"Yeardate\": \"2002-01-01T00:00:00\"}, {\"Year\": 2003, \"Field\": \"Engineering\", \"Percent\": 18.8, \"Yeardate\": \"2003-01-01T00:00:00\"}, {\"Year\": 2004, \"Field\": \"Engineering\", \"Percent\": 18.2, \"Yeardate\": \"2004-01-01T00:00:00\"}, {\"Year\": 2005, \"Field\": \"Engineering\", \"Percent\": 17.9, \"Yeardate\": \"2005-01-01T00:00:00\"}, {\"Year\": 2006, \"Field\": \"Engineering\", \"Percent\": 16.8, \"Yeardate\": \"2006-01-01T00:00:00\"}, {\"Year\": 2007, \"Field\": \"Engineering\", \"Percent\": 16.8, \"Yeardate\": \"2007-01-01T00:00:00\"}, {\"Year\": 2008, \"Field\": \"Engineering\", \"Percent\": 16.5, \"Yeardate\": \"2008-01-01T00:00:00\"}, {\"Year\": 2009, \"Field\": \"Engineering\", \"Percent\": 16.8, \"Yeardate\": \"2009-01-01T00:00:00\"}, {\"Year\": 2010, \"Field\": \"Engineering\", \"Percent\": 17.2, \"Yeardate\": \"2010-01-01T00:00:00\"}, {\"Year\": 2011, \"Field\": \"Engineering\", \"Percent\": 17.5, \"Yeardate\": \"2011-01-01T00:00:00\"}, {\"Year\": 1970, \"Field\": \"Health\", \"Percent\": 77.1, \"Yeardate\": \"1970-01-01T00:00:00\"}, {\"Year\": 1971, \"Field\": \"Health\", \"Percent\": 75.5, \"Yeardate\": \"1971-01-01T00:00:00\"}, {\"Year\": 1972, \"Field\": \"Health\", \"Percent\": 76.9, \"Yeardate\": \"1972-01-01T00:00:00\"}, {\"Year\": 1973, \"Field\": \"Health\", \"Percent\": 77.4, \"Yeardate\": \"1973-01-01T00:00:00\"}, {\"Year\": 1974, \"Field\": \"Health\", \"Percent\": 77.9, \"Yeardate\": \"1974-01-01T00:00:00\"}, {\"Year\": 1975, \"Field\": \"Health\", \"Percent\": 78.9, \"Yeardate\": \"1975-01-01T00:00:00\"}, {\"Year\": 1976, \"Field\": \"Health\", \"Percent\": 79.2, \"Yeardate\": \"1976-01-01T00:00:00\"}, {\"Year\": 1977, \"Field\": \"Health\", \"Percent\": 80.5, \"Yeardate\": \"1977-01-01T00:00:00\"}, {\"Year\": 1978, \"Field\": \"Health\", \"Percent\": 81.9, \"Yeardate\": \"1978-01-01T00:00:00\"}, {\"Year\": 1979, \"Field\": \"Health\", \"Percent\": 82.3, \"Yeardate\": \"1979-01-01T00:00:00\"}, {\"Year\": 1980, \"Field\": \"Health\", \"Percent\": 83.5, \"Yeardate\": \"1980-01-01T00:00:00\"}, {\"Year\": 1981, \"Field\": \"Health\", \"Percent\": 84.1, \"Yeardate\": \"1981-01-01T00:00:00\"}, {\"Year\": 1982, \"Field\": \"Health\", \"Percent\": 84.4, \"Yeardate\": \"1982-01-01T00:00:00\"}, {\"Year\": 1983, \"Field\": \"Health\", \"Percent\": 84.6, \"Yeardate\": \"1983-01-01T00:00:00\"}, {\"Year\": 1984, \"Field\": \"Health\", \"Percent\": 85.1, \"Yeardate\": \"1984-01-01T00:00:00\"}, {\"Year\": 1985, \"Field\": \"Health\", \"Percent\": 85.3, \"Yeardate\": \"1985-01-01T00:00:00\"}, {\"Year\": 1986, \"Field\": \"Health\", \"Percent\": 85.7, \"Yeardate\": \"1986-01-01T00:00:00\"}, {\"Year\": 1987, \"Field\": \"Health\", \"Percent\": 85.5, \"Yeardate\": \"1987-01-01T00:00:00\"}, {\"Year\": 1988, \"Field\": \"Health\", \"Percent\": 85.2, \"Yeardate\": \"1988-01-01T00:00:00\"}, {\"Year\": 1989, \"Field\": \"Health\", \"Percent\": 84.6, \"Yeardate\": \"1989-01-01T00:00:00\"}, {\"Year\": 1990, \"Field\": \"Health\", \"Percent\": 83.9, \"Yeardate\": \"1990-01-01T00:00:00\"}, {\"Year\": 1991, \"Field\": \"Health\", \"Percent\": 83.5, \"Yeardate\": \"1991-01-01T00:00:00\"}, {\"Year\": 1992, \"Field\": \"Health\", \"Percent\": 83.0, \"Yeardate\": \"1992-01-01T00:00:00\"}, {\"Year\": 1993, \"Field\": \"Health\", \"Percent\": 82.4, \"Yeardate\": \"1993-01-01T00:00:00\"}, {\"Year\": 1994, \"Field\": \"Health\", \"Percent\": 81.8, \"Yeardate\": \"1994-01-01T00:00:00\"}, {\"Year\": 1995, \"Field\": \"Health\", \"Percent\": 81.5, \"Yeardate\": \"1995-01-01T00:00:00\"}, {\"Year\": 1996, \"Field\": \"Health\", \"Percent\": 81.3, \"Yeardate\": \"1996-01-01T00:00:00\"}, {\"Year\": 1997, \"Field\": \"Health\", \"Percent\": 81.9, \"Yeardate\": \"1997-01-01T00:00:00\"}, {\"Year\": 1998, \"Field\": \"Health\", \"Percent\": 82.1, \"Yeardate\": \"1998-01-01T00:00:00\"}, {\"Year\": 1999, \"Field\": \"Health\", \"Percent\": 83.5, \"Yeardate\": \"1999-01-01T00:00:00\"}, {\"Year\": 2000, \"Field\": \"Health\", \"Percent\": 83.5, \"Yeardate\": \"2000-01-01T00:00:00\"}, {\"Year\": 2001, \"Field\": \"Health\", \"Percent\": 85.1, \"Yeardate\": \"2001-01-01T00:00:00\"}, {\"Year\": 2002, \"Field\": \"Health\", \"Percent\": 85.8, \"Yeardate\": \"2002-01-01T00:00:00\"}, {\"Year\": 2003, \"Field\": \"Health\", \"Percent\": 86.5, \"Yeardate\": \"2003-01-01T00:00:00\"}, {\"Year\": 2004, \"Field\": \"Health\", \"Percent\": 86.5, \"Yeardate\": \"2004-01-01T00:00:00\"}, {\"Year\": 2005, \"Field\": \"Health\", \"Percent\": 86.0, \"Yeardate\": \"2005-01-01T00:00:00\"}, {\"Year\": 2006, \"Field\": \"Health\", \"Percent\": 85.9, \"Yeardate\": \"2006-01-01T00:00:00\"}, {\"Year\": 2007, \"Field\": \"Health\", \"Percent\": 85.4, \"Yeardate\": \"2007-01-01T00:00:00\"}, {\"Year\": 2008, \"Field\": \"Health\", \"Percent\": 85.2, \"Yeardate\": \"2008-01-01T00:00:00\"}, {\"Year\": 2009, \"Field\": \"Health\", \"Percent\": 85.1, \"Yeardate\": \"2009-01-01T00:00:00\"}, {\"Year\": 2010, \"Field\": \"Health\", \"Percent\": 85.0, \"Yeardate\": \"2010-01-01T00:00:00\"}, {\"Year\": 2011, \"Field\": \"Health\", \"Percent\": 84.8, \"Yeardate\": \"2011-01-01T00:00:00\"}, {\"Year\": 1970, \"Field\": \"Psychology\", \"Percent\": 44.4, \"Yeardate\": \"1970-01-01T00:00:00\"}, {\"Year\": 1971, \"Field\": \"Psychology\", \"Percent\": 46.2, \"Yeardate\": \"1971-01-01T00:00:00\"}, {\"Year\": 1972, \"Field\": \"Psychology\", \"Percent\": 47.6, \"Yeardate\": \"1972-01-01T00:00:00\"}, {\"Year\": 1973, \"Field\": \"Psychology\", \"Percent\": 50.4, \"Yeardate\": \"1973-01-01T00:00:00\"}, {\"Year\": 1974, \"Field\": \"Psychology\", \"Percent\": 52.6, \"Yeardate\": \"1974-01-01T00:00:00\"}, {\"Year\": 1975, \"Field\": \"Psychology\", \"Percent\": 54.5, \"Yeardate\": \"1975-01-01T00:00:00\"}, {\"Year\": 1976, \"Field\": \"Psychology\", \"Percent\": 56.9, \"Yeardate\": \"1976-01-01T00:00:00\"}, {\"Year\": 1977, \"Field\": \"Psychology\", \"Percent\": 59.0, \"Yeardate\": \"1977-01-01T00:00:00\"}, {\"Year\": 1978, \"Field\": \"Psychology\", \"Percent\": 61.3, \"Yeardate\": \"1978-01-01T00:00:00\"}, {\"Year\": 1979, \"Field\": \"Psychology\", \"Percent\": 63.3, \"Yeardate\": \"1979-01-01T00:00:00\"}, {\"Year\": 1980, \"Field\": \"Psychology\", \"Percent\": 65.1, \"Yeardate\": \"1980-01-01T00:00:00\"}, {\"Year\": 1981, \"Field\": \"Psychology\", \"Percent\": 66.9, \"Yeardate\": \"1981-01-01T00:00:00\"}, {\"Year\": 1982, \"Field\": \"Psychology\", \"Percent\": 67.5, \"Yeardate\": \"1982-01-01T00:00:00\"}, {\"Year\": 1983, \"Field\": \"Psychology\", \"Percent\": 67.9, \"Yeardate\": \"1983-01-01T00:00:00\"}, {\"Year\": 1984, \"Field\": \"Psychology\", \"Percent\": 68.2, \"Yeardate\": \"1984-01-01T00:00:00\"}, {\"Year\": 1985, \"Field\": \"Psychology\", \"Percent\": 69.0, \"Yeardate\": \"1985-01-01T00:00:00\"}, {\"Year\": 1986, \"Field\": \"Psychology\", \"Percent\": 69.0, \"Yeardate\": \"1986-01-01T00:00:00\"}, {\"Year\": 1987, \"Field\": \"Psychology\", \"Percent\": 70.1, \"Yeardate\": \"1987-01-01T00:00:00\"}, {\"Year\": 1988, \"Field\": \"Psychology\", \"Percent\": 70.9, \"Yeardate\": \"1988-01-01T00:00:00\"}, {\"Year\": 1989, \"Field\": \"Psychology\", \"Percent\": 71.6, \"Yeardate\": \"1989-01-01T00:00:00\"}, {\"Year\": 1990, \"Field\": \"Psychology\", \"Percent\": 72.6, \"Yeardate\": \"1990-01-01T00:00:00\"}, {\"Year\": 1991, \"Field\": \"Psychology\", \"Percent\": 73.2, \"Yeardate\": \"1991-01-01T00:00:00\"}, {\"Year\": 1992, \"Field\": \"Psychology\", \"Percent\": 73.2, \"Yeardate\": \"1992-01-01T00:00:00\"}, {\"Year\": 1993, \"Field\": \"Psychology\", \"Percent\": 73.1, \"Yeardate\": \"1993-01-01T00:00:00\"}, {\"Year\": 1994, \"Field\": \"Psychology\", \"Percent\": 72.9, \"Yeardate\": \"1994-01-01T00:00:00\"}, {\"Year\": 1995, \"Field\": \"Psychology\", \"Percent\": 73.0, \"Yeardate\": \"1995-01-01T00:00:00\"}, {\"Year\": 1996, \"Field\": \"Psychology\", \"Percent\": 73.9, \"Yeardate\": \"1996-01-01T00:00:00\"}, {\"Year\": 1997, \"Field\": \"Psychology\", \"Percent\": 74.4, \"Yeardate\": \"1997-01-01T00:00:00\"}, {\"Year\": 1998, \"Field\": \"Psychology\", \"Percent\": 75.1, \"Yeardate\": \"1998-01-01T00:00:00\"}, {\"Year\": 1999, \"Field\": \"Psychology\", \"Percent\": 76.5, \"Yeardate\": \"1999-01-01T00:00:00\"}, {\"Year\": 2000, \"Field\": \"Psychology\", \"Percent\": 77.5, \"Yeardate\": \"2000-01-01T00:00:00\"}, {\"Year\": 2001, \"Field\": \"Psychology\", \"Percent\": 77.5, \"Yeardate\": \"2001-01-01T00:00:00\"}, {\"Year\": 2002, \"Field\": \"Psychology\", \"Percent\": 77.7, \"Yeardate\": \"2002-01-01T00:00:00\"}, {\"Year\": 2003, \"Field\": \"Psychology\", \"Percent\": 77.8, \"Yeardate\": \"2003-01-01T00:00:00\"}, {\"Year\": 2004, \"Field\": \"Psychology\", \"Percent\": 77.8, \"Yeardate\": \"2004-01-01T00:00:00\"}, {\"Year\": 2005, \"Field\": \"Psychology\", \"Percent\": 77.5, \"Yeardate\": \"2005-01-01T00:00:00\"}, {\"Year\": 2006, \"Field\": \"Psychology\", \"Percent\": 77.4, \"Yeardate\": \"2006-01-01T00:00:00\"}, {\"Year\": 2007, \"Field\": \"Psychology\", \"Percent\": 77.1, \"Yeardate\": \"2007-01-01T00:00:00\"}, {\"Year\": 2008, \"Field\": \"Psychology\", \"Percent\": 77.2, \"Yeardate\": \"2008-01-01T00:00:00\"}, {\"Year\": 2009, \"Field\": \"Psychology\", \"Percent\": 77.1, \"Yeardate\": \"2009-01-01T00:00:00\"}, {\"Year\": 2010, \"Field\": \"Psychology\", \"Percent\": 77.0, \"Yeardate\": \"2010-01-01T00:00:00\"}, {\"Year\": 2011, \"Field\": \"Psychology\", \"Percent\": 76.7, \"Yeardate\": \"2011-01-01T00:00:00\"}]}}, {\"mode\": \"vega-lite\"});\n",
       "</script>"
      ],
      "text/plain": [
       "alt.Chart(...)"
      ]
     },
     "execution_count": 27,
     "metadata": {},
     "output_type": "execute_result"
    }
   ],
   "source": [
    "df_tall.plot.line(\n",
    "    x = 'Year:Q', \n",
    "    y = 'Percent:Q', \n",
    "    color = 'Field:N'\n",
    ")"
   ]
  },
  {
   "cell_type": "code",
   "execution_count": 28,
   "metadata": {},
   "outputs": [
    {
     "data": {
      "text/html": [
       "\n",
       "<style>\n",
       "  #altair-viz-4340fea5fe0d458e93e88d2312f9280f.vega-embed {\n",
       "    width: 100%;\n",
       "    display: flex;\n",
       "  }\n",
       "\n",
       "  #altair-viz-4340fea5fe0d458e93e88d2312f9280f.vega-embed details,\n",
       "  #altair-viz-4340fea5fe0d458e93e88d2312f9280f.vega-embed details summary {\n",
       "    position: relative;\n",
       "  }\n",
       "</style>\n",
       "<div id=\"altair-viz-4340fea5fe0d458e93e88d2312f9280f\"></div>\n",
       "<script type=\"text/javascript\">\n",
       "  var VEGA_DEBUG = (typeof VEGA_DEBUG == \"undefined\") ? {} : VEGA_DEBUG;\n",
       "  (function(spec, embedOpt){\n",
       "    let outputDiv = document.currentScript.previousElementSibling;\n",
       "    if (outputDiv.id !== \"altair-viz-4340fea5fe0d458e93e88d2312f9280f\") {\n",
       "      outputDiv = document.getElementById(\"altair-viz-4340fea5fe0d458e93e88d2312f9280f\");\n",
       "    }\n",
       "\n",
       "    const paths = {\n",
       "      \"vega\": \"https://cdn.jsdelivr.net/npm/vega@5?noext\",\n",
       "      \"vega-lib\": \"https://cdn.jsdelivr.net/npm/vega-lib?noext\",\n",
       "      \"vega-lite\": \"https://cdn.jsdelivr.net/npm/vega-lite@5.20.1?noext\",\n",
       "      \"vega-embed\": \"https://cdn.jsdelivr.net/npm/vega-embed@6?noext\",\n",
       "    };\n",
       "\n",
       "    function maybeLoadScript(lib, version) {\n",
       "      var key = `${lib.replace(\"-\", \"\")}_version`;\n",
       "      return (VEGA_DEBUG[key] == version) ?\n",
       "        Promise.resolve(paths[lib]) :\n",
       "        new Promise(function(resolve, reject) {\n",
       "          var s = document.createElement('script');\n",
       "          document.getElementsByTagName(\"head\")[0].appendChild(s);\n",
       "          s.async = true;\n",
       "          s.onload = () => {\n",
       "            VEGA_DEBUG[key] = version;\n",
       "            return resolve(paths[lib]);\n",
       "          };\n",
       "          s.onerror = () => reject(`Error loading script: ${paths[lib]}`);\n",
       "          s.src = paths[lib];\n",
       "        });\n",
       "    }\n",
       "\n",
       "    function showError(err) {\n",
       "      outputDiv.innerHTML = `<div class=\"error\" style=\"color:red;\">${err}</div>`;\n",
       "      throw err;\n",
       "    }\n",
       "\n",
       "    function displayChart(vegaEmbed) {\n",
       "      vegaEmbed(outputDiv, spec, embedOpt)\n",
       "        .catch(err => showError(`Javascript Error: ${err.message}<br>This usually means there's a typo in your chart specification. See the javascript console for the full traceback.`));\n",
       "    }\n",
       "\n",
       "    if(typeof define === \"function\" && define.amd) {\n",
       "      requirejs.config({paths});\n",
       "      let deps = [\"vega-embed\"];\n",
       "      require(deps, displayChart, err => showError(`Error loading script: ${err.message}`));\n",
       "    } else {\n",
       "      maybeLoadScript(\"vega\", \"5\")\n",
       "        .then(() => maybeLoadScript(\"vega-lite\", \"5.20.1\"))\n",
       "        .then(() => maybeLoadScript(\"vega-embed\", \"6\"))\n",
       "        .catch(showError)\n",
       "        .then(() => displayChart(vegaEmbed));\n",
       "    }\n",
       "  })({\"config\": {\"view\": {\"continuousWidth\": 300, \"continuousHeight\": 300}}, \"data\": {\"name\": \"data-7bd34bc17e6719b4e12365c5b18fa641\"}, \"mark\": {\"type\": \"line\", \"tooltip\": true}, \"encoding\": {\"color\": {\"field\": \"Field\", \"type\": \"nominal\"}, \"x\": {\"field\": \"Year\", \"type\": \"quantitative\"}, \"y\": {\"field\": \"Percent\", \"type\": \"quantitative\"}}, \"params\": [{\"name\": \"param_15\", \"select\": {\"type\": \"interval\", \"encodings\": [\"x\", \"y\"]}, \"bind\": \"scales\"}], \"$schema\": \"https://vega.github.io/schema/vega-lite/v5.20.1.json\", \"datasets\": {\"data-7bd34bc17e6719b4e12365c5b18fa641\": [{\"Year\": 1970, \"Field\": \"Agriculture\", \"Percent\": 4.22979798, \"Yeardate\": \"1970-01-01T00:00:00\"}, {\"Year\": 1971, \"Field\": \"Agriculture\", \"Percent\": 5.452796685, \"Yeardate\": \"1971-01-01T00:00:00\"}, {\"Year\": 1972, \"Field\": \"Agriculture\", \"Percent\": 7.42071022, \"Yeardate\": \"1972-01-01T00:00:00\"}, {\"Year\": 1973, \"Field\": \"Agriculture\", \"Percent\": 9.653602412, \"Yeardate\": \"1973-01-01T00:00:00\"}, {\"Year\": 1974, \"Field\": \"Agriculture\", \"Percent\": 14.07462346, \"Yeardate\": \"1974-01-01T00:00:00\"}, {\"Year\": 1975, \"Field\": \"Agriculture\", \"Percent\": 18.33316153, \"Yeardate\": \"1975-01-01T00:00:00\"}, {\"Year\": 1976, \"Field\": \"Agriculture\", \"Percent\": 22.25276005, \"Yeardate\": \"1976-01-01T00:00:00\"}, {\"Year\": 1977, \"Field\": \"Agriculture\", \"Percent\": 24.6401766, \"Yeardate\": \"1977-01-01T00:00:00\"}, {\"Year\": 1978, \"Field\": \"Agriculture\", \"Percent\": 27.14619175, \"Yeardate\": \"1978-01-01T00:00:00\"}, {\"Year\": 1979, \"Field\": \"Agriculture\", \"Percent\": 29.63336549, \"Yeardate\": \"1979-01-01T00:00:00\"}, {\"Year\": 1980, \"Field\": \"Agriculture\", \"Percent\": 30.75938956, \"Yeardate\": \"1980-01-01T00:00:00\"}, {\"Year\": 1981, \"Field\": \"Agriculture\", \"Percent\": 31.31865519, \"Yeardate\": \"1981-01-01T00:00:00\"}, {\"Year\": 1982, \"Field\": \"Agriculture\", \"Percent\": 32.63666364, \"Yeardate\": \"1982-01-01T00:00:00\"}, {\"Year\": 1983, \"Field\": \"Agriculture\", \"Percent\": 31.6353471, \"Yeardate\": \"1983-01-01T00:00:00\"}, {\"Year\": 1984, \"Field\": \"Agriculture\", \"Percent\": 31.09294748, \"Yeardate\": \"1984-01-01T00:00:00\"}, {\"Year\": 1985, \"Field\": \"Agriculture\", \"Percent\": 31.3796588, \"Yeardate\": \"1985-01-01T00:00:00\"}, {\"Year\": 1986, \"Field\": \"Agriculture\", \"Percent\": 31.19871923, \"Yeardate\": \"1986-01-01T00:00:00\"}, {\"Year\": 1987, \"Field\": \"Agriculture\", \"Percent\": 31.48642948, \"Yeardate\": \"1987-01-01T00:00:00\"}, {\"Year\": 1988, \"Field\": \"Agriculture\", \"Percent\": 31.08508746, \"Yeardate\": \"1988-01-01T00:00:00\"}, {\"Year\": 1989, \"Field\": \"Agriculture\", \"Percent\": 31.6124031, \"Yeardate\": \"1989-01-01T00:00:00\"}, {\"Year\": 1990, \"Field\": \"Agriculture\", \"Percent\": 32.70344407, \"Yeardate\": \"1990-01-01T00:00:00\"}, {\"Year\": 1991, \"Field\": \"Agriculture\", \"Percent\": 34.71183749, \"Yeardate\": \"1991-01-01T00:00:00\"}, {\"Year\": 1992, \"Field\": \"Agriculture\", \"Percent\": 33.93165961, \"Yeardate\": \"1992-01-01T00:00:00\"}, {\"Year\": 1993, \"Field\": \"Agriculture\", \"Percent\": 34.94683208, \"Yeardate\": \"1993-01-01T00:00:00\"}, {\"Year\": 1994, \"Field\": \"Agriculture\", \"Percent\": 36.03267447, \"Yeardate\": \"1994-01-01T00:00:00\"}, {\"Year\": 1995, \"Field\": \"Agriculture\", \"Percent\": 36.84480747, \"Yeardate\": \"1995-01-01T00:00:00\"}, {\"Year\": 1996, \"Field\": \"Agriculture\", \"Percent\": 38.96977475, \"Yeardate\": \"1996-01-01T00:00:00\"}, {\"Year\": 1997, \"Field\": \"Agriculture\", \"Percent\": 40.68568483, \"Yeardate\": \"1997-01-01T00:00:00\"}, {\"Year\": 1998, \"Field\": \"Agriculture\", \"Percent\": 41.91240333, \"Yeardate\": \"1998-01-01T00:00:00\"}, {\"Year\": 1999, \"Field\": \"Agriculture\", \"Percent\": 42.88720191, \"Yeardate\": \"1999-01-01T00:00:00\"}, {\"Year\": 2000, \"Field\": \"Agriculture\", \"Percent\": 45.05776637, \"Yeardate\": \"2000-01-01T00:00:00\"}, {\"Year\": 2001, \"Field\": \"Agriculture\", \"Percent\": 45.86601517, \"Yeardate\": \"2001-01-01T00:00:00\"}, {\"Year\": 2002, \"Field\": \"Agriculture\", \"Percent\": 47.13465821, \"Yeardate\": \"2002-01-01T00:00:00\"}, {\"Year\": 2003, \"Field\": \"Agriculture\", \"Percent\": 47.93518721, \"Yeardate\": \"2003-01-01T00:00:00\"}, {\"Year\": 2004, \"Field\": \"Agriculture\", \"Percent\": 47.88714025, \"Yeardate\": \"2004-01-01T00:00:00\"}, {\"Year\": 2005, \"Field\": \"Agriculture\", \"Percent\": 47.67275409, \"Yeardate\": \"2005-01-01T00:00:00\"}, {\"Year\": 2006, \"Field\": \"Agriculture\", \"Percent\": 46.79029957, \"Yeardate\": \"2006-01-01T00:00:00\"}, {\"Year\": 2007, \"Field\": \"Agriculture\", \"Percent\": 47.60502633, \"Yeardate\": \"2007-01-01T00:00:00\"}, {\"Year\": 2008, \"Field\": \"Agriculture\", \"Percent\": 47.570834, \"Yeardate\": \"2008-01-01T00:00:00\"}, {\"Year\": 2009, \"Field\": \"Agriculture\", \"Percent\": 48.66722357, \"Yeardate\": \"2009-01-01T00:00:00\"}, {\"Year\": 2010, \"Field\": \"Agriculture\", \"Percent\": 48.73004227, \"Yeardate\": \"2010-01-01T00:00:00\"}, {\"Year\": 2011, \"Field\": \"Agriculture\", \"Percent\": 50.03718193, \"Yeardate\": \"2011-01-01T00:00:00\"}, {\"Year\": 1970, \"Field\": \"Business\", \"Percent\": 9.064438975, \"Yeardate\": \"1970-01-01T00:00:00\"}, {\"Year\": 1971, \"Field\": \"Business\", \"Percent\": 9.503186594, \"Yeardate\": \"1971-01-01T00:00:00\"}, {\"Year\": 1972, \"Field\": \"Business\", \"Percent\": 10.5589621, \"Yeardate\": \"1972-01-01T00:00:00\"}, {\"Year\": 1973, \"Field\": \"Business\", \"Percent\": 12.80460152, \"Yeardate\": \"1973-01-01T00:00:00\"}, {\"Year\": 1974, \"Field\": \"Business\", \"Percent\": 16.20485038, \"Yeardate\": \"1974-01-01T00:00:00\"}, {\"Year\": 1975, \"Field\": \"Business\", \"Percent\": 19.68624931, \"Yeardate\": \"1975-01-01T00:00:00\"}, {\"Year\": 1976, \"Field\": \"Business\", \"Percent\": 23.4300375, \"Yeardate\": \"1976-01-01T00:00:00\"}, {\"Year\": 1977, \"Field\": \"Business\", \"Percent\": 27.16342715, \"Yeardate\": \"1977-01-01T00:00:00\"}, {\"Year\": 1978, \"Field\": \"Business\", \"Percent\": 30.52751868, \"Yeardate\": \"1978-01-01T00:00:00\"}, {\"Year\": 1979, \"Field\": \"Business\", \"Percent\": 33.62163381, \"Yeardate\": \"1979-01-01T00:00:00\"}, {\"Year\": 1980, \"Field\": \"Business\", \"Percent\": 36.76572529, \"Yeardate\": \"1980-01-01T00:00:00\"}, {\"Year\": 1981, \"Field\": \"Business\", \"Percent\": 39.26622984, \"Yeardate\": \"1981-01-01T00:00:00\"}, {\"Year\": 1982, \"Field\": \"Business\", \"Percent\": 41.94937335, \"Yeardate\": \"1982-01-01T00:00:00\"}, {\"Year\": 1983, \"Field\": \"Business\", \"Percent\": 43.54206966, \"Yeardate\": \"1983-01-01T00:00:00\"}, {\"Year\": 1984, \"Field\": \"Business\", \"Percent\": 45.12403027, \"Yeardate\": \"1984-01-01T00:00:00\"}, {\"Year\": 1985, \"Field\": \"Business\", \"Percent\": 45.747782, \"Yeardate\": \"1985-01-01T00:00:00\"}, {\"Year\": 1986, \"Field\": \"Business\", \"Percent\": 46.53291505, \"Yeardate\": \"1986-01-01T00:00:00\"}, {\"Year\": 1987, \"Field\": \"Business\", \"Percent\": 46.69046648, \"Yeardate\": \"1987-01-01T00:00:00\"}, {\"Year\": 1988, \"Field\": \"Business\", \"Percent\": 46.7648277, \"Yeardate\": \"1988-01-01T00:00:00\"}, {\"Year\": 1989, \"Field\": \"Business\", \"Percent\": 46.7815648, \"Yeardate\": \"1989-01-01T00:00:00\"}, {\"Year\": 1990, \"Field\": \"Business\", \"Percent\": 47.20085084, \"Yeardate\": \"1990-01-01T00:00:00\"}, {\"Year\": 1991, \"Field\": \"Business\", \"Percent\": 47.22432481, \"Yeardate\": \"1991-01-01T00:00:00\"}, {\"Year\": 1992, \"Field\": \"Business\", \"Percent\": 47.21939541, \"Yeardate\": \"1992-01-01T00:00:00\"}, {\"Year\": 1993, \"Field\": \"Business\", \"Percent\": 47.63933161, \"Yeardate\": \"1993-01-01T00:00:00\"}, {\"Year\": 1994, \"Field\": \"Business\", \"Percent\": 47.98392441, \"Yeardate\": \"1994-01-01T00:00:00\"}, {\"Year\": 1995, \"Field\": \"Business\", \"Percent\": 48.57318101, \"Yeardate\": \"1995-01-01T00:00:00\"}, {\"Year\": 1996, \"Field\": \"Business\", \"Percent\": 48.6473926, \"Yeardate\": \"1996-01-01T00:00:00\"}, {\"Year\": 1997, \"Field\": \"Business\", \"Percent\": 48.56105033, \"Yeardate\": \"1997-01-01T00:00:00\"}, {\"Year\": 1998, \"Field\": \"Business\", \"Percent\": 49.2585152, \"Yeardate\": \"1998-01-01T00:00:00\"}, {\"Year\": 1999, \"Field\": \"Business\", \"Percent\": 49.81020815, \"Yeardate\": \"1999-01-01T00:00:00\"}, {\"Year\": 2000, \"Field\": \"Business\", \"Percent\": 49.80361649, \"Yeardate\": \"2000-01-01T00:00:00\"}, {\"Year\": 2001, \"Field\": \"Business\", \"Percent\": 50.27514494, \"Yeardate\": \"2001-01-01T00:00:00\"}, {\"Year\": 2002, \"Field\": \"Business\", \"Percent\": 50.5523346, \"Yeardate\": \"2002-01-01T00:00:00\"}, {\"Year\": 2003, \"Field\": \"Business\", \"Percent\": 50.34559774, \"Yeardate\": \"2003-01-01T00:00:00\"}, {\"Year\": 2004, \"Field\": \"Business\", \"Percent\": 49.95089449, \"Yeardate\": \"2004-01-01T00:00:00\"}, {\"Year\": 2005, \"Field\": \"Business\", \"Percent\": 49.79185139, \"Yeardate\": \"2005-01-01T00:00:00\"}, {\"Year\": 2006, \"Field\": \"Business\", \"Percent\": 49.21091439, \"Yeardate\": \"2006-01-01T00:00:00\"}, {\"Year\": 2007, \"Field\": \"Business\", \"Percent\": 49.00045935, \"Yeardate\": \"2007-01-01T00:00:00\"}, {\"Year\": 2008, \"Field\": \"Business\", \"Percent\": 48.88802678, \"Yeardate\": \"2008-01-01T00:00:00\"}, {\"Year\": 2009, \"Field\": \"Business\", \"Percent\": 48.84047414, \"Yeardate\": \"2009-01-01T00:00:00\"}, {\"Year\": 2010, \"Field\": \"Business\", \"Percent\": 48.75798769, \"Yeardate\": \"2010-01-01T00:00:00\"}, {\"Year\": 2011, \"Field\": \"Business\", \"Percent\": 48.18041792, \"Yeardate\": \"2011-01-01T00:00:00\"}, {\"Year\": 1970, \"Field\": \"Engineering\", \"Percent\": 0.8, \"Yeardate\": \"1970-01-01T00:00:00\"}, {\"Year\": 1971, \"Field\": \"Engineering\", \"Percent\": 1.0, \"Yeardate\": \"1971-01-01T00:00:00\"}, {\"Year\": 1972, \"Field\": \"Engineering\", \"Percent\": 1.2, \"Yeardate\": \"1972-01-01T00:00:00\"}, {\"Year\": 1973, \"Field\": \"Engineering\", \"Percent\": 1.6, \"Yeardate\": \"1973-01-01T00:00:00\"}, {\"Year\": 1974, \"Field\": \"Engineering\", \"Percent\": 2.2, \"Yeardate\": \"1974-01-01T00:00:00\"}, {\"Year\": 1975, \"Field\": \"Engineering\", \"Percent\": 3.2, \"Yeardate\": \"1975-01-01T00:00:00\"}, {\"Year\": 1976, \"Field\": \"Engineering\", \"Percent\": 4.5, \"Yeardate\": \"1976-01-01T00:00:00\"}, {\"Year\": 1977, \"Field\": \"Engineering\", \"Percent\": 6.8, \"Yeardate\": \"1977-01-01T00:00:00\"}, {\"Year\": 1978, \"Field\": \"Engineering\", \"Percent\": 8.4, \"Yeardate\": \"1978-01-01T00:00:00\"}, {\"Year\": 1979, \"Field\": \"Engineering\", \"Percent\": 9.4, \"Yeardate\": \"1979-01-01T00:00:00\"}, {\"Year\": 1980, \"Field\": \"Engineering\", \"Percent\": 10.3, \"Yeardate\": \"1980-01-01T00:00:00\"}, {\"Year\": 1981, \"Field\": \"Engineering\", \"Percent\": 11.6, \"Yeardate\": \"1981-01-01T00:00:00\"}, {\"Year\": 1982, \"Field\": \"Engineering\", \"Percent\": 12.4, \"Yeardate\": \"1982-01-01T00:00:00\"}, {\"Year\": 1983, \"Field\": \"Engineering\", \"Percent\": 13.1, \"Yeardate\": \"1983-01-01T00:00:00\"}, {\"Year\": 1984, \"Field\": \"Engineering\", \"Percent\": 13.5, \"Yeardate\": \"1984-01-01T00:00:00\"}, {\"Year\": 1985, \"Field\": \"Engineering\", \"Percent\": 13.5, \"Yeardate\": \"1985-01-01T00:00:00\"}, {\"Year\": 1986, \"Field\": \"Engineering\", \"Percent\": 13.9, \"Yeardate\": \"1986-01-01T00:00:00\"}, {\"Year\": 1987, \"Field\": \"Engineering\", \"Percent\": 14.0, \"Yeardate\": \"1987-01-01T00:00:00\"}, {\"Year\": 1988, \"Field\": \"Engineering\", \"Percent\": 13.9, \"Yeardate\": \"1988-01-01T00:00:00\"}, {\"Year\": 1989, \"Field\": \"Engineering\", \"Percent\": 14.1, \"Yeardate\": \"1989-01-01T00:00:00\"}, {\"Year\": 1990, \"Field\": \"Engineering\", \"Percent\": 14.1, \"Yeardate\": \"1990-01-01T00:00:00\"}, {\"Year\": 1991, \"Field\": \"Engineering\", \"Percent\": 14.0, \"Yeardate\": \"1991-01-01T00:00:00\"}, {\"Year\": 1992, \"Field\": \"Engineering\", \"Percent\": 14.5, \"Yeardate\": \"1992-01-01T00:00:00\"}, {\"Year\": 1993, \"Field\": \"Engineering\", \"Percent\": 14.9, \"Yeardate\": \"1993-01-01T00:00:00\"}, {\"Year\": 1994, \"Field\": \"Engineering\", \"Percent\": 15.7, \"Yeardate\": \"1994-01-01T00:00:00\"}, {\"Year\": 1995, \"Field\": \"Engineering\", \"Percent\": 16.2, \"Yeardate\": \"1995-01-01T00:00:00\"}, {\"Year\": 1996, \"Field\": \"Engineering\", \"Percent\": 16.7, \"Yeardate\": \"1996-01-01T00:00:00\"}, {\"Year\": 1997, \"Field\": \"Engineering\", \"Percent\": 17.0, \"Yeardate\": \"1997-01-01T00:00:00\"}, {\"Year\": 1998, \"Field\": \"Engineering\", \"Percent\": 17.8, \"Yeardate\": \"1998-01-01T00:00:00\"}, {\"Year\": 1999, \"Field\": \"Engineering\", \"Percent\": 18.6, \"Yeardate\": \"1999-01-01T00:00:00\"}, {\"Year\": 2000, \"Field\": \"Engineering\", \"Percent\": 18.4, \"Yeardate\": \"2000-01-01T00:00:00\"}, {\"Year\": 2001, \"Field\": \"Engineering\", \"Percent\": 19.0, \"Yeardate\": \"2001-01-01T00:00:00\"}, {\"Year\": 2002, \"Field\": \"Engineering\", \"Percent\": 18.7, \"Yeardate\": \"2002-01-01T00:00:00\"}, {\"Year\": 2003, \"Field\": \"Engineering\", \"Percent\": 18.8, \"Yeardate\": \"2003-01-01T00:00:00\"}, {\"Year\": 2004, \"Field\": \"Engineering\", \"Percent\": 18.2, \"Yeardate\": \"2004-01-01T00:00:00\"}, {\"Year\": 2005, \"Field\": \"Engineering\", \"Percent\": 17.9, \"Yeardate\": \"2005-01-01T00:00:00\"}, {\"Year\": 2006, \"Field\": \"Engineering\", \"Percent\": 16.8, \"Yeardate\": \"2006-01-01T00:00:00\"}, {\"Year\": 2007, \"Field\": \"Engineering\", \"Percent\": 16.8, \"Yeardate\": \"2007-01-01T00:00:00\"}, {\"Year\": 2008, \"Field\": \"Engineering\", \"Percent\": 16.5, \"Yeardate\": \"2008-01-01T00:00:00\"}, {\"Year\": 2009, \"Field\": \"Engineering\", \"Percent\": 16.8, \"Yeardate\": \"2009-01-01T00:00:00\"}, {\"Year\": 2010, \"Field\": \"Engineering\", \"Percent\": 17.2, \"Yeardate\": \"2010-01-01T00:00:00\"}, {\"Year\": 2011, \"Field\": \"Engineering\", \"Percent\": 17.5, \"Yeardate\": \"2011-01-01T00:00:00\"}, {\"Year\": 1970, \"Field\": \"Health\", \"Percent\": 77.1, \"Yeardate\": \"1970-01-01T00:00:00\"}, {\"Year\": 1971, \"Field\": \"Health\", \"Percent\": 75.5, \"Yeardate\": \"1971-01-01T00:00:00\"}, {\"Year\": 1972, \"Field\": \"Health\", \"Percent\": 76.9, \"Yeardate\": \"1972-01-01T00:00:00\"}, {\"Year\": 1973, \"Field\": \"Health\", \"Percent\": 77.4, \"Yeardate\": \"1973-01-01T00:00:00\"}, {\"Year\": 1974, \"Field\": \"Health\", \"Percent\": 77.9, \"Yeardate\": \"1974-01-01T00:00:00\"}, {\"Year\": 1975, \"Field\": \"Health\", \"Percent\": 78.9, \"Yeardate\": \"1975-01-01T00:00:00\"}, {\"Year\": 1976, \"Field\": \"Health\", \"Percent\": 79.2, \"Yeardate\": \"1976-01-01T00:00:00\"}, {\"Year\": 1977, \"Field\": \"Health\", \"Percent\": 80.5, \"Yeardate\": \"1977-01-01T00:00:00\"}, {\"Year\": 1978, \"Field\": \"Health\", \"Percent\": 81.9, \"Yeardate\": \"1978-01-01T00:00:00\"}, {\"Year\": 1979, \"Field\": \"Health\", \"Percent\": 82.3, \"Yeardate\": \"1979-01-01T00:00:00\"}, {\"Year\": 1980, \"Field\": \"Health\", \"Percent\": 83.5, \"Yeardate\": \"1980-01-01T00:00:00\"}, {\"Year\": 1981, \"Field\": \"Health\", \"Percent\": 84.1, \"Yeardate\": \"1981-01-01T00:00:00\"}, {\"Year\": 1982, \"Field\": \"Health\", \"Percent\": 84.4, \"Yeardate\": \"1982-01-01T00:00:00\"}, {\"Year\": 1983, \"Field\": \"Health\", \"Percent\": 84.6, \"Yeardate\": \"1983-01-01T00:00:00\"}, {\"Year\": 1984, \"Field\": \"Health\", \"Percent\": 85.1, \"Yeardate\": \"1984-01-01T00:00:00\"}, {\"Year\": 1985, \"Field\": \"Health\", \"Percent\": 85.3, \"Yeardate\": \"1985-01-01T00:00:00\"}, {\"Year\": 1986, \"Field\": \"Health\", \"Percent\": 85.7, \"Yeardate\": \"1986-01-01T00:00:00\"}, {\"Year\": 1987, \"Field\": \"Health\", \"Percent\": 85.5, \"Yeardate\": \"1987-01-01T00:00:00\"}, {\"Year\": 1988, \"Field\": \"Health\", \"Percent\": 85.2, \"Yeardate\": \"1988-01-01T00:00:00\"}, {\"Year\": 1989, \"Field\": \"Health\", \"Percent\": 84.6, \"Yeardate\": \"1989-01-01T00:00:00\"}, {\"Year\": 1990, \"Field\": \"Health\", \"Percent\": 83.9, \"Yeardate\": \"1990-01-01T00:00:00\"}, {\"Year\": 1991, \"Field\": \"Health\", \"Percent\": 83.5, \"Yeardate\": \"1991-01-01T00:00:00\"}, {\"Year\": 1992, \"Field\": \"Health\", \"Percent\": 83.0, \"Yeardate\": \"1992-01-01T00:00:00\"}, {\"Year\": 1993, \"Field\": \"Health\", \"Percent\": 82.4, \"Yeardate\": \"1993-01-01T00:00:00\"}, {\"Year\": 1994, \"Field\": \"Health\", \"Percent\": 81.8, \"Yeardate\": \"1994-01-01T00:00:00\"}, {\"Year\": 1995, \"Field\": \"Health\", \"Percent\": 81.5, \"Yeardate\": \"1995-01-01T00:00:00\"}, {\"Year\": 1996, \"Field\": \"Health\", \"Percent\": 81.3, \"Yeardate\": \"1996-01-01T00:00:00\"}, {\"Year\": 1997, \"Field\": \"Health\", \"Percent\": 81.9, \"Yeardate\": \"1997-01-01T00:00:00\"}, {\"Year\": 1998, \"Field\": \"Health\", \"Percent\": 82.1, \"Yeardate\": \"1998-01-01T00:00:00\"}, {\"Year\": 1999, \"Field\": \"Health\", \"Percent\": 83.5, \"Yeardate\": \"1999-01-01T00:00:00\"}, {\"Year\": 2000, \"Field\": \"Health\", \"Percent\": 83.5, \"Yeardate\": \"2000-01-01T00:00:00\"}, {\"Year\": 2001, \"Field\": \"Health\", \"Percent\": 85.1, \"Yeardate\": \"2001-01-01T00:00:00\"}, {\"Year\": 2002, \"Field\": \"Health\", \"Percent\": 85.8, \"Yeardate\": \"2002-01-01T00:00:00\"}, {\"Year\": 2003, \"Field\": \"Health\", \"Percent\": 86.5, \"Yeardate\": \"2003-01-01T00:00:00\"}, {\"Year\": 2004, \"Field\": \"Health\", \"Percent\": 86.5, \"Yeardate\": \"2004-01-01T00:00:00\"}, {\"Year\": 2005, \"Field\": \"Health\", \"Percent\": 86.0, \"Yeardate\": \"2005-01-01T00:00:00\"}, {\"Year\": 2006, \"Field\": \"Health\", \"Percent\": 85.9, \"Yeardate\": \"2006-01-01T00:00:00\"}, {\"Year\": 2007, \"Field\": \"Health\", \"Percent\": 85.4, \"Yeardate\": \"2007-01-01T00:00:00\"}, {\"Year\": 2008, \"Field\": \"Health\", \"Percent\": 85.2, \"Yeardate\": \"2008-01-01T00:00:00\"}, {\"Year\": 2009, \"Field\": \"Health\", \"Percent\": 85.1, \"Yeardate\": \"2009-01-01T00:00:00\"}, {\"Year\": 2010, \"Field\": \"Health\", \"Percent\": 85.0, \"Yeardate\": \"2010-01-01T00:00:00\"}, {\"Year\": 2011, \"Field\": \"Health\", \"Percent\": 84.8, \"Yeardate\": \"2011-01-01T00:00:00\"}, {\"Year\": 1970, \"Field\": \"Psychology\", \"Percent\": 44.4, \"Yeardate\": \"1970-01-01T00:00:00\"}, {\"Year\": 1971, \"Field\": \"Psychology\", \"Percent\": 46.2, \"Yeardate\": \"1971-01-01T00:00:00\"}, {\"Year\": 1972, \"Field\": \"Psychology\", \"Percent\": 47.6, \"Yeardate\": \"1972-01-01T00:00:00\"}, {\"Year\": 1973, \"Field\": \"Psychology\", \"Percent\": 50.4, \"Yeardate\": \"1973-01-01T00:00:00\"}, {\"Year\": 1974, \"Field\": \"Psychology\", \"Percent\": 52.6, \"Yeardate\": \"1974-01-01T00:00:00\"}, {\"Year\": 1975, \"Field\": \"Psychology\", \"Percent\": 54.5, \"Yeardate\": \"1975-01-01T00:00:00\"}, {\"Year\": 1976, \"Field\": \"Psychology\", \"Percent\": 56.9, \"Yeardate\": \"1976-01-01T00:00:00\"}, {\"Year\": 1977, \"Field\": \"Psychology\", \"Percent\": 59.0, \"Yeardate\": \"1977-01-01T00:00:00\"}, {\"Year\": 1978, \"Field\": \"Psychology\", \"Percent\": 61.3, \"Yeardate\": \"1978-01-01T00:00:00\"}, {\"Year\": 1979, \"Field\": \"Psychology\", \"Percent\": 63.3, \"Yeardate\": \"1979-01-01T00:00:00\"}, {\"Year\": 1980, \"Field\": \"Psychology\", \"Percent\": 65.1, \"Yeardate\": \"1980-01-01T00:00:00\"}, {\"Year\": 1981, \"Field\": \"Psychology\", \"Percent\": 66.9, \"Yeardate\": \"1981-01-01T00:00:00\"}, {\"Year\": 1982, \"Field\": \"Psychology\", \"Percent\": 67.5, \"Yeardate\": \"1982-01-01T00:00:00\"}, {\"Year\": 1983, \"Field\": \"Psychology\", \"Percent\": 67.9, \"Yeardate\": \"1983-01-01T00:00:00\"}, {\"Year\": 1984, \"Field\": \"Psychology\", \"Percent\": 68.2, \"Yeardate\": \"1984-01-01T00:00:00\"}, {\"Year\": 1985, \"Field\": \"Psychology\", \"Percent\": 69.0, \"Yeardate\": \"1985-01-01T00:00:00\"}, {\"Year\": 1986, \"Field\": \"Psychology\", \"Percent\": 69.0, \"Yeardate\": \"1986-01-01T00:00:00\"}, {\"Year\": 1987, \"Field\": \"Psychology\", \"Percent\": 70.1, \"Yeardate\": \"1987-01-01T00:00:00\"}, {\"Year\": 1988, \"Field\": \"Psychology\", \"Percent\": 70.9, \"Yeardate\": \"1988-01-01T00:00:00\"}, {\"Year\": 1989, \"Field\": \"Psychology\", \"Percent\": 71.6, \"Yeardate\": \"1989-01-01T00:00:00\"}, {\"Year\": 1990, \"Field\": \"Psychology\", \"Percent\": 72.6, \"Yeardate\": \"1990-01-01T00:00:00\"}, {\"Year\": 1991, \"Field\": \"Psychology\", \"Percent\": 73.2, \"Yeardate\": \"1991-01-01T00:00:00\"}, {\"Year\": 1992, \"Field\": \"Psychology\", \"Percent\": 73.2, \"Yeardate\": \"1992-01-01T00:00:00\"}, {\"Year\": 1993, \"Field\": \"Psychology\", \"Percent\": 73.1, \"Yeardate\": \"1993-01-01T00:00:00\"}, {\"Year\": 1994, \"Field\": \"Psychology\", \"Percent\": 72.9, \"Yeardate\": \"1994-01-01T00:00:00\"}, {\"Year\": 1995, \"Field\": \"Psychology\", \"Percent\": 73.0, \"Yeardate\": \"1995-01-01T00:00:00\"}, {\"Year\": 1996, \"Field\": \"Psychology\", \"Percent\": 73.9, \"Yeardate\": \"1996-01-01T00:00:00\"}, {\"Year\": 1997, \"Field\": \"Psychology\", \"Percent\": 74.4, \"Yeardate\": \"1997-01-01T00:00:00\"}, {\"Year\": 1998, \"Field\": \"Psychology\", \"Percent\": 75.1, \"Yeardate\": \"1998-01-01T00:00:00\"}, {\"Year\": 1999, \"Field\": \"Psychology\", \"Percent\": 76.5, \"Yeardate\": \"1999-01-01T00:00:00\"}, {\"Year\": 2000, \"Field\": \"Psychology\", \"Percent\": 77.5, \"Yeardate\": \"2000-01-01T00:00:00\"}, {\"Year\": 2001, \"Field\": \"Psychology\", \"Percent\": 77.5, \"Yeardate\": \"2001-01-01T00:00:00\"}, {\"Year\": 2002, \"Field\": \"Psychology\", \"Percent\": 77.7, \"Yeardate\": \"2002-01-01T00:00:00\"}, {\"Year\": 2003, \"Field\": \"Psychology\", \"Percent\": 77.8, \"Yeardate\": \"2003-01-01T00:00:00\"}, {\"Year\": 2004, \"Field\": \"Psychology\", \"Percent\": 77.8, \"Yeardate\": \"2004-01-01T00:00:00\"}, {\"Year\": 2005, \"Field\": \"Psychology\", \"Percent\": 77.5, \"Yeardate\": \"2005-01-01T00:00:00\"}, {\"Year\": 2006, \"Field\": \"Psychology\", \"Percent\": 77.4, \"Yeardate\": \"2006-01-01T00:00:00\"}, {\"Year\": 2007, \"Field\": \"Psychology\", \"Percent\": 77.1, \"Yeardate\": \"2007-01-01T00:00:00\"}, {\"Year\": 2008, \"Field\": \"Psychology\", \"Percent\": 77.2, \"Yeardate\": \"2008-01-01T00:00:00\"}, {\"Year\": 2009, \"Field\": \"Psychology\", \"Percent\": 77.1, \"Yeardate\": \"2009-01-01T00:00:00\"}, {\"Year\": 2010, \"Field\": \"Psychology\", \"Percent\": 77.0, \"Yeardate\": \"2010-01-01T00:00:00\"}, {\"Year\": 2011, \"Field\": \"Psychology\", \"Percent\": 76.7, \"Yeardate\": \"2011-01-01T00:00:00\"}]}}, {\"mode\": \"vega-lite\"});\n",
       "</script>"
      ],
      "text/plain": [
       "alt.Chart(...)"
      ]
     },
     "execution_count": 28,
     "metadata": {},
     "output_type": "execute_result"
    }
   ],
   "source": [
    "df_tall.plot.line(\n",
    "    alt.X('Year:Q'), \n",
    "    alt.Y('Percent:Q'), \n",
    "    alt.Color('Field:N')\n",
    ")"
   ]
  },
  {
   "cell_type": "code",
   "execution_count": 25,
   "metadata": {},
   "outputs": [
    {
     "data": {
      "text/html": [
       "\n",
       "<style>\n",
       "  #altair-viz-4d1ce5c6e88145dda415532dfc8f0cdd.vega-embed {\n",
       "    width: 100%;\n",
       "    display: flex;\n",
       "  }\n",
       "\n",
       "  #altair-viz-4d1ce5c6e88145dda415532dfc8f0cdd.vega-embed details,\n",
       "  #altair-viz-4d1ce5c6e88145dda415532dfc8f0cdd.vega-embed details summary {\n",
       "    position: relative;\n",
       "  }\n",
       "</style>\n",
       "<div id=\"altair-viz-4d1ce5c6e88145dda415532dfc8f0cdd\"></div>\n",
       "<script type=\"text/javascript\">\n",
       "  var VEGA_DEBUG = (typeof VEGA_DEBUG == \"undefined\") ? {} : VEGA_DEBUG;\n",
       "  (function(spec, embedOpt){\n",
       "    let outputDiv = document.currentScript.previousElementSibling;\n",
       "    if (outputDiv.id !== \"altair-viz-4d1ce5c6e88145dda415532dfc8f0cdd\") {\n",
       "      outputDiv = document.getElementById(\"altair-viz-4d1ce5c6e88145dda415532dfc8f0cdd\");\n",
       "    }\n",
       "\n",
       "    const paths = {\n",
       "      \"vega\": \"https://cdn.jsdelivr.net/npm/vega@5?noext\",\n",
       "      \"vega-lib\": \"https://cdn.jsdelivr.net/npm/vega-lib?noext\",\n",
       "      \"vega-lite\": \"https://cdn.jsdelivr.net/npm/vega-lite@5.20.1?noext\",\n",
       "      \"vega-embed\": \"https://cdn.jsdelivr.net/npm/vega-embed@6?noext\",\n",
       "    };\n",
       "\n",
       "    function maybeLoadScript(lib, version) {\n",
       "      var key = `${lib.replace(\"-\", \"\")}_version`;\n",
       "      return (VEGA_DEBUG[key] == version) ?\n",
       "        Promise.resolve(paths[lib]) :\n",
       "        new Promise(function(resolve, reject) {\n",
       "          var s = document.createElement('script');\n",
       "          document.getElementsByTagName(\"head\")[0].appendChild(s);\n",
       "          s.async = true;\n",
       "          s.onload = () => {\n",
       "            VEGA_DEBUG[key] = version;\n",
       "            return resolve(paths[lib]);\n",
       "          };\n",
       "          s.onerror = () => reject(`Error loading script: ${paths[lib]}`);\n",
       "          s.src = paths[lib];\n",
       "        });\n",
       "    }\n",
       "\n",
       "    function showError(err) {\n",
       "      outputDiv.innerHTML = `<div class=\"error\" style=\"color:red;\">${err}</div>`;\n",
       "      throw err;\n",
       "    }\n",
       "\n",
       "    function displayChart(vegaEmbed) {\n",
       "      vegaEmbed(outputDiv, spec, embedOpt)\n",
       "        .catch(err => showError(`Javascript Error: ${err.message}<br>This usually means there's a typo in your chart specification. See the javascript console for the full traceback.`));\n",
       "    }\n",
       "\n",
       "    if(typeof define === \"function\" && define.amd) {\n",
       "      requirejs.config({paths});\n",
       "      let deps = [\"vega-embed\"];\n",
       "      require(deps, displayChart, err => showError(`Error loading script: ${err.message}`));\n",
       "    } else {\n",
       "      maybeLoadScript(\"vega\", \"5\")\n",
       "        .then(() => maybeLoadScript(\"vega-lite\", \"5.20.1\"))\n",
       "        .then(() => maybeLoadScript(\"vega-embed\", \"6\"))\n",
       "        .catch(showError)\n",
       "        .then(() => displayChart(vegaEmbed));\n",
       "    }\n",
       "  })({\"config\": {\"view\": {\"continuousWidth\": 300, \"continuousHeight\": 300}}, \"data\": {\"name\": \"data-7bd34bc17e6719b4e12365c5b18fa641\"}, \"mark\": {\"type\": \"line\", \"tooltip\": true}, \"encoding\": {\"color\": {\"field\": \"Field\", \"type\": \"nominal\"}, \"x\": {\"field\": \"Yeardate\", \"type\": \"temporal\"}, \"y\": {\"field\": \"Percent\", \"type\": \"quantitative\"}}, \"params\": [{\"name\": \"param_13\", \"select\": {\"type\": \"interval\", \"encodings\": [\"x\", \"y\"]}, \"bind\": \"scales\"}], \"$schema\": \"https://vega.github.io/schema/vega-lite/v5.20.1.json\", \"datasets\": {\"data-7bd34bc17e6719b4e12365c5b18fa641\": [{\"Year\": 1970, \"Field\": \"Agriculture\", \"Percent\": 4.22979798, \"Yeardate\": \"1970-01-01T00:00:00\"}, {\"Year\": 1971, \"Field\": \"Agriculture\", \"Percent\": 5.452796685, \"Yeardate\": \"1971-01-01T00:00:00\"}, {\"Year\": 1972, \"Field\": \"Agriculture\", \"Percent\": 7.42071022, \"Yeardate\": \"1972-01-01T00:00:00\"}, {\"Year\": 1973, \"Field\": \"Agriculture\", \"Percent\": 9.653602412, \"Yeardate\": \"1973-01-01T00:00:00\"}, {\"Year\": 1974, \"Field\": \"Agriculture\", \"Percent\": 14.07462346, \"Yeardate\": \"1974-01-01T00:00:00\"}, {\"Year\": 1975, \"Field\": \"Agriculture\", \"Percent\": 18.33316153, \"Yeardate\": \"1975-01-01T00:00:00\"}, {\"Year\": 1976, \"Field\": \"Agriculture\", \"Percent\": 22.25276005, \"Yeardate\": \"1976-01-01T00:00:00\"}, {\"Year\": 1977, \"Field\": \"Agriculture\", \"Percent\": 24.6401766, \"Yeardate\": \"1977-01-01T00:00:00\"}, {\"Year\": 1978, \"Field\": \"Agriculture\", \"Percent\": 27.14619175, \"Yeardate\": \"1978-01-01T00:00:00\"}, {\"Year\": 1979, \"Field\": \"Agriculture\", \"Percent\": 29.63336549, \"Yeardate\": \"1979-01-01T00:00:00\"}, {\"Year\": 1980, \"Field\": \"Agriculture\", \"Percent\": 30.75938956, \"Yeardate\": \"1980-01-01T00:00:00\"}, {\"Year\": 1981, \"Field\": \"Agriculture\", \"Percent\": 31.31865519, \"Yeardate\": \"1981-01-01T00:00:00\"}, {\"Year\": 1982, \"Field\": \"Agriculture\", \"Percent\": 32.63666364, \"Yeardate\": \"1982-01-01T00:00:00\"}, {\"Year\": 1983, \"Field\": \"Agriculture\", \"Percent\": 31.6353471, \"Yeardate\": \"1983-01-01T00:00:00\"}, {\"Year\": 1984, \"Field\": \"Agriculture\", \"Percent\": 31.09294748, \"Yeardate\": \"1984-01-01T00:00:00\"}, {\"Year\": 1985, \"Field\": \"Agriculture\", \"Percent\": 31.3796588, \"Yeardate\": \"1985-01-01T00:00:00\"}, {\"Year\": 1986, \"Field\": \"Agriculture\", \"Percent\": 31.19871923, \"Yeardate\": \"1986-01-01T00:00:00\"}, {\"Year\": 1987, \"Field\": \"Agriculture\", \"Percent\": 31.48642948, \"Yeardate\": \"1987-01-01T00:00:00\"}, {\"Year\": 1988, \"Field\": \"Agriculture\", \"Percent\": 31.08508746, \"Yeardate\": \"1988-01-01T00:00:00\"}, {\"Year\": 1989, \"Field\": \"Agriculture\", \"Percent\": 31.6124031, \"Yeardate\": \"1989-01-01T00:00:00\"}, {\"Year\": 1990, \"Field\": \"Agriculture\", \"Percent\": 32.70344407, \"Yeardate\": \"1990-01-01T00:00:00\"}, {\"Year\": 1991, \"Field\": \"Agriculture\", \"Percent\": 34.71183749, \"Yeardate\": \"1991-01-01T00:00:00\"}, {\"Year\": 1992, \"Field\": \"Agriculture\", \"Percent\": 33.93165961, \"Yeardate\": \"1992-01-01T00:00:00\"}, {\"Year\": 1993, \"Field\": \"Agriculture\", \"Percent\": 34.94683208, \"Yeardate\": \"1993-01-01T00:00:00\"}, {\"Year\": 1994, \"Field\": \"Agriculture\", \"Percent\": 36.03267447, \"Yeardate\": \"1994-01-01T00:00:00\"}, {\"Year\": 1995, \"Field\": \"Agriculture\", \"Percent\": 36.84480747, \"Yeardate\": \"1995-01-01T00:00:00\"}, {\"Year\": 1996, \"Field\": \"Agriculture\", \"Percent\": 38.96977475, \"Yeardate\": \"1996-01-01T00:00:00\"}, {\"Year\": 1997, \"Field\": \"Agriculture\", \"Percent\": 40.68568483, \"Yeardate\": \"1997-01-01T00:00:00\"}, {\"Year\": 1998, \"Field\": \"Agriculture\", \"Percent\": 41.91240333, \"Yeardate\": \"1998-01-01T00:00:00\"}, {\"Year\": 1999, \"Field\": \"Agriculture\", \"Percent\": 42.88720191, \"Yeardate\": \"1999-01-01T00:00:00\"}, {\"Year\": 2000, \"Field\": \"Agriculture\", \"Percent\": 45.05776637, \"Yeardate\": \"2000-01-01T00:00:00\"}, {\"Year\": 2001, \"Field\": \"Agriculture\", \"Percent\": 45.86601517, \"Yeardate\": \"2001-01-01T00:00:00\"}, {\"Year\": 2002, \"Field\": \"Agriculture\", \"Percent\": 47.13465821, \"Yeardate\": \"2002-01-01T00:00:00\"}, {\"Year\": 2003, \"Field\": \"Agriculture\", \"Percent\": 47.93518721, \"Yeardate\": \"2003-01-01T00:00:00\"}, {\"Year\": 2004, \"Field\": \"Agriculture\", \"Percent\": 47.88714025, \"Yeardate\": \"2004-01-01T00:00:00\"}, {\"Year\": 2005, \"Field\": \"Agriculture\", \"Percent\": 47.67275409, \"Yeardate\": \"2005-01-01T00:00:00\"}, {\"Year\": 2006, \"Field\": \"Agriculture\", \"Percent\": 46.79029957, \"Yeardate\": \"2006-01-01T00:00:00\"}, {\"Year\": 2007, \"Field\": \"Agriculture\", \"Percent\": 47.60502633, \"Yeardate\": \"2007-01-01T00:00:00\"}, {\"Year\": 2008, \"Field\": \"Agriculture\", \"Percent\": 47.570834, \"Yeardate\": \"2008-01-01T00:00:00\"}, {\"Year\": 2009, \"Field\": \"Agriculture\", \"Percent\": 48.66722357, \"Yeardate\": \"2009-01-01T00:00:00\"}, {\"Year\": 2010, \"Field\": \"Agriculture\", \"Percent\": 48.73004227, \"Yeardate\": \"2010-01-01T00:00:00\"}, {\"Year\": 2011, \"Field\": \"Agriculture\", \"Percent\": 50.03718193, \"Yeardate\": \"2011-01-01T00:00:00\"}, {\"Year\": 1970, \"Field\": \"Business\", \"Percent\": 9.064438975, \"Yeardate\": \"1970-01-01T00:00:00\"}, {\"Year\": 1971, \"Field\": \"Business\", \"Percent\": 9.503186594, \"Yeardate\": \"1971-01-01T00:00:00\"}, {\"Year\": 1972, \"Field\": \"Business\", \"Percent\": 10.5589621, \"Yeardate\": \"1972-01-01T00:00:00\"}, {\"Year\": 1973, \"Field\": \"Business\", \"Percent\": 12.80460152, \"Yeardate\": \"1973-01-01T00:00:00\"}, {\"Year\": 1974, \"Field\": \"Business\", \"Percent\": 16.20485038, \"Yeardate\": \"1974-01-01T00:00:00\"}, {\"Year\": 1975, \"Field\": \"Business\", \"Percent\": 19.68624931, \"Yeardate\": \"1975-01-01T00:00:00\"}, {\"Year\": 1976, \"Field\": \"Business\", \"Percent\": 23.4300375, \"Yeardate\": \"1976-01-01T00:00:00\"}, {\"Year\": 1977, \"Field\": \"Business\", \"Percent\": 27.16342715, \"Yeardate\": \"1977-01-01T00:00:00\"}, {\"Year\": 1978, \"Field\": \"Business\", \"Percent\": 30.52751868, \"Yeardate\": \"1978-01-01T00:00:00\"}, {\"Year\": 1979, \"Field\": \"Business\", \"Percent\": 33.62163381, \"Yeardate\": \"1979-01-01T00:00:00\"}, {\"Year\": 1980, \"Field\": \"Business\", \"Percent\": 36.76572529, \"Yeardate\": \"1980-01-01T00:00:00\"}, {\"Year\": 1981, \"Field\": \"Business\", \"Percent\": 39.26622984, \"Yeardate\": \"1981-01-01T00:00:00\"}, {\"Year\": 1982, \"Field\": \"Business\", \"Percent\": 41.94937335, \"Yeardate\": \"1982-01-01T00:00:00\"}, {\"Year\": 1983, \"Field\": \"Business\", \"Percent\": 43.54206966, \"Yeardate\": \"1983-01-01T00:00:00\"}, {\"Year\": 1984, \"Field\": \"Business\", \"Percent\": 45.12403027, \"Yeardate\": \"1984-01-01T00:00:00\"}, {\"Year\": 1985, \"Field\": \"Business\", \"Percent\": 45.747782, \"Yeardate\": \"1985-01-01T00:00:00\"}, {\"Year\": 1986, \"Field\": \"Business\", \"Percent\": 46.53291505, \"Yeardate\": \"1986-01-01T00:00:00\"}, {\"Year\": 1987, \"Field\": \"Business\", \"Percent\": 46.69046648, \"Yeardate\": \"1987-01-01T00:00:00\"}, {\"Year\": 1988, \"Field\": \"Business\", \"Percent\": 46.7648277, \"Yeardate\": \"1988-01-01T00:00:00\"}, {\"Year\": 1989, \"Field\": \"Business\", \"Percent\": 46.7815648, \"Yeardate\": \"1989-01-01T00:00:00\"}, {\"Year\": 1990, \"Field\": \"Business\", \"Percent\": 47.20085084, \"Yeardate\": \"1990-01-01T00:00:00\"}, {\"Year\": 1991, \"Field\": \"Business\", \"Percent\": 47.22432481, \"Yeardate\": \"1991-01-01T00:00:00\"}, {\"Year\": 1992, \"Field\": \"Business\", \"Percent\": 47.21939541, \"Yeardate\": \"1992-01-01T00:00:00\"}, {\"Year\": 1993, \"Field\": \"Business\", \"Percent\": 47.63933161, \"Yeardate\": \"1993-01-01T00:00:00\"}, {\"Year\": 1994, \"Field\": \"Business\", \"Percent\": 47.98392441, \"Yeardate\": \"1994-01-01T00:00:00\"}, {\"Year\": 1995, \"Field\": \"Business\", \"Percent\": 48.57318101, \"Yeardate\": \"1995-01-01T00:00:00\"}, {\"Year\": 1996, \"Field\": \"Business\", \"Percent\": 48.6473926, \"Yeardate\": \"1996-01-01T00:00:00\"}, {\"Year\": 1997, \"Field\": \"Business\", \"Percent\": 48.56105033, \"Yeardate\": \"1997-01-01T00:00:00\"}, {\"Year\": 1998, \"Field\": \"Business\", \"Percent\": 49.2585152, \"Yeardate\": \"1998-01-01T00:00:00\"}, {\"Year\": 1999, \"Field\": \"Business\", \"Percent\": 49.81020815, \"Yeardate\": \"1999-01-01T00:00:00\"}, {\"Year\": 2000, \"Field\": \"Business\", \"Percent\": 49.80361649, \"Yeardate\": \"2000-01-01T00:00:00\"}, {\"Year\": 2001, \"Field\": \"Business\", \"Percent\": 50.27514494, \"Yeardate\": \"2001-01-01T00:00:00\"}, {\"Year\": 2002, \"Field\": \"Business\", \"Percent\": 50.5523346, \"Yeardate\": \"2002-01-01T00:00:00\"}, {\"Year\": 2003, \"Field\": \"Business\", \"Percent\": 50.34559774, \"Yeardate\": \"2003-01-01T00:00:00\"}, {\"Year\": 2004, \"Field\": \"Business\", \"Percent\": 49.95089449, \"Yeardate\": \"2004-01-01T00:00:00\"}, {\"Year\": 2005, \"Field\": \"Business\", \"Percent\": 49.79185139, \"Yeardate\": \"2005-01-01T00:00:00\"}, {\"Year\": 2006, \"Field\": \"Business\", \"Percent\": 49.21091439, \"Yeardate\": \"2006-01-01T00:00:00\"}, {\"Year\": 2007, \"Field\": \"Business\", \"Percent\": 49.00045935, \"Yeardate\": \"2007-01-01T00:00:00\"}, {\"Year\": 2008, \"Field\": \"Business\", \"Percent\": 48.88802678, \"Yeardate\": \"2008-01-01T00:00:00\"}, {\"Year\": 2009, \"Field\": \"Business\", \"Percent\": 48.84047414, \"Yeardate\": \"2009-01-01T00:00:00\"}, {\"Year\": 2010, \"Field\": \"Business\", \"Percent\": 48.75798769, \"Yeardate\": \"2010-01-01T00:00:00\"}, {\"Year\": 2011, \"Field\": \"Business\", \"Percent\": 48.18041792, \"Yeardate\": \"2011-01-01T00:00:00\"}, {\"Year\": 1970, \"Field\": \"Engineering\", \"Percent\": 0.8, \"Yeardate\": \"1970-01-01T00:00:00\"}, {\"Year\": 1971, \"Field\": \"Engineering\", \"Percent\": 1.0, \"Yeardate\": \"1971-01-01T00:00:00\"}, {\"Year\": 1972, \"Field\": \"Engineering\", \"Percent\": 1.2, \"Yeardate\": \"1972-01-01T00:00:00\"}, {\"Year\": 1973, \"Field\": \"Engineering\", \"Percent\": 1.6, \"Yeardate\": \"1973-01-01T00:00:00\"}, {\"Year\": 1974, \"Field\": \"Engineering\", \"Percent\": 2.2, \"Yeardate\": \"1974-01-01T00:00:00\"}, {\"Year\": 1975, \"Field\": \"Engineering\", \"Percent\": 3.2, \"Yeardate\": \"1975-01-01T00:00:00\"}, {\"Year\": 1976, \"Field\": \"Engineering\", \"Percent\": 4.5, \"Yeardate\": \"1976-01-01T00:00:00\"}, {\"Year\": 1977, \"Field\": \"Engineering\", \"Percent\": 6.8, \"Yeardate\": \"1977-01-01T00:00:00\"}, {\"Year\": 1978, \"Field\": \"Engineering\", \"Percent\": 8.4, \"Yeardate\": \"1978-01-01T00:00:00\"}, {\"Year\": 1979, \"Field\": \"Engineering\", \"Percent\": 9.4, \"Yeardate\": \"1979-01-01T00:00:00\"}, {\"Year\": 1980, \"Field\": \"Engineering\", \"Percent\": 10.3, \"Yeardate\": \"1980-01-01T00:00:00\"}, {\"Year\": 1981, \"Field\": \"Engineering\", \"Percent\": 11.6, \"Yeardate\": \"1981-01-01T00:00:00\"}, {\"Year\": 1982, \"Field\": \"Engineering\", \"Percent\": 12.4, \"Yeardate\": \"1982-01-01T00:00:00\"}, {\"Year\": 1983, \"Field\": \"Engineering\", \"Percent\": 13.1, \"Yeardate\": \"1983-01-01T00:00:00\"}, {\"Year\": 1984, \"Field\": \"Engineering\", \"Percent\": 13.5, \"Yeardate\": \"1984-01-01T00:00:00\"}, {\"Year\": 1985, \"Field\": \"Engineering\", \"Percent\": 13.5, \"Yeardate\": \"1985-01-01T00:00:00\"}, {\"Year\": 1986, \"Field\": \"Engineering\", \"Percent\": 13.9, \"Yeardate\": \"1986-01-01T00:00:00\"}, {\"Year\": 1987, \"Field\": \"Engineering\", \"Percent\": 14.0, \"Yeardate\": \"1987-01-01T00:00:00\"}, {\"Year\": 1988, \"Field\": \"Engineering\", \"Percent\": 13.9, \"Yeardate\": \"1988-01-01T00:00:00\"}, {\"Year\": 1989, \"Field\": \"Engineering\", \"Percent\": 14.1, \"Yeardate\": \"1989-01-01T00:00:00\"}, {\"Year\": 1990, \"Field\": \"Engineering\", \"Percent\": 14.1, \"Yeardate\": \"1990-01-01T00:00:00\"}, {\"Year\": 1991, \"Field\": \"Engineering\", \"Percent\": 14.0, \"Yeardate\": \"1991-01-01T00:00:00\"}, {\"Year\": 1992, \"Field\": \"Engineering\", \"Percent\": 14.5, \"Yeardate\": \"1992-01-01T00:00:00\"}, {\"Year\": 1993, \"Field\": \"Engineering\", \"Percent\": 14.9, \"Yeardate\": \"1993-01-01T00:00:00\"}, {\"Year\": 1994, \"Field\": \"Engineering\", \"Percent\": 15.7, \"Yeardate\": \"1994-01-01T00:00:00\"}, {\"Year\": 1995, \"Field\": \"Engineering\", \"Percent\": 16.2, \"Yeardate\": \"1995-01-01T00:00:00\"}, {\"Year\": 1996, \"Field\": \"Engineering\", \"Percent\": 16.7, \"Yeardate\": \"1996-01-01T00:00:00\"}, {\"Year\": 1997, \"Field\": \"Engineering\", \"Percent\": 17.0, \"Yeardate\": \"1997-01-01T00:00:00\"}, {\"Year\": 1998, \"Field\": \"Engineering\", \"Percent\": 17.8, \"Yeardate\": \"1998-01-01T00:00:00\"}, {\"Year\": 1999, \"Field\": \"Engineering\", \"Percent\": 18.6, \"Yeardate\": \"1999-01-01T00:00:00\"}, {\"Year\": 2000, \"Field\": \"Engineering\", \"Percent\": 18.4, \"Yeardate\": \"2000-01-01T00:00:00\"}, {\"Year\": 2001, \"Field\": \"Engineering\", \"Percent\": 19.0, \"Yeardate\": \"2001-01-01T00:00:00\"}, {\"Year\": 2002, \"Field\": \"Engineering\", \"Percent\": 18.7, \"Yeardate\": \"2002-01-01T00:00:00\"}, {\"Year\": 2003, \"Field\": \"Engineering\", \"Percent\": 18.8, \"Yeardate\": \"2003-01-01T00:00:00\"}, {\"Year\": 2004, \"Field\": \"Engineering\", \"Percent\": 18.2, \"Yeardate\": \"2004-01-01T00:00:00\"}, {\"Year\": 2005, \"Field\": \"Engineering\", \"Percent\": 17.9, \"Yeardate\": \"2005-01-01T00:00:00\"}, {\"Year\": 2006, \"Field\": \"Engineering\", \"Percent\": 16.8, \"Yeardate\": \"2006-01-01T00:00:00\"}, {\"Year\": 2007, \"Field\": \"Engineering\", \"Percent\": 16.8, \"Yeardate\": \"2007-01-01T00:00:00\"}, {\"Year\": 2008, \"Field\": \"Engineering\", \"Percent\": 16.5, \"Yeardate\": \"2008-01-01T00:00:00\"}, {\"Year\": 2009, \"Field\": \"Engineering\", \"Percent\": 16.8, \"Yeardate\": \"2009-01-01T00:00:00\"}, {\"Year\": 2010, \"Field\": \"Engineering\", \"Percent\": 17.2, \"Yeardate\": \"2010-01-01T00:00:00\"}, {\"Year\": 2011, \"Field\": \"Engineering\", \"Percent\": 17.5, \"Yeardate\": \"2011-01-01T00:00:00\"}, {\"Year\": 1970, \"Field\": \"Health\", \"Percent\": 77.1, \"Yeardate\": \"1970-01-01T00:00:00\"}, {\"Year\": 1971, \"Field\": \"Health\", \"Percent\": 75.5, \"Yeardate\": \"1971-01-01T00:00:00\"}, {\"Year\": 1972, \"Field\": \"Health\", \"Percent\": 76.9, \"Yeardate\": \"1972-01-01T00:00:00\"}, {\"Year\": 1973, \"Field\": \"Health\", \"Percent\": 77.4, \"Yeardate\": \"1973-01-01T00:00:00\"}, {\"Year\": 1974, \"Field\": \"Health\", \"Percent\": 77.9, \"Yeardate\": \"1974-01-01T00:00:00\"}, {\"Year\": 1975, \"Field\": \"Health\", \"Percent\": 78.9, \"Yeardate\": \"1975-01-01T00:00:00\"}, {\"Year\": 1976, \"Field\": \"Health\", \"Percent\": 79.2, \"Yeardate\": \"1976-01-01T00:00:00\"}, {\"Year\": 1977, \"Field\": \"Health\", \"Percent\": 80.5, \"Yeardate\": \"1977-01-01T00:00:00\"}, {\"Year\": 1978, \"Field\": \"Health\", \"Percent\": 81.9, \"Yeardate\": \"1978-01-01T00:00:00\"}, {\"Year\": 1979, \"Field\": \"Health\", \"Percent\": 82.3, \"Yeardate\": \"1979-01-01T00:00:00\"}, {\"Year\": 1980, \"Field\": \"Health\", \"Percent\": 83.5, \"Yeardate\": \"1980-01-01T00:00:00\"}, {\"Year\": 1981, \"Field\": \"Health\", \"Percent\": 84.1, \"Yeardate\": \"1981-01-01T00:00:00\"}, {\"Year\": 1982, \"Field\": \"Health\", \"Percent\": 84.4, \"Yeardate\": \"1982-01-01T00:00:00\"}, {\"Year\": 1983, \"Field\": \"Health\", \"Percent\": 84.6, \"Yeardate\": \"1983-01-01T00:00:00\"}, {\"Year\": 1984, \"Field\": \"Health\", \"Percent\": 85.1, \"Yeardate\": \"1984-01-01T00:00:00\"}, {\"Year\": 1985, \"Field\": \"Health\", \"Percent\": 85.3, \"Yeardate\": \"1985-01-01T00:00:00\"}, {\"Year\": 1986, \"Field\": \"Health\", \"Percent\": 85.7, \"Yeardate\": \"1986-01-01T00:00:00\"}, {\"Year\": 1987, \"Field\": \"Health\", \"Percent\": 85.5, \"Yeardate\": \"1987-01-01T00:00:00\"}, {\"Year\": 1988, \"Field\": \"Health\", \"Percent\": 85.2, \"Yeardate\": \"1988-01-01T00:00:00\"}, {\"Year\": 1989, \"Field\": \"Health\", \"Percent\": 84.6, \"Yeardate\": \"1989-01-01T00:00:00\"}, {\"Year\": 1990, \"Field\": \"Health\", \"Percent\": 83.9, \"Yeardate\": \"1990-01-01T00:00:00\"}, {\"Year\": 1991, \"Field\": \"Health\", \"Percent\": 83.5, \"Yeardate\": \"1991-01-01T00:00:00\"}, {\"Year\": 1992, \"Field\": \"Health\", \"Percent\": 83.0, \"Yeardate\": \"1992-01-01T00:00:00\"}, {\"Year\": 1993, \"Field\": \"Health\", \"Percent\": 82.4, \"Yeardate\": \"1993-01-01T00:00:00\"}, {\"Year\": 1994, \"Field\": \"Health\", \"Percent\": 81.8, \"Yeardate\": \"1994-01-01T00:00:00\"}, {\"Year\": 1995, \"Field\": \"Health\", \"Percent\": 81.5, \"Yeardate\": \"1995-01-01T00:00:00\"}, {\"Year\": 1996, \"Field\": \"Health\", \"Percent\": 81.3, \"Yeardate\": \"1996-01-01T00:00:00\"}, {\"Year\": 1997, \"Field\": \"Health\", \"Percent\": 81.9, \"Yeardate\": \"1997-01-01T00:00:00\"}, {\"Year\": 1998, \"Field\": \"Health\", \"Percent\": 82.1, \"Yeardate\": \"1998-01-01T00:00:00\"}, {\"Year\": 1999, \"Field\": \"Health\", \"Percent\": 83.5, \"Yeardate\": \"1999-01-01T00:00:00\"}, {\"Year\": 2000, \"Field\": \"Health\", \"Percent\": 83.5, \"Yeardate\": \"2000-01-01T00:00:00\"}, {\"Year\": 2001, \"Field\": \"Health\", \"Percent\": 85.1, \"Yeardate\": \"2001-01-01T00:00:00\"}, {\"Year\": 2002, \"Field\": \"Health\", \"Percent\": 85.8, \"Yeardate\": \"2002-01-01T00:00:00\"}, {\"Year\": 2003, \"Field\": \"Health\", \"Percent\": 86.5, \"Yeardate\": \"2003-01-01T00:00:00\"}, {\"Year\": 2004, \"Field\": \"Health\", \"Percent\": 86.5, \"Yeardate\": \"2004-01-01T00:00:00\"}, {\"Year\": 2005, \"Field\": \"Health\", \"Percent\": 86.0, \"Yeardate\": \"2005-01-01T00:00:00\"}, {\"Year\": 2006, \"Field\": \"Health\", \"Percent\": 85.9, \"Yeardate\": \"2006-01-01T00:00:00\"}, {\"Year\": 2007, \"Field\": \"Health\", \"Percent\": 85.4, \"Yeardate\": \"2007-01-01T00:00:00\"}, {\"Year\": 2008, \"Field\": \"Health\", \"Percent\": 85.2, \"Yeardate\": \"2008-01-01T00:00:00\"}, {\"Year\": 2009, \"Field\": \"Health\", \"Percent\": 85.1, \"Yeardate\": \"2009-01-01T00:00:00\"}, {\"Year\": 2010, \"Field\": \"Health\", \"Percent\": 85.0, \"Yeardate\": \"2010-01-01T00:00:00\"}, {\"Year\": 2011, \"Field\": \"Health\", \"Percent\": 84.8, \"Yeardate\": \"2011-01-01T00:00:00\"}, {\"Year\": 1970, \"Field\": \"Psychology\", \"Percent\": 44.4, \"Yeardate\": \"1970-01-01T00:00:00\"}, {\"Year\": 1971, \"Field\": \"Psychology\", \"Percent\": 46.2, \"Yeardate\": \"1971-01-01T00:00:00\"}, {\"Year\": 1972, \"Field\": \"Psychology\", \"Percent\": 47.6, \"Yeardate\": \"1972-01-01T00:00:00\"}, {\"Year\": 1973, \"Field\": \"Psychology\", \"Percent\": 50.4, \"Yeardate\": \"1973-01-01T00:00:00\"}, {\"Year\": 1974, \"Field\": \"Psychology\", \"Percent\": 52.6, \"Yeardate\": \"1974-01-01T00:00:00\"}, {\"Year\": 1975, \"Field\": \"Psychology\", \"Percent\": 54.5, \"Yeardate\": \"1975-01-01T00:00:00\"}, {\"Year\": 1976, \"Field\": \"Psychology\", \"Percent\": 56.9, \"Yeardate\": \"1976-01-01T00:00:00\"}, {\"Year\": 1977, \"Field\": \"Psychology\", \"Percent\": 59.0, \"Yeardate\": \"1977-01-01T00:00:00\"}, {\"Year\": 1978, \"Field\": \"Psychology\", \"Percent\": 61.3, \"Yeardate\": \"1978-01-01T00:00:00\"}, {\"Year\": 1979, \"Field\": \"Psychology\", \"Percent\": 63.3, \"Yeardate\": \"1979-01-01T00:00:00\"}, {\"Year\": 1980, \"Field\": \"Psychology\", \"Percent\": 65.1, \"Yeardate\": \"1980-01-01T00:00:00\"}, {\"Year\": 1981, \"Field\": \"Psychology\", \"Percent\": 66.9, \"Yeardate\": \"1981-01-01T00:00:00\"}, {\"Year\": 1982, \"Field\": \"Psychology\", \"Percent\": 67.5, \"Yeardate\": \"1982-01-01T00:00:00\"}, {\"Year\": 1983, \"Field\": \"Psychology\", \"Percent\": 67.9, \"Yeardate\": \"1983-01-01T00:00:00\"}, {\"Year\": 1984, \"Field\": \"Psychology\", \"Percent\": 68.2, \"Yeardate\": \"1984-01-01T00:00:00\"}, {\"Year\": 1985, \"Field\": \"Psychology\", \"Percent\": 69.0, \"Yeardate\": \"1985-01-01T00:00:00\"}, {\"Year\": 1986, \"Field\": \"Psychology\", \"Percent\": 69.0, \"Yeardate\": \"1986-01-01T00:00:00\"}, {\"Year\": 1987, \"Field\": \"Psychology\", \"Percent\": 70.1, \"Yeardate\": \"1987-01-01T00:00:00\"}, {\"Year\": 1988, \"Field\": \"Psychology\", \"Percent\": 70.9, \"Yeardate\": \"1988-01-01T00:00:00\"}, {\"Year\": 1989, \"Field\": \"Psychology\", \"Percent\": 71.6, \"Yeardate\": \"1989-01-01T00:00:00\"}, {\"Year\": 1990, \"Field\": \"Psychology\", \"Percent\": 72.6, \"Yeardate\": \"1990-01-01T00:00:00\"}, {\"Year\": 1991, \"Field\": \"Psychology\", \"Percent\": 73.2, \"Yeardate\": \"1991-01-01T00:00:00\"}, {\"Year\": 1992, \"Field\": \"Psychology\", \"Percent\": 73.2, \"Yeardate\": \"1992-01-01T00:00:00\"}, {\"Year\": 1993, \"Field\": \"Psychology\", \"Percent\": 73.1, \"Yeardate\": \"1993-01-01T00:00:00\"}, {\"Year\": 1994, \"Field\": \"Psychology\", \"Percent\": 72.9, \"Yeardate\": \"1994-01-01T00:00:00\"}, {\"Year\": 1995, \"Field\": \"Psychology\", \"Percent\": 73.0, \"Yeardate\": \"1995-01-01T00:00:00\"}, {\"Year\": 1996, \"Field\": \"Psychology\", \"Percent\": 73.9, \"Yeardate\": \"1996-01-01T00:00:00\"}, {\"Year\": 1997, \"Field\": \"Psychology\", \"Percent\": 74.4, \"Yeardate\": \"1997-01-01T00:00:00\"}, {\"Year\": 1998, \"Field\": \"Psychology\", \"Percent\": 75.1, \"Yeardate\": \"1998-01-01T00:00:00\"}, {\"Year\": 1999, \"Field\": \"Psychology\", \"Percent\": 76.5, \"Yeardate\": \"1999-01-01T00:00:00\"}, {\"Year\": 2000, \"Field\": \"Psychology\", \"Percent\": 77.5, \"Yeardate\": \"2000-01-01T00:00:00\"}, {\"Year\": 2001, \"Field\": \"Psychology\", \"Percent\": 77.5, \"Yeardate\": \"2001-01-01T00:00:00\"}, {\"Year\": 2002, \"Field\": \"Psychology\", \"Percent\": 77.7, \"Yeardate\": \"2002-01-01T00:00:00\"}, {\"Year\": 2003, \"Field\": \"Psychology\", \"Percent\": 77.8, \"Yeardate\": \"2003-01-01T00:00:00\"}, {\"Year\": 2004, \"Field\": \"Psychology\", \"Percent\": 77.8, \"Yeardate\": \"2004-01-01T00:00:00\"}, {\"Year\": 2005, \"Field\": \"Psychology\", \"Percent\": 77.5, \"Yeardate\": \"2005-01-01T00:00:00\"}, {\"Year\": 2006, \"Field\": \"Psychology\", \"Percent\": 77.4, \"Yeardate\": \"2006-01-01T00:00:00\"}, {\"Year\": 2007, \"Field\": \"Psychology\", \"Percent\": 77.1, \"Yeardate\": \"2007-01-01T00:00:00\"}, {\"Year\": 2008, \"Field\": \"Psychology\", \"Percent\": 77.2, \"Yeardate\": \"2008-01-01T00:00:00\"}, {\"Year\": 2009, \"Field\": \"Psychology\", \"Percent\": 77.1, \"Yeardate\": \"2009-01-01T00:00:00\"}, {\"Year\": 2010, \"Field\": \"Psychology\", \"Percent\": 77.0, \"Yeardate\": \"2010-01-01T00:00:00\"}, {\"Year\": 2011, \"Field\": \"Psychology\", \"Percent\": 76.7, \"Yeardate\": \"2011-01-01T00:00:00\"}]}}, {\"mode\": \"vega-lite\"});\n",
       "</script>"
      ],
      "text/plain": [
       "alt.Chart(...)"
      ]
     },
     "execution_count": 25,
     "metadata": {},
     "output_type": "execute_result"
    }
   ],
   "source": [
    "df_tall.plot.line(\n",
    "    alt.X('Yeardate:T'),\n",
    "    alt.Y('Percent:Q'),\n",
    "    alt.Color('Field:N')\n",
    ")"
   ]
  },
  {
   "cell_type": "markdown",
   "metadata": {},
   "source": [
    "### Set the plot size\n",
    "\n",
    "We can also set the figure size with an easy argument, `figsize=[,]`. I have no idea what the units are.\n",
    "\n",
    "#### It's horrible that figsize is size [across,down]!\n",
    "\n",
    "This is especially hard for me to remember because many conventions in Pandas are [down,across], like `df.loc[row,column]`. It's probably an x,y convention sneaking its way in..."
   ]
  },
  {
   "cell_type": "code",
   "execution_count": 33,
   "metadata": {},
   "outputs": [
    {
     "data": {
      "text/html": [
       "\n",
       "<style>\n",
       "  #altair-viz-b1ff1658bd6b485da103c2f3ff2b48d9.vega-embed {\n",
       "    width: 100%;\n",
       "    display: flex;\n",
       "  }\n",
       "\n",
       "  #altair-viz-b1ff1658bd6b485da103c2f3ff2b48d9.vega-embed details,\n",
       "  #altair-viz-b1ff1658bd6b485da103c2f3ff2b48d9.vega-embed details summary {\n",
       "    position: relative;\n",
       "  }\n",
       "</style>\n",
       "<div id=\"altair-viz-b1ff1658bd6b485da103c2f3ff2b48d9\"></div>\n",
       "<script type=\"text/javascript\">\n",
       "  var VEGA_DEBUG = (typeof VEGA_DEBUG == \"undefined\") ? {} : VEGA_DEBUG;\n",
       "  (function(spec, embedOpt){\n",
       "    let outputDiv = document.currentScript.previousElementSibling;\n",
       "    if (outputDiv.id !== \"altair-viz-b1ff1658bd6b485da103c2f3ff2b48d9\") {\n",
       "      outputDiv = document.getElementById(\"altair-viz-b1ff1658bd6b485da103c2f3ff2b48d9\");\n",
       "    }\n",
       "\n",
       "    const paths = {\n",
       "      \"vega\": \"https://cdn.jsdelivr.net/npm/vega@5?noext\",\n",
       "      \"vega-lib\": \"https://cdn.jsdelivr.net/npm/vega-lib?noext\",\n",
       "      \"vega-lite\": \"https://cdn.jsdelivr.net/npm/vega-lite@5.20.1?noext\",\n",
       "      \"vega-embed\": \"https://cdn.jsdelivr.net/npm/vega-embed@6?noext\",\n",
       "    };\n",
       "\n",
       "    function maybeLoadScript(lib, version) {\n",
       "      var key = `${lib.replace(\"-\", \"\")}_version`;\n",
       "      return (VEGA_DEBUG[key] == version) ?\n",
       "        Promise.resolve(paths[lib]) :\n",
       "        new Promise(function(resolve, reject) {\n",
       "          var s = document.createElement('script');\n",
       "          document.getElementsByTagName(\"head\")[0].appendChild(s);\n",
       "          s.async = true;\n",
       "          s.onload = () => {\n",
       "            VEGA_DEBUG[key] = version;\n",
       "            return resolve(paths[lib]);\n",
       "          };\n",
       "          s.onerror = () => reject(`Error loading script: ${paths[lib]}`);\n",
       "          s.src = paths[lib];\n",
       "        });\n",
       "    }\n",
       "\n",
       "    function showError(err) {\n",
       "      outputDiv.innerHTML = `<div class=\"error\" style=\"color:red;\">${err}</div>`;\n",
       "      throw err;\n",
       "    }\n",
       "\n",
       "    function displayChart(vegaEmbed) {\n",
       "      vegaEmbed(outputDiv, spec, embedOpt)\n",
       "        .catch(err => showError(`Javascript Error: ${err.message}<br>This usually means there's a typo in your chart specification. See the javascript console for the full traceback.`));\n",
       "    }\n",
       "\n",
       "    if(typeof define === \"function\" && define.amd) {\n",
       "      requirejs.config({paths});\n",
       "      let deps = [\"vega-embed\"];\n",
       "      require(deps, displayChart, err => showError(`Error loading script: ${err.message}`));\n",
       "    } else {\n",
       "      maybeLoadScript(\"vega\", \"5\")\n",
       "        .then(() => maybeLoadScript(\"vega-lite\", \"5.20.1\"))\n",
       "        .then(() => maybeLoadScript(\"vega-embed\", \"6\"))\n",
       "        .catch(showError)\n",
       "        .then(() => displayChart(vegaEmbed));\n",
       "    }\n",
       "  })({\"config\": {\"view\": {\"continuousWidth\": 300, \"continuousHeight\": 300}}, \"data\": {\"name\": \"data-39d542c68f1f8de820130f71857ca61c\"}, \"mark\": {\"type\": \"line\", \"tooltip\": true}, \"encoding\": {\"color\": {\"field\": \"Field\", \"type\": \"nominal\"}, \"x\": {\"field\": \"Yeardate\", \"type\": \"temporal\"}, \"y\": {\"field\": \"Percent\", \"type\": \"quantitative\"}}, \"height\": 200, \"params\": [{\"name\": \"param_20\", \"select\": {\"type\": \"interval\", \"encodings\": [\"x\", \"y\"]}, \"bind\": \"scales\"}], \"width\": 500, \"$schema\": \"https://vega.github.io/schema/vega-lite/v5.20.1.json\", \"datasets\": {\"data-39d542c68f1f8de820130f71857ca61c\": [{\"Year\": 1970, \"Field\": \"Business\", \"Percent\": 9.064438975, \"Yeardate\": \"1970-01-01T00:00:00\"}, {\"Year\": 1971, \"Field\": \"Business\", \"Percent\": 9.503186594, \"Yeardate\": \"1971-01-01T00:00:00\"}, {\"Year\": 1972, \"Field\": \"Business\", \"Percent\": 10.5589621, \"Yeardate\": \"1972-01-01T00:00:00\"}, {\"Year\": 1973, \"Field\": \"Business\", \"Percent\": 12.80460152, \"Yeardate\": \"1973-01-01T00:00:00\"}, {\"Year\": 1974, \"Field\": \"Business\", \"Percent\": 16.20485038, \"Yeardate\": \"1974-01-01T00:00:00\"}, {\"Year\": 1975, \"Field\": \"Business\", \"Percent\": 19.68624931, \"Yeardate\": \"1975-01-01T00:00:00\"}, {\"Year\": 1976, \"Field\": \"Business\", \"Percent\": 23.4300375, \"Yeardate\": \"1976-01-01T00:00:00\"}, {\"Year\": 1977, \"Field\": \"Business\", \"Percent\": 27.16342715, \"Yeardate\": \"1977-01-01T00:00:00\"}, {\"Year\": 1978, \"Field\": \"Business\", \"Percent\": 30.52751868, \"Yeardate\": \"1978-01-01T00:00:00\"}, {\"Year\": 1979, \"Field\": \"Business\", \"Percent\": 33.62163381, \"Yeardate\": \"1979-01-01T00:00:00\"}, {\"Year\": 1980, \"Field\": \"Business\", \"Percent\": 36.76572529, \"Yeardate\": \"1980-01-01T00:00:00\"}, {\"Year\": 1981, \"Field\": \"Business\", \"Percent\": 39.26622984, \"Yeardate\": \"1981-01-01T00:00:00\"}, {\"Year\": 1982, \"Field\": \"Business\", \"Percent\": 41.94937335, \"Yeardate\": \"1982-01-01T00:00:00\"}, {\"Year\": 1983, \"Field\": \"Business\", \"Percent\": 43.54206966, \"Yeardate\": \"1983-01-01T00:00:00\"}, {\"Year\": 1984, \"Field\": \"Business\", \"Percent\": 45.12403027, \"Yeardate\": \"1984-01-01T00:00:00\"}, {\"Year\": 1985, \"Field\": \"Business\", \"Percent\": 45.747782, \"Yeardate\": \"1985-01-01T00:00:00\"}, {\"Year\": 1986, \"Field\": \"Business\", \"Percent\": 46.53291505, \"Yeardate\": \"1986-01-01T00:00:00\"}, {\"Year\": 1987, \"Field\": \"Business\", \"Percent\": 46.69046648, \"Yeardate\": \"1987-01-01T00:00:00\"}, {\"Year\": 1988, \"Field\": \"Business\", \"Percent\": 46.7648277, \"Yeardate\": \"1988-01-01T00:00:00\"}, {\"Year\": 1989, \"Field\": \"Business\", \"Percent\": 46.7815648, \"Yeardate\": \"1989-01-01T00:00:00\"}, {\"Year\": 1990, \"Field\": \"Business\", \"Percent\": 47.20085084, \"Yeardate\": \"1990-01-01T00:00:00\"}, {\"Year\": 1991, \"Field\": \"Business\", \"Percent\": 47.22432481, \"Yeardate\": \"1991-01-01T00:00:00\"}, {\"Year\": 1992, \"Field\": \"Business\", \"Percent\": 47.21939541, \"Yeardate\": \"1992-01-01T00:00:00\"}, {\"Year\": 1993, \"Field\": \"Business\", \"Percent\": 47.63933161, \"Yeardate\": \"1993-01-01T00:00:00\"}, {\"Year\": 1994, \"Field\": \"Business\", \"Percent\": 47.98392441, \"Yeardate\": \"1994-01-01T00:00:00\"}, {\"Year\": 1995, \"Field\": \"Business\", \"Percent\": 48.57318101, \"Yeardate\": \"1995-01-01T00:00:00\"}, {\"Year\": 1996, \"Field\": \"Business\", \"Percent\": 48.6473926, \"Yeardate\": \"1996-01-01T00:00:00\"}, {\"Year\": 1997, \"Field\": \"Business\", \"Percent\": 48.56105033, \"Yeardate\": \"1997-01-01T00:00:00\"}, {\"Year\": 1998, \"Field\": \"Business\", \"Percent\": 49.2585152, \"Yeardate\": \"1998-01-01T00:00:00\"}, {\"Year\": 1999, \"Field\": \"Business\", \"Percent\": 49.81020815, \"Yeardate\": \"1999-01-01T00:00:00\"}, {\"Year\": 2000, \"Field\": \"Business\", \"Percent\": 49.80361649, \"Yeardate\": \"2000-01-01T00:00:00\"}, {\"Year\": 2001, \"Field\": \"Business\", \"Percent\": 50.27514494, \"Yeardate\": \"2001-01-01T00:00:00\"}, {\"Year\": 2002, \"Field\": \"Business\", \"Percent\": 50.5523346, \"Yeardate\": \"2002-01-01T00:00:00\"}, {\"Year\": 2003, \"Field\": \"Business\", \"Percent\": 50.34559774, \"Yeardate\": \"2003-01-01T00:00:00\"}, {\"Year\": 2004, \"Field\": \"Business\", \"Percent\": 49.95089449, \"Yeardate\": \"2004-01-01T00:00:00\"}, {\"Year\": 2005, \"Field\": \"Business\", \"Percent\": 49.79185139, \"Yeardate\": \"2005-01-01T00:00:00\"}, {\"Year\": 2006, \"Field\": \"Business\", \"Percent\": 49.21091439, \"Yeardate\": \"2006-01-01T00:00:00\"}, {\"Year\": 2007, \"Field\": \"Business\", \"Percent\": 49.00045935, \"Yeardate\": \"2007-01-01T00:00:00\"}, {\"Year\": 2008, \"Field\": \"Business\", \"Percent\": 48.88802678, \"Yeardate\": \"2008-01-01T00:00:00\"}, {\"Year\": 2009, \"Field\": \"Business\", \"Percent\": 48.84047414, \"Yeardate\": \"2009-01-01T00:00:00\"}, {\"Year\": 2010, \"Field\": \"Business\", \"Percent\": 48.75798769, \"Yeardate\": \"2010-01-01T00:00:00\"}, {\"Year\": 2011, \"Field\": \"Business\", \"Percent\": 48.18041792, \"Yeardate\": \"2011-01-01T00:00:00\"}, {\"Year\": 1970, \"Field\": \"Psychology\", \"Percent\": 44.4, \"Yeardate\": \"1970-01-01T00:00:00\"}, {\"Year\": 1971, \"Field\": \"Psychology\", \"Percent\": 46.2, \"Yeardate\": \"1971-01-01T00:00:00\"}, {\"Year\": 1972, \"Field\": \"Psychology\", \"Percent\": 47.6, \"Yeardate\": \"1972-01-01T00:00:00\"}, {\"Year\": 1973, \"Field\": \"Psychology\", \"Percent\": 50.4, \"Yeardate\": \"1973-01-01T00:00:00\"}, {\"Year\": 1974, \"Field\": \"Psychology\", \"Percent\": 52.6, \"Yeardate\": \"1974-01-01T00:00:00\"}, {\"Year\": 1975, \"Field\": \"Psychology\", \"Percent\": 54.5, \"Yeardate\": \"1975-01-01T00:00:00\"}, {\"Year\": 1976, \"Field\": \"Psychology\", \"Percent\": 56.9, \"Yeardate\": \"1976-01-01T00:00:00\"}, {\"Year\": 1977, \"Field\": \"Psychology\", \"Percent\": 59.0, \"Yeardate\": \"1977-01-01T00:00:00\"}, {\"Year\": 1978, \"Field\": \"Psychology\", \"Percent\": 61.3, \"Yeardate\": \"1978-01-01T00:00:00\"}, {\"Year\": 1979, \"Field\": \"Psychology\", \"Percent\": 63.3, \"Yeardate\": \"1979-01-01T00:00:00\"}, {\"Year\": 1980, \"Field\": \"Psychology\", \"Percent\": 65.1, \"Yeardate\": \"1980-01-01T00:00:00\"}, {\"Year\": 1981, \"Field\": \"Psychology\", \"Percent\": 66.9, \"Yeardate\": \"1981-01-01T00:00:00\"}, {\"Year\": 1982, \"Field\": \"Psychology\", \"Percent\": 67.5, \"Yeardate\": \"1982-01-01T00:00:00\"}, {\"Year\": 1983, \"Field\": \"Psychology\", \"Percent\": 67.9, \"Yeardate\": \"1983-01-01T00:00:00\"}, {\"Year\": 1984, \"Field\": \"Psychology\", \"Percent\": 68.2, \"Yeardate\": \"1984-01-01T00:00:00\"}, {\"Year\": 1985, \"Field\": \"Psychology\", \"Percent\": 69.0, \"Yeardate\": \"1985-01-01T00:00:00\"}, {\"Year\": 1986, \"Field\": \"Psychology\", \"Percent\": 69.0, \"Yeardate\": \"1986-01-01T00:00:00\"}, {\"Year\": 1987, \"Field\": \"Psychology\", \"Percent\": 70.1, \"Yeardate\": \"1987-01-01T00:00:00\"}, {\"Year\": 1988, \"Field\": \"Psychology\", \"Percent\": 70.9, \"Yeardate\": \"1988-01-01T00:00:00\"}, {\"Year\": 1989, \"Field\": \"Psychology\", \"Percent\": 71.6, \"Yeardate\": \"1989-01-01T00:00:00\"}, {\"Year\": 1990, \"Field\": \"Psychology\", \"Percent\": 72.6, \"Yeardate\": \"1990-01-01T00:00:00\"}, {\"Year\": 1991, \"Field\": \"Psychology\", \"Percent\": 73.2, \"Yeardate\": \"1991-01-01T00:00:00\"}, {\"Year\": 1992, \"Field\": \"Psychology\", \"Percent\": 73.2, \"Yeardate\": \"1992-01-01T00:00:00\"}, {\"Year\": 1993, \"Field\": \"Psychology\", \"Percent\": 73.1, \"Yeardate\": \"1993-01-01T00:00:00\"}, {\"Year\": 1994, \"Field\": \"Psychology\", \"Percent\": 72.9, \"Yeardate\": \"1994-01-01T00:00:00\"}, {\"Year\": 1995, \"Field\": \"Psychology\", \"Percent\": 73.0, \"Yeardate\": \"1995-01-01T00:00:00\"}, {\"Year\": 1996, \"Field\": \"Psychology\", \"Percent\": 73.9, \"Yeardate\": \"1996-01-01T00:00:00\"}, {\"Year\": 1997, \"Field\": \"Psychology\", \"Percent\": 74.4, \"Yeardate\": \"1997-01-01T00:00:00\"}, {\"Year\": 1998, \"Field\": \"Psychology\", \"Percent\": 75.1, \"Yeardate\": \"1998-01-01T00:00:00\"}, {\"Year\": 1999, \"Field\": \"Psychology\", \"Percent\": 76.5, \"Yeardate\": \"1999-01-01T00:00:00\"}, {\"Year\": 2000, \"Field\": \"Psychology\", \"Percent\": 77.5, \"Yeardate\": \"2000-01-01T00:00:00\"}, {\"Year\": 2001, \"Field\": \"Psychology\", \"Percent\": 77.5, \"Yeardate\": \"2001-01-01T00:00:00\"}, {\"Year\": 2002, \"Field\": \"Psychology\", \"Percent\": 77.7, \"Yeardate\": \"2002-01-01T00:00:00\"}, {\"Year\": 2003, \"Field\": \"Psychology\", \"Percent\": 77.8, \"Yeardate\": \"2003-01-01T00:00:00\"}, {\"Year\": 2004, \"Field\": \"Psychology\", \"Percent\": 77.8, \"Yeardate\": \"2004-01-01T00:00:00\"}, {\"Year\": 2005, \"Field\": \"Psychology\", \"Percent\": 77.5, \"Yeardate\": \"2005-01-01T00:00:00\"}, {\"Year\": 2006, \"Field\": \"Psychology\", \"Percent\": 77.4, \"Yeardate\": \"2006-01-01T00:00:00\"}, {\"Year\": 2007, \"Field\": \"Psychology\", \"Percent\": 77.1, \"Yeardate\": \"2007-01-01T00:00:00\"}, {\"Year\": 2008, \"Field\": \"Psychology\", \"Percent\": 77.2, \"Yeardate\": \"2008-01-01T00:00:00\"}, {\"Year\": 2009, \"Field\": \"Psychology\", \"Percent\": 77.1, \"Yeardate\": \"2009-01-01T00:00:00\"}, {\"Year\": 2010, \"Field\": \"Psychology\", \"Percent\": 77.0, \"Yeardate\": \"2010-01-01T00:00:00\"}, {\"Year\": 2011, \"Field\": \"Psychology\", \"Percent\": 76.7, \"Yeardate\": \"2011-01-01T00:00:00\"}]}}, {\"mode\": \"vega-lite\"});\n",
       "</script>"
      ],
      "text/plain": [
       "alt.Chart(...)"
      ]
     },
     "execution_count": 33,
     "metadata": {},
     "output_type": "execute_result"
    }
   ],
   "source": [
    "df_tall.filter(\n",
    "    pl.col('Field').is_in(['Business','Psychology'])\n",
    ").plot.line(\n",
    "    alt.X('Yeardate:T'),\n",
    "    alt.Y('Percent:Q'),\n",
    "    alt.Color('Field:N')\n",
    ").properties(\n",
    "    width=500, \n",
    "    height=200\n",
    ")"
   ]
  },
  {
   "cell_type": "markdown",
   "metadata": {},
   "source": [
    "## Subplots for small-multiples\n",
    "\n",
    "Often plots will become confusing with too many lines overlapping. One solution is to split the plots up in a way that still allows comparison across categories.\n",
    "\n",
    "- We typically call these \"small multiples\" or \"faceted\" plots\n",
    "- Figsize is for whole composite figure (not each subplot)\n",
    "- **Note that the default is to have independent y-axis ranges!** (But shared X)"
   ]
  },
  {
   "cell_type": "code",
   "execution_count": 42,
   "metadata": {},
   "outputs": [
    {
     "data": {
      "text/html": [
       "\n",
       "<style>\n",
       "  #altair-viz-8396fbf82e0e4cdea6f327d7fd71dbd5.vega-embed {\n",
       "    width: 100%;\n",
       "    display: flex;\n",
       "  }\n",
       "\n",
       "  #altair-viz-8396fbf82e0e4cdea6f327d7fd71dbd5.vega-embed details,\n",
       "  #altair-viz-8396fbf82e0e4cdea6f327d7fd71dbd5.vega-embed details summary {\n",
       "    position: relative;\n",
       "  }\n",
       "</style>\n",
       "<div id=\"altair-viz-8396fbf82e0e4cdea6f327d7fd71dbd5\"></div>\n",
       "<script type=\"text/javascript\">\n",
       "  var VEGA_DEBUG = (typeof VEGA_DEBUG == \"undefined\") ? {} : VEGA_DEBUG;\n",
       "  (function(spec, embedOpt){\n",
       "    let outputDiv = document.currentScript.previousElementSibling;\n",
       "    if (outputDiv.id !== \"altair-viz-8396fbf82e0e4cdea6f327d7fd71dbd5\") {\n",
       "      outputDiv = document.getElementById(\"altair-viz-8396fbf82e0e4cdea6f327d7fd71dbd5\");\n",
       "    }\n",
       "\n",
       "    const paths = {\n",
       "      \"vega\": \"https://cdn.jsdelivr.net/npm/vega@5?noext\",\n",
       "      \"vega-lib\": \"https://cdn.jsdelivr.net/npm/vega-lib?noext\",\n",
       "      \"vega-lite\": \"https://cdn.jsdelivr.net/npm/vega-lite@5.20.1?noext\",\n",
       "      \"vega-embed\": \"https://cdn.jsdelivr.net/npm/vega-embed@6?noext\",\n",
       "    };\n",
       "\n",
       "    function maybeLoadScript(lib, version) {\n",
       "      var key = `${lib.replace(\"-\", \"\")}_version`;\n",
       "      return (VEGA_DEBUG[key] == version) ?\n",
       "        Promise.resolve(paths[lib]) :\n",
       "        new Promise(function(resolve, reject) {\n",
       "          var s = document.createElement('script');\n",
       "          document.getElementsByTagName(\"head\")[0].appendChild(s);\n",
       "          s.async = true;\n",
       "          s.onload = () => {\n",
       "            VEGA_DEBUG[key] = version;\n",
       "            return resolve(paths[lib]);\n",
       "          };\n",
       "          s.onerror = () => reject(`Error loading script: ${paths[lib]}`);\n",
       "          s.src = paths[lib];\n",
       "        });\n",
       "    }\n",
       "\n",
       "    function showError(err) {\n",
       "      outputDiv.innerHTML = `<div class=\"error\" style=\"color:red;\">${err}</div>`;\n",
       "      throw err;\n",
       "    }\n",
       "\n",
       "    function displayChart(vegaEmbed) {\n",
       "      vegaEmbed(outputDiv, spec, embedOpt)\n",
       "        .catch(err => showError(`Javascript Error: ${err.message}<br>This usually means there's a typo in your chart specification. See the javascript console for the full traceback.`));\n",
       "    }\n",
       "\n",
       "    if(typeof define === \"function\" && define.amd) {\n",
       "      requirejs.config({paths});\n",
       "      let deps = [\"vega-embed\"];\n",
       "      require(deps, displayChart, err => showError(`Error loading script: ${err.message}`));\n",
       "    } else {\n",
       "      maybeLoadScript(\"vega\", \"5\")\n",
       "        .then(() => maybeLoadScript(\"vega-lite\", \"5.20.1\"))\n",
       "        .then(() => maybeLoadScript(\"vega-embed\", \"6\"))\n",
       "        .catch(showError)\n",
       "        .then(() => displayChart(vegaEmbed));\n",
       "    }\n",
       "  })({\"config\": {\"view\": {\"continuousWidth\": 300, \"continuousHeight\": 300}}, \"data\": {\"name\": \"data-7bd34bc17e6719b4e12365c5b18fa641\"}, \"facet\": {\"column\": {\"field\": \"Field\", \"type\": \"nominal\"}}, \"spec\": {\"mark\": {\"type\": \"line\", \"tooltip\": true}, \"encoding\": {\"color\": {\"field\": \"Field\", \"type\": \"nominal\"}, \"x\": {\"field\": \"Yeardate\", \"type\": \"temporal\"}, \"y\": {\"field\": \"Percent\", \"type\": \"quantitative\"}}, \"height\": 200, \"name\": \"view_7\", \"width\": 100}, \"params\": [{\"name\": \"param_28\", \"select\": {\"type\": \"interval\", \"encodings\": [\"x\", \"y\"]}, \"bind\": \"scales\", \"views\": [\"view_7\"]}], \"$schema\": \"https://vega.github.io/schema/vega-lite/v5.20.1.json\", \"datasets\": {\"data-7bd34bc17e6719b4e12365c5b18fa641\": [{\"Year\": 1970, \"Field\": \"Agriculture\", \"Percent\": 4.22979798, \"Yeardate\": \"1970-01-01T00:00:00\"}, {\"Year\": 1971, \"Field\": \"Agriculture\", \"Percent\": 5.452796685, \"Yeardate\": \"1971-01-01T00:00:00\"}, {\"Year\": 1972, \"Field\": \"Agriculture\", \"Percent\": 7.42071022, \"Yeardate\": \"1972-01-01T00:00:00\"}, {\"Year\": 1973, \"Field\": \"Agriculture\", \"Percent\": 9.653602412, \"Yeardate\": \"1973-01-01T00:00:00\"}, {\"Year\": 1974, \"Field\": \"Agriculture\", \"Percent\": 14.07462346, \"Yeardate\": \"1974-01-01T00:00:00\"}, {\"Year\": 1975, \"Field\": \"Agriculture\", \"Percent\": 18.33316153, \"Yeardate\": \"1975-01-01T00:00:00\"}, {\"Year\": 1976, \"Field\": \"Agriculture\", \"Percent\": 22.25276005, \"Yeardate\": \"1976-01-01T00:00:00\"}, {\"Year\": 1977, \"Field\": \"Agriculture\", \"Percent\": 24.6401766, \"Yeardate\": \"1977-01-01T00:00:00\"}, {\"Year\": 1978, \"Field\": \"Agriculture\", \"Percent\": 27.14619175, \"Yeardate\": \"1978-01-01T00:00:00\"}, {\"Year\": 1979, \"Field\": \"Agriculture\", \"Percent\": 29.63336549, \"Yeardate\": \"1979-01-01T00:00:00\"}, {\"Year\": 1980, \"Field\": \"Agriculture\", \"Percent\": 30.75938956, \"Yeardate\": \"1980-01-01T00:00:00\"}, {\"Year\": 1981, \"Field\": \"Agriculture\", \"Percent\": 31.31865519, \"Yeardate\": \"1981-01-01T00:00:00\"}, {\"Year\": 1982, \"Field\": \"Agriculture\", \"Percent\": 32.63666364, \"Yeardate\": \"1982-01-01T00:00:00\"}, {\"Year\": 1983, \"Field\": \"Agriculture\", \"Percent\": 31.6353471, \"Yeardate\": \"1983-01-01T00:00:00\"}, {\"Year\": 1984, \"Field\": \"Agriculture\", \"Percent\": 31.09294748, \"Yeardate\": \"1984-01-01T00:00:00\"}, {\"Year\": 1985, \"Field\": \"Agriculture\", \"Percent\": 31.3796588, \"Yeardate\": \"1985-01-01T00:00:00\"}, {\"Year\": 1986, \"Field\": \"Agriculture\", \"Percent\": 31.19871923, \"Yeardate\": \"1986-01-01T00:00:00\"}, {\"Year\": 1987, \"Field\": \"Agriculture\", \"Percent\": 31.48642948, \"Yeardate\": \"1987-01-01T00:00:00\"}, {\"Year\": 1988, \"Field\": \"Agriculture\", \"Percent\": 31.08508746, \"Yeardate\": \"1988-01-01T00:00:00\"}, {\"Year\": 1989, \"Field\": \"Agriculture\", \"Percent\": 31.6124031, \"Yeardate\": \"1989-01-01T00:00:00\"}, {\"Year\": 1990, \"Field\": \"Agriculture\", \"Percent\": 32.70344407, \"Yeardate\": \"1990-01-01T00:00:00\"}, {\"Year\": 1991, \"Field\": \"Agriculture\", \"Percent\": 34.71183749, \"Yeardate\": \"1991-01-01T00:00:00\"}, {\"Year\": 1992, \"Field\": \"Agriculture\", \"Percent\": 33.93165961, \"Yeardate\": \"1992-01-01T00:00:00\"}, {\"Year\": 1993, \"Field\": \"Agriculture\", \"Percent\": 34.94683208, \"Yeardate\": \"1993-01-01T00:00:00\"}, {\"Year\": 1994, \"Field\": \"Agriculture\", \"Percent\": 36.03267447, \"Yeardate\": \"1994-01-01T00:00:00\"}, {\"Year\": 1995, \"Field\": \"Agriculture\", \"Percent\": 36.84480747, \"Yeardate\": \"1995-01-01T00:00:00\"}, {\"Year\": 1996, \"Field\": \"Agriculture\", \"Percent\": 38.96977475, \"Yeardate\": \"1996-01-01T00:00:00\"}, {\"Year\": 1997, \"Field\": \"Agriculture\", \"Percent\": 40.68568483, \"Yeardate\": \"1997-01-01T00:00:00\"}, {\"Year\": 1998, \"Field\": \"Agriculture\", \"Percent\": 41.91240333, \"Yeardate\": \"1998-01-01T00:00:00\"}, {\"Year\": 1999, \"Field\": \"Agriculture\", \"Percent\": 42.88720191, \"Yeardate\": \"1999-01-01T00:00:00\"}, {\"Year\": 2000, \"Field\": \"Agriculture\", \"Percent\": 45.05776637, \"Yeardate\": \"2000-01-01T00:00:00\"}, {\"Year\": 2001, \"Field\": \"Agriculture\", \"Percent\": 45.86601517, \"Yeardate\": \"2001-01-01T00:00:00\"}, {\"Year\": 2002, \"Field\": \"Agriculture\", \"Percent\": 47.13465821, \"Yeardate\": \"2002-01-01T00:00:00\"}, {\"Year\": 2003, \"Field\": \"Agriculture\", \"Percent\": 47.93518721, \"Yeardate\": \"2003-01-01T00:00:00\"}, {\"Year\": 2004, \"Field\": \"Agriculture\", \"Percent\": 47.88714025, \"Yeardate\": \"2004-01-01T00:00:00\"}, {\"Year\": 2005, \"Field\": \"Agriculture\", \"Percent\": 47.67275409, \"Yeardate\": \"2005-01-01T00:00:00\"}, {\"Year\": 2006, \"Field\": \"Agriculture\", \"Percent\": 46.79029957, \"Yeardate\": \"2006-01-01T00:00:00\"}, {\"Year\": 2007, \"Field\": \"Agriculture\", \"Percent\": 47.60502633, \"Yeardate\": \"2007-01-01T00:00:00\"}, {\"Year\": 2008, \"Field\": \"Agriculture\", \"Percent\": 47.570834, \"Yeardate\": \"2008-01-01T00:00:00\"}, {\"Year\": 2009, \"Field\": \"Agriculture\", \"Percent\": 48.66722357, \"Yeardate\": \"2009-01-01T00:00:00\"}, {\"Year\": 2010, \"Field\": \"Agriculture\", \"Percent\": 48.73004227, \"Yeardate\": \"2010-01-01T00:00:00\"}, {\"Year\": 2011, \"Field\": \"Agriculture\", \"Percent\": 50.03718193, \"Yeardate\": \"2011-01-01T00:00:00\"}, {\"Year\": 1970, \"Field\": \"Business\", \"Percent\": 9.064438975, \"Yeardate\": \"1970-01-01T00:00:00\"}, {\"Year\": 1971, \"Field\": \"Business\", \"Percent\": 9.503186594, \"Yeardate\": \"1971-01-01T00:00:00\"}, {\"Year\": 1972, \"Field\": \"Business\", \"Percent\": 10.5589621, \"Yeardate\": \"1972-01-01T00:00:00\"}, {\"Year\": 1973, \"Field\": \"Business\", \"Percent\": 12.80460152, \"Yeardate\": \"1973-01-01T00:00:00\"}, {\"Year\": 1974, \"Field\": \"Business\", \"Percent\": 16.20485038, \"Yeardate\": \"1974-01-01T00:00:00\"}, {\"Year\": 1975, \"Field\": \"Business\", \"Percent\": 19.68624931, \"Yeardate\": \"1975-01-01T00:00:00\"}, {\"Year\": 1976, \"Field\": \"Business\", \"Percent\": 23.4300375, \"Yeardate\": \"1976-01-01T00:00:00\"}, {\"Year\": 1977, \"Field\": \"Business\", \"Percent\": 27.16342715, \"Yeardate\": \"1977-01-01T00:00:00\"}, {\"Year\": 1978, \"Field\": \"Business\", \"Percent\": 30.52751868, \"Yeardate\": \"1978-01-01T00:00:00\"}, {\"Year\": 1979, \"Field\": \"Business\", \"Percent\": 33.62163381, \"Yeardate\": \"1979-01-01T00:00:00\"}, {\"Year\": 1980, \"Field\": \"Business\", \"Percent\": 36.76572529, \"Yeardate\": \"1980-01-01T00:00:00\"}, {\"Year\": 1981, \"Field\": \"Business\", \"Percent\": 39.26622984, \"Yeardate\": \"1981-01-01T00:00:00\"}, {\"Year\": 1982, \"Field\": \"Business\", \"Percent\": 41.94937335, \"Yeardate\": \"1982-01-01T00:00:00\"}, {\"Year\": 1983, \"Field\": \"Business\", \"Percent\": 43.54206966, \"Yeardate\": \"1983-01-01T00:00:00\"}, {\"Year\": 1984, \"Field\": \"Business\", \"Percent\": 45.12403027, \"Yeardate\": \"1984-01-01T00:00:00\"}, {\"Year\": 1985, \"Field\": \"Business\", \"Percent\": 45.747782, \"Yeardate\": \"1985-01-01T00:00:00\"}, {\"Year\": 1986, \"Field\": \"Business\", \"Percent\": 46.53291505, \"Yeardate\": \"1986-01-01T00:00:00\"}, {\"Year\": 1987, \"Field\": \"Business\", \"Percent\": 46.69046648, \"Yeardate\": \"1987-01-01T00:00:00\"}, {\"Year\": 1988, \"Field\": \"Business\", \"Percent\": 46.7648277, \"Yeardate\": \"1988-01-01T00:00:00\"}, {\"Year\": 1989, \"Field\": \"Business\", \"Percent\": 46.7815648, \"Yeardate\": \"1989-01-01T00:00:00\"}, {\"Year\": 1990, \"Field\": \"Business\", \"Percent\": 47.20085084, \"Yeardate\": \"1990-01-01T00:00:00\"}, {\"Year\": 1991, \"Field\": \"Business\", \"Percent\": 47.22432481, \"Yeardate\": \"1991-01-01T00:00:00\"}, {\"Year\": 1992, \"Field\": \"Business\", \"Percent\": 47.21939541, \"Yeardate\": \"1992-01-01T00:00:00\"}, {\"Year\": 1993, \"Field\": \"Business\", \"Percent\": 47.63933161, \"Yeardate\": \"1993-01-01T00:00:00\"}, {\"Year\": 1994, \"Field\": \"Business\", \"Percent\": 47.98392441, \"Yeardate\": \"1994-01-01T00:00:00\"}, {\"Year\": 1995, \"Field\": \"Business\", \"Percent\": 48.57318101, \"Yeardate\": \"1995-01-01T00:00:00\"}, {\"Year\": 1996, \"Field\": \"Business\", \"Percent\": 48.6473926, \"Yeardate\": \"1996-01-01T00:00:00\"}, {\"Year\": 1997, \"Field\": \"Business\", \"Percent\": 48.56105033, \"Yeardate\": \"1997-01-01T00:00:00\"}, {\"Year\": 1998, \"Field\": \"Business\", \"Percent\": 49.2585152, \"Yeardate\": \"1998-01-01T00:00:00\"}, {\"Year\": 1999, \"Field\": \"Business\", \"Percent\": 49.81020815, \"Yeardate\": \"1999-01-01T00:00:00\"}, {\"Year\": 2000, \"Field\": \"Business\", \"Percent\": 49.80361649, \"Yeardate\": \"2000-01-01T00:00:00\"}, {\"Year\": 2001, \"Field\": \"Business\", \"Percent\": 50.27514494, \"Yeardate\": \"2001-01-01T00:00:00\"}, {\"Year\": 2002, \"Field\": \"Business\", \"Percent\": 50.5523346, \"Yeardate\": \"2002-01-01T00:00:00\"}, {\"Year\": 2003, \"Field\": \"Business\", \"Percent\": 50.34559774, \"Yeardate\": \"2003-01-01T00:00:00\"}, {\"Year\": 2004, \"Field\": \"Business\", \"Percent\": 49.95089449, \"Yeardate\": \"2004-01-01T00:00:00\"}, {\"Year\": 2005, \"Field\": \"Business\", \"Percent\": 49.79185139, \"Yeardate\": \"2005-01-01T00:00:00\"}, {\"Year\": 2006, \"Field\": \"Business\", \"Percent\": 49.21091439, \"Yeardate\": \"2006-01-01T00:00:00\"}, {\"Year\": 2007, \"Field\": \"Business\", \"Percent\": 49.00045935, \"Yeardate\": \"2007-01-01T00:00:00\"}, {\"Year\": 2008, \"Field\": \"Business\", \"Percent\": 48.88802678, \"Yeardate\": \"2008-01-01T00:00:00\"}, {\"Year\": 2009, \"Field\": \"Business\", \"Percent\": 48.84047414, \"Yeardate\": \"2009-01-01T00:00:00\"}, {\"Year\": 2010, \"Field\": \"Business\", \"Percent\": 48.75798769, \"Yeardate\": \"2010-01-01T00:00:00\"}, {\"Year\": 2011, \"Field\": \"Business\", \"Percent\": 48.18041792, \"Yeardate\": \"2011-01-01T00:00:00\"}, {\"Year\": 1970, \"Field\": \"Engineering\", \"Percent\": 0.8, \"Yeardate\": \"1970-01-01T00:00:00\"}, {\"Year\": 1971, \"Field\": \"Engineering\", \"Percent\": 1.0, \"Yeardate\": \"1971-01-01T00:00:00\"}, {\"Year\": 1972, \"Field\": \"Engineering\", \"Percent\": 1.2, \"Yeardate\": \"1972-01-01T00:00:00\"}, {\"Year\": 1973, \"Field\": \"Engineering\", \"Percent\": 1.6, \"Yeardate\": \"1973-01-01T00:00:00\"}, {\"Year\": 1974, \"Field\": \"Engineering\", \"Percent\": 2.2, \"Yeardate\": \"1974-01-01T00:00:00\"}, {\"Year\": 1975, \"Field\": \"Engineering\", \"Percent\": 3.2, \"Yeardate\": \"1975-01-01T00:00:00\"}, {\"Year\": 1976, \"Field\": \"Engineering\", \"Percent\": 4.5, \"Yeardate\": \"1976-01-01T00:00:00\"}, {\"Year\": 1977, \"Field\": \"Engineering\", \"Percent\": 6.8, \"Yeardate\": \"1977-01-01T00:00:00\"}, {\"Year\": 1978, \"Field\": \"Engineering\", \"Percent\": 8.4, \"Yeardate\": \"1978-01-01T00:00:00\"}, {\"Year\": 1979, \"Field\": \"Engineering\", \"Percent\": 9.4, \"Yeardate\": \"1979-01-01T00:00:00\"}, {\"Year\": 1980, \"Field\": \"Engineering\", \"Percent\": 10.3, \"Yeardate\": \"1980-01-01T00:00:00\"}, {\"Year\": 1981, \"Field\": \"Engineering\", \"Percent\": 11.6, \"Yeardate\": \"1981-01-01T00:00:00\"}, {\"Year\": 1982, \"Field\": \"Engineering\", \"Percent\": 12.4, \"Yeardate\": \"1982-01-01T00:00:00\"}, {\"Year\": 1983, \"Field\": \"Engineering\", \"Percent\": 13.1, \"Yeardate\": \"1983-01-01T00:00:00\"}, {\"Year\": 1984, \"Field\": \"Engineering\", \"Percent\": 13.5, \"Yeardate\": \"1984-01-01T00:00:00\"}, {\"Year\": 1985, \"Field\": \"Engineering\", \"Percent\": 13.5, \"Yeardate\": \"1985-01-01T00:00:00\"}, {\"Year\": 1986, \"Field\": \"Engineering\", \"Percent\": 13.9, \"Yeardate\": \"1986-01-01T00:00:00\"}, {\"Year\": 1987, \"Field\": \"Engineering\", \"Percent\": 14.0, \"Yeardate\": \"1987-01-01T00:00:00\"}, {\"Year\": 1988, \"Field\": \"Engineering\", \"Percent\": 13.9, \"Yeardate\": \"1988-01-01T00:00:00\"}, {\"Year\": 1989, \"Field\": \"Engineering\", \"Percent\": 14.1, \"Yeardate\": \"1989-01-01T00:00:00\"}, {\"Year\": 1990, \"Field\": \"Engineering\", \"Percent\": 14.1, \"Yeardate\": \"1990-01-01T00:00:00\"}, {\"Year\": 1991, \"Field\": \"Engineering\", \"Percent\": 14.0, \"Yeardate\": \"1991-01-01T00:00:00\"}, {\"Year\": 1992, \"Field\": \"Engineering\", \"Percent\": 14.5, \"Yeardate\": \"1992-01-01T00:00:00\"}, {\"Year\": 1993, \"Field\": \"Engineering\", \"Percent\": 14.9, \"Yeardate\": \"1993-01-01T00:00:00\"}, {\"Year\": 1994, \"Field\": \"Engineering\", \"Percent\": 15.7, \"Yeardate\": \"1994-01-01T00:00:00\"}, {\"Year\": 1995, \"Field\": \"Engineering\", \"Percent\": 16.2, \"Yeardate\": \"1995-01-01T00:00:00\"}, {\"Year\": 1996, \"Field\": \"Engineering\", \"Percent\": 16.7, \"Yeardate\": \"1996-01-01T00:00:00\"}, {\"Year\": 1997, \"Field\": \"Engineering\", \"Percent\": 17.0, \"Yeardate\": \"1997-01-01T00:00:00\"}, {\"Year\": 1998, \"Field\": \"Engineering\", \"Percent\": 17.8, \"Yeardate\": \"1998-01-01T00:00:00\"}, {\"Year\": 1999, \"Field\": \"Engineering\", \"Percent\": 18.6, \"Yeardate\": \"1999-01-01T00:00:00\"}, {\"Year\": 2000, \"Field\": \"Engineering\", \"Percent\": 18.4, \"Yeardate\": \"2000-01-01T00:00:00\"}, {\"Year\": 2001, \"Field\": \"Engineering\", \"Percent\": 19.0, \"Yeardate\": \"2001-01-01T00:00:00\"}, {\"Year\": 2002, \"Field\": \"Engineering\", \"Percent\": 18.7, \"Yeardate\": \"2002-01-01T00:00:00\"}, {\"Year\": 2003, \"Field\": \"Engineering\", \"Percent\": 18.8, \"Yeardate\": \"2003-01-01T00:00:00\"}, {\"Year\": 2004, \"Field\": \"Engineering\", \"Percent\": 18.2, \"Yeardate\": \"2004-01-01T00:00:00\"}, {\"Year\": 2005, \"Field\": \"Engineering\", \"Percent\": 17.9, \"Yeardate\": \"2005-01-01T00:00:00\"}, {\"Year\": 2006, \"Field\": \"Engineering\", \"Percent\": 16.8, \"Yeardate\": \"2006-01-01T00:00:00\"}, {\"Year\": 2007, \"Field\": \"Engineering\", \"Percent\": 16.8, \"Yeardate\": \"2007-01-01T00:00:00\"}, {\"Year\": 2008, \"Field\": \"Engineering\", \"Percent\": 16.5, \"Yeardate\": \"2008-01-01T00:00:00\"}, {\"Year\": 2009, \"Field\": \"Engineering\", \"Percent\": 16.8, \"Yeardate\": \"2009-01-01T00:00:00\"}, {\"Year\": 2010, \"Field\": \"Engineering\", \"Percent\": 17.2, \"Yeardate\": \"2010-01-01T00:00:00\"}, {\"Year\": 2011, \"Field\": \"Engineering\", \"Percent\": 17.5, \"Yeardate\": \"2011-01-01T00:00:00\"}, {\"Year\": 1970, \"Field\": \"Health\", \"Percent\": 77.1, \"Yeardate\": \"1970-01-01T00:00:00\"}, {\"Year\": 1971, \"Field\": \"Health\", \"Percent\": 75.5, \"Yeardate\": \"1971-01-01T00:00:00\"}, {\"Year\": 1972, \"Field\": \"Health\", \"Percent\": 76.9, \"Yeardate\": \"1972-01-01T00:00:00\"}, {\"Year\": 1973, \"Field\": \"Health\", \"Percent\": 77.4, \"Yeardate\": \"1973-01-01T00:00:00\"}, {\"Year\": 1974, \"Field\": \"Health\", \"Percent\": 77.9, \"Yeardate\": \"1974-01-01T00:00:00\"}, {\"Year\": 1975, \"Field\": \"Health\", \"Percent\": 78.9, \"Yeardate\": \"1975-01-01T00:00:00\"}, {\"Year\": 1976, \"Field\": \"Health\", \"Percent\": 79.2, \"Yeardate\": \"1976-01-01T00:00:00\"}, {\"Year\": 1977, \"Field\": \"Health\", \"Percent\": 80.5, \"Yeardate\": \"1977-01-01T00:00:00\"}, {\"Year\": 1978, \"Field\": \"Health\", \"Percent\": 81.9, \"Yeardate\": \"1978-01-01T00:00:00\"}, {\"Year\": 1979, \"Field\": \"Health\", \"Percent\": 82.3, \"Yeardate\": \"1979-01-01T00:00:00\"}, {\"Year\": 1980, \"Field\": \"Health\", \"Percent\": 83.5, \"Yeardate\": \"1980-01-01T00:00:00\"}, {\"Year\": 1981, \"Field\": \"Health\", \"Percent\": 84.1, \"Yeardate\": \"1981-01-01T00:00:00\"}, {\"Year\": 1982, \"Field\": \"Health\", \"Percent\": 84.4, \"Yeardate\": \"1982-01-01T00:00:00\"}, {\"Year\": 1983, \"Field\": \"Health\", \"Percent\": 84.6, \"Yeardate\": \"1983-01-01T00:00:00\"}, {\"Year\": 1984, \"Field\": \"Health\", \"Percent\": 85.1, \"Yeardate\": \"1984-01-01T00:00:00\"}, {\"Year\": 1985, \"Field\": \"Health\", \"Percent\": 85.3, \"Yeardate\": \"1985-01-01T00:00:00\"}, {\"Year\": 1986, \"Field\": \"Health\", \"Percent\": 85.7, \"Yeardate\": \"1986-01-01T00:00:00\"}, {\"Year\": 1987, \"Field\": \"Health\", \"Percent\": 85.5, \"Yeardate\": \"1987-01-01T00:00:00\"}, {\"Year\": 1988, \"Field\": \"Health\", \"Percent\": 85.2, \"Yeardate\": \"1988-01-01T00:00:00\"}, {\"Year\": 1989, \"Field\": \"Health\", \"Percent\": 84.6, \"Yeardate\": \"1989-01-01T00:00:00\"}, {\"Year\": 1990, \"Field\": \"Health\", \"Percent\": 83.9, \"Yeardate\": \"1990-01-01T00:00:00\"}, {\"Year\": 1991, \"Field\": \"Health\", \"Percent\": 83.5, \"Yeardate\": \"1991-01-01T00:00:00\"}, {\"Year\": 1992, \"Field\": \"Health\", \"Percent\": 83.0, \"Yeardate\": \"1992-01-01T00:00:00\"}, {\"Year\": 1993, \"Field\": \"Health\", \"Percent\": 82.4, \"Yeardate\": \"1993-01-01T00:00:00\"}, {\"Year\": 1994, \"Field\": \"Health\", \"Percent\": 81.8, \"Yeardate\": \"1994-01-01T00:00:00\"}, {\"Year\": 1995, \"Field\": \"Health\", \"Percent\": 81.5, \"Yeardate\": \"1995-01-01T00:00:00\"}, {\"Year\": 1996, \"Field\": \"Health\", \"Percent\": 81.3, \"Yeardate\": \"1996-01-01T00:00:00\"}, {\"Year\": 1997, \"Field\": \"Health\", \"Percent\": 81.9, \"Yeardate\": \"1997-01-01T00:00:00\"}, {\"Year\": 1998, \"Field\": \"Health\", \"Percent\": 82.1, \"Yeardate\": \"1998-01-01T00:00:00\"}, {\"Year\": 1999, \"Field\": \"Health\", \"Percent\": 83.5, \"Yeardate\": \"1999-01-01T00:00:00\"}, {\"Year\": 2000, \"Field\": \"Health\", \"Percent\": 83.5, \"Yeardate\": \"2000-01-01T00:00:00\"}, {\"Year\": 2001, \"Field\": \"Health\", \"Percent\": 85.1, \"Yeardate\": \"2001-01-01T00:00:00\"}, {\"Year\": 2002, \"Field\": \"Health\", \"Percent\": 85.8, \"Yeardate\": \"2002-01-01T00:00:00\"}, {\"Year\": 2003, \"Field\": \"Health\", \"Percent\": 86.5, \"Yeardate\": \"2003-01-01T00:00:00\"}, {\"Year\": 2004, \"Field\": \"Health\", \"Percent\": 86.5, \"Yeardate\": \"2004-01-01T00:00:00\"}, {\"Year\": 2005, \"Field\": \"Health\", \"Percent\": 86.0, \"Yeardate\": \"2005-01-01T00:00:00\"}, {\"Year\": 2006, \"Field\": \"Health\", \"Percent\": 85.9, \"Yeardate\": \"2006-01-01T00:00:00\"}, {\"Year\": 2007, \"Field\": \"Health\", \"Percent\": 85.4, \"Yeardate\": \"2007-01-01T00:00:00\"}, {\"Year\": 2008, \"Field\": \"Health\", \"Percent\": 85.2, \"Yeardate\": \"2008-01-01T00:00:00\"}, {\"Year\": 2009, \"Field\": \"Health\", \"Percent\": 85.1, \"Yeardate\": \"2009-01-01T00:00:00\"}, {\"Year\": 2010, \"Field\": \"Health\", \"Percent\": 85.0, \"Yeardate\": \"2010-01-01T00:00:00\"}, {\"Year\": 2011, \"Field\": \"Health\", \"Percent\": 84.8, \"Yeardate\": \"2011-01-01T00:00:00\"}, {\"Year\": 1970, \"Field\": \"Psychology\", \"Percent\": 44.4, \"Yeardate\": \"1970-01-01T00:00:00\"}, {\"Year\": 1971, \"Field\": \"Psychology\", \"Percent\": 46.2, \"Yeardate\": \"1971-01-01T00:00:00\"}, {\"Year\": 1972, \"Field\": \"Psychology\", \"Percent\": 47.6, \"Yeardate\": \"1972-01-01T00:00:00\"}, {\"Year\": 1973, \"Field\": \"Psychology\", \"Percent\": 50.4, \"Yeardate\": \"1973-01-01T00:00:00\"}, {\"Year\": 1974, \"Field\": \"Psychology\", \"Percent\": 52.6, \"Yeardate\": \"1974-01-01T00:00:00\"}, {\"Year\": 1975, \"Field\": \"Psychology\", \"Percent\": 54.5, \"Yeardate\": \"1975-01-01T00:00:00\"}, {\"Year\": 1976, \"Field\": \"Psychology\", \"Percent\": 56.9, \"Yeardate\": \"1976-01-01T00:00:00\"}, {\"Year\": 1977, \"Field\": \"Psychology\", \"Percent\": 59.0, \"Yeardate\": \"1977-01-01T00:00:00\"}, {\"Year\": 1978, \"Field\": \"Psychology\", \"Percent\": 61.3, \"Yeardate\": \"1978-01-01T00:00:00\"}, {\"Year\": 1979, \"Field\": \"Psychology\", \"Percent\": 63.3, \"Yeardate\": \"1979-01-01T00:00:00\"}, {\"Year\": 1980, \"Field\": \"Psychology\", \"Percent\": 65.1, \"Yeardate\": \"1980-01-01T00:00:00\"}, {\"Year\": 1981, \"Field\": \"Psychology\", \"Percent\": 66.9, \"Yeardate\": \"1981-01-01T00:00:00\"}, {\"Year\": 1982, \"Field\": \"Psychology\", \"Percent\": 67.5, \"Yeardate\": \"1982-01-01T00:00:00\"}, {\"Year\": 1983, \"Field\": \"Psychology\", \"Percent\": 67.9, \"Yeardate\": \"1983-01-01T00:00:00\"}, {\"Year\": 1984, \"Field\": \"Psychology\", \"Percent\": 68.2, \"Yeardate\": \"1984-01-01T00:00:00\"}, {\"Year\": 1985, \"Field\": \"Psychology\", \"Percent\": 69.0, \"Yeardate\": \"1985-01-01T00:00:00\"}, {\"Year\": 1986, \"Field\": \"Psychology\", \"Percent\": 69.0, \"Yeardate\": \"1986-01-01T00:00:00\"}, {\"Year\": 1987, \"Field\": \"Psychology\", \"Percent\": 70.1, \"Yeardate\": \"1987-01-01T00:00:00\"}, {\"Year\": 1988, \"Field\": \"Psychology\", \"Percent\": 70.9, \"Yeardate\": \"1988-01-01T00:00:00\"}, {\"Year\": 1989, \"Field\": \"Psychology\", \"Percent\": 71.6, \"Yeardate\": \"1989-01-01T00:00:00\"}, {\"Year\": 1990, \"Field\": \"Psychology\", \"Percent\": 72.6, \"Yeardate\": \"1990-01-01T00:00:00\"}, {\"Year\": 1991, \"Field\": \"Psychology\", \"Percent\": 73.2, \"Yeardate\": \"1991-01-01T00:00:00\"}, {\"Year\": 1992, \"Field\": \"Psychology\", \"Percent\": 73.2, \"Yeardate\": \"1992-01-01T00:00:00\"}, {\"Year\": 1993, \"Field\": \"Psychology\", \"Percent\": 73.1, \"Yeardate\": \"1993-01-01T00:00:00\"}, {\"Year\": 1994, \"Field\": \"Psychology\", \"Percent\": 72.9, \"Yeardate\": \"1994-01-01T00:00:00\"}, {\"Year\": 1995, \"Field\": \"Psychology\", \"Percent\": 73.0, \"Yeardate\": \"1995-01-01T00:00:00\"}, {\"Year\": 1996, \"Field\": \"Psychology\", \"Percent\": 73.9, \"Yeardate\": \"1996-01-01T00:00:00\"}, {\"Year\": 1997, \"Field\": \"Psychology\", \"Percent\": 74.4, \"Yeardate\": \"1997-01-01T00:00:00\"}, {\"Year\": 1998, \"Field\": \"Psychology\", \"Percent\": 75.1, \"Yeardate\": \"1998-01-01T00:00:00\"}, {\"Year\": 1999, \"Field\": \"Psychology\", \"Percent\": 76.5, \"Yeardate\": \"1999-01-01T00:00:00\"}, {\"Year\": 2000, \"Field\": \"Psychology\", \"Percent\": 77.5, \"Yeardate\": \"2000-01-01T00:00:00\"}, {\"Year\": 2001, \"Field\": \"Psychology\", \"Percent\": 77.5, \"Yeardate\": \"2001-01-01T00:00:00\"}, {\"Year\": 2002, \"Field\": \"Psychology\", \"Percent\": 77.7, \"Yeardate\": \"2002-01-01T00:00:00\"}, {\"Year\": 2003, \"Field\": \"Psychology\", \"Percent\": 77.8, \"Yeardate\": \"2003-01-01T00:00:00\"}, {\"Year\": 2004, \"Field\": \"Psychology\", \"Percent\": 77.8, \"Yeardate\": \"2004-01-01T00:00:00\"}, {\"Year\": 2005, \"Field\": \"Psychology\", \"Percent\": 77.5, \"Yeardate\": \"2005-01-01T00:00:00\"}, {\"Year\": 2006, \"Field\": \"Psychology\", \"Percent\": 77.4, \"Yeardate\": \"2006-01-01T00:00:00\"}, {\"Year\": 2007, \"Field\": \"Psychology\", \"Percent\": 77.1, \"Yeardate\": \"2007-01-01T00:00:00\"}, {\"Year\": 2008, \"Field\": \"Psychology\", \"Percent\": 77.2, \"Yeardate\": \"2008-01-01T00:00:00\"}, {\"Year\": 2009, \"Field\": \"Psychology\", \"Percent\": 77.1, \"Yeardate\": \"2009-01-01T00:00:00\"}, {\"Year\": 2010, \"Field\": \"Psychology\", \"Percent\": 77.0, \"Yeardate\": \"2010-01-01T00:00:00\"}, {\"Year\": 2011, \"Field\": \"Psychology\", \"Percent\": 76.7, \"Yeardate\": \"2011-01-01T00:00:00\"}]}}, {\"mode\": \"vega-lite\"});\n",
       "</script>"
      ],
      "text/plain": [
       "alt.FacetChart(...)"
      ]
     },
     "execution_count": 42,
     "metadata": {},
     "output_type": "execute_result"
    }
   ],
   "source": [
    "df_tall.plot.line(\n",
    "    alt.X('Yeardate:T'),\n",
    "    alt.Y('Percent:Q'),\n",
    "    alt.Color('Field:N')\n",
    ").properties(\n",
    "    width=100, \n",
    "    height=200\n",
    ").facet(\n",
    "    column='Field'\n",
    ")"
   ]
  },
  {
   "cell_type": "markdown",
   "metadata": {},
   "source": [
    "### Set the subplot arrangement grid\n",
    "\n",
    "`layout=(rows, columns)` sets the grid for subplots. \n",
    "\n",
    "#### Notice that suplots are [rows,columns] like DataFrame access!"
   ]
  },
  {
   "cell_type": "code",
   "execution_count": 46,
   "metadata": {},
   "outputs": [
    {
     "data": {
      "text/html": [
       "\n",
       "<style>\n",
       "  #altair-viz-d14cccadd4dc4d8384c84af45f53136e.vega-embed {\n",
       "    width: 100%;\n",
       "    display: flex;\n",
       "  }\n",
       "\n",
       "  #altair-viz-d14cccadd4dc4d8384c84af45f53136e.vega-embed details,\n",
       "  #altair-viz-d14cccadd4dc4d8384c84af45f53136e.vega-embed details summary {\n",
       "    position: relative;\n",
       "  }\n",
       "</style>\n",
       "<div id=\"altair-viz-d14cccadd4dc4d8384c84af45f53136e\"></div>\n",
       "<script type=\"text/javascript\">\n",
       "  var VEGA_DEBUG = (typeof VEGA_DEBUG == \"undefined\") ? {} : VEGA_DEBUG;\n",
       "  (function(spec, embedOpt){\n",
       "    let outputDiv = document.currentScript.previousElementSibling;\n",
       "    if (outputDiv.id !== \"altair-viz-d14cccadd4dc4d8384c84af45f53136e\") {\n",
       "      outputDiv = document.getElementById(\"altair-viz-d14cccadd4dc4d8384c84af45f53136e\");\n",
       "    }\n",
       "\n",
       "    const paths = {\n",
       "      \"vega\": \"https://cdn.jsdelivr.net/npm/vega@5?noext\",\n",
       "      \"vega-lib\": \"https://cdn.jsdelivr.net/npm/vega-lib?noext\",\n",
       "      \"vega-lite\": \"https://cdn.jsdelivr.net/npm/vega-lite@5.20.1?noext\",\n",
       "      \"vega-embed\": \"https://cdn.jsdelivr.net/npm/vega-embed@6?noext\",\n",
       "    };\n",
       "\n",
       "    function maybeLoadScript(lib, version) {\n",
       "      var key = `${lib.replace(\"-\", \"\")}_version`;\n",
       "      return (VEGA_DEBUG[key] == version) ?\n",
       "        Promise.resolve(paths[lib]) :\n",
       "        new Promise(function(resolve, reject) {\n",
       "          var s = document.createElement('script');\n",
       "          document.getElementsByTagName(\"head\")[0].appendChild(s);\n",
       "          s.async = true;\n",
       "          s.onload = () => {\n",
       "            VEGA_DEBUG[key] = version;\n",
       "            return resolve(paths[lib]);\n",
       "          };\n",
       "          s.onerror = () => reject(`Error loading script: ${paths[lib]}`);\n",
       "          s.src = paths[lib];\n",
       "        });\n",
       "    }\n",
       "\n",
       "    function showError(err) {\n",
       "      outputDiv.innerHTML = `<div class=\"error\" style=\"color:red;\">${err}</div>`;\n",
       "      throw err;\n",
       "    }\n",
       "\n",
       "    function displayChart(vegaEmbed) {\n",
       "      vegaEmbed(outputDiv, spec, embedOpt)\n",
       "        .catch(err => showError(`Javascript Error: ${err.message}<br>This usually means there's a typo in your chart specification. See the javascript console for the full traceback.`));\n",
       "    }\n",
       "\n",
       "    if(typeof define === \"function\" && define.amd) {\n",
       "      requirejs.config({paths});\n",
       "      let deps = [\"vega-embed\"];\n",
       "      require(deps, displayChart, err => showError(`Error loading script: ${err.message}`));\n",
       "    } else {\n",
       "      maybeLoadScript(\"vega\", \"5\")\n",
       "        .then(() => maybeLoadScript(\"vega-lite\", \"5.20.1\"))\n",
       "        .then(() => maybeLoadScript(\"vega-embed\", \"6\"))\n",
       "        .catch(showError)\n",
       "        .then(() => displayChart(vegaEmbed));\n",
       "    }\n",
       "  })({\"config\": {\"view\": {\"continuousWidth\": 300, \"continuousHeight\": 300}}, \"data\": {\"name\": \"data-7bd34bc17e6719b4e12365c5b18fa641\"}, \"facet\": {\"field\": \"Field\", \"type\": \"nominal\"}, \"spec\": {\"mark\": {\"type\": \"line\", \"tooltip\": true}, \"encoding\": {\"color\": {\"field\": \"Field\", \"type\": \"nominal\"}, \"x\": {\"field\": \"Yeardate\", \"type\": \"temporal\"}, \"y\": {\"field\": \"Percent\", \"type\": \"quantitative\"}}, \"height\": 100, \"name\": \"view_11\", \"width\": 100}, \"columns\": 3, \"params\": [{\"name\": \"param_32\", \"select\": {\"type\": \"interval\", \"encodings\": [\"x\", \"y\"]}, \"bind\": \"scales\", \"views\": [\"view_11\"]}], \"$schema\": \"https://vega.github.io/schema/vega-lite/v5.20.1.json\", \"datasets\": {\"data-7bd34bc17e6719b4e12365c5b18fa641\": [{\"Year\": 1970, \"Field\": \"Agriculture\", \"Percent\": 4.22979798, \"Yeardate\": \"1970-01-01T00:00:00\"}, {\"Year\": 1971, \"Field\": \"Agriculture\", \"Percent\": 5.452796685, \"Yeardate\": \"1971-01-01T00:00:00\"}, {\"Year\": 1972, \"Field\": \"Agriculture\", \"Percent\": 7.42071022, \"Yeardate\": \"1972-01-01T00:00:00\"}, {\"Year\": 1973, \"Field\": \"Agriculture\", \"Percent\": 9.653602412, \"Yeardate\": \"1973-01-01T00:00:00\"}, {\"Year\": 1974, \"Field\": \"Agriculture\", \"Percent\": 14.07462346, \"Yeardate\": \"1974-01-01T00:00:00\"}, {\"Year\": 1975, \"Field\": \"Agriculture\", \"Percent\": 18.33316153, \"Yeardate\": \"1975-01-01T00:00:00\"}, {\"Year\": 1976, \"Field\": \"Agriculture\", \"Percent\": 22.25276005, \"Yeardate\": \"1976-01-01T00:00:00\"}, {\"Year\": 1977, \"Field\": \"Agriculture\", \"Percent\": 24.6401766, \"Yeardate\": \"1977-01-01T00:00:00\"}, {\"Year\": 1978, \"Field\": \"Agriculture\", \"Percent\": 27.14619175, \"Yeardate\": \"1978-01-01T00:00:00\"}, {\"Year\": 1979, \"Field\": \"Agriculture\", \"Percent\": 29.63336549, \"Yeardate\": \"1979-01-01T00:00:00\"}, {\"Year\": 1980, \"Field\": \"Agriculture\", \"Percent\": 30.75938956, \"Yeardate\": \"1980-01-01T00:00:00\"}, {\"Year\": 1981, \"Field\": \"Agriculture\", \"Percent\": 31.31865519, \"Yeardate\": \"1981-01-01T00:00:00\"}, {\"Year\": 1982, \"Field\": \"Agriculture\", \"Percent\": 32.63666364, \"Yeardate\": \"1982-01-01T00:00:00\"}, {\"Year\": 1983, \"Field\": \"Agriculture\", \"Percent\": 31.6353471, \"Yeardate\": \"1983-01-01T00:00:00\"}, {\"Year\": 1984, \"Field\": \"Agriculture\", \"Percent\": 31.09294748, \"Yeardate\": \"1984-01-01T00:00:00\"}, {\"Year\": 1985, \"Field\": \"Agriculture\", \"Percent\": 31.3796588, \"Yeardate\": \"1985-01-01T00:00:00\"}, {\"Year\": 1986, \"Field\": \"Agriculture\", \"Percent\": 31.19871923, \"Yeardate\": \"1986-01-01T00:00:00\"}, {\"Year\": 1987, \"Field\": \"Agriculture\", \"Percent\": 31.48642948, \"Yeardate\": \"1987-01-01T00:00:00\"}, {\"Year\": 1988, \"Field\": \"Agriculture\", \"Percent\": 31.08508746, \"Yeardate\": \"1988-01-01T00:00:00\"}, {\"Year\": 1989, \"Field\": \"Agriculture\", \"Percent\": 31.6124031, \"Yeardate\": \"1989-01-01T00:00:00\"}, {\"Year\": 1990, \"Field\": \"Agriculture\", \"Percent\": 32.70344407, \"Yeardate\": \"1990-01-01T00:00:00\"}, {\"Year\": 1991, \"Field\": \"Agriculture\", \"Percent\": 34.71183749, \"Yeardate\": \"1991-01-01T00:00:00\"}, {\"Year\": 1992, \"Field\": \"Agriculture\", \"Percent\": 33.93165961, \"Yeardate\": \"1992-01-01T00:00:00\"}, {\"Year\": 1993, \"Field\": \"Agriculture\", \"Percent\": 34.94683208, \"Yeardate\": \"1993-01-01T00:00:00\"}, {\"Year\": 1994, \"Field\": \"Agriculture\", \"Percent\": 36.03267447, \"Yeardate\": \"1994-01-01T00:00:00\"}, {\"Year\": 1995, \"Field\": \"Agriculture\", \"Percent\": 36.84480747, \"Yeardate\": \"1995-01-01T00:00:00\"}, {\"Year\": 1996, \"Field\": \"Agriculture\", \"Percent\": 38.96977475, \"Yeardate\": \"1996-01-01T00:00:00\"}, {\"Year\": 1997, \"Field\": \"Agriculture\", \"Percent\": 40.68568483, \"Yeardate\": \"1997-01-01T00:00:00\"}, {\"Year\": 1998, \"Field\": \"Agriculture\", \"Percent\": 41.91240333, \"Yeardate\": \"1998-01-01T00:00:00\"}, {\"Year\": 1999, \"Field\": \"Agriculture\", \"Percent\": 42.88720191, \"Yeardate\": \"1999-01-01T00:00:00\"}, {\"Year\": 2000, \"Field\": \"Agriculture\", \"Percent\": 45.05776637, \"Yeardate\": \"2000-01-01T00:00:00\"}, {\"Year\": 2001, \"Field\": \"Agriculture\", \"Percent\": 45.86601517, \"Yeardate\": \"2001-01-01T00:00:00\"}, {\"Year\": 2002, \"Field\": \"Agriculture\", \"Percent\": 47.13465821, \"Yeardate\": \"2002-01-01T00:00:00\"}, {\"Year\": 2003, \"Field\": \"Agriculture\", \"Percent\": 47.93518721, \"Yeardate\": \"2003-01-01T00:00:00\"}, {\"Year\": 2004, \"Field\": \"Agriculture\", \"Percent\": 47.88714025, \"Yeardate\": \"2004-01-01T00:00:00\"}, {\"Year\": 2005, \"Field\": \"Agriculture\", \"Percent\": 47.67275409, \"Yeardate\": \"2005-01-01T00:00:00\"}, {\"Year\": 2006, \"Field\": \"Agriculture\", \"Percent\": 46.79029957, \"Yeardate\": \"2006-01-01T00:00:00\"}, {\"Year\": 2007, \"Field\": \"Agriculture\", \"Percent\": 47.60502633, \"Yeardate\": \"2007-01-01T00:00:00\"}, {\"Year\": 2008, \"Field\": \"Agriculture\", \"Percent\": 47.570834, \"Yeardate\": \"2008-01-01T00:00:00\"}, {\"Year\": 2009, \"Field\": \"Agriculture\", \"Percent\": 48.66722357, \"Yeardate\": \"2009-01-01T00:00:00\"}, {\"Year\": 2010, \"Field\": \"Agriculture\", \"Percent\": 48.73004227, \"Yeardate\": \"2010-01-01T00:00:00\"}, {\"Year\": 2011, \"Field\": \"Agriculture\", \"Percent\": 50.03718193, \"Yeardate\": \"2011-01-01T00:00:00\"}, {\"Year\": 1970, \"Field\": \"Business\", \"Percent\": 9.064438975, \"Yeardate\": \"1970-01-01T00:00:00\"}, {\"Year\": 1971, \"Field\": \"Business\", \"Percent\": 9.503186594, \"Yeardate\": \"1971-01-01T00:00:00\"}, {\"Year\": 1972, \"Field\": \"Business\", \"Percent\": 10.5589621, \"Yeardate\": \"1972-01-01T00:00:00\"}, {\"Year\": 1973, \"Field\": \"Business\", \"Percent\": 12.80460152, \"Yeardate\": \"1973-01-01T00:00:00\"}, {\"Year\": 1974, \"Field\": \"Business\", \"Percent\": 16.20485038, \"Yeardate\": \"1974-01-01T00:00:00\"}, {\"Year\": 1975, \"Field\": \"Business\", \"Percent\": 19.68624931, \"Yeardate\": \"1975-01-01T00:00:00\"}, {\"Year\": 1976, \"Field\": \"Business\", \"Percent\": 23.4300375, \"Yeardate\": \"1976-01-01T00:00:00\"}, {\"Year\": 1977, \"Field\": \"Business\", \"Percent\": 27.16342715, \"Yeardate\": \"1977-01-01T00:00:00\"}, {\"Year\": 1978, \"Field\": \"Business\", \"Percent\": 30.52751868, \"Yeardate\": \"1978-01-01T00:00:00\"}, {\"Year\": 1979, \"Field\": \"Business\", \"Percent\": 33.62163381, \"Yeardate\": \"1979-01-01T00:00:00\"}, {\"Year\": 1980, \"Field\": \"Business\", \"Percent\": 36.76572529, \"Yeardate\": \"1980-01-01T00:00:00\"}, {\"Year\": 1981, \"Field\": \"Business\", \"Percent\": 39.26622984, \"Yeardate\": \"1981-01-01T00:00:00\"}, {\"Year\": 1982, \"Field\": \"Business\", \"Percent\": 41.94937335, \"Yeardate\": \"1982-01-01T00:00:00\"}, {\"Year\": 1983, \"Field\": \"Business\", \"Percent\": 43.54206966, \"Yeardate\": \"1983-01-01T00:00:00\"}, {\"Year\": 1984, \"Field\": \"Business\", \"Percent\": 45.12403027, \"Yeardate\": \"1984-01-01T00:00:00\"}, {\"Year\": 1985, \"Field\": \"Business\", \"Percent\": 45.747782, \"Yeardate\": \"1985-01-01T00:00:00\"}, {\"Year\": 1986, \"Field\": \"Business\", \"Percent\": 46.53291505, \"Yeardate\": \"1986-01-01T00:00:00\"}, {\"Year\": 1987, \"Field\": \"Business\", \"Percent\": 46.69046648, \"Yeardate\": \"1987-01-01T00:00:00\"}, {\"Year\": 1988, \"Field\": \"Business\", \"Percent\": 46.7648277, \"Yeardate\": \"1988-01-01T00:00:00\"}, {\"Year\": 1989, \"Field\": \"Business\", \"Percent\": 46.7815648, \"Yeardate\": \"1989-01-01T00:00:00\"}, {\"Year\": 1990, \"Field\": \"Business\", \"Percent\": 47.20085084, \"Yeardate\": \"1990-01-01T00:00:00\"}, {\"Year\": 1991, \"Field\": \"Business\", \"Percent\": 47.22432481, \"Yeardate\": \"1991-01-01T00:00:00\"}, {\"Year\": 1992, \"Field\": \"Business\", \"Percent\": 47.21939541, \"Yeardate\": \"1992-01-01T00:00:00\"}, {\"Year\": 1993, \"Field\": \"Business\", \"Percent\": 47.63933161, \"Yeardate\": \"1993-01-01T00:00:00\"}, {\"Year\": 1994, \"Field\": \"Business\", \"Percent\": 47.98392441, \"Yeardate\": \"1994-01-01T00:00:00\"}, {\"Year\": 1995, \"Field\": \"Business\", \"Percent\": 48.57318101, \"Yeardate\": \"1995-01-01T00:00:00\"}, {\"Year\": 1996, \"Field\": \"Business\", \"Percent\": 48.6473926, \"Yeardate\": \"1996-01-01T00:00:00\"}, {\"Year\": 1997, \"Field\": \"Business\", \"Percent\": 48.56105033, \"Yeardate\": \"1997-01-01T00:00:00\"}, {\"Year\": 1998, \"Field\": \"Business\", \"Percent\": 49.2585152, \"Yeardate\": \"1998-01-01T00:00:00\"}, {\"Year\": 1999, \"Field\": \"Business\", \"Percent\": 49.81020815, \"Yeardate\": \"1999-01-01T00:00:00\"}, {\"Year\": 2000, \"Field\": \"Business\", \"Percent\": 49.80361649, \"Yeardate\": \"2000-01-01T00:00:00\"}, {\"Year\": 2001, \"Field\": \"Business\", \"Percent\": 50.27514494, \"Yeardate\": \"2001-01-01T00:00:00\"}, {\"Year\": 2002, \"Field\": \"Business\", \"Percent\": 50.5523346, \"Yeardate\": \"2002-01-01T00:00:00\"}, {\"Year\": 2003, \"Field\": \"Business\", \"Percent\": 50.34559774, \"Yeardate\": \"2003-01-01T00:00:00\"}, {\"Year\": 2004, \"Field\": \"Business\", \"Percent\": 49.95089449, \"Yeardate\": \"2004-01-01T00:00:00\"}, {\"Year\": 2005, \"Field\": \"Business\", \"Percent\": 49.79185139, \"Yeardate\": \"2005-01-01T00:00:00\"}, {\"Year\": 2006, \"Field\": \"Business\", \"Percent\": 49.21091439, \"Yeardate\": \"2006-01-01T00:00:00\"}, {\"Year\": 2007, \"Field\": \"Business\", \"Percent\": 49.00045935, \"Yeardate\": \"2007-01-01T00:00:00\"}, {\"Year\": 2008, \"Field\": \"Business\", \"Percent\": 48.88802678, \"Yeardate\": \"2008-01-01T00:00:00\"}, {\"Year\": 2009, \"Field\": \"Business\", \"Percent\": 48.84047414, \"Yeardate\": \"2009-01-01T00:00:00\"}, {\"Year\": 2010, \"Field\": \"Business\", \"Percent\": 48.75798769, \"Yeardate\": \"2010-01-01T00:00:00\"}, {\"Year\": 2011, \"Field\": \"Business\", \"Percent\": 48.18041792, \"Yeardate\": \"2011-01-01T00:00:00\"}, {\"Year\": 1970, \"Field\": \"Engineering\", \"Percent\": 0.8, \"Yeardate\": \"1970-01-01T00:00:00\"}, {\"Year\": 1971, \"Field\": \"Engineering\", \"Percent\": 1.0, \"Yeardate\": \"1971-01-01T00:00:00\"}, {\"Year\": 1972, \"Field\": \"Engineering\", \"Percent\": 1.2, \"Yeardate\": \"1972-01-01T00:00:00\"}, {\"Year\": 1973, \"Field\": \"Engineering\", \"Percent\": 1.6, \"Yeardate\": \"1973-01-01T00:00:00\"}, {\"Year\": 1974, \"Field\": \"Engineering\", \"Percent\": 2.2, \"Yeardate\": \"1974-01-01T00:00:00\"}, {\"Year\": 1975, \"Field\": \"Engineering\", \"Percent\": 3.2, \"Yeardate\": \"1975-01-01T00:00:00\"}, {\"Year\": 1976, \"Field\": \"Engineering\", \"Percent\": 4.5, \"Yeardate\": \"1976-01-01T00:00:00\"}, {\"Year\": 1977, \"Field\": \"Engineering\", \"Percent\": 6.8, \"Yeardate\": \"1977-01-01T00:00:00\"}, {\"Year\": 1978, \"Field\": \"Engineering\", \"Percent\": 8.4, \"Yeardate\": \"1978-01-01T00:00:00\"}, {\"Year\": 1979, \"Field\": \"Engineering\", \"Percent\": 9.4, \"Yeardate\": \"1979-01-01T00:00:00\"}, {\"Year\": 1980, \"Field\": \"Engineering\", \"Percent\": 10.3, \"Yeardate\": \"1980-01-01T00:00:00\"}, {\"Year\": 1981, \"Field\": \"Engineering\", \"Percent\": 11.6, \"Yeardate\": \"1981-01-01T00:00:00\"}, {\"Year\": 1982, \"Field\": \"Engineering\", \"Percent\": 12.4, \"Yeardate\": \"1982-01-01T00:00:00\"}, {\"Year\": 1983, \"Field\": \"Engineering\", \"Percent\": 13.1, \"Yeardate\": \"1983-01-01T00:00:00\"}, {\"Year\": 1984, \"Field\": \"Engineering\", \"Percent\": 13.5, \"Yeardate\": \"1984-01-01T00:00:00\"}, {\"Year\": 1985, \"Field\": \"Engineering\", \"Percent\": 13.5, \"Yeardate\": \"1985-01-01T00:00:00\"}, {\"Year\": 1986, \"Field\": \"Engineering\", \"Percent\": 13.9, \"Yeardate\": \"1986-01-01T00:00:00\"}, {\"Year\": 1987, \"Field\": \"Engineering\", \"Percent\": 14.0, \"Yeardate\": \"1987-01-01T00:00:00\"}, {\"Year\": 1988, \"Field\": \"Engineering\", \"Percent\": 13.9, \"Yeardate\": \"1988-01-01T00:00:00\"}, {\"Year\": 1989, \"Field\": \"Engineering\", \"Percent\": 14.1, \"Yeardate\": \"1989-01-01T00:00:00\"}, {\"Year\": 1990, \"Field\": \"Engineering\", \"Percent\": 14.1, \"Yeardate\": \"1990-01-01T00:00:00\"}, {\"Year\": 1991, \"Field\": \"Engineering\", \"Percent\": 14.0, \"Yeardate\": \"1991-01-01T00:00:00\"}, {\"Year\": 1992, \"Field\": \"Engineering\", \"Percent\": 14.5, \"Yeardate\": \"1992-01-01T00:00:00\"}, {\"Year\": 1993, \"Field\": \"Engineering\", \"Percent\": 14.9, \"Yeardate\": \"1993-01-01T00:00:00\"}, {\"Year\": 1994, \"Field\": \"Engineering\", \"Percent\": 15.7, \"Yeardate\": \"1994-01-01T00:00:00\"}, {\"Year\": 1995, \"Field\": \"Engineering\", \"Percent\": 16.2, \"Yeardate\": \"1995-01-01T00:00:00\"}, {\"Year\": 1996, \"Field\": \"Engineering\", \"Percent\": 16.7, \"Yeardate\": \"1996-01-01T00:00:00\"}, {\"Year\": 1997, \"Field\": \"Engineering\", \"Percent\": 17.0, \"Yeardate\": \"1997-01-01T00:00:00\"}, {\"Year\": 1998, \"Field\": \"Engineering\", \"Percent\": 17.8, \"Yeardate\": \"1998-01-01T00:00:00\"}, {\"Year\": 1999, \"Field\": \"Engineering\", \"Percent\": 18.6, \"Yeardate\": \"1999-01-01T00:00:00\"}, {\"Year\": 2000, \"Field\": \"Engineering\", \"Percent\": 18.4, \"Yeardate\": \"2000-01-01T00:00:00\"}, {\"Year\": 2001, \"Field\": \"Engineering\", \"Percent\": 19.0, \"Yeardate\": \"2001-01-01T00:00:00\"}, {\"Year\": 2002, \"Field\": \"Engineering\", \"Percent\": 18.7, \"Yeardate\": \"2002-01-01T00:00:00\"}, {\"Year\": 2003, \"Field\": \"Engineering\", \"Percent\": 18.8, \"Yeardate\": \"2003-01-01T00:00:00\"}, {\"Year\": 2004, \"Field\": \"Engineering\", \"Percent\": 18.2, \"Yeardate\": \"2004-01-01T00:00:00\"}, {\"Year\": 2005, \"Field\": \"Engineering\", \"Percent\": 17.9, \"Yeardate\": \"2005-01-01T00:00:00\"}, {\"Year\": 2006, \"Field\": \"Engineering\", \"Percent\": 16.8, \"Yeardate\": \"2006-01-01T00:00:00\"}, {\"Year\": 2007, \"Field\": \"Engineering\", \"Percent\": 16.8, \"Yeardate\": \"2007-01-01T00:00:00\"}, {\"Year\": 2008, \"Field\": \"Engineering\", \"Percent\": 16.5, \"Yeardate\": \"2008-01-01T00:00:00\"}, {\"Year\": 2009, \"Field\": \"Engineering\", \"Percent\": 16.8, \"Yeardate\": \"2009-01-01T00:00:00\"}, {\"Year\": 2010, \"Field\": \"Engineering\", \"Percent\": 17.2, \"Yeardate\": \"2010-01-01T00:00:00\"}, {\"Year\": 2011, \"Field\": \"Engineering\", \"Percent\": 17.5, \"Yeardate\": \"2011-01-01T00:00:00\"}, {\"Year\": 1970, \"Field\": \"Health\", \"Percent\": 77.1, \"Yeardate\": \"1970-01-01T00:00:00\"}, {\"Year\": 1971, \"Field\": \"Health\", \"Percent\": 75.5, \"Yeardate\": \"1971-01-01T00:00:00\"}, {\"Year\": 1972, \"Field\": \"Health\", \"Percent\": 76.9, \"Yeardate\": \"1972-01-01T00:00:00\"}, {\"Year\": 1973, \"Field\": \"Health\", \"Percent\": 77.4, \"Yeardate\": \"1973-01-01T00:00:00\"}, {\"Year\": 1974, \"Field\": \"Health\", \"Percent\": 77.9, \"Yeardate\": \"1974-01-01T00:00:00\"}, {\"Year\": 1975, \"Field\": \"Health\", \"Percent\": 78.9, \"Yeardate\": \"1975-01-01T00:00:00\"}, {\"Year\": 1976, \"Field\": \"Health\", \"Percent\": 79.2, \"Yeardate\": \"1976-01-01T00:00:00\"}, {\"Year\": 1977, \"Field\": \"Health\", \"Percent\": 80.5, \"Yeardate\": \"1977-01-01T00:00:00\"}, {\"Year\": 1978, \"Field\": \"Health\", \"Percent\": 81.9, \"Yeardate\": \"1978-01-01T00:00:00\"}, {\"Year\": 1979, \"Field\": \"Health\", \"Percent\": 82.3, \"Yeardate\": \"1979-01-01T00:00:00\"}, {\"Year\": 1980, \"Field\": \"Health\", \"Percent\": 83.5, \"Yeardate\": \"1980-01-01T00:00:00\"}, {\"Year\": 1981, \"Field\": \"Health\", \"Percent\": 84.1, \"Yeardate\": \"1981-01-01T00:00:00\"}, {\"Year\": 1982, \"Field\": \"Health\", \"Percent\": 84.4, \"Yeardate\": \"1982-01-01T00:00:00\"}, {\"Year\": 1983, \"Field\": \"Health\", \"Percent\": 84.6, \"Yeardate\": \"1983-01-01T00:00:00\"}, {\"Year\": 1984, \"Field\": \"Health\", \"Percent\": 85.1, \"Yeardate\": \"1984-01-01T00:00:00\"}, {\"Year\": 1985, \"Field\": \"Health\", \"Percent\": 85.3, \"Yeardate\": \"1985-01-01T00:00:00\"}, {\"Year\": 1986, \"Field\": \"Health\", \"Percent\": 85.7, \"Yeardate\": \"1986-01-01T00:00:00\"}, {\"Year\": 1987, \"Field\": \"Health\", \"Percent\": 85.5, \"Yeardate\": \"1987-01-01T00:00:00\"}, {\"Year\": 1988, \"Field\": \"Health\", \"Percent\": 85.2, \"Yeardate\": \"1988-01-01T00:00:00\"}, {\"Year\": 1989, \"Field\": \"Health\", \"Percent\": 84.6, \"Yeardate\": \"1989-01-01T00:00:00\"}, {\"Year\": 1990, \"Field\": \"Health\", \"Percent\": 83.9, \"Yeardate\": \"1990-01-01T00:00:00\"}, {\"Year\": 1991, \"Field\": \"Health\", \"Percent\": 83.5, \"Yeardate\": \"1991-01-01T00:00:00\"}, {\"Year\": 1992, \"Field\": \"Health\", \"Percent\": 83.0, \"Yeardate\": \"1992-01-01T00:00:00\"}, {\"Year\": 1993, \"Field\": \"Health\", \"Percent\": 82.4, \"Yeardate\": \"1993-01-01T00:00:00\"}, {\"Year\": 1994, \"Field\": \"Health\", \"Percent\": 81.8, \"Yeardate\": \"1994-01-01T00:00:00\"}, {\"Year\": 1995, \"Field\": \"Health\", \"Percent\": 81.5, \"Yeardate\": \"1995-01-01T00:00:00\"}, {\"Year\": 1996, \"Field\": \"Health\", \"Percent\": 81.3, \"Yeardate\": \"1996-01-01T00:00:00\"}, {\"Year\": 1997, \"Field\": \"Health\", \"Percent\": 81.9, \"Yeardate\": \"1997-01-01T00:00:00\"}, {\"Year\": 1998, \"Field\": \"Health\", \"Percent\": 82.1, \"Yeardate\": \"1998-01-01T00:00:00\"}, {\"Year\": 1999, \"Field\": \"Health\", \"Percent\": 83.5, \"Yeardate\": \"1999-01-01T00:00:00\"}, {\"Year\": 2000, \"Field\": \"Health\", \"Percent\": 83.5, \"Yeardate\": \"2000-01-01T00:00:00\"}, {\"Year\": 2001, \"Field\": \"Health\", \"Percent\": 85.1, \"Yeardate\": \"2001-01-01T00:00:00\"}, {\"Year\": 2002, \"Field\": \"Health\", \"Percent\": 85.8, \"Yeardate\": \"2002-01-01T00:00:00\"}, {\"Year\": 2003, \"Field\": \"Health\", \"Percent\": 86.5, \"Yeardate\": \"2003-01-01T00:00:00\"}, {\"Year\": 2004, \"Field\": \"Health\", \"Percent\": 86.5, \"Yeardate\": \"2004-01-01T00:00:00\"}, {\"Year\": 2005, \"Field\": \"Health\", \"Percent\": 86.0, \"Yeardate\": \"2005-01-01T00:00:00\"}, {\"Year\": 2006, \"Field\": \"Health\", \"Percent\": 85.9, \"Yeardate\": \"2006-01-01T00:00:00\"}, {\"Year\": 2007, \"Field\": \"Health\", \"Percent\": 85.4, \"Yeardate\": \"2007-01-01T00:00:00\"}, {\"Year\": 2008, \"Field\": \"Health\", \"Percent\": 85.2, \"Yeardate\": \"2008-01-01T00:00:00\"}, {\"Year\": 2009, \"Field\": \"Health\", \"Percent\": 85.1, \"Yeardate\": \"2009-01-01T00:00:00\"}, {\"Year\": 2010, \"Field\": \"Health\", \"Percent\": 85.0, \"Yeardate\": \"2010-01-01T00:00:00\"}, {\"Year\": 2011, \"Field\": \"Health\", \"Percent\": 84.8, \"Yeardate\": \"2011-01-01T00:00:00\"}, {\"Year\": 1970, \"Field\": \"Psychology\", \"Percent\": 44.4, \"Yeardate\": \"1970-01-01T00:00:00\"}, {\"Year\": 1971, \"Field\": \"Psychology\", \"Percent\": 46.2, \"Yeardate\": \"1971-01-01T00:00:00\"}, {\"Year\": 1972, \"Field\": \"Psychology\", \"Percent\": 47.6, \"Yeardate\": \"1972-01-01T00:00:00\"}, {\"Year\": 1973, \"Field\": \"Psychology\", \"Percent\": 50.4, \"Yeardate\": \"1973-01-01T00:00:00\"}, {\"Year\": 1974, \"Field\": \"Psychology\", \"Percent\": 52.6, \"Yeardate\": \"1974-01-01T00:00:00\"}, {\"Year\": 1975, \"Field\": \"Psychology\", \"Percent\": 54.5, \"Yeardate\": \"1975-01-01T00:00:00\"}, {\"Year\": 1976, \"Field\": \"Psychology\", \"Percent\": 56.9, \"Yeardate\": \"1976-01-01T00:00:00\"}, {\"Year\": 1977, \"Field\": \"Psychology\", \"Percent\": 59.0, \"Yeardate\": \"1977-01-01T00:00:00\"}, {\"Year\": 1978, \"Field\": \"Psychology\", \"Percent\": 61.3, \"Yeardate\": \"1978-01-01T00:00:00\"}, {\"Year\": 1979, \"Field\": \"Psychology\", \"Percent\": 63.3, \"Yeardate\": \"1979-01-01T00:00:00\"}, {\"Year\": 1980, \"Field\": \"Psychology\", \"Percent\": 65.1, \"Yeardate\": \"1980-01-01T00:00:00\"}, {\"Year\": 1981, \"Field\": \"Psychology\", \"Percent\": 66.9, \"Yeardate\": \"1981-01-01T00:00:00\"}, {\"Year\": 1982, \"Field\": \"Psychology\", \"Percent\": 67.5, \"Yeardate\": \"1982-01-01T00:00:00\"}, {\"Year\": 1983, \"Field\": \"Psychology\", \"Percent\": 67.9, \"Yeardate\": \"1983-01-01T00:00:00\"}, {\"Year\": 1984, \"Field\": \"Psychology\", \"Percent\": 68.2, \"Yeardate\": \"1984-01-01T00:00:00\"}, {\"Year\": 1985, \"Field\": \"Psychology\", \"Percent\": 69.0, \"Yeardate\": \"1985-01-01T00:00:00\"}, {\"Year\": 1986, \"Field\": \"Psychology\", \"Percent\": 69.0, \"Yeardate\": \"1986-01-01T00:00:00\"}, {\"Year\": 1987, \"Field\": \"Psychology\", \"Percent\": 70.1, \"Yeardate\": \"1987-01-01T00:00:00\"}, {\"Year\": 1988, \"Field\": \"Psychology\", \"Percent\": 70.9, \"Yeardate\": \"1988-01-01T00:00:00\"}, {\"Year\": 1989, \"Field\": \"Psychology\", \"Percent\": 71.6, \"Yeardate\": \"1989-01-01T00:00:00\"}, {\"Year\": 1990, \"Field\": \"Psychology\", \"Percent\": 72.6, \"Yeardate\": \"1990-01-01T00:00:00\"}, {\"Year\": 1991, \"Field\": \"Psychology\", \"Percent\": 73.2, \"Yeardate\": \"1991-01-01T00:00:00\"}, {\"Year\": 1992, \"Field\": \"Psychology\", \"Percent\": 73.2, \"Yeardate\": \"1992-01-01T00:00:00\"}, {\"Year\": 1993, \"Field\": \"Psychology\", \"Percent\": 73.1, \"Yeardate\": \"1993-01-01T00:00:00\"}, {\"Year\": 1994, \"Field\": \"Psychology\", \"Percent\": 72.9, \"Yeardate\": \"1994-01-01T00:00:00\"}, {\"Year\": 1995, \"Field\": \"Psychology\", \"Percent\": 73.0, \"Yeardate\": \"1995-01-01T00:00:00\"}, {\"Year\": 1996, \"Field\": \"Psychology\", \"Percent\": 73.9, \"Yeardate\": \"1996-01-01T00:00:00\"}, {\"Year\": 1997, \"Field\": \"Psychology\", \"Percent\": 74.4, \"Yeardate\": \"1997-01-01T00:00:00\"}, {\"Year\": 1998, \"Field\": \"Psychology\", \"Percent\": 75.1, \"Yeardate\": \"1998-01-01T00:00:00\"}, {\"Year\": 1999, \"Field\": \"Psychology\", \"Percent\": 76.5, \"Yeardate\": \"1999-01-01T00:00:00\"}, {\"Year\": 2000, \"Field\": \"Psychology\", \"Percent\": 77.5, \"Yeardate\": \"2000-01-01T00:00:00\"}, {\"Year\": 2001, \"Field\": \"Psychology\", \"Percent\": 77.5, \"Yeardate\": \"2001-01-01T00:00:00\"}, {\"Year\": 2002, \"Field\": \"Psychology\", \"Percent\": 77.7, \"Yeardate\": \"2002-01-01T00:00:00\"}, {\"Year\": 2003, \"Field\": \"Psychology\", \"Percent\": 77.8, \"Yeardate\": \"2003-01-01T00:00:00\"}, {\"Year\": 2004, \"Field\": \"Psychology\", \"Percent\": 77.8, \"Yeardate\": \"2004-01-01T00:00:00\"}, {\"Year\": 2005, \"Field\": \"Psychology\", \"Percent\": 77.5, \"Yeardate\": \"2005-01-01T00:00:00\"}, {\"Year\": 2006, \"Field\": \"Psychology\", \"Percent\": 77.4, \"Yeardate\": \"2006-01-01T00:00:00\"}, {\"Year\": 2007, \"Field\": \"Psychology\", \"Percent\": 77.1, \"Yeardate\": \"2007-01-01T00:00:00\"}, {\"Year\": 2008, \"Field\": \"Psychology\", \"Percent\": 77.2, \"Yeardate\": \"2008-01-01T00:00:00\"}, {\"Year\": 2009, \"Field\": \"Psychology\", \"Percent\": 77.1, \"Yeardate\": \"2009-01-01T00:00:00\"}, {\"Year\": 2010, \"Field\": \"Psychology\", \"Percent\": 77.0, \"Yeardate\": \"2010-01-01T00:00:00\"}, {\"Year\": 2011, \"Field\": \"Psychology\", \"Percent\": 76.7, \"Yeardate\": \"2011-01-01T00:00:00\"}]}}, {\"mode\": \"vega-lite\"});\n",
       "</script>"
      ],
      "text/plain": [
       "alt.FacetChart(...)"
      ]
     },
     "execution_count": 46,
     "metadata": {},
     "output_type": "execute_result"
    }
   ],
   "source": [
    "df_tall.plot.line(\n",
    "    alt.X('Yeardate:T'),\n",
    "    alt.Y('Percent:Q'),\n",
    "    alt.Color('Field:N')\n",
    ").properties(\n",
    "    width=100, \n",
    "    height=100\n",
    ").facet(\n",
    "    facet='Field',\n",
    "    columns=3\n",
    ")"
   ]
  },
  {
   "cell_type": "markdown",
   "metadata": {},
   "source": [
    "### You can put a `-1` in one layout entry to say \"as many as needed\"\n",
    "\n",
    "*Notice that even here where plots are side-by-side, the default is still not a shared y-axis range*"
   ]
  },
  {
   "cell_type": "raw",
   "metadata": {},
   "source": [
    "df.plot.line(subplots=True, layout=(1,-1), figsize=(12,2));"
   ]
  },
  {
   "cell_type": "markdown",
   "metadata": {},
   "source": [
    "### Force shared axes with `sharex=True` and/or `sharey=True`\n",
    "\n",
    "**Shared axes should really be the default so we can make realistic comparisons!** Notice how different your perception is of these degree comparisons with a shared Y axis."
   ]
  },
  {
   "cell_type": "raw",
   "metadata": {},
   "source": [
    "df.plot.line(subplots=True, layout=(1,-1), figsize=(12,2), sharey=True);"
   ]
  },
  {
   "cell_type": "markdown",
   "metadata": {},
   "source": [
    "---\n",
    "\n",
    "## Bar chart\n",
    "\n",
    "Trying to do a bar chart of our whole time-series won't be illuminating, so let's calculate the mean values in each field over the data set. *Notice that this output is a Series.*"
   ]
  },
  {
   "cell_type": "code",
   "execution_count": 55,
   "metadata": {},
   "outputs": [
    {
     "data": {
      "text/html": [
       "<div><style>\n",
       ".dataframe > thead > tr,\n",
       ".dataframe > tbody > tr {\n",
       "  text-align: right;\n",
       "  white-space: pre-wrap;\n",
       "}\n",
       "</style>\n",
       "<small>shape: (5, 2)</small><table border=\"1\" class=\"dataframe\"><thead><tr><th>Field</th><th>Percent</th></tr><tr><td>str</td><td>f64</td></tr></thead><tbody><tr><td>&quot;Health&quot;</td><td>82.983333</td></tr><tr><td>&quot;Psychology&quot;</td><td>68.77619</td></tr><tr><td>&quot;Business&quot;</td><td>40.653471</td></tr><tr><td>&quot;Agriculture&quot;</td><td>33.848165</td></tr><tr><td>&quot;Engineering&quot;</td><td>12.892857</td></tr></tbody></table></div>"
      ],
      "text/plain": [
       "shape: (5, 2)\n",
       "┌─────────────┬───────────┐\n",
       "│ Field       ┆ Percent   │\n",
       "│ ---         ┆ ---       │\n",
       "│ str         ┆ f64       │\n",
       "╞═════════════╪═══════════╡\n",
       "│ Health      ┆ 82.983333 │\n",
       "│ Psychology  ┆ 68.77619  │\n",
       "│ Business    ┆ 40.653471 │\n",
       "│ Agriculture ┆ 33.848165 │\n",
       "│ Engineering ┆ 12.892857 │\n",
       "└─────────────┴───────────┘"
      ]
     },
     "execution_count": 55,
     "metadata": {},
     "output_type": "execute_result"
    }
   ],
   "source": [
    "df_tall.group_by('Field').agg(pl.col('Percent').mean()).sort('Percent', descending=True)"
   ]
  },
  {
   "cell_type": "markdown",
   "metadata": {},
   "source": [
    "### Vertical bar chart\n",
    "\n",
    "**You can *chain the plot commands* right onto the end of the mean calculation!** This is the same thing as if we did a sequence\n",
    "\n",
    "```\n",
    "deg_means = df.mean()\n",
    "deg_means.plot.bar()\n",
    "```\n",
    "\n",
    "but we don't need an intermediate variable. Again, that is called **chaining** methods when we link them together like a long chain. As you read left-to-right, the methods (functions) work on the output of the previous command."
   ]
  },
  {
   "cell_type": "code",
   "execution_count": 58,
   "metadata": {},
   "outputs": [
    {
     "data": {
      "text/html": [
       "\n",
       "<style>\n",
       "  #altair-viz-333217cf6f3a463084dbb732cb1642f0.vega-embed {\n",
       "    width: 100%;\n",
       "    display: flex;\n",
       "  }\n",
       "\n",
       "  #altair-viz-333217cf6f3a463084dbb732cb1642f0.vega-embed details,\n",
       "  #altair-viz-333217cf6f3a463084dbb732cb1642f0.vega-embed details summary {\n",
       "    position: relative;\n",
       "  }\n",
       "</style>\n",
       "<div id=\"altair-viz-333217cf6f3a463084dbb732cb1642f0\"></div>\n",
       "<script type=\"text/javascript\">\n",
       "  var VEGA_DEBUG = (typeof VEGA_DEBUG == \"undefined\") ? {} : VEGA_DEBUG;\n",
       "  (function(spec, embedOpt){\n",
       "    let outputDiv = document.currentScript.previousElementSibling;\n",
       "    if (outputDiv.id !== \"altair-viz-333217cf6f3a463084dbb732cb1642f0\") {\n",
       "      outputDiv = document.getElementById(\"altair-viz-333217cf6f3a463084dbb732cb1642f0\");\n",
       "    }\n",
       "\n",
       "    const paths = {\n",
       "      \"vega\": \"https://cdn.jsdelivr.net/npm/vega@5?noext\",\n",
       "      \"vega-lib\": \"https://cdn.jsdelivr.net/npm/vega-lib?noext\",\n",
       "      \"vega-lite\": \"https://cdn.jsdelivr.net/npm/vega-lite@5.20.1?noext\",\n",
       "      \"vega-embed\": \"https://cdn.jsdelivr.net/npm/vega-embed@6?noext\",\n",
       "    };\n",
       "\n",
       "    function maybeLoadScript(lib, version) {\n",
       "      var key = `${lib.replace(\"-\", \"\")}_version`;\n",
       "      return (VEGA_DEBUG[key] == version) ?\n",
       "        Promise.resolve(paths[lib]) :\n",
       "        new Promise(function(resolve, reject) {\n",
       "          var s = document.createElement('script');\n",
       "          document.getElementsByTagName(\"head\")[0].appendChild(s);\n",
       "          s.async = true;\n",
       "          s.onload = () => {\n",
       "            VEGA_DEBUG[key] = version;\n",
       "            return resolve(paths[lib]);\n",
       "          };\n",
       "          s.onerror = () => reject(`Error loading script: ${paths[lib]}`);\n",
       "          s.src = paths[lib];\n",
       "        });\n",
       "    }\n",
       "\n",
       "    function showError(err) {\n",
       "      outputDiv.innerHTML = `<div class=\"error\" style=\"color:red;\">${err}</div>`;\n",
       "      throw err;\n",
       "    }\n",
       "\n",
       "    function displayChart(vegaEmbed) {\n",
       "      vegaEmbed(outputDiv, spec, embedOpt)\n",
       "        .catch(err => showError(`Javascript Error: ${err.message}<br>This usually means there's a typo in your chart specification. See the javascript console for the full traceback.`));\n",
       "    }\n",
       "\n",
       "    if(typeof define === \"function\" && define.amd) {\n",
       "      requirejs.config({paths});\n",
       "      let deps = [\"vega-embed\"];\n",
       "      require(deps, displayChart, err => showError(`Error loading script: ${err.message}`));\n",
       "    } else {\n",
       "      maybeLoadScript(\"vega\", \"5\")\n",
       "        .then(() => maybeLoadScript(\"vega-lite\", \"5.20.1\"))\n",
       "        .then(() => maybeLoadScript(\"vega-embed\", \"6\"))\n",
       "        .catch(showError)\n",
       "        .then(() => displayChart(vegaEmbed));\n",
       "    }\n",
       "  })({\"config\": {\"view\": {\"continuousWidth\": 300, \"continuousHeight\": 300}}, \"data\": {\"name\": \"data-cb0a3cbe09ad586fbf2deba828b6f401\"}, \"mark\": {\"type\": \"bar\", \"tooltip\": true}, \"encoding\": {\"x\": {\"field\": \"Percent\", \"type\": \"quantitative\"}, \"y\": {\"field\": \"Field\", \"sort\": \"-x\", \"type\": \"nominal\"}}, \"params\": [{\"name\": \"param_37\", \"select\": {\"type\": \"interval\", \"encodings\": [\"x\", \"y\"]}, \"bind\": \"scales\"}], \"$schema\": \"https://vega.github.io/schema/vega-lite/v5.20.1.json\", \"datasets\": {\"data-cb0a3cbe09ad586fbf2deba828b6f401\": [{\"Field\": \"Engineering\", \"Percent\": 12.892857142857142}, {\"Field\": \"Agriculture\", \"Percent\": 33.848165147547626}, {\"Field\": \"Business\", \"Percent\": 40.65347106545238}, {\"Field\": \"Psychology\", \"Percent\": 68.77619047619048}, {\"Field\": \"Health\", \"Percent\": 82.98333333333333}]}}, {\"mode\": \"vega-lite\"});\n",
       "</script>"
      ],
      "text/plain": [
       "alt.Chart(...)"
      ]
     },
     "execution_count": 58,
     "metadata": {},
     "output_type": "execute_result"
    }
   ],
   "source": [
    "df_tall.group_by(\n",
    "    'Field'\n",
    ").agg(\n",
    "    pl.col('Percent').mean()\n",
    ").plot.bar(\n",
    "    alt.X('Percent:Q'),\n",
    "    alt.Y('Field:N').sort('-x')\n",
    ")"
   ]
  },
  {
   "cell_type": "markdown",
   "metadata": {},
   "source": [
    "### Horizontal bar chart"
   ]
  },
  {
   "cell_type": "raw",
   "metadata": {},
   "source": [
    "df.mean().plot.barh();"
   ]
  },
  {
   "cell_type": "markdown",
   "metadata": {},
   "source": [
    "## Sorted bar charts\n",
    "\n",
    "**This visualization would more effectively show us the patterns in the data if the bars were sorted by length (descending)**. We can easliy do that with the `.sort_values()` method, which we can use for either a DataFrame or a Series. (Here, the mean over the columns is a Series.)\n",
    "\n",
    "**We will again chain the commands for convenience.** You can just read the sequence left to right.\n",
    "\n",
    "### Vertical bar charts go from left to right with the Series order\n",
    "\n",
    "For the vertical bars, the only complication is that ascending values is the default sort order, so **to get descending order we need to set `ascending=False` explicitly**."
   ]
  },
  {
   "cell_type": "raw",
   "metadata": {},
   "source": [
    "df.mean().sort_values(ascending=False).plot.bar();"
   ]
  },
  {
   "cell_type": "markdown",
   "metadata": {},
   "source": [
    "### Horizontal bars go from bottom to top in the Series order!\n",
    "\n",
    "But for the vertical bar chart, **like in Excel, the plot ordering goes from bottom to top, so we actually want an ascending sort if we want the bars decreasing from top to bottom!**\n",
    "\n",
    "*Think of the Y-axis being ordered like in a scatterplot, bottom to top, even though we read it top to bottom.*"
   ]
  },
  {
   "cell_type": "raw",
   "metadata": {},
   "source": [
    "df.mean().sort_values().plot.barh();"
   ]
  },
  {
   "cell_type": "markdown",
   "metadata": {},
   "source": [
    "---\n",
    "\n",
    "## Histogram\n",
    "\n",
    "Another useful way to explore your data is to look at the distribution of values in each column. Pandas can make easy histograms.\n",
    "\n",
    "**Confusingly, there's a difference between calling `df.hist()` and `df.plot.hist()`!**\n",
    "\n",
    "- `df.hist()` calls matplotlib.pyplot.hist(), on each series in the DataFrame, resulting in one histogram per column.\n",
    "- `df.plot.hist()` groups the values of all given Series in the DataFrame into bins and draws all bins in one matplotlib.axes.Axes."
   ]
  },
  {
   "cell_type": "markdown",
   "metadata": {},
   "source": [
    "### `df.hist()`\n",
    "\n",
    "The default is to have each set of axes independent, but that makes it harder to compare across the small multiples. Set `sharex=True` and `sharey=True` to make them the same. *I know this makes the default 10 bins for each column different widths, which is unfortunate, but see how your first impression is that the ranges are all similar when you don't force the same axes!*"
   ]
  },
  {
   "cell_type": "raw",
   "metadata": {},
   "source": [
    "df.hist();"
   ]
  },
  {
   "cell_type": "code",
   "execution_count": 60,
   "metadata": {},
   "outputs": [
    {
     "data": {
      "text/html": [
       "\n",
       "<style>\n",
       "  #altair-viz-f13e15e94a7d414da447a9d41e41e010.vega-embed {\n",
       "    width: 100%;\n",
       "    display: flex;\n",
       "  }\n",
       "\n",
       "  #altair-viz-f13e15e94a7d414da447a9d41e41e010.vega-embed details,\n",
       "  #altair-viz-f13e15e94a7d414da447a9d41e41e010.vega-embed details summary {\n",
       "    position: relative;\n",
       "  }\n",
       "</style>\n",
       "<div id=\"altair-viz-f13e15e94a7d414da447a9d41e41e010\"></div>\n",
       "<script type=\"text/javascript\">\n",
       "  var VEGA_DEBUG = (typeof VEGA_DEBUG == \"undefined\") ? {} : VEGA_DEBUG;\n",
       "  (function(spec, embedOpt){\n",
       "    let outputDiv = document.currentScript.previousElementSibling;\n",
       "    if (outputDiv.id !== \"altair-viz-f13e15e94a7d414da447a9d41e41e010\") {\n",
       "      outputDiv = document.getElementById(\"altair-viz-f13e15e94a7d414da447a9d41e41e010\");\n",
       "    }\n",
       "\n",
       "    const paths = {\n",
       "      \"vega\": \"https://cdn.jsdelivr.net/npm/vega@5?noext\",\n",
       "      \"vega-lib\": \"https://cdn.jsdelivr.net/npm/vega-lib?noext\",\n",
       "      \"vega-lite\": \"https://cdn.jsdelivr.net/npm/vega-lite@5.20.1?noext\",\n",
       "      \"vega-embed\": \"https://cdn.jsdelivr.net/npm/vega-embed@6?noext\",\n",
       "    };\n",
       "\n",
       "    function maybeLoadScript(lib, version) {\n",
       "      var key = `${lib.replace(\"-\", \"\")}_version`;\n",
       "      return (VEGA_DEBUG[key] == version) ?\n",
       "        Promise.resolve(paths[lib]) :\n",
       "        new Promise(function(resolve, reject) {\n",
       "          var s = document.createElement('script');\n",
       "          document.getElementsByTagName(\"head\")[0].appendChild(s);\n",
       "          s.async = true;\n",
       "          s.onload = () => {\n",
       "            VEGA_DEBUG[key] = version;\n",
       "            return resolve(paths[lib]);\n",
       "          };\n",
       "          s.onerror = () => reject(`Error loading script: ${paths[lib]}`);\n",
       "          s.src = paths[lib];\n",
       "        });\n",
       "    }\n",
       "\n",
       "    function showError(err) {\n",
       "      outputDiv.innerHTML = `<div class=\"error\" style=\"color:red;\">${err}</div>`;\n",
       "      throw err;\n",
       "    }\n",
       "\n",
       "    function displayChart(vegaEmbed) {\n",
       "      vegaEmbed(outputDiv, spec, embedOpt)\n",
       "        .catch(err => showError(`Javascript Error: ${err.message}<br>This usually means there's a typo in your chart specification. See the javascript console for the full traceback.`));\n",
       "    }\n",
       "\n",
       "    if(typeof define === \"function\" && define.amd) {\n",
       "      requirejs.config({paths});\n",
       "      let deps = [\"vega-embed\"];\n",
       "      require(deps, displayChart, err => showError(`Error loading script: ${err.message}`));\n",
       "    } else {\n",
       "      maybeLoadScript(\"vega\", \"5\")\n",
       "        .then(() => maybeLoadScript(\"vega-lite\", \"5.20.1\"))\n",
       "        .then(() => maybeLoadScript(\"vega-embed\", \"6\"))\n",
       "        .catch(showError)\n",
       "        .then(() => displayChart(vegaEmbed));\n",
       "    }\n",
       "  })({\"config\": {\"view\": {\"continuousWidth\": 300, \"continuousHeight\": 300}}, \"data\": {\"name\": \"data-7bd34bc17e6719b4e12365c5b18fa641\"}, \"mark\": {\"type\": \"bar\", \"tooltip\": true}, \"encoding\": {\"column\": {\"field\": \"Field\", \"type\": \"nominal\"}, \"x\": {\"bin\": {}, \"field\": \"Percent\", \"type\": \"quantitative\"}, \"y\": {\"aggregate\": \"count\", \"type\": \"quantitative\"}}, \"height\": 100, \"params\": [{\"name\": \"param_39\", \"select\": {\"type\": \"interval\", \"encodings\": [\"x\", \"y\"]}, \"bind\": \"scales\"}], \"width\": 100, \"$schema\": \"https://vega.github.io/schema/vega-lite/v5.20.1.json\", \"datasets\": {\"data-7bd34bc17e6719b4e12365c5b18fa641\": [{\"Year\": 1970, \"Field\": \"Agriculture\", \"Percent\": 4.22979798, \"Yeardate\": \"1970-01-01T00:00:00\"}, {\"Year\": 1971, \"Field\": \"Agriculture\", \"Percent\": 5.452796685, \"Yeardate\": \"1971-01-01T00:00:00\"}, {\"Year\": 1972, \"Field\": \"Agriculture\", \"Percent\": 7.42071022, \"Yeardate\": \"1972-01-01T00:00:00\"}, {\"Year\": 1973, \"Field\": \"Agriculture\", \"Percent\": 9.653602412, \"Yeardate\": \"1973-01-01T00:00:00\"}, {\"Year\": 1974, \"Field\": \"Agriculture\", \"Percent\": 14.07462346, \"Yeardate\": \"1974-01-01T00:00:00\"}, {\"Year\": 1975, \"Field\": \"Agriculture\", \"Percent\": 18.33316153, \"Yeardate\": \"1975-01-01T00:00:00\"}, {\"Year\": 1976, \"Field\": \"Agriculture\", \"Percent\": 22.25276005, \"Yeardate\": \"1976-01-01T00:00:00\"}, {\"Year\": 1977, \"Field\": \"Agriculture\", \"Percent\": 24.6401766, \"Yeardate\": \"1977-01-01T00:00:00\"}, {\"Year\": 1978, \"Field\": \"Agriculture\", \"Percent\": 27.14619175, \"Yeardate\": \"1978-01-01T00:00:00\"}, {\"Year\": 1979, \"Field\": \"Agriculture\", \"Percent\": 29.63336549, \"Yeardate\": \"1979-01-01T00:00:00\"}, {\"Year\": 1980, \"Field\": \"Agriculture\", \"Percent\": 30.75938956, \"Yeardate\": \"1980-01-01T00:00:00\"}, {\"Year\": 1981, \"Field\": \"Agriculture\", \"Percent\": 31.31865519, \"Yeardate\": \"1981-01-01T00:00:00\"}, {\"Year\": 1982, \"Field\": \"Agriculture\", \"Percent\": 32.63666364, \"Yeardate\": \"1982-01-01T00:00:00\"}, {\"Year\": 1983, \"Field\": \"Agriculture\", \"Percent\": 31.6353471, \"Yeardate\": \"1983-01-01T00:00:00\"}, {\"Year\": 1984, \"Field\": \"Agriculture\", \"Percent\": 31.09294748, \"Yeardate\": \"1984-01-01T00:00:00\"}, {\"Year\": 1985, \"Field\": \"Agriculture\", \"Percent\": 31.3796588, \"Yeardate\": \"1985-01-01T00:00:00\"}, {\"Year\": 1986, \"Field\": \"Agriculture\", \"Percent\": 31.19871923, \"Yeardate\": \"1986-01-01T00:00:00\"}, {\"Year\": 1987, \"Field\": \"Agriculture\", \"Percent\": 31.48642948, \"Yeardate\": \"1987-01-01T00:00:00\"}, {\"Year\": 1988, \"Field\": \"Agriculture\", \"Percent\": 31.08508746, \"Yeardate\": \"1988-01-01T00:00:00\"}, {\"Year\": 1989, \"Field\": \"Agriculture\", \"Percent\": 31.6124031, \"Yeardate\": \"1989-01-01T00:00:00\"}, {\"Year\": 1990, \"Field\": \"Agriculture\", \"Percent\": 32.70344407, \"Yeardate\": \"1990-01-01T00:00:00\"}, {\"Year\": 1991, \"Field\": \"Agriculture\", \"Percent\": 34.71183749, \"Yeardate\": \"1991-01-01T00:00:00\"}, {\"Year\": 1992, \"Field\": \"Agriculture\", \"Percent\": 33.93165961, \"Yeardate\": \"1992-01-01T00:00:00\"}, {\"Year\": 1993, \"Field\": \"Agriculture\", \"Percent\": 34.94683208, \"Yeardate\": \"1993-01-01T00:00:00\"}, {\"Year\": 1994, \"Field\": \"Agriculture\", \"Percent\": 36.03267447, \"Yeardate\": \"1994-01-01T00:00:00\"}, {\"Year\": 1995, \"Field\": \"Agriculture\", \"Percent\": 36.84480747, \"Yeardate\": \"1995-01-01T00:00:00\"}, {\"Year\": 1996, \"Field\": \"Agriculture\", \"Percent\": 38.96977475, \"Yeardate\": \"1996-01-01T00:00:00\"}, {\"Year\": 1997, \"Field\": \"Agriculture\", \"Percent\": 40.68568483, \"Yeardate\": \"1997-01-01T00:00:00\"}, {\"Year\": 1998, \"Field\": \"Agriculture\", \"Percent\": 41.91240333, \"Yeardate\": \"1998-01-01T00:00:00\"}, {\"Year\": 1999, \"Field\": \"Agriculture\", \"Percent\": 42.88720191, \"Yeardate\": \"1999-01-01T00:00:00\"}, {\"Year\": 2000, \"Field\": \"Agriculture\", \"Percent\": 45.05776637, \"Yeardate\": \"2000-01-01T00:00:00\"}, {\"Year\": 2001, \"Field\": \"Agriculture\", \"Percent\": 45.86601517, \"Yeardate\": \"2001-01-01T00:00:00\"}, {\"Year\": 2002, \"Field\": \"Agriculture\", \"Percent\": 47.13465821, \"Yeardate\": \"2002-01-01T00:00:00\"}, {\"Year\": 2003, \"Field\": \"Agriculture\", \"Percent\": 47.93518721, \"Yeardate\": \"2003-01-01T00:00:00\"}, {\"Year\": 2004, \"Field\": \"Agriculture\", \"Percent\": 47.88714025, \"Yeardate\": \"2004-01-01T00:00:00\"}, {\"Year\": 2005, \"Field\": \"Agriculture\", \"Percent\": 47.67275409, \"Yeardate\": \"2005-01-01T00:00:00\"}, {\"Year\": 2006, \"Field\": \"Agriculture\", \"Percent\": 46.79029957, \"Yeardate\": \"2006-01-01T00:00:00\"}, {\"Year\": 2007, \"Field\": \"Agriculture\", \"Percent\": 47.60502633, \"Yeardate\": \"2007-01-01T00:00:00\"}, {\"Year\": 2008, \"Field\": \"Agriculture\", \"Percent\": 47.570834, \"Yeardate\": \"2008-01-01T00:00:00\"}, {\"Year\": 2009, \"Field\": \"Agriculture\", \"Percent\": 48.66722357, \"Yeardate\": \"2009-01-01T00:00:00\"}, {\"Year\": 2010, \"Field\": \"Agriculture\", \"Percent\": 48.73004227, \"Yeardate\": \"2010-01-01T00:00:00\"}, {\"Year\": 2011, \"Field\": \"Agriculture\", \"Percent\": 50.03718193, \"Yeardate\": \"2011-01-01T00:00:00\"}, {\"Year\": 1970, \"Field\": \"Business\", \"Percent\": 9.064438975, \"Yeardate\": \"1970-01-01T00:00:00\"}, {\"Year\": 1971, \"Field\": \"Business\", \"Percent\": 9.503186594, \"Yeardate\": \"1971-01-01T00:00:00\"}, {\"Year\": 1972, \"Field\": \"Business\", \"Percent\": 10.5589621, \"Yeardate\": \"1972-01-01T00:00:00\"}, {\"Year\": 1973, \"Field\": \"Business\", \"Percent\": 12.80460152, \"Yeardate\": \"1973-01-01T00:00:00\"}, {\"Year\": 1974, \"Field\": \"Business\", \"Percent\": 16.20485038, \"Yeardate\": \"1974-01-01T00:00:00\"}, {\"Year\": 1975, \"Field\": \"Business\", \"Percent\": 19.68624931, \"Yeardate\": \"1975-01-01T00:00:00\"}, {\"Year\": 1976, \"Field\": \"Business\", \"Percent\": 23.4300375, \"Yeardate\": \"1976-01-01T00:00:00\"}, {\"Year\": 1977, \"Field\": \"Business\", \"Percent\": 27.16342715, \"Yeardate\": \"1977-01-01T00:00:00\"}, {\"Year\": 1978, \"Field\": \"Business\", \"Percent\": 30.52751868, \"Yeardate\": \"1978-01-01T00:00:00\"}, {\"Year\": 1979, \"Field\": \"Business\", \"Percent\": 33.62163381, \"Yeardate\": \"1979-01-01T00:00:00\"}, {\"Year\": 1980, \"Field\": \"Business\", \"Percent\": 36.76572529, \"Yeardate\": \"1980-01-01T00:00:00\"}, {\"Year\": 1981, \"Field\": \"Business\", \"Percent\": 39.26622984, \"Yeardate\": \"1981-01-01T00:00:00\"}, {\"Year\": 1982, \"Field\": \"Business\", \"Percent\": 41.94937335, \"Yeardate\": \"1982-01-01T00:00:00\"}, {\"Year\": 1983, \"Field\": \"Business\", \"Percent\": 43.54206966, \"Yeardate\": \"1983-01-01T00:00:00\"}, {\"Year\": 1984, \"Field\": \"Business\", \"Percent\": 45.12403027, \"Yeardate\": \"1984-01-01T00:00:00\"}, {\"Year\": 1985, \"Field\": \"Business\", \"Percent\": 45.747782, \"Yeardate\": \"1985-01-01T00:00:00\"}, {\"Year\": 1986, \"Field\": \"Business\", \"Percent\": 46.53291505, \"Yeardate\": \"1986-01-01T00:00:00\"}, {\"Year\": 1987, \"Field\": \"Business\", \"Percent\": 46.69046648, \"Yeardate\": \"1987-01-01T00:00:00\"}, {\"Year\": 1988, \"Field\": \"Business\", \"Percent\": 46.7648277, \"Yeardate\": \"1988-01-01T00:00:00\"}, {\"Year\": 1989, \"Field\": \"Business\", \"Percent\": 46.7815648, \"Yeardate\": \"1989-01-01T00:00:00\"}, {\"Year\": 1990, \"Field\": \"Business\", \"Percent\": 47.20085084, \"Yeardate\": \"1990-01-01T00:00:00\"}, {\"Year\": 1991, \"Field\": \"Business\", \"Percent\": 47.22432481, \"Yeardate\": \"1991-01-01T00:00:00\"}, {\"Year\": 1992, \"Field\": \"Business\", \"Percent\": 47.21939541, \"Yeardate\": \"1992-01-01T00:00:00\"}, {\"Year\": 1993, \"Field\": \"Business\", \"Percent\": 47.63933161, \"Yeardate\": \"1993-01-01T00:00:00\"}, {\"Year\": 1994, \"Field\": \"Business\", \"Percent\": 47.98392441, \"Yeardate\": \"1994-01-01T00:00:00\"}, {\"Year\": 1995, \"Field\": \"Business\", \"Percent\": 48.57318101, \"Yeardate\": \"1995-01-01T00:00:00\"}, {\"Year\": 1996, \"Field\": \"Business\", \"Percent\": 48.6473926, \"Yeardate\": \"1996-01-01T00:00:00\"}, {\"Year\": 1997, \"Field\": \"Business\", \"Percent\": 48.56105033, \"Yeardate\": \"1997-01-01T00:00:00\"}, {\"Year\": 1998, \"Field\": \"Business\", \"Percent\": 49.2585152, \"Yeardate\": \"1998-01-01T00:00:00\"}, {\"Year\": 1999, \"Field\": \"Business\", \"Percent\": 49.81020815, \"Yeardate\": \"1999-01-01T00:00:00\"}, {\"Year\": 2000, \"Field\": \"Business\", \"Percent\": 49.80361649, \"Yeardate\": \"2000-01-01T00:00:00\"}, {\"Year\": 2001, \"Field\": \"Business\", \"Percent\": 50.27514494, \"Yeardate\": \"2001-01-01T00:00:00\"}, {\"Year\": 2002, \"Field\": \"Business\", \"Percent\": 50.5523346, \"Yeardate\": \"2002-01-01T00:00:00\"}, {\"Year\": 2003, \"Field\": \"Business\", \"Percent\": 50.34559774, \"Yeardate\": \"2003-01-01T00:00:00\"}, {\"Year\": 2004, \"Field\": \"Business\", \"Percent\": 49.95089449, \"Yeardate\": \"2004-01-01T00:00:00\"}, {\"Year\": 2005, \"Field\": \"Business\", \"Percent\": 49.79185139, \"Yeardate\": \"2005-01-01T00:00:00\"}, {\"Year\": 2006, \"Field\": \"Business\", \"Percent\": 49.21091439, \"Yeardate\": \"2006-01-01T00:00:00\"}, {\"Year\": 2007, \"Field\": \"Business\", \"Percent\": 49.00045935, \"Yeardate\": \"2007-01-01T00:00:00\"}, {\"Year\": 2008, \"Field\": \"Business\", \"Percent\": 48.88802678, \"Yeardate\": \"2008-01-01T00:00:00\"}, {\"Year\": 2009, \"Field\": \"Business\", \"Percent\": 48.84047414, \"Yeardate\": \"2009-01-01T00:00:00\"}, {\"Year\": 2010, \"Field\": \"Business\", \"Percent\": 48.75798769, \"Yeardate\": \"2010-01-01T00:00:00\"}, {\"Year\": 2011, \"Field\": \"Business\", \"Percent\": 48.18041792, \"Yeardate\": \"2011-01-01T00:00:00\"}, {\"Year\": 1970, \"Field\": \"Engineering\", \"Percent\": 0.8, \"Yeardate\": \"1970-01-01T00:00:00\"}, {\"Year\": 1971, \"Field\": \"Engineering\", \"Percent\": 1.0, \"Yeardate\": \"1971-01-01T00:00:00\"}, {\"Year\": 1972, \"Field\": \"Engineering\", \"Percent\": 1.2, \"Yeardate\": \"1972-01-01T00:00:00\"}, {\"Year\": 1973, \"Field\": \"Engineering\", \"Percent\": 1.6, \"Yeardate\": \"1973-01-01T00:00:00\"}, {\"Year\": 1974, \"Field\": \"Engineering\", \"Percent\": 2.2, \"Yeardate\": \"1974-01-01T00:00:00\"}, {\"Year\": 1975, \"Field\": \"Engineering\", \"Percent\": 3.2, \"Yeardate\": \"1975-01-01T00:00:00\"}, {\"Year\": 1976, \"Field\": \"Engineering\", \"Percent\": 4.5, \"Yeardate\": \"1976-01-01T00:00:00\"}, {\"Year\": 1977, \"Field\": \"Engineering\", \"Percent\": 6.8, \"Yeardate\": \"1977-01-01T00:00:00\"}, {\"Year\": 1978, \"Field\": \"Engineering\", \"Percent\": 8.4, \"Yeardate\": \"1978-01-01T00:00:00\"}, {\"Year\": 1979, \"Field\": \"Engineering\", \"Percent\": 9.4, \"Yeardate\": \"1979-01-01T00:00:00\"}, {\"Year\": 1980, \"Field\": \"Engineering\", \"Percent\": 10.3, \"Yeardate\": \"1980-01-01T00:00:00\"}, {\"Year\": 1981, \"Field\": \"Engineering\", \"Percent\": 11.6, \"Yeardate\": \"1981-01-01T00:00:00\"}, {\"Year\": 1982, \"Field\": \"Engineering\", \"Percent\": 12.4, \"Yeardate\": \"1982-01-01T00:00:00\"}, {\"Year\": 1983, \"Field\": \"Engineering\", \"Percent\": 13.1, \"Yeardate\": \"1983-01-01T00:00:00\"}, {\"Year\": 1984, \"Field\": \"Engineering\", \"Percent\": 13.5, \"Yeardate\": \"1984-01-01T00:00:00\"}, {\"Year\": 1985, \"Field\": \"Engineering\", \"Percent\": 13.5, \"Yeardate\": \"1985-01-01T00:00:00\"}, {\"Year\": 1986, \"Field\": \"Engineering\", \"Percent\": 13.9, \"Yeardate\": \"1986-01-01T00:00:00\"}, {\"Year\": 1987, \"Field\": \"Engineering\", \"Percent\": 14.0, \"Yeardate\": \"1987-01-01T00:00:00\"}, {\"Year\": 1988, \"Field\": \"Engineering\", \"Percent\": 13.9, \"Yeardate\": \"1988-01-01T00:00:00\"}, {\"Year\": 1989, \"Field\": \"Engineering\", \"Percent\": 14.1, \"Yeardate\": \"1989-01-01T00:00:00\"}, {\"Year\": 1990, \"Field\": \"Engineering\", \"Percent\": 14.1, \"Yeardate\": \"1990-01-01T00:00:00\"}, {\"Year\": 1991, \"Field\": \"Engineering\", \"Percent\": 14.0, \"Yeardate\": \"1991-01-01T00:00:00\"}, {\"Year\": 1992, \"Field\": \"Engineering\", \"Percent\": 14.5, \"Yeardate\": \"1992-01-01T00:00:00\"}, {\"Year\": 1993, \"Field\": \"Engineering\", \"Percent\": 14.9, \"Yeardate\": \"1993-01-01T00:00:00\"}, {\"Year\": 1994, \"Field\": \"Engineering\", \"Percent\": 15.7, \"Yeardate\": \"1994-01-01T00:00:00\"}, {\"Year\": 1995, \"Field\": \"Engineering\", \"Percent\": 16.2, \"Yeardate\": \"1995-01-01T00:00:00\"}, {\"Year\": 1996, \"Field\": \"Engineering\", \"Percent\": 16.7, \"Yeardate\": \"1996-01-01T00:00:00\"}, {\"Year\": 1997, \"Field\": \"Engineering\", \"Percent\": 17.0, \"Yeardate\": \"1997-01-01T00:00:00\"}, {\"Year\": 1998, \"Field\": \"Engineering\", \"Percent\": 17.8, \"Yeardate\": \"1998-01-01T00:00:00\"}, {\"Year\": 1999, \"Field\": \"Engineering\", \"Percent\": 18.6, \"Yeardate\": \"1999-01-01T00:00:00\"}, {\"Year\": 2000, \"Field\": \"Engineering\", \"Percent\": 18.4, \"Yeardate\": \"2000-01-01T00:00:00\"}, {\"Year\": 2001, \"Field\": \"Engineering\", \"Percent\": 19.0, \"Yeardate\": \"2001-01-01T00:00:00\"}, {\"Year\": 2002, \"Field\": \"Engineering\", \"Percent\": 18.7, \"Yeardate\": \"2002-01-01T00:00:00\"}, {\"Year\": 2003, \"Field\": \"Engineering\", \"Percent\": 18.8, \"Yeardate\": \"2003-01-01T00:00:00\"}, {\"Year\": 2004, \"Field\": \"Engineering\", \"Percent\": 18.2, \"Yeardate\": \"2004-01-01T00:00:00\"}, {\"Year\": 2005, \"Field\": \"Engineering\", \"Percent\": 17.9, \"Yeardate\": \"2005-01-01T00:00:00\"}, {\"Year\": 2006, \"Field\": \"Engineering\", \"Percent\": 16.8, \"Yeardate\": \"2006-01-01T00:00:00\"}, {\"Year\": 2007, \"Field\": \"Engineering\", \"Percent\": 16.8, \"Yeardate\": \"2007-01-01T00:00:00\"}, {\"Year\": 2008, \"Field\": \"Engineering\", \"Percent\": 16.5, \"Yeardate\": \"2008-01-01T00:00:00\"}, {\"Year\": 2009, \"Field\": \"Engineering\", \"Percent\": 16.8, \"Yeardate\": \"2009-01-01T00:00:00\"}, {\"Year\": 2010, \"Field\": \"Engineering\", \"Percent\": 17.2, \"Yeardate\": \"2010-01-01T00:00:00\"}, {\"Year\": 2011, \"Field\": \"Engineering\", \"Percent\": 17.5, \"Yeardate\": \"2011-01-01T00:00:00\"}, {\"Year\": 1970, \"Field\": \"Health\", \"Percent\": 77.1, \"Yeardate\": \"1970-01-01T00:00:00\"}, {\"Year\": 1971, \"Field\": \"Health\", \"Percent\": 75.5, \"Yeardate\": \"1971-01-01T00:00:00\"}, {\"Year\": 1972, \"Field\": \"Health\", \"Percent\": 76.9, \"Yeardate\": \"1972-01-01T00:00:00\"}, {\"Year\": 1973, \"Field\": \"Health\", \"Percent\": 77.4, \"Yeardate\": \"1973-01-01T00:00:00\"}, {\"Year\": 1974, \"Field\": \"Health\", \"Percent\": 77.9, \"Yeardate\": \"1974-01-01T00:00:00\"}, {\"Year\": 1975, \"Field\": \"Health\", \"Percent\": 78.9, \"Yeardate\": \"1975-01-01T00:00:00\"}, {\"Year\": 1976, \"Field\": \"Health\", \"Percent\": 79.2, \"Yeardate\": \"1976-01-01T00:00:00\"}, {\"Year\": 1977, \"Field\": \"Health\", \"Percent\": 80.5, \"Yeardate\": \"1977-01-01T00:00:00\"}, {\"Year\": 1978, \"Field\": \"Health\", \"Percent\": 81.9, \"Yeardate\": \"1978-01-01T00:00:00\"}, {\"Year\": 1979, \"Field\": \"Health\", \"Percent\": 82.3, \"Yeardate\": \"1979-01-01T00:00:00\"}, {\"Year\": 1980, \"Field\": \"Health\", \"Percent\": 83.5, \"Yeardate\": \"1980-01-01T00:00:00\"}, {\"Year\": 1981, \"Field\": \"Health\", \"Percent\": 84.1, \"Yeardate\": \"1981-01-01T00:00:00\"}, {\"Year\": 1982, \"Field\": \"Health\", \"Percent\": 84.4, \"Yeardate\": \"1982-01-01T00:00:00\"}, {\"Year\": 1983, \"Field\": \"Health\", \"Percent\": 84.6, \"Yeardate\": \"1983-01-01T00:00:00\"}, {\"Year\": 1984, \"Field\": \"Health\", \"Percent\": 85.1, \"Yeardate\": \"1984-01-01T00:00:00\"}, {\"Year\": 1985, \"Field\": \"Health\", \"Percent\": 85.3, \"Yeardate\": \"1985-01-01T00:00:00\"}, {\"Year\": 1986, \"Field\": \"Health\", \"Percent\": 85.7, \"Yeardate\": \"1986-01-01T00:00:00\"}, {\"Year\": 1987, \"Field\": \"Health\", \"Percent\": 85.5, \"Yeardate\": \"1987-01-01T00:00:00\"}, {\"Year\": 1988, \"Field\": \"Health\", \"Percent\": 85.2, \"Yeardate\": \"1988-01-01T00:00:00\"}, {\"Year\": 1989, \"Field\": \"Health\", \"Percent\": 84.6, \"Yeardate\": \"1989-01-01T00:00:00\"}, {\"Year\": 1990, \"Field\": \"Health\", \"Percent\": 83.9, \"Yeardate\": \"1990-01-01T00:00:00\"}, {\"Year\": 1991, \"Field\": \"Health\", \"Percent\": 83.5, \"Yeardate\": \"1991-01-01T00:00:00\"}, {\"Year\": 1992, \"Field\": \"Health\", \"Percent\": 83.0, \"Yeardate\": \"1992-01-01T00:00:00\"}, {\"Year\": 1993, \"Field\": \"Health\", \"Percent\": 82.4, \"Yeardate\": \"1993-01-01T00:00:00\"}, {\"Year\": 1994, \"Field\": \"Health\", \"Percent\": 81.8, \"Yeardate\": \"1994-01-01T00:00:00\"}, {\"Year\": 1995, \"Field\": \"Health\", \"Percent\": 81.5, \"Yeardate\": \"1995-01-01T00:00:00\"}, {\"Year\": 1996, \"Field\": \"Health\", \"Percent\": 81.3, \"Yeardate\": \"1996-01-01T00:00:00\"}, {\"Year\": 1997, \"Field\": \"Health\", \"Percent\": 81.9, \"Yeardate\": \"1997-01-01T00:00:00\"}, {\"Year\": 1998, \"Field\": \"Health\", \"Percent\": 82.1, \"Yeardate\": \"1998-01-01T00:00:00\"}, {\"Year\": 1999, \"Field\": \"Health\", \"Percent\": 83.5, \"Yeardate\": \"1999-01-01T00:00:00\"}, {\"Year\": 2000, \"Field\": \"Health\", \"Percent\": 83.5, \"Yeardate\": \"2000-01-01T00:00:00\"}, {\"Year\": 2001, \"Field\": \"Health\", \"Percent\": 85.1, \"Yeardate\": \"2001-01-01T00:00:00\"}, {\"Year\": 2002, \"Field\": \"Health\", \"Percent\": 85.8, \"Yeardate\": \"2002-01-01T00:00:00\"}, {\"Year\": 2003, \"Field\": \"Health\", \"Percent\": 86.5, \"Yeardate\": \"2003-01-01T00:00:00\"}, {\"Year\": 2004, \"Field\": \"Health\", \"Percent\": 86.5, \"Yeardate\": \"2004-01-01T00:00:00\"}, {\"Year\": 2005, \"Field\": \"Health\", \"Percent\": 86.0, \"Yeardate\": \"2005-01-01T00:00:00\"}, {\"Year\": 2006, \"Field\": \"Health\", \"Percent\": 85.9, \"Yeardate\": \"2006-01-01T00:00:00\"}, {\"Year\": 2007, \"Field\": \"Health\", \"Percent\": 85.4, \"Yeardate\": \"2007-01-01T00:00:00\"}, {\"Year\": 2008, \"Field\": \"Health\", \"Percent\": 85.2, \"Yeardate\": \"2008-01-01T00:00:00\"}, {\"Year\": 2009, \"Field\": \"Health\", \"Percent\": 85.1, \"Yeardate\": \"2009-01-01T00:00:00\"}, {\"Year\": 2010, \"Field\": \"Health\", \"Percent\": 85.0, \"Yeardate\": \"2010-01-01T00:00:00\"}, {\"Year\": 2011, \"Field\": \"Health\", \"Percent\": 84.8, \"Yeardate\": \"2011-01-01T00:00:00\"}, {\"Year\": 1970, \"Field\": \"Psychology\", \"Percent\": 44.4, \"Yeardate\": \"1970-01-01T00:00:00\"}, {\"Year\": 1971, \"Field\": \"Psychology\", \"Percent\": 46.2, \"Yeardate\": \"1971-01-01T00:00:00\"}, {\"Year\": 1972, \"Field\": \"Psychology\", \"Percent\": 47.6, \"Yeardate\": \"1972-01-01T00:00:00\"}, {\"Year\": 1973, \"Field\": \"Psychology\", \"Percent\": 50.4, \"Yeardate\": \"1973-01-01T00:00:00\"}, {\"Year\": 1974, \"Field\": \"Psychology\", \"Percent\": 52.6, \"Yeardate\": \"1974-01-01T00:00:00\"}, {\"Year\": 1975, \"Field\": \"Psychology\", \"Percent\": 54.5, \"Yeardate\": \"1975-01-01T00:00:00\"}, {\"Year\": 1976, \"Field\": \"Psychology\", \"Percent\": 56.9, \"Yeardate\": \"1976-01-01T00:00:00\"}, {\"Year\": 1977, \"Field\": \"Psychology\", \"Percent\": 59.0, \"Yeardate\": \"1977-01-01T00:00:00\"}, {\"Year\": 1978, \"Field\": \"Psychology\", \"Percent\": 61.3, \"Yeardate\": \"1978-01-01T00:00:00\"}, {\"Year\": 1979, \"Field\": \"Psychology\", \"Percent\": 63.3, \"Yeardate\": \"1979-01-01T00:00:00\"}, {\"Year\": 1980, \"Field\": \"Psychology\", \"Percent\": 65.1, \"Yeardate\": \"1980-01-01T00:00:00\"}, {\"Year\": 1981, \"Field\": \"Psychology\", \"Percent\": 66.9, \"Yeardate\": \"1981-01-01T00:00:00\"}, {\"Year\": 1982, \"Field\": \"Psychology\", \"Percent\": 67.5, \"Yeardate\": \"1982-01-01T00:00:00\"}, {\"Year\": 1983, \"Field\": \"Psychology\", \"Percent\": 67.9, \"Yeardate\": \"1983-01-01T00:00:00\"}, {\"Year\": 1984, \"Field\": \"Psychology\", \"Percent\": 68.2, \"Yeardate\": \"1984-01-01T00:00:00\"}, {\"Year\": 1985, \"Field\": \"Psychology\", \"Percent\": 69.0, \"Yeardate\": \"1985-01-01T00:00:00\"}, {\"Year\": 1986, \"Field\": \"Psychology\", \"Percent\": 69.0, \"Yeardate\": \"1986-01-01T00:00:00\"}, {\"Year\": 1987, \"Field\": \"Psychology\", \"Percent\": 70.1, \"Yeardate\": \"1987-01-01T00:00:00\"}, {\"Year\": 1988, \"Field\": \"Psychology\", \"Percent\": 70.9, \"Yeardate\": \"1988-01-01T00:00:00\"}, {\"Year\": 1989, \"Field\": \"Psychology\", \"Percent\": 71.6, \"Yeardate\": \"1989-01-01T00:00:00\"}, {\"Year\": 1990, \"Field\": \"Psychology\", \"Percent\": 72.6, \"Yeardate\": \"1990-01-01T00:00:00\"}, {\"Year\": 1991, \"Field\": \"Psychology\", \"Percent\": 73.2, \"Yeardate\": \"1991-01-01T00:00:00\"}, {\"Year\": 1992, \"Field\": \"Psychology\", \"Percent\": 73.2, \"Yeardate\": \"1992-01-01T00:00:00\"}, {\"Year\": 1993, \"Field\": \"Psychology\", \"Percent\": 73.1, \"Yeardate\": \"1993-01-01T00:00:00\"}, {\"Year\": 1994, \"Field\": \"Psychology\", \"Percent\": 72.9, \"Yeardate\": \"1994-01-01T00:00:00\"}, {\"Year\": 1995, \"Field\": \"Psychology\", \"Percent\": 73.0, \"Yeardate\": \"1995-01-01T00:00:00\"}, {\"Year\": 1996, \"Field\": \"Psychology\", \"Percent\": 73.9, \"Yeardate\": \"1996-01-01T00:00:00\"}, {\"Year\": 1997, \"Field\": \"Psychology\", \"Percent\": 74.4, \"Yeardate\": \"1997-01-01T00:00:00\"}, {\"Year\": 1998, \"Field\": \"Psychology\", \"Percent\": 75.1, \"Yeardate\": \"1998-01-01T00:00:00\"}, {\"Year\": 1999, \"Field\": \"Psychology\", \"Percent\": 76.5, \"Yeardate\": \"1999-01-01T00:00:00\"}, {\"Year\": 2000, \"Field\": \"Psychology\", \"Percent\": 77.5, \"Yeardate\": \"2000-01-01T00:00:00\"}, {\"Year\": 2001, \"Field\": \"Psychology\", \"Percent\": 77.5, \"Yeardate\": \"2001-01-01T00:00:00\"}, {\"Year\": 2002, \"Field\": \"Psychology\", \"Percent\": 77.7, \"Yeardate\": \"2002-01-01T00:00:00\"}, {\"Year\": 2003, \"Field\": \"Psychology\", \"Percent\": 77.8, \"Yeardate\": \"2003-01-01T00:00:00\"}, {\"Year\": 2004, \"Field\": \"Psychology\", \"Percent\": 77.8, \"Yeardate\": \"2004-01-01T00:00:00\"}, {\"Year\": 2005, \"Field\": \"Psychology\", \"Percent\": 77.5, \"Yeardate\": \"2005-01-01T00:00:00\"}, {\"Year\": 2006, \"Field\": \"Psychology\", \"Percent\": 77.4, \"Yeardate\": \"2006-01-01T00:00:00\"}, {\"Year\": 2007, \"Field\": \"Psychology\", \"Percent\": 77.1, \"Yeardate\": \"2007-01-01T00:00:00\"}, {\"Year\": 2008, \"Field\": \"Psychology\", \"Percent\": 77.2, \"Yeardate\": \"2008-01-01T00:00:00\"}, {\"Year\": 2009, \"Field\": \"Psychology\", \"Percent\": 77.1, \"Yeardate\": \"2009-01-01T00:00:00\"}, {\"Year\": 2010, \"Field\": \"Psychology\", \"Percent\": 77.0, \"Yeardate\": \"2010-01-01T00:00:00\"}, {\"Year\": 2011, \"Field\": \"Psychology\", \"Percent\": 76.7, \"Yeardate\": \"2011-01-01T00:00:00\"}]}}, {\"mode\": \"vega-lite\"});\n",
       "</script>"
      ],
      "text/plain": [
       "alt.Chart(...)"
      ]
     },
     "execution_count": 60,
     "metadata": {},
     "output_type": "execute_result"
    }
   ],
   "source": [
    "df_tall.plot.bar(\n",
    "    alt.X('Percent:Q').bin(),\n",
    "    y = \"count()\",\n",
    "    column = 'Field'\n",
    ").properties(height=100, width=100)"
   ]
  },
  {
   "cell_type": "code",
   "execution_count": 75,
   "metadata": {},
   "outputs": [
    {
     "data": {
      "text/html": [
       "\n",
       "<style>\n",
       "  #altair-viz-1525006f5d30427dacd32a62a0b9f8d9.vega-embed {\n",
       "    width: 100%;\n",
       "    display: flex;\n",
       "  }\n",
       "\n",
       "  #altair-viz-1525006f5d30427dacd32a62a0b9f8d9.vega-embed details,\n",
       "  #altair-viz-1525006f5d30427dacd32a62a0b9f8d9.vega-embed details summary {\n",
       "    position: relative;\n",
       "  }\n",
       "</style>\n",
       "<div id=\"altair-viz-1525006f5d30427dacd32a62a0b9f8d9\"></div>\n",
       "<script type=\"text/javascript\">\n",
       "  var VEGA_DEBUG = (typeof VEGA_DEBUG == \"undefined\") ? {} : VEGA_DEBUG;\n",
       "  (function(spec, embedOpt){\n",
       "    let outputDiv = document.currentScript.previousElementSibling;\n",
       "    if (outputDiv.id !== \"altair-viz-1525006f5d30427dacd32a62a0b9f8d9\") {\n",
       "      outputDiv = document.getElementById(\"altair-viz-1525006f5d30427dacd32a62a0b9f8d9\");\n",
       "    }\n",
       "\n",
       "    const paths = {\n",
       "      \"vega\": \"https://cdn.jsdelivr.net/npm/vega@5?noext\",\n",
       "      \"vega-lib\": \"https://cdn.jsdelivr.net/npm/vega-lib?noext\",\n",
       "      \"vega-lite\": \"https://cdn.jsdelivr.net/npm/vega-lite@5.20.1?noext\",\n",
       "      \"vega-embed\": \"https://cdn.jsdelivr.net/npm/vega-embed@6?noext\",\n",
       "    };\n",
       "\n",
       "    function maybeLoadScript(lib, version) {\n",
       "      var key = `${lib.replace(\"-\", \"\")}_version`;\n",
       "      return (VEGA_DEBUG[key] == version) ?\n",
       "        Promise.resolve(paths[lib]) :\n",
       "        new Promise(function(resolve, reject) {\n",
       "          var s = document.createElement('script');\n",
       "          document.getElementsByTagName(\"head\")[0].appendChild(s);\n",
       "          s.async = true;\n",
       "          s.onload = () => {\n",
       "            VEGA_DEBUG[key] = version;\n",
       "            return resolve(paths[lib]);\n",
       "          };\n",
       "          s.onerror = () => reject(`Error loading script: ${paths[lib]}`);\n",
       "          s.src = paths[lib];\n",
       "        });\n",
       "    }\n",
       "\n",
       "    function showError(err) {\n",
       "      outputDiv.innerHTML = `<div class=\"error\" style=\"color:red;\">${err}</div>`;\n",
       "      throw err;\n",
       "    }\n",
       "\n",
       "    function displayChart(vegaEmbed) {\n",
       "      vegaEmbed(outputDiv, spec, embedOpt)\n",
       "        .catch(err => showError(`Javascript Error: ${err.message}<br>This usually means there's a typo in your chart specification. See the javascript console for the full traceback.`));\n",
       "    }\n",
       "\n",
       "    if(typeof define === \"function\" && define.amd) {\n",
       "      requirejs.config({paths});\n",
       "      let deps = [\"vega-embed\"];\n",
       "      require(deps, displayChart, err => showError(`Error loading script: ${err.message}`));\n",
       "    } else {\n",
       "      maybeLoadScript(\"vega\", \"5\")\n",
       "        .then(() => maybeLoadScript(\"vega-lite\", \"5.20.1\"))\n",
       "        .then(() => maybeLoadScript(\"vega-embed\", \"6\"))\n",
       "        .catch(showError)\n",
       "        .then(() => displayChart(vegaEmbed));\n",
       "    }\n",
       "  })({\"config\": {\"view\": {\"continuousWidth\": 300, \"continuousHeight\": 300}, \"bar\": {\"opacity\": 0.5}}, \"data\": {\"name\": \"data-7bd34bc17e6719b4e12365c5b18fa641\"}, \"mark\": {\"type\": \"bar\", \"tooltip\": true}, \"encoding\": {\"color\": {\"field\": \"Field\", \"type\": \"nominal\"}, \"x\": {\"bin\": {\"maxbins\": 25}, \"field\": \"Percent\", \"type\": \"quantitative\"}, \"y\": {\"aggregate\": \"count\", \"stack\": null, \"type\": \"quantitative\"}}, \"height\": 100, \"params\": [{\"name\": \"param_51\", \"select\": {\"type\": \"interval\", \"encodings\": [\"x\", \"y\"]}, \"bind\": \"scales\"}], \"width\": 200, \"$schema\": \"https://vega.github.io/schema/vega-lite/v5.20.1.json\", \"datasets\": {\"data-7bd34bc17e6719b4e12365c5b18fa641\": [{\"Year\": 1970, \"Field\": \"Agriculture\", \"Percent\": 4.22979798, \"Yeardate\": \"1970-01-01T00:00:00\"}, {\"Year\": 1971, \"Field\": \"Agriculture\", \"Percent\": 5.452796685, \"Yeardate\": \"1971-01-01T00:00:00\"}, {\"Year\": 1972, \"Field\": \"Agriculture\", \"Percent\": 7.42071022, \"Yeardate\": \"1972-01-01T00:00:00\"}, {\"Year\": 1973, \"Field\": \"Agriculture\", \"Percent\": 9.653602412, \"Yeardate\": \"1973-01-01T00:00:00\"}, {\"Year\": 1974, \"Field\": \"Agriculture\", \"Percent\": 14.07462346, \"Yeardate\": \"1974-01-01T00:00:00\"}, {\"Year\": 1975, \"Field\": \"Agriculture\", \"Percent\": 18.33316153, \"Yeardate\": \"1975-01-01T00:00:00\"}, {\"Year\": 1976, \"Field\": \"Agriculture\", \"Percent\": 22.25276005, \"Yeardate\": \"1976-01-01T00:00:00\"}, {\"Year\": 1977, \"Field\": \"Agriculture\", \"Percent\": 24.6401766, \"Yeardate\": \"1977-01-01T00:00:00\"}, {\"Year\": 1978, \"Field\": \"Agriculture\", \"Percent\": 27.14619175, \"Yeardate\": \"1978-01-01T00:00:00\"}, {\"Year\": 1979, \"Field\": \"Agriculture\", \"Percent\": 29.63336549, \"Yeardate\": \"1979-01-01T00:00:00\"}, {\"Year\": 1980, \"Field\": \"Agriculture\", \"Percent\": 30.75938956, \"Yeardate\": \"1980-01-01T00:00:00\"}, {\"Year\": 1981, \"Field\": \"Agriculture\", \"Percent\": 31.31865519, \"Yeardate\": \"1981-01-01T00:00:00\"}, {\"Year\": 1982, \"Field\": \"Agriculture\", \"Percent\": 32.63666364, \"Yeardate\": \"1982-01-01T00:00:00\"}, {\"Year\": 1983, \"Field\": \"Agriculture\", \"Percent\": 31.6353471, \"Yeardate\": \"1983-01-01T00:00:00\"}, {\"Year\": 1984, \"Field\": \"Agriculture\", \"Percent\": 31.09294748, \"Yeardate\": \"1984-01-01T00:00:00\"}, {\"Year\": 1985, \"Field\": \"Agriculture\", \"Percent\": 31.3796588, \"Yeardate\": \"1985-01-01T00:00:00\"}, {\"Year\": 1986, \"Field\": \"Agriculture\", \"Percent\": 31.19871923, \"Yeardate\": \"1986-01-01T00:00:00\"}, {\"Year\": 1987, \"Field\": \"Agriculture\", \"Percent\": 31.48642948, \"Yeardate\": \"1987-01-01T00:00:00\"}, {\"Year\": 1988, \"Field\": \"Agriculture\", \"Percent\": 31.08508746, \"Yeardate\": \"1988-01-01T00:00:00\"}, {\"Year\": 1989, \"Field\": \"Agriculture\", \"Percent\": 31.6124031, \"Yeardate\": \"1989-01-01T00:00:00\"}, {\"Year\": 1990, \"Field\": \"Agriculture\", \"Percent\": 32.70344407, \"Yeardate\": \"1990-01-01T00:00:00\"}, {\"Year\": 1991, \"Field\": \"Agriculture\", \"Percent\": 34.71183749, \"Yeardate\": \"1991-01-01T00:00:00\"}, {\"Year\": 1992, \"Field\": \"Agriculture\", \"Percent\": 33.93165961, \"Yeardate\": \"1992-01-01T00:00:00\"}, {\"Year\": 1993, \"Field\": \"Agriculture\", \"Percent\": 34.94683208, \"Yeardate\": \"1993-01-01T00:00:00\"}, {\"Year\": 1994, \"Field\": \"Agriculture\", \"Percent\": 36.03267447, \"Yeardate\": \"1994-01-01T00:00:00\"}, {\"Year\": 1995, \"Field\": \"Agriculture\", \"Percent\": 36.84480747, \"Yeardate\": \"1995-01-01T00:00:00\"}, {\"Year\": 1996, \"Field\": \"Agriculture\", \"Percent\": 38.96977475, \"Yeardate\": \"1996-01-01T00:00:00\"}, {\"Year\": 1997, \"Field\": \"Agriculture\", \"Percent\": 40.68568483, \"Yeardate\": \"1997-01-01T00:00:00\"}, {\"Year\": 1998, \"Field\": \"Agriculture\", \"Percent\": 41.91240333, \"Yeardate\": \"1998-01-01T00:00:00\"}, {\"Year\": 1999, \"Field\": \"Agriculture\", \"Percent\": 42.88720191, \"Yeardate\": \"1999-01-01T00:00:00\"}, {\"Year\": 2000, \"Field\": \"Agriculture\", \"Percent\": 45.05776637, \"Yeardate\": \"2000-01-01T00:00:00\"}, {\"Year\": 2001, \"Field\": \"Agriculture\", \"Percent\": 45.86601517, \"Yeardate\": \"2001-01-01T00:00:00\"}, {\"Year\": 2002, \"Field\": \"Agriculture\", \"Percent\": 47.13465821, \"Yeardate\": \"2002-01-01T00:00:00\"}, {\"Year\": 2003, \"Field\": \"Agriculture\", \"Percent\": 47.93518721, \"Yeardate\": \"2003-01-01T00:00:00\"}, {\"Year\": 2004, \"Field\": \"Agriculture\", \"Percent\": 47.88714025, \"Yeardate\": \"2004-01-01T00:00:00\"}, {\"Year\": 2005, \"Field\": \"Agriculture\", \"Percent\": 47.67275409, \"Yeardate\": \"2005-01-01T00:00:00\"}, {\"Year\": 2006, \"Field\": \"Agriculture\", \"Percent\": 46.79029957, \"Yeardate\": \"2006-01-01T00:00:00\"}, {\"Year\": 2007, \"Field\": \"Agriculture\", \"Percent\": 47.60502633, \"Yeardate\": \"2007-01-01T00:00:00\"}, {\"Year\": 2008, \"Field\": \"Agriculture\", \"Percent\": 47.570834, \"Yeardate\": \"2008-01-01T00:00:00\"}, {\"Year\": 2009, \"Field\": \"Agriculture\", \"Percent\": 48.66722357, \"Yeardate\": \"2009-01-01T00:00:00\"}, {\"Year\": 2010, \"Field\": \"Agriculture\", \"Percent\": 48.73004227, \"Yeardate\": \"2010-01-01T00:00:00\"}, {\"Year\": 2011, \"Field\": \"Agriculture\", \"Percent\": 50.03718193, \"Yeardate\": \"2011-01-01T00:00:00\"}, {\"Year\": 1970, \"Field\": \"Business\", \"Percent\": 9.064438975, \"Yeardate\": \"1970-01-01T00:00:00\"}, {\"Year\": 1971, \"Field\": \"Business\", \"Percent\": 9.503186594, \"Yeardate\": \"1971-01-01T00:00:00\"}, {\"Year\": 1972, \"Field\": \"Business\", \"Percent\": 10.5589621, \"Yeardate\": \"1972-01-01T00:00:00\"}, {\"Year\": 1973, \"Field\": \"Business\", \"Percent\": 12.80460152, \"Yeardate\": \"1973-01-01T00:00:00\"}, {\"Year\": 1974, \"Field\": \"Business\", \"Percent\": 16.20485038, \"Yeardate\": \"1974-01-01T00:00:00\"}, {\"Year\": 1975, \"Field\": \"Business\", \"Percent\": 19.68624931, \"Yeardate\": \"1975-01-01T00:00:00\"}, {\"Year\": 1976, \"Field\": \"Business\", \"Percent\": 23.4300375, \"Yeardate\": \"1976-01-01T00:00:00\"}, {\"Year\": 1977, \"Field\": \"Business\", \"Percent\": 27.16342715, \"Yeardate\": \"1977-01-01T00:00:00\"}, {\"Year\": 1978, \"Field\": \"Business\", \"Percent\": 30.52751868, \"Yeardate\": \"1978-01-01T00:00:00\"}, {\"Year\": 1979, \"Field\": \"Business\", \"Percent\": 33.62163381, \"Yeardate\": \"1979-01-01T00:00:00\"}, {\"Year\": 1980, \"Field\": \"Business\", \"Percent\": 36.76572529, \"Yeardate\": \"1980-01-01T00:00:00\"}, {\"Year\": 1981, \"Field\": \"Business\", \"Percent\": 39.26622984, \"Yeardate\": \"1981-01-01T00:00:00\"}, {\"Year\": 1982, \"Field\": \"Business\", \"Percent\": 41.94937335, \"Yeardate\": \"1982-01-01T00:00:00\"}, {\"Year\": 1983, \"Field\": \"Business\", \"Percent\": 43.54206966, \"Yeardate\": \"1983-01-01T00:00:00\"}, {\"Year\": 1984, \"Field\": \"Business\", \"Percent\": 45.12403027, \"Yeardate\": \"1984-01-01T00:00:00\"}, {\"Year\": 1985, \"Field\": \"Business\", \"Percent\": 45.747782, \"Yeardate\": \"1985-01-01T00:00:00\"}, {\"Year\": 1986, \"Field\": \"Business\", \"Percent\": 46.53291505, \"Yeardate\": \"1986-01-01T00:00:00\"}, {\"Year\": 1987, \"Field\": \"Business\", \"Percent\": 46.69046648, \"Yeardate\": \"1987-01-01T00:00:00\"}, {\"Year\": 1988, \"Field\": \"Business\", \"Percent\": 46.7648277, \"Yeardate\": \"1988-01-01T00:00:00\"}, {\"Year\": 1989, \"Field\": \"Business\", \"Percent\": 46.7815648, \"Yeardate\": \"1989-01-01T00:00:00\"}, {\"Year\": 1990, \"Field\": \"Business\", \"Percent\": 47.20085084, \"Yeardate\": \"1990-01-01T00:00:00\"}, {\"Year\": 1991, \"Field\": \"Business\", \"Percent\": 47.22432481, \"Yeardate\": \"1991-01-01T00:00:00\"}, {\"Year\": 1992, \"Field\": \"Business\", \"Percent\": 47.21939541, \"Yeardate\": \"1992-01-01T00:00:00\"}, {\"Year\": 1993, \"Field\": \"Business\", \"Percent\": 47.63933161, \"Yeardate\": \"1993-01-01T00:00:00\"}, {\"Year\": 1994, \"Field\": \"Business\", \"Percent\": 47.98392441, \"Yeardate\": \"1994-01-01T00:00:00\"}, {\"Year\": 1995, \"Field\": \"Business\", \"Percent\": 48.57318101, \"Yeardate\": \"1995-01-01T00:00:00\"}, {\"Year\": 1996, \"Field\": \"Business\", \"Percent\": 48.6473926, \"Yeardate\": \"1996-01-01T00:00:00\"}, {\"Year\": 1997, \"Field\": \"Business\", \"Percent\": 48.56105033, \"Yeardate\": \"1997-01-01T00:00:00\"}, {\"Year\": 1998, \"Field\": \"Business\", \"Percent\": 49.2585152, \"Yeardate\": \"1998-01-01T00:00:00\"}, {\"Year\": 1999, \"Field\": \"Business\", \"Percent\": 49.81020815, \"Yeardate\": \"1999-01-01T00:00:00\"}, {\"Year\": 2000, \"Field\": \"Business\", \"Percent\": 49.80361649, \"Yeardate\": \"2000-01-01T00:00:00\"}, {\"Year\": 2001, \"Field\": \"Business\", \"Percent\": 50.27514494, \"Yeardate\": \"2001-01-01T00:00:00\"}, {\"Year\": 2002, \"Field\": \"Business\", \"Percent\": 50.5523346, \"Yeardate\": \"2002-01-01T00:00:00\"}, {\"Year\": 2003, \"Field\": \"Business\", \"Percent\": 50.34559774, \"Yeardate\": \"2003-01-01T00:00:00\"}, {\"Year\": 2004, \"Field\": \"Business\", \"Percent\": 49.95089449, \"Yeardate\": \"2004-01-01T00:00:00\"}, {\"Year\": 2005, \"Field\": \"Business\", \"Percent\": 49.79185139, \"Yeardate\": \"2005-01-01T00:00:00\"}, {\"Year\": 2006, \"Field\": \"Business\", \"Percent\": 49.21091439, \"Yeardate\": \"2006-01-01T00:00:00\"}, {\"Year\": 2007, \"Field\": \"Business\", \"Percent\": 49.00045935, \"Yeardate\": \"2007-01-01T00:00:00\"}, {\"Year\": 2008, \"Field\": \"Business\", \"Percent\": 48.88802678, \"Yeardate\": \"2008-01-01T00:00:00\"}, {\"Year\": 2009, \"Field\": \"Business\", \"Percent\": 48.84047414, \"Yeardate\": \"2009-01-01T00:00:00\"}, {\"Year\": 2010, \"Field\": \"Business\", \"Percent\": 48.75798769, \"Yeardate\": \"2010-01-01T00:00:00\"}, {\"Year\": 2011, \"Field\": \"Business\", \"Percent\": 48.18041792, \"Yeardate\": \"2011-01-01T00:00:00\"}, {\"Year\": 1970, \"Field\": \"Engineering\", \"Percent\": 0.8, \"Yeardate\": \"1970-01-01T00:00:00\"}, {\"Year\": 1971, \"Field\": \"Engineering\", \"Percent\": 1.0, \"Yeardate\": \"1971-01-01T00:00:00\"}, {\"Year\": 1972, \"Field\": \"Engineering\", \"Percent\": 1.2, \"Yeardate\": \"1972-01-01T00:00:00\"}, {\"Year\": 1973, \"Field\": \"Engineering\", \"Percent\": 1.6, \"Yeardate\": \"1973-01-01T00:00:00\"}, {\"Year\": 1974, \"Field\": \"Engineering\", \"Percent\": 2.2, \"Yeardate\": \"1974-01-01T00:00:00\"}, {\"Year\": 1975, \"Field\": \"Engineering\", \"Percent\": 3.2, \"Yeardate\": \"1975-01-01T00:00:00\"}, {\"Year\": 1976, \"Field\": \"Engineering\", \"Percent\": 4.5, \"Yeardate\": \"1976-01-01T00:00:00\"}, {\"Year\": 1977, \"Field\": \"Engineering\", \"Percent\": 6.8, \"Yeardate\": \"1977-01-01T00:00:00\"}, {\"Year\": 1978, \"Field\": \"Engineering\", \"Percent\": 8.4, \"Yeardate\": \"1978-01-01T00:00:00\"}, {\"Year\": 1979, \"Field\": \"Engineering\", \"Percent\": 9.4, \"Yeardate\": \"1979-01-01T00:00:00\"}, {\"Year\": 1980, \"Field\": \"Engineering\", \"Percent\": 10.3, \"Yeardate\": \"1980-01-01T00:00:00\"}, {\"Year\": 1981, \"Field\": \"Engineering\", \"Percent\": 11.6, \"Yeardate\": \"1981-01-01T00:00:00\"}, {\"Year\": 1982, \"Field\": \"Engineering\", \"Percent\": 12.4, \"Yeardate\": \"1982-01-01T00:00:00\"}, {\"Year\": 1983, \"Field\": \"Engineering\", \"Percent\": 13.1, \"Yeardate\": \"1983-01-01T00:00:00\"}, {\"Year\": 1984, \"Field\": \"Engineering\", \"Percent\": 13.5, \"Yeardate\": \"1984-01-01T00:00:00\"}, {\"Year\": 1985, \"Field\": \"Engineering\", \"Percent\": 13.5, \"Yeardate\": \"1985-01-01T00:00:00\"}, {\"Year\": 1986, \"Field\": \"Engineering\", \"Percent\": 13.9, \"Yeardate\": \"1986-01-01T00:00:00\"}, {\"Year\": 1987, \"Field\": \"Engineering\", \"Percent\": 14.0, \"Yeardate\": \"1987-01-01T00:00:00\"}, {\"Year\": 1988, \"Field\": \"Engineering\", \"Percent\": 13.9, \"Yeardate\": \"1988-01-01T00:00:00\"}, {\"Year\": 1989, \"Field\": \"Engineering\", \"Percent\": 14.1, \"Yeardate\": \"1989-01-01T00:00:00\"}, {\"Year\": 1990, \"Field\": \"Engineering\", \"Percent\": 14.1, \"Yeardate\": \"1990-01-01T00:00:00\"}, {\"Year\": 1991, \"Field\": \"Engineering\", \"Percent\": 14.0, \"Yeardate\": \"1991-01-01T00:00:00\"}, {\"Year\": 1992, \"Field\": \"Engineering\", \"Percent\": 14.5, \"Yeardate\": \"1992-01-01T00:00:00\"}, {\"Year\": 1993, \"Field\": \"Engineering\", \"Percent\": 14.9, \"Yeardate\": \"1993-01-01T00:00:00\"}, {\"Year\": 1994, \"Field\": \"Engineering\", \"Percent\": 15.7, \"Yeardate\": \"1994-01-01T00:00:00\"}, {\"Year\": 1995, \"Field\": \"Engineering\", \"Percent\": 16.2, \"Yeardate\": \"1995-01-01T00:00:00\"}, {\"Year\": 1996, \"Field\": \"Engineering\", \"Percent\": 16.7, \"Yeardate\": \"1996-01-01T00:00:00\"}, {\"Year\": 1997, \"Field\": \"Engineering\", \"Percent\": 17.0, \"Yeardate\": \"1997-01-01T00:00:00\"}, {\"Year\": 1998, \"Field\": \"Engineering\", \"Percent\": 17.8, \"Yeardate\": \"1998-01-01T00:00:00\"}, {\"Year\": 1999, \"Field\": \"Engineering\", \"Percent\": 18.6, \"Yeardate\": \"1999-01-01T00:00:00\"}, {\"Year\": 2000, \"Field\": \"Engineering\", \"Percent\": 18.4, \"Yeardate\": \"2000-01-01T00:00:00\"}, {\"Year\": 2001, \"Field\": \"Engineering\", \"Percent\": 19.0, \"Yeardate\": \"2001-01-01T00:00:00\"}, {\"Year\": 2002, \"Field\": \"Engineering\", \"Percent\": 18.7, \"Yeardate\": \"2002-01-01T00:00:00\"}, {\"Year\": 2003, \"Field\": \"Engineering\", \"Percent\": 18.8, \"Yeardate\": \"2003-01-01T00:00:00\"}, {\"Year\": 2004, \"Field\": \"Engineering\", \"Percent\": 18.2, \"Yeardate\": \"2004-01-01T00:00:00\"}, {\"Year\": 2005, \"Field\": \"Engineering\", \"Percent\": 17.9, \"Yeardate\": \"2005-01-01T00:00:00\"}, {\"Year\": 2006, \"Field\": \"Engineering\", \"Percent\": 16.8, \"Yeardate\": \"2006-01-01T00:00:00\"}, {\"Year\": 2007, \"Field\": \"Engineering\", \"Percent\": 16.8, \"Yeardate\": \"2007-01-01T00:00:00\"}, {\"Year\": 2008, \"Field\": \"Engineering\", \"Percent\": 16.5, \"Yeardate\": \"2008-01-01T00:00:00\"}, {\"Year\": 2009, \"Field\": \"Engineering\", \"Percent\": 16.8, \"Yeardate\": \"2009-01-01T00:00:00\"}, {\"Year\": 2010, \"Field\": \"Engineering\", \"Percent\": 17.2, \"Yeardate\": \"2010-01-01T00:00:00\"}, {\"Year\": 2011, \"Field\": \"Engineering\", \"Percent\": 17.5, \"Yeardate\": \"2011-01-01T00:00:00\"}, {\"Year\": 1970, \"Field\": \"Health\", \"Percent\": 77.1, \"Yeardate\": \"1970-01-01T00:00:00\"}, {\"Year\": 1971, \"Field\": \"Health\", \"Percent\": 75.5, \"Yeardate\": \"1971-01-01T00:00:00\"}, {\"Year\": 1972, \"Field\": \"Health\", \"Percent\": 76.9, \"Yeardate\": \"1972-01-01T00:00:00\"}, {\"Year\": 1973, \"Field\": \"Health\", \"Percent\": 77.4, \"Yeardate\": \"1973-01-01T00:00:00\"}, {\"Year\": 1974, \"Field\": \"Health\", \"Percent\": 77.9, \"Yeardate\": \"1974-01-01T00:00:00\"}, {\"Year\": 1975, \"Field\": \"Health\", \"Percent\": 78.9, \"Yeardate\": \"1975-01-01T00:00:00\"}, {\"Year\": 1976, \"Field\": \"Health\", \"Percent\": 79.2, \"Yeardate\": \"1976-01-01T00:00:00\"}, {\"Year\": 1977, \"Field\": \"Health\", \"Percent\": 80.5, \"Yeardate\": \"1977-01-01T00:00:00\"}, {\"Year\": 1978, \"Field\": \"Health\", \"Percent\": 81.9, \"Yeardate\": \"1978-01-01T00:00:00\"}, {\"Year\": 1979, \"Field\": \"Health\", \"Percent\": 82.3, \"Yeardate\": \"1979-01-01T00:00:00\"}, {\"Year\": 1980, \"Field\": \"Health\", \"Percent\": 83.5, \"Yeardate\": \"1980-01-01T00:00:00\"}, {\"Year\": 1981, \"Field\": \"Health\", \"Percent\": 84.1, \"Yeardate\": \"1981-01-01T00:00:00\"}, {\"Year\": 1982, \"Field\": \"Health\", \"Percent\": 84.4, \"Yeardate\": \"1982-01-01T00:00:00\"}, {\"Year\": 1983, \"Field\": \"Health\", \"Percent\": 84.6, \"Yeardate\": \"1983-01-01T00:00:00\"}, {\"Year\": 1984, \"Field\": \"Health\", \"Percent\": 85.1, \"Yeardate\": \"1984-01-01T00:00:00\"}, {\"Year\": 1985, \"Field\": \"Health\", \"Percent\": 85.3, \"Yeardate\": \"1985-01-01T00:00:00\"}, {\"Year\": 1986, \"Field\": \"Health\", \"Percent\": 85.7, \"Yeardate\": \"1986-01-01T00:00:00\"}, {\"Year\": 1987, \"Field\": \"Health\", \"Percent\": 85.5, \"Yeardate\": \"1987-01-01T00:00:00\"}, {\"Year\": 1988, \"Field\": \"Health\", \"Percent\": 85.2, \"Yeardate\": \"1988-01-01T00:00:00\"}, {\"Year\": 1989, \"Field\": \"Health\", \"Percent\": 84.6, \"Yeardate\": \"1989-01-01T00:00:00\"}, {\"Year\": 1990, \"Field\": \"Health\", \"Percent\": 83.9, \"Yeardate\": \"1990-01-01T00:00:00\"}, {\"Year\": 1991, \"Field\": \"Health\", \"Percent\": 83.5, \"Yeardate\": \"1991-01-01T00:00:00\"}, {\"Year\": 1992, \"Field\": \"Health\", \"Percent\": 83.0, \"Yeardate\": \"1992-01-01T00:00:00\"}, {\"Year\": 1993, \"Field\": \"Health\", \"Percent\": 82.4, \"Yeardate\": \"1993-01-01T00:00:00\"}, {\"Year\": 1994, \"Field\": \"Health\", \"Percent\": 81.8, \"Yeardate\": \"1994-01-01T00:00:00\"}, {\"Year\": 1995, \"Field\": \"Health\", \"Percent\": 81.5, \"Yeardate\": \"1995-01-01T00:00:00\"}, {\"Year\": 1996, \"Field\": \"Health\", \"Percent\": 81.3, \"Yeardate\": \"1996-01-01T00:00:00\"}, {\"Year\": 1997, \"Field\": \"Health\", \"Percent\": 81.9, \"Yeardate\": \"1997-01-01T00:00:00\"}, {\"Year\": 1998, \"Field\": \"Health\", \"Percent\": 82.1, \"Yeardate\": \"1998-01-01T00:00:00\"}, {\"Year\": 1999, \"Field\": \"Health\", \"Percent\": 83.5, \"Yeardate\": \"1999-01-01T00:00:00\"}, {\"Year\": 2000, \"Field\": \"Health\", \"Percent\": 83.5, \"Yeardate\": \"2000-01-01T00:00:00\"}, {\"Year\": 2001, \"Field\": \"Health\", \"Percent\": 85.1, \"Yeardate\": \"2001-01-01T00:00:00\"}, {\"Year\": 2002, \"Field\": \"Health\", \"Percent\": 85.8, \"Yeardate\": \"2002-01-01T00:00:00\"}, {\"Year\": 2003, \"Field\": \"Health\", \"Percent\": 86.5, \"Yeardate\": \"2003-01-01T00:00:00\"}, {\"Year\": 2004, \"Field\": \"Health\", \"Percent\": 86.5, \"Yeardate\": \"2004-01-01T00:00:00\"}, {\"Year\": 2005, \"Field\": \"Health\", \"Percent\": 86.0, \"Yeardate\": \"2005-01-01T00:00:00\"}, {\"Year\": 2006, \"Field\": \"Health\", \"Percent\": 85.9, \"Yeardate\": \"2006-01-01T00:00:00\"}, {\"Year\": 2007, \"Field\": \"Health\", \"Percent\": 85.4, \"Yeardate\": \"2007-01-01T00:00:00\"}, {\"Year\": 2008, \"Field\": \"Health\", \"Percent\": 85.2, \"Yeardate\": \"2008-01-01T00:00:00\"}, {\"Year\": 2009, \"Field\": \"Health\", \"Percent\": 85.1, \"Yeardate\": \"2009-01-01T00:00:00\"}, {\"Year\": 2010, \"Field\": \"Health\", \"Percent\": 85.0, \"Yeardate\": \"2010-01-01T00:00:00\"}, {\"Year\": 2011, \"Field\": \"Health\", \"Percent\": 84.8, \"Yeardate\": \"2011-01-01T00:00:00\"}, {\"Year\": 1970, \"Field\": \"Psychology\", \"Percent\": 44.4, \"Yeardate\": \"1970-01-01T00:00:00\"}, {\"Year\": 1971, \"Field\": \"Psychology\", \"Percent\": 46.2, \"Yeardate\": \"1971-01-01T00:00:00\"}, {\"Year\": 1972, \"Field\": \"Psychology\", \"Percent\": 47.6, \"Yeardate\": \"1972-01-01T00:00:00\"}, {\"Year\": 1973, \"Field\": \"Psychology\", \"Percent\": 50.4, \"Yeardate\": \"1973-01-01T00:00:00\"}, {\"Year\": 1974, \"Field\": \"Psychology\", \"Percent\": 52.6, \"Yeardate\": \"1974-01-01T00:00:00\"}, {\"Year\": 1975, \"Field\": \"Psychology\", \"Percent\": 54.5, \"Yeardate\": \"1975-01-01T00:00:00\"}, {\"Year\": 1976, \"Field\": \"Psychology\", \"Percent\": 56.9, \"Yeardate\": \"1976-01-01T00:00:00\"}, {\"Year\": 1977, \"Field\": \"Psychology\", \"Percent\": 59.0, \"Yeardate\": \"1977-01-01T00:00:00\"}, {\"Year\": 1978, \"Field\": \"Psychology\", \"Percent\": 61.3, \"Yeardate\": \"1978-01-01T00:00:00\"}, {\"Year\": 1979, \"Field\": \"Psychology\", \"Percent\": 63.3, \"Yeardate\": \"1979-01-01T00:00:00\"}, {\"Year\": 1980, \"Field\": \"Psychology\", \"Percent\": 65.1, \"Yeardate\": \"1980-01-01T00:00:00\"}, {\"Year\": 1981, \"Field\": \"Psychology\", \"Percent\": 66.9, \"Yeardate\": \"1981-01-01T00:00:00\"}, {\"Year\": 1982, \"Field\": \"Psychology\", \"Percent\": 67.5, \"Yeardate\": \"1982-01-01T00:00:00\"}, {\"Year\": 1983, \"Field\": \"Psychology\", \"Percent\": 67.9, \"Yeardate\": \"1983-01-01T00:00:00\"}, {\"Year\": 1984, \"Field\": \"Psychology\", \"Percent\": 68.2, \"Yeardate\": \"1984-01-01T00:00:00\"}, {\"Year\": 1985, \"Field\": \"Psychology\", \"Percent\": 69.0, \"Yeardate\": \"1985-01-01T00:00:00\"}, {\"Year\": 1986, \"Field\": \"Psychology\", \"Percent\": 69.0, \"Yeardate\": \"1986-01-01T00:00:00\"}, {\"Year\": 1987, \"Field\": \"Psychology\", \"Percent\": 70.1, \"Yeardate\": \"1987-01-01T00:00:00\"}, {\"Year\": 1988, \"Field\": \"Psychology\", \"Percent\": 70.9, \"Yeardate\": \"1988-01-01T00:00:00\"}, {\"Year\": 1989, \"Field\": \"Psychology\", \"Percent\": 71.6, \"Yeardate\": \"1989-01-01T00:00:00\"}, {\"Year\": 1990, \"Field\": \"Psychology\", \"Percent\": 72.6, \"Yeardate\": \"1990-01-01T00:00:00\"}, {\"Year\": 1991, \"Field\": \"Psychology\", \"Percent\": 73.2, \"Yeardate\": \"1991-01-01T00:00:00\"}, {\"Year\": 1992, \"Field\": \"Psychology\", \"Percent\": 73.2, \"Yeardate\": \"1992-01-01T00:00:00\"}, {\"Year\": 1993, \"Field\": \"Psychology\", \"Percent\": 73.1, \"Yeardate\": \"1993-01-01T00:00:00\"}, {\"Year\": 1994, \"Field\": \"Psychology\", \"Percent\": 72.9, \"Yeardate\": \"1994-01-01T00:00:00\"}, {\"Year\": 1995, \"Field\": \"Psychology\", \"Percent\": 73.0, \"Yeardate\": \"1995-01-01T00:00:00\"}, {\"Year\": 1996, \"Field\": \"Psychology\", \"Percent\": 73.9, \"Yeardate\": \"1996-01-01T00:00:00\"}, {\"Year\": 1997, \"Field\": \"Psychology\", \"Percent\": 74.4, \"Yeardate\": \"1997-01-01T00:00:00\"}, {\"Year\": 1998, \"Field\": \"Psychology\", \"Percent\": 75.1, \"Yeardate\": \"1998-01-01T00:00:00\"}, {\"Year\": 1999, \"Field\": \"Psychology\", \"Percent\": 76.5, \"Yeardate\": \"1999-01-01T00:00:00\"}, {\"Year\": 2000, \"Field\": \"Psychology\", \"Percent\": 77.5, \"Yeardate\": \"2000-01-01T00:00:00\"}, {\"Year\": 2001, \"Field\": \"Psychology\", \"Percent\": 77.5, \"Yeardate\": \"2001-01-01T00:00:00\"}, {\"Year\": 2002, \"Field\": \"Psychology\", \"Percent\": 77.7, \"Yeardate\": \"2002-01-01T00:00:00\"}, {\"Year\": 2003, \"Field\": \"Psychology\", \"Percent\": 77.8, \"Yeardate\": \"2003-01-01T00:00:00\"}, {\"Year\": 2004, \"Field\": \"Psychology\", \"Percent\": 77.8, \"Yeardate\": \"2004-01-01T00:00:00\"}, {\"Year\": 2005, \"Field\": \"Psychology\", \"Percent\": 77.5, \"Yeardate\": \"2005-01-01T00:00:00\"}, {\"Year\": 2006, \"Field\": \"Psychology\", \"Percent\": 77.4, \"Yeardate\": \"2006-01-01T00:00:00\"}, {\"Year\": 2007, \"Field\": \"Psychology\", \"Percent\": 77.1, \"Yeardate\": \"2007-01-01T00:00:00\"}, {\"Year\": 2008, \"Field\": \"Psychology\", \"Percent\": 77.2, \"Yeardate\": \"2008-01-01T00:00:00\"}, {\"Year\": 2009, \"Field\": \"Psychology\", \"Percent\": 77.1, \"Yeardate\": \"2009-01-01T00:00:00\"}, {\"Year\": 2010, \"Field\": \"Psychology\", \"Percent\": 77.0, \"Yeardate\": \"2010-01-01T00:00:00\"}, {\"Year\": 2011, \"Field\": \"Psychology\", \"Percent\": 76.7, \"Yeardate\": \"2011-01-01T00:00:00\"}]}}, {\"mode\": \"vega-lite\"});\n",
       "</script>"
      ],
      "text/plain": [
       "alt.Chart(...)"
      ]
     },
     "execution_count": 75,
     "metadata": {},
     "output_type": "execute_result"
    }
   ],
   "source": [
    "df_tall.plot.bar(\n",
    "    alt.X('Percent:Q').bin(maxbins=25),\n",
    "    alt.Y(\"count()\").stack(None),\n",
    "    color = 'Field'\n",
    ").properties(\n",
    "    height=100, width=200\n",
    ").configure_bar(\n",
    "    opacity=0.5\n",
    ")"
   ]
  },
  {
   "cell_type": "markdown",
   "metadata": {},
   "source": [
    "### We can change the layout of the small multiples\n",
    "\n",
    "**But notice that the bins are all still different sizes/ranges for each column!**"
   ]
  },
  {
   "cell_type": "raw",
   "metadata": {},
   "source": [
    "df.hist(sharex=True, sharey=True, layout=(1,-1), figsize=(12,2));"
   ]
  },
  {
   "cell_type": "markdown",
   "metadata": {},
   "source": [
    "### `df.plot.hist()`\n",
    "\n",
    "This results in a single set of axes, with all histograms overlapped in different colors. With this data set there are too many categories overlapping for this to be very useful. **At least it put them automatically on common scales and uses the same bins.**\n",
    "\n",
    "It helps to make the curves less opaque by setting the `alpha=` value. 1=opaque, 0=transparent."
   ]
  },
  {
   "cell_type": "raw",
   "metadata": {},
   "source": [
    "df.plot.hist(alpha=0.5);"
   ]
  },
  {
   "cell_type": "markdown",
   "metadata": {},
   "source": [
    "### Can still use all the same small multiple tricks\n",
    "\n",
    "I like this form much better"
   ]
  },
  {
   "cell_type": "raw",
   "metadata": {},
   "source": [
    "df.plot.hist(alpha=0.5, \n",
    "             subplots=True, \n",
    "             layout=(2,-1),\n",
    "             figsize=(9,5),\n",
    "             sharex=True, \n",
    "             sharey=True);"
   ]
  },
  {
   "cell_type": "markdown",
   "metadata": {},
   "source": [
    "---\n",
    "\n",
    "## Box plot\n",
    "\n",
    "A more compact summary of the distribution for comparison is a box (and whiskers) plot.\n",
    "\n",
    "If you're not familiar with this type of plot, the center line is the median value for that column, the top and bottom of the box are the upper and lower quartiles (75% and 25% percentile values), the \"whiskers\" extend by default at most to 1.5x the inner-quartile range, and any values outside this limit are shown as individual outlier circles."
   ]
  },
  {
   "cell_type": "code",
   "execution_count": 25,
   "metadata": {},
   "outputs": [
    {
     "data": {
      "image/png": "[encoded data removed]",
      "text/plain": [
       "<Figure size 432x288 with 1 Axes>"
      ]
     },
     "metadata": {
      "needs_background": "light"
     },
     "output_type": "display_data"
    }
   ],
   "source": [
    "df.plot.box();"
   ]
  },
  {
   "cell_type": "markdown",
   "metadata": {},
   "source": [
    "### Boxplot (and other layered charts) sort broken\n",
    "\n",
    "So have to use a list for now..."
   ]
  },
  {
   "cell_type": "code",
   "execution_count": 104,
   "metadata": {},
   "outputs": [
    {
     "data": {
      "text/plain": [
       "['Health', 'Psychology', 'Business', 'Agriculture', 'Engineering']"
      ]
     },
     "execution_count": 104,
     "metadata": {},
     "output_type": "execute_result"
    }
   ],
   "source": [
    "df_tall.group_by('Field').agg(pl.col('Percent').mean()).sort('Percent', descending=True).get_columns()[0].to_list()"
   ]
  },
  {
   "cell_type": "code",
   "execution_count": 108,
   "metadata": {},
   "outputs": [
    {
     "data": {
      "text/html": [
       "\n",
       "<style>\n",
       "  #altair-viz-b1c6ca23f2174c3687175b610f62fd43.vega-embed {\n",
       "    width: 100%;\n",
       "    display: flex;\n",
       "  }\n",
       "\n",
       "  #altair-viz-b1c6ca23f2174c3687175b610f62fd43.vega-embed details,\n",
       "  #altair-viz-b1c6ca23f2174c3687175b610f62fd43.vega-embed details summary {\n",
       "    position: relative;\n",
       "  }\n",
       "</style>\n",
       "<div id=\"altair-viz-b1c6ca23f2174c3687175b610f62fd43\"></div>\n",
       "<script type=\"text/javascript\">\n",
       "  var VEGA_DEBUG = (typeof VEGA_DEBUG == \"undefined\") ? {} : VEGA_DEBUG;\n",
       "  (function(spec, embedOpt){\n",
       "    let outputDiv = document.currentScript.previousElementSibling;\n",
       "    if (outputDiv.id !== \"altair-viz-b1c6ca23f2174c3687175b610f62fd43\") {\n",
       "      outputDiv = document.getElementById(\"altair-viz-b1c6ca23f2174c3687175b610f62fd43\");\n",
       "    }\n",
       "\n",
       "    const paths = {\n",
       "      \"vega\": \"https://cdn.jsdelivr.net/npm/vega@5?noext\",\n",
       "      \"vega-lib\": \"https://cdn.jsdelivr.net/npm/vega-lib?noext\",\n",
       "      \"vega-lite\": \"https://cdn.jsdelivr.net/npm/vega-lite@5.20.1?noext\",\n",
       "      \"vega-embed\": \"https://cdn.jsdelivr.net/npm/vega-embed@6?noext\",\n",
       "    };\n",
       "\n",
       "    function maybeLoadScript(lib, version) {\n",
       "      var key = `${lib.replace(\"-\", \"\")}_version`;\n",
       "      return (VEGA_DEBUG[key] == version) ?\n",
       "        Promise.resolve(paths[lib]) :\n",
       "        new Promise(function(resolve, reject) {\n",
       "          var s = document.createElement('script');\n",
       "          document.getElementsByTagName(\"head\")[0].appendChild(s);\n",
       "          s.async = true;\n",
       "          s.onload = () => {\n",
       "            VEGA_DEBUG[key] = version;\n",
       "            return resolve(paths[lib]);\n",
       "          };\n",
       "          s.onerror = () => reject(`Error loading script: ${paths[lib]}`);\n",
       "          s.src = paths[lib];\n",
       "        });\n",
       "    }\n",
       "\n",
       "    function showError(err) {\n",
       "      outputDiv.innerHTML = `<div class=\"error\" style=\"color:red;\">${err}</div>`;\n",
       "      throw err;\n",
       "    }\n",
       "\n",
       "    function displayChart(vegaEmbed) {\n",
       "      vegaEmbed(outputDiv, spec, embedOpt)\n",
       "        .catch(err => showError(`Javascript Error: ${err.message}<br>This usually means there's a typo in your chart specification. See the javascript console for the full traceback.`));\n",
       "    }\n",
       "\n",
       "    if(typeof define === \"function\" && define.amd) {\n",
       "      requirejs.config({paths});\n",
       "      let deps = [\"vega-embed\"];\n",
       "      require(deps, displayChart, err => showError(`Error loading script: ${err.message}`));\n",
       "    } else {\n",
       "      maybeLoadScript(\"vega\", \"5\")\n",
       "        .then(() => maybeLoadScript(\"vega-lite\", \"5.20.1\"))\n",
       "        .then(() => maybeLoadScript(\"vega-embed\", \"6\"))\n",
       "        .catch(showError)\n",
       "        .then(() => displayChart(vegaEmbed));\n",
       "    }\n",
       "  })({\"config\": {\"view\": {\"continuousWidth\": 300, \"continuousHeight\": 300}, \"boxplot\": {\"extent\": \"min-max\"}}, \"data\": {\"name\": \"data-7bd34bc17e6719b4e12365c5b18fa641\"}, \"mark\": {\"type\": \"boxplot\"}, \"encoding\": {\"color\": {\"field\": \"Field\", \"type\": \"nominal\"}, \"x\": {\"field\": \"Percent\", \"type\": \"quantitative\"}, \"y\": {\"field\": \"Field\", \"sort\": [\"Health\", \"Psychology\", \"Business\", \"Agriculture\", \"Engineering\"], \"type\": \"nominal\"}}, \"params\": [{\"name\": \"param_75\", \"select\": {\"type\": \"interval\", \"encodings\": [\"x\", \"y\"]}, \"bind\": \"scales\"}], \"$schema\": \"https://vega.github.io/schema/vega-lite/v5.20.1.json\", \"datasets\": {\"data-7bd34bc17e6719b4e12365c5b18fa641\": [{\"Year\": 1970, \"Field\": \"Agriculture\", \"Percent\": 4.22979798, \"Yeardate\": \"1970-01-01T00:00:00\"}, {\"Year\": 1971, \"Field\": \"Agriculture\", \"Percent\": 5.452796685, \"Yeardate\": \"1971-01-01T00:00:00\"}, {\"Year\": 1972, \"Field\": \"Agriculture\", \"Percent\": 7.42071022, \"Yeardate\": \"1972-01-01T00:00:00\"}, {\"Year\": 1973, \"Field\": \"Agriculture\", \"Percent\": 9.653602412, \"Yeardate\": \"1973-01-01T00:00:00\"}, {\"Year\": 1974, \"Field\": \"Agriculture\", \"Percent\": 14.07462346, \"Yeardate\": \"1974-01-01T00:00:00\"}, {\"Year\": 1975, \"Field\": \"Agriculture\", \"Percent\": 18.33316153, \"Yeardate\": \"1975-01-01T00:00:00\"}, {\"Year\": 1976, \"Field\": \"Agriculture\", \"Percent\": 22.25276005, \"Yeardate\": \"1976-01-01T00:00:00\"}, {\"Year\": 1977, \"Field\": \"Agriculture\", \"Percent\": 24.6401766, \"Yeardate\": \"1977-01-01T00:00:00\"}, {\"Year\": 1978, \"Field\": \"Agriculture\", \"Percent\": 27.14619175, \"Yeardate\": \"1978-01-01T00:00:00\"}, {\"Year\": 1979, \"Field\": \"Agriculture\", \"Percent\": 29.63336549, \"Yeardate\": \"1979-01-01T00:00:00\"}, {\"Year\": 1980, \"Field\": \"Agriculture\", \"Percent\": 30.75938956, \"Yeardate\": \"1980-01-01T00:00:00\"}, {\"Year\": 1981, \"Field\": \"Agriculture\", \"Percent\": 31.31865519, \"Yeardate\": \"1981-01-01T00:00:00\"}, {\"Year\": 1982, \"Field\": \"Agriculture\", \"Percent\": 32.63666364, \"Yeardate\": \"1982-01-01T00:00:00\"}, {\"Year\": 1983, \"Field\": \"Agriculture\", \"Percent\": 31.6353471, \"Yeardate\": \"1983-01-01T00:00:00\"}, {\"Year\": 1984, \"Field\": \"Agriculture\", \"Percent\": 31.09294748, \"Yeardate\": \"1984-01-01T00:00:00\"}, {\"Year\": 1985, \"Field\": \"Agriculture\", \"Percent\": 31.3796588, \"Yeardate\": \"1985-01-01T00:00:00\"}, {\"Year\": 1986, \"Field\": \"Agriculture\", \"Percent\": 31.19871923, \"Yeardate\": \"1986-01-01T00:00:00\"}, {\"Year\": 1987, \"Field\": \"Agriculture\", \"Percent\": 31.48642948, \"Yeardate\": \"1987-01-01T00:00:00\"}, {\"Year\": 1988, \"Field\": \"Agriculture\", \"Percent\": 31.08508746, \"Yeardate\": \"1988-01-01T00:00:00\"}, {\"Year\": 1989, \"Field\": \"Agriculture\", \"Percent\": 31.6124031, \"Yeardate\": \"1989-01-01T00:00:00\"}, {\"Year\": 1990, \"Field\": \"Agriculture\", \"Percent\": 32.70344407, \"Yeardate\": \"1990-01-01T00:00:00\"}, {\"Year\": 1991, \"Field\": \"Agriculture\", \"Percent\": 34.71183749, \"Yeardate\": \"1991-01-01T00:00:00\"}, {\"Year\": 1992, \"Field\": \"Agriculture\", \"Percent\": 33.93165961, \"Yeardate\": \"1992-01-01T00:00:00\"}, {\"Year\": 1993, \"Field\": \"Agriculture\", \"Percent\": 34.94683208, \"Yeardate\": \"1993-01-01T00:00:00\"}, {\"Year\": 1994, \"Field\": \"Agriculture\", \"Percent\": 36.03267447, \"Yeardate\": \"1994-01-01T00:00:00\"}, {\"Year\": 1995, \"Field\": \"Agriculture\", \"Percent\": 36.84480747, \"Yeardate\": \"1995-01-01T00:00:00\"}, {\"Year\": 1996, \"Field\": \"Agriculture\", \"Percent\": 38.96977475, \"Yeardate\": \"1996-01-01T00:00:00\"}, {\"Year\": 1997, \"Field\": \"Agriculture\", \"Percent\": 40.68568483, \"Yeardate\": \"1997-01-01T00:00:00\"}, {\"Year\": 1998, \"Field\": \"Agriculture\", \"Percent\": 41.91240333, \"Yeardate\": \"1998-01-01T00:00:00\"}, {\"Year\": 1999, \"Field\": \"Agriculture\", \"Percent\": 42.88720191, \"Yeardate\": \"1999-01-01T00:00:00\"}, {\"Year\": 2000, \"Field\": \"Agriculture\", \"Percent\": 45.05776637, \"Yeardate\": \"2000-01-01T00:00:00\"}, {\"Year\": 2001, \"Field\": \"Agriculture\", \"Percent\": 45.86601517, \"Yeardate\": \"2001-01-01T00:00:00\"}, {\"Year\": 2002, \"Field\": \"Agriculture\", \"Percent\": 47.13465821, \"Yeardate\": \"2002-01-01T00:00:00\"}, {\"Year\": 2003, \"Field\": \"Agriculture\", \"Percent\": 47.93518721, \"Yeardate\": \"2003-01-01T00:00:00\"}, {\"Year\": 2004, \"Field\": \"Agriculture\", \"Percent\": 47.88714025, \"Yeardate\": \"2004-01-01T00:00:00\"}, {\"Year\": 2005, \"Field\": \"Agriculture\", \"Percent\": 47.67275409, \"Yeardate\": \"2005-01-01T00:00:00\"}, {\"Year\": 2006, \"Field\": \"Agriculture\", \"Percent\": 46.79029957, \"Yeardate\": \"2006-01-01T00:00:00\"}, {\"Year\": 2007, \"Field\": \"Agriculture\", \"Percent\": 47.60502633, \"Yeardate\": \"2007-01-01T00:00:00\"}, {\"Year\": 2008, \"Field\": \"Agriculture\", \"Percent\": 47.570834, \"Yeardate\": \"2008-01-01T00:00:00\"}, {\"Year\": 2009, \"Field\": \"Agriculture\", \"Percent\": 48.66722357, \"Yeardate\": \"2009-01-01T00:00:00\"}, {\"Year\": 2010, \"Field\": \"Agriculture\", \"Percent\": 48.73004227, \"Yeardate\": \"2010-01-01T00:00:00\"}, {\"Year\": 2011, \"Field\": \"Agriculture\", \"Percent\": 50.03718193, \"Yeardate\": \"2011-01-01T00:00:00\"}, {\"Year\": 1970, \"Field\": \"Business\", \"Percent\": 9.064438975, \"Yeardate\": \"1970-01-01T00:00:00\"}, {\"Year\": 1971, \"Field\": \"Business\", \"Percent\": 9.503186594, \"Yeardate\": \"1971-01-01T00:00:00\"}, {\"Year\": 1972, \"Field\": \"Business\", \"Percent\": 10.5589621, \"Yeardate\": \"1972-01-01T00:00:00\"}, {\"Year\": 1973, \"Field\": \"Business\", \"Percent\": 12.80460152, \"Yeardate\": \"1973-01-01T00:00:00\"}, {\"Year\": 1974, \"Field\": \"Business\", \"Percent\": 16.20485038, \"Yeardate\": \"1974-01-01T00:00:00\"}, {\"Year\": 1975, \"Field\": \"Business\", \"Percent\": 19.68624931, \"Yeardate\": \"1975-01-01T00:00:00\"}, {\"Year\": 1976, \"Field\": \"Business\", \"Percent\": 23.4300375, \"Yeardate\": \"1976-01-01T00:00:00\"}, {\"Year\": 1977, \"Field\": \"Business\", \"Percent\": 27.16342715, \"Yeardate\": \"1977-01-01T00:00:00\"}, {\"Year\": 1978, \"Field\": \"Business\", \"Percent\": 30.52751868, \"Yeardate\": \"1978-01-01T00:00:00\"}, {\"Year\": 1979, \"Field\": \"Business\", \"Percent\": 33.62163381, \"Yeardate\": \"1979-01-01T00:00:00\"}, {\"Year\": 1980, \"Field\": \"Business\", \"Percent\": 36.76572529, \"Yeardate\": \"1980-01-01T00:00:00\"}, {\"Year\": 1981, \"Field\": \"Business\", \"Percent\": 39.26622984, \"Yeardate\": \"1981-01-01T00:00:00\"}, {\"Year\": 1982, \"Field\": \"Business\", \"Percent\": 41.94937335, \"Yeardate\": \"1982-01-01T00:00:00\"}, {\"Year\": 1983, \"Field\": \"Business\", \"Percent\": 43.54206966, \"Yeardate\": \"1983-01-01T00:00:00\"}, {\"Year\": 1984, \"Field\": \"Business\", \"Percent\": 45.12403027, \"Yeardate\": \"1984-01-01T00:00:00\"}, {\"Year\": 1985, \"Field\": \"Business\", \"Percent\": 45.747782, \"Yeardate\": \"1985-01-01T00:00:00\"}, {\"Year\": 1986, \"Field\": \"Business\", \"Percent\": 46.53291505, \"Yeardate\": \"1986-01-01T00:00:00\"}, {\"Year\": 1987, \"Field\": \"Business\", \"Percent\": 46.69046648, \"Yeardate\": \"1987-01-01T00:00:00\"}, {\"Year\": 1988, \"Field\": \"Business\", \"Percent\": 46.7648277, \"Yeardate\": \"1988-01-01T00:00:00\"}, {\"Year\": 1989, \"Field\": \"Business\", \"Percent\": 46.7815648, \"Yeardate\": \"1989-01-01T00:00:00\"}, {\"Year\": 1990, \"Field\": \"Business\", \"Percent\": 47.20085084, \"Yeardate\": \"1990-01-01T00:00:00\"}, {\"Year\": 1991, \"Field\": \"Business\", \"Percent\": 47.22432481, \"Yeardate\": \"1991-01-01T00:00:00\"}, {\"Year\": 1992, \"Field\": \"Business\", \"Percent\": 47.21939541, \"Yeardate\": \"1992-01-01T00:00:00\"}, {\"Year\": 1993, \"Field\": \"Business\", \"Percent\": 47.63933161, \"Yeardate\": \"1993-01-01T00:00:00\"}, {\"Year\": 1994, \"Field\": \"Business\", \"Percent\": 47.98392441, \"Yeardate\": \"1994-01-01T00:00:00\"}, {\"Year\": 1995, \"Field\": \"Business\", \"Percent\": 48.57318101, \"Yeardate\": \"1995-01-01T00:00:00\"}, {\"Year\": 1996, \"Field\": \"Business\", \"Percent\": 48.6473926, \"Yeardate\": \"1996-01-01T00:00:00\"}, {\"Year\": 1997, \"Field\": \"Business\", \"Percent\": 48.56105033, \"Yeardate\": \"1997-01-01T00:00:00\"}, {\"Year\": 1998, \"Field\": \"Business\", \"Percent\": 49.2585152, \"Yeardate\": \"1998-01-01T00:00:00\"}, {\"Year\": 1999, \"Field\": \"Business\", \"Percent\": 49.81020815, \"Yeardate\": \"1999-01-01T00:00:00\"}, {\"Year\": 2000, \"Field\": \"Business\", \"Percent\": 49.80361649, \"Yeardate\": \"2000-01-01T00:00:00\"}, {\"Year\": 2001, \"Field\": \"Business\", \"Percent\": 50.27514494, \"Yeardate\": \"2001-01-01T00:00:00\"}, {\"Year\": 2002, \"Field\": \"Business\", \"Percent\": 50.5523346, \"Yeardate\": \"2002-01-01T00:00:00\"}, {\"Year\": 2003, \"Field\": \"Business\", \"Percent\": 50.34559774, \"Yeardate\": \"2003-01-01T00:00:00\"}, {\"Year\": 2004, \"Field\": \"Business\", \"Percent\": 49.95089449, \"Yeardate\": \"2004-01-01T00:00:00\"}, {\"Year\": 2005, \"Field\": \"Business\", \"Percent\": 49.79185139, \"Yeardate\": \"2005-01-01T00:00:00\"}, {\"Year\": 2006, \"Field\": \"Business\", \"Percent\": 49.21091439, \"Yeardate\": \"2006-01-01T00:00:00\"}, {\"Year\": 2007, \"Field\": \"Business\", \"Percent\": 49.00045935, \"Yeardate\": \"2007-01-01T00:00:00\"}, {\"Year\": 2008, \"Field\": \"Business\", \"Percent\": 48.88802678, \"Yeardate\": \"2008-01-01T00:00:00\"}, {\"Year\": 2009, \"Field\": \"Business\", \"Percent\": 48.84047414, \"Yeardate\": \"2009-01-01T00:00:00\"}, {\"Year\": 2010, \"Field\": \"Business\", \"Percent\": 48.75798769, \"Yeardate\": \"2010-01-01T00:00:00\"}, {\"Year\": 2011, \"Field\": \"Business\", \"Percent\": 48.18041792, \"Yeardate\": \"2011-01-01T00:00:00\"}, {\"Year\": 1970, \"Field\": \"Engineering\", \"Percent\": 0.8, \"Yeardate\": \"1970-01-01T00:00:00\"}, {\"Year\": 1971, \"Field\": \"Engineering\", \"Percent\": 1.0, \"Yeardate\": \"1971-01-01T00:00:00\"}, {\"Year\": 1972, \"Field\": \"Engineering\", \"Percent\": 1.2, \"Yeardate\": \"1972-01-01T00:00:00\"}, {\"Year\": 1973, \"Field\": \"Engineering\", \"Percent\": 1.6, \"Yeardate\": \"1973-01-01T00:00:00\"}, {\"Year\": 1974, \"Field\": \"Engineering\", \"Percent\": 2.2, \"Yeardate\": \"1974-01-01T00:00:00\"}, {\"Year\": 1975, \"Field\": \"Engineering\", \"Percent\": 3.2, \"Yeardate\": \"1975-01-01T00:00:00\"}, {\"Year\": 1976, \"Field\": \"Engineering\", \"Percent\": 4.5, \"Yeardate\": \"1976-01-01T00:00:00\"}, {\"Year\": 1977, \"Field\": \"Engineering\", \"Percent\": 6.8, \"Yeardate\": \"1977-01-01T00:00:00\"}, {\"Year\": 1978, \"Field\": \"Engineering\", \"Percent\": 8.4, \"Yeardate\": \"1978-01-01T00:00:00\"}, {\"Year\": 1979, \"Field\": \"Engineering\", \"Percent\": 9.4, \"Yeardate\": \"1979-01-01T00:00:00\"}, {\"Year\": 1980, \"Field\": \"Engineering\", \"Percent\": 10.3, \"Yeardate\": \"1980-01-01T00:00:00\"}, {\"Year\": 1981, \"Field\": \"Engineering\", \"Percent\": 11.6, \"Yeardate\": \"1981-01-01T00:00:00\"}, {\"Year\": 1982, \"Field\": \"Engineering\", \"Percent\": 12.4, \"Yeardate\": \"1982-01-01T00:00:00\"}, {\"Year\": 1983, \"Field\": \"Engineering\", \"Percent\": 13.1, \"Yeardate\": \"1983-01-01T00:00:00\"}, {\"Year\": 1984, \"Field\": \"Engineering\", \"Percent\": 13.5, \"Yeardate\": \"1984-01-01T00:00:00\"}, {\"Year\": 1985, \"Field\": \"Engineering\", \"Percent\": 13.5, \"Yeardate\": \"1985-01-01T00:00:00\"}, {\"Year\": 1986, \"Field\": \"Engineering\", \"Percent\": 13.9, \"Yeardate\": \"1986-01-01T00:00:00\"}, {\"Year\": 1987, \"Field\": \"Engineering\", \"Percent\": 14.0, \"Yeardate\": \"1987-01-01T00:00:00\"}, {\"Year\": 1988, \"Field\": \"Engineering\", \"Percent\": 13.9, \"Yeardate\": \"1988-01-01T00:00:00\"}, {\"Year\": 1989, \"Field\": \"Engineering\", \"Percent\": 14.1, \"Yeardate\": \"1989-01-01T00:00:00\"}, {\"Year\": 1990, \"Field\": \"Engineering\", \"Percent\": 14.1, \"Yeardate\": \"1990-01-01T00:00:00\"}, {\"Year\": 1991, \"Field\": \"Engineering\", \"Percent\": 14.0, \"Yeardate\": \"1991-01-01T00:00:00\"}, {\"Year\": 1992, \"Field\": \"Engineering\", \"Percent\": 14.5, \"Yeardate\": \"1992-01-01T00:00:00\"}, {\"Year\": 1993, \"Field\": \"Engineering\", \"Percent\": 14.9, \"Yeardate\": \"1993-01-01T00:00:00\"}, {\"Year\": 1994, \"Field\": \"Engineering\", \"Percent\": 15.7, \"Yeardate\": \"1994-01-01T00:00:00\"}, {\"Year\": 1995, \"Field\": \"Engineering\", \"Percent\": 16.2, \"Yeardate\": \"1995-01-01T00:00:00\"}, {\"Year\": 1996, \"Field\": \"Engineering\", \"Percent\": 16.7, \"Yeardate\": \"1996-01-01T00:00:00\"}, {\"Year\": 1997, \"Field\": \"Engineering\", \"Percent\": 17.0, \"Yeardate\": \"1997-01-01T00:00:00\"}, {\"Year\": 1998, \"Field\": \"Engineering\", \"Percent\": 17.8, \"Yeardate\": \"1998-01-01T00:00:00\"}, {\"Year\": 1999, \"Field\": \"Engineering\", \"Percent\": 18.6, \"Yeardate\": \"1999-01-01T00:00:00\"}, {\"Year\": 2000, \"Field\": \"Engineering\", \"Percent\": 18.4, \"Yeardate\": \"2000-01-01T00:00:00\"}, {\"Year\": 2001, \"Field\": \"Engineering\", \"Percent\": 19.0, \"Yeardate\": \"2001-01-01T00:00:00\"}, {\"Year\": 2002, \"Field\": \"Engineering\", \"Percent\": 18.7, \"Yeardate\": \"2002-01-01T00:00:00\"}, {\"Year\": 2003, \"Field\": \"Engineering\", \"Percent\": 18.8, \"Yeardate\": \"2003-01-01T00:00:00\"}, {\"Year\": 2004, \"Field\": \"Engineering\", \"Percent\": 18.2, \"Yeardate\": \"2004-01-01T00:00:00\"}, {\"Year\": 2005, \"Field\": \"Engineering\", \"Percent\": 17.9, \"Yeardate\": \"2005-01-01T00:00:00\"}, {\"Year\": 2006, \"Field\": \"Engineering\", \"Percent\": 16.8, \"Yeardate\": \"2006-01-01T00:00:00\"}, {\"Year\": 2007, \"Field\": \"Engineering\", \"Percent\": 16.8, \"Yeardate\": \"2007-01-01T00:00:00\"}, {\"Year\": 2008, \"Field\": \"Engineering\", \"Percent\": 16.5, \"Yeardate\": \"2008-01-01T00:00:00\"}, {\"Year\": 2009, \"Field\": \"Engineering\", \"Percent\": 16.8, \"Yeardate\": \"2009-01-01T00:00:00\"}, {\"Year\": 2010, \"Field\": \"Engineering\", \"Percent\": 17.2, \"Yeardate\": \"2010-01-01T00:00:00\"}, {\"Year\": 2011, \"Field\": \"Engineering\", \"Percent\": 17.5, \"Yeardate\": \"2011-01-01T00:00:00\"}, {\"Year\": 1970, \"Field\": \"Health\", \"Percent\": 77.1, \"Yeardate\": \"1970-01-01T00:00:00\"}, {\"Year\": 1971, \"Field\": \"Health\", \"Percent\": 75.5, \"Yeardate\": \"1971-01-01T00:00:00\"}, {\"Year\": 1972, \"Field\": \"Health\", \"Percent\": 76.9, \"Yeardate\": \"1972-01-01T00:00:00\"}, {\"Year\": 1973, \"Field\": \"Health\", \"Percent\": 77.4, \"Yeardate\": \"1973-01-01T00:00:00\"}, {\"Year\": 1974, \"Field\": \"Health\", \"Percent\": 77.9, \"Yeardate\": \"1974-01-01T00:00:00\"}, {\"Year\": 1975, \"Field\": \"Health\", \"Percent\": 78.9, \"Yeardate\": \"1975-01-01T00:00:00\"}, {\"Year\": 1976, \"Field\": \"Health\", \"Percent\": 79.2, \"Yeardate\": \"1976-01-01T00:00:00\"}, {\"Year\": 1977, \"Field\": \"Health\", \"Percent\": 80.5, \"Yeardate\": \"1977-01-01T00:00:00\"}, {\"Year\": 1978, \"Field\": \"Health\", \"Percent\": 81.9, \"Yeardate\": \"1978-01-01T00:00:00\"}, {\"Year\": 1979, \"Field\": \"Health\", \"Percent\": 82.3, \"Yeardate\": \"1979-01-01T00:00:00\"}, {\"Year\": 1980, \"Field\": \"Health\", \"Percent\": 83.5, \"Yeardate\": \"1980-01-01T00:00:00\"}, {\"Year\": 1981, \"Field\": \"Health\", \"Percent\": 84.1, \"Yeardate\": \"1981-01-01T00:00:00\"}, {\"Year\": 1982, \"Field\": \"Health\", \"Percent\": 84.4, \"Yeardate\": \"1982-01-01T00:00:00\"}, {\"Year\": 1983, \"Field\": \"Health\", \"Percent\": 84.6, \"Yeardate\": \"1983-01-01T00:00:00\"}, {\"Year\": 1984, \"Field\": \"Health\", \"Percent\": 85.1, \"Yeardate\": \"1984-01-01T00:00:00\"}, {\"Year\": 1985, \"Field\": \"Health\", \"Percent\": 85.3, \"Yeardate\": \"1985-01-01T00:00:00\"}, {\"Year\": 1986, \"Field\": \"Health\", \"Percent\": 85.7, \"Yeardate\": \"1986-01-01T00:00:00\"}, {\"Year\": 1987, \"Field\": \"Health\", \"Percent\": 85.5, \"Yeardate\": \"1987-01-01T00:00:00\"}, {\"Year\": 1988, \"Field\": \"Health\", \"Percent\": 85.2, \"Yeardate\": \"1988-01-01T00:00:00\"}, {\"Year\": 1989, \"Field\": \"Health\", \"Percent\": 84.6, \"Yeardate\": \"1989-01-01T00:00:00\"}, {\"Year\": 1990, \"Field\": \"Health\", \"Percent\": 83.9, \"Yeardate\": \"1990-01-01T00:00:00\"}, {\"Year\": 1991, \"Field\": \"Health\", \"Percent\": 83.5, \"Yeardate\": \"1991-01-01T00:00:00\"}, {\"Year\": 1992, \"Field\": \"Health\", \"Percent\": 83.0, \"Yeardate\": \"1992-01-01T00:00:00\"}, {\"Year\": 1993, \"Field\": \"Health\", \"Percent\": 82.4, \"Yeardate\": \"1993-01-01T00:00:00\"}, {\"Year\": 1994, \"Field\": \"Health\", \"Percent\": 81.8, \"Yeardate\": \"1994-01-01T00:00:00\"}, {\"Year\": 1995, \"Field\": \"Health\", \"Percent\": 81.5, \"Yeardate\": \"1995-01-01T00:00:00\"}, {\"Year\": 1996, \"Field\": \"Health\", \"Percent\": 81.3, \"Yeardate\": \"1996-01-01T00:00:00\"}, {\"Year\": 1997, \"Field\": \"Health\", \"Percent\": 81.9, \"Yeardate\": \"1997-01-01T00:00:00\"}, {\"Year\": 1998, \"Field\": \"Health\", \"Percent\": 82.1, \"Yeardate\": \"1998-01-01T00:00:00\"}, {\"Year\": 1999, \"Field\": \"Health\", \"Percent\": 83.5, \"Yeardate\": \"1999-01-01T00:00:00\"}, {\"Year\": 2000, \"Field\": \"Health\", \"Percent\": 83.5, \"Yeardate\": \"2000-01-01T00:00:00\"}, {\"Year\": 2001, \"Field\": \"Health\", \"Percent\": 85.1, \"Yeardate\": \"2001-01-01T00:00:00\"}, {\"Year\": 2002, \"Field\": \"Health\", \"Percent\": 85.8, \"Yeardate\": \"2002-01-01T00:00:00\"}, {\"Year\": 2003, \"Field\": \"Health\", \"Percent\": 86.5, \"Yeardate\": \"2003-01-01T00:00:00\"}, {\"Year\": 2004, \"Field\": \"Health\", \"Percent\": 86.5, \"Yeardate\": \"2004-01-01T00:00:00\"}, {\"Year\": 2005, \"Field\": \"Health\", \"Percent\": 86.0, \"Yeardate\": \"2005-01-01T00:00:00\"}, {\"Year\": 2006, \"Field\": \"Health\", \"Percent\": 85.9, \"Yeardate\": \"2006-01-01T00:00:00\"}, {\"Year\": 2007, \"Field\": \"Health\", \"Percent\": 85.4, \"Yeardate\": \"2007-01-01T00:00:00\"}, {\"Year\": 2008, \"Field\": \"Health\", \"Percent\": 85.2, \"Yeardate\": \"2008-01-01T00:00:00\"}, {\"Year\": 2009, \"Field\": \"Health\", \"Percent\": 85.1, \"Yeardate\": \"2009-01-01T00:00:00\"}, {\"Year\": 2010, \"Field\": \"Health\", \"Percent\": 85.0, \"Yeardate\": \"2010-01-01T00:00:00\"}, {\"Year\": 2011, \"Field\": \"Health\", \"Percent\": 84.8, \"Yeardate\": \"2011-01-01T00:00:00\"}, {\"Year\": 1970, \"Field\": \"Psychology\", \"Percent\": 44.4, \"Yeardate\": \"1970-01-01T00:00:00\"}, {\"Year\": 1971, \"Field\": \"Psychology\", \"Percent\": 46.2, \"Yeardate\": \"1971-01-01T00:00:00\"}, {\"Year\": 1972, \"Field\": \"Psychology\", \"Percent\": 47.6, \"Yeardate\": \"1972-01-01T00:00:00\"}, {\"Year\": 1973, \"Field\": \"Psychology\", \"Percent\": 50.4, \"Yeardate\": \"1973-01-01T00:00:00\"}, {\"Year\": 1974, \"Field\": \"Psychology\", \"Percent\": 52.6, \"Yeardate\": \"1974-01-01T00:00:00\"}, {\"Year\": 1975, \"Field\": \"Psychology\", \"Percent\": 54.5, \"Yeardate\": \"1975-01-01T00:00:00\"}, {\"Year\": 1976, \"Field\": \"Psychology\", \"Percent\": 56.9, \"Yeardate\": \"1976-01-01T00:00:00\"}, {\"Year\": 1977, \"Field\": \"Psychology\", \"Percent\": 59.0, \"Yeardate\": \"1977-01-01T00:00:00\"}, {\"Year\": 1978, \"Field\": \"Psychology\", \"Percent\": 61.3, \"Yeardate\": \"1978-01-01T00:00:00\"}, {\"Year\": 1979, \"Field\": \"Psychology\", \"Percent\": 63.3, \"Yeardate\": \"1979-01-01T00:00:00\"}, {\"Year\": 1980, \"Field\": \"Psychology\", \"Percent\": 65.1, \"Yeardate\": \"1980-01-01T00:00:00\"}, {\"Year\": 1981, \"Field\": \"Psychology\", \"Percent\": 66.9, \"Yeardate\": \"1981-01-01T00:00:00\"}, {\"Year\": 1982, \"Field\": \"Psychology\", \"Percent\": 67.5, \"Yeardate\": \"1982-01-01T00:00:00\"}, {\"Year\": 1983, \"Field\": \"Psychology\", \"Percent\": 67.9, \"Yeardate\": \"1983-01-01T00:00:00\"}, {\"Year\": 1984, \"Field\": \"Psychology\", \"Percent\": 68.2, \"Yeardate\": \"1984-01-01T00:00:00\"}, {\"Year\": 1985, \"Field\": \"Psychology\", \"Percent\": 69.0, \"Yeardate\": \"1985-01-01T00:00:00\"}, {\"Year\": 1986, \"Field\": \"Psychology\", \"Percent\": 69.0, \"Yeardate\": \"1986-01-01T00:00:00\"}, {\"Year\": 1987, \"Field\": \"Psychology\", \"Percent\": 70.1, \"Yeardate\": \"1987-01-01T00:00:00\"}, {\"Year\": 1988, \"Field\": \"Psychology\", \"Percent\": 70.9, \"Yeardate\": \"1988-01-01T00:00:00\"}, {\"Year\": 1989, \"Field\": \"Psychology\", \"Percent\": 71.6, \"Yeardate\": \"1989-01-01T00:00:00\"}, {\"Year\": 1990, \"Field\": \"Psychology\", \"Percent\": 72.6, \"Yeardate\": \"1990-01-01T00:00:00\"}, {\"Year\": 1991, \"Field\": \"Psychology\", \"Percent\": 73.2, \"Yeardate\": \"1991-01-01T00:00:00\"}, {\"Year\": 1992, \"Field\": \"Psychology\", \"Percent\": 73.2, \"Yeardate\": \"1992-01-01T00:00:00\"}, {\"Year\": 1993, \"Field\": \"Psychology\", \"Percent\": 73.1, \"Yeardate\": \"1993-01-01T00:00:00\"}, {\"Year\": 1994, \"Field\": \"Psychology\", \"Percent\": 72.9, \"Yeardate\": \"1994-01-01T00:00:00\"}, {\"Year\": 1995, \"Field\": \"Psychology\", \"Percent\": 73.0, \"Yeardate\": \"1995-01-01T00:00:00\"}, {\"Year\": 1996, \"Field\": \"Psychology\", \"Percent\": 73.9, \"Yeardate\": \"1996-01-01T00:00:00\"}, {\"Year\": 1997, \"Field\": \"Psychology\", \"Percent\": 74.4, \"Yeardate\": \"1997-01-01T00:00:00\"}, {\"Year\": 1998, \"Field\": \"Psychology\", \"Percent\": 75.1, \"Yeardate\": \"1998-01-01T00:00:00\"}, {\"Year\": 1999, \"Field\": \"Psychology\", \"Percent\": 76.5, \"Yeardate\": \"1999-01-01T00:00:00\"}, {\"Year\": 2000, \"Field\": \"Psychology\", \"Percent\": 77.5, \"Yeardate\": \"2000-01-01T00:00:00\"}, {\"Year\": 2001, \"Field\": \"Psychology\", \"Percent\": 77.5, \"Yeardate\": \"2001-01-01T00:00:00\"}, {\"Year\": 2002, \"Field\": \"Psychology\", \"Percent\": 77.7, \"Yeardate\": \"2002-01-01T00:00:00\"}, {\"Year\": 2003, \"Field\": \"Psychology\", \"Percent\": 77.8, \"Yeardate\": \"2003-01-01T00:00:00\"}, {\"Year\": 2004, \"Field\": \"Psychology\", \"Percent\": 77.8, \"Yeardate\": \"2004-01-01T00:00:00\"}, {\"Year\": 2005, \"Field\": \"Psychology\", \"Percent\": 77.5, \"Yeardate\": \"2005-01-01T00:00:00\"}, {\"Year\": 2006, \"Field\": \"Psychology\", \"Percent\": 77.4, \"Yeardate\": \"2006-01-01T00:00:00\"}, {\"Year\": 2007, \"Field\": \"Psychology\", \"Percent\": 77.1, \"Yeardate\": \"2007-01-01T00:00:00\"}, {\"Year\": 2008, \"Field\": \"Psychology\", \"Percent\": 77.2, \"Yeardate\": \"2008-01-01T00:00:00\"}, {\"Year\": 2009, \"Field\": \"Psychology\", \"Percent\": 77.1, \"Yeardate\": \"2009-01-01T00:00:00\"}, {\"Year\": 2010, \"Field\": \"Psychology\", \"Percent\": 77.0, \"Yeardate\": \"2010-01-01T00:00:00\"}, {\"Year\": 2011, \"Field\": \"Psychology\", \"Percent\": 76.7, \"Yeardate\": \"2011-01-01T00:00:00\"}]}}, {\"mode\": \"vega-lite\"});\n",
       "</script>"
      ],
      "text/plain": [
       "alt.Chart(...)"
      ]
     },
     "execution_count": 108,
     "metadata": {},
     "output_type": "execute_result"
    }
   ],
   "source": [
    "df_tall.plot.boxplot(\n",
    "    y=alt.Y(\"Field:N\").sort(['Health', 'Psychology', 'Business', 'Agriculture', 'Engineering']),\n",
    "    x=\"Percent:Q\",\n",
    "    color=\"Field:N\"\n",
    ").configure_boxplot(\n",
    "    extent=\"min-max\"\n",
    ")"
   ]
  },
  {
   "cell_type": "code",
   "execution_count": 109,
   "metadata": {},
   "outputs": [
    {
     "data": {
      "text/html": [
       "\n",
       "<style>\n",
       "  #altair-viz-19cba9b1cbdd42cb8ced5769c0c7dcd4.vega-embed {\n",
       "    width: 100%;\n",
       "    display: flex;\n",
       "  }\n",
       "\n",
       "  #altair-viz-19cba9b1cbdd42cb8ced5769c0c7dcd4.vega-embed details,\n",
       "  #altair-viz-19cba9b1cbdd42cb8ced5769c0c7dcd4.vega-embed details summary {\n",
       "    position: relative;\n",
       "  }\n",
       "</style>\n",
       "<div id=\"altair-viz-19cba9b1cbdd42cb8ced5769c0c7dcd4\"></div>\n",
       "<script type=\"text/javascript\">\n",
       "  var VEGA_DEBUG = (typeof VEGA_DEBUG == \"undefined\") ? {} : VEGA_DEBUG;\n",
       "  (function(spec, embedOpt){\n",
       "    let outputDiv = document.currentScript.previousElementSibling;\n",
       "    if (outputDiv.id !== \"altair-viz-19cba9b1cbdd42cb8ced5769c0c7dcd4\") {\n",
       "      outputDiv = document.getElementById(\"altair-viz-19cba9b1cbdd42cb8ced5769c0c7dcd4\");\n",
       "    }\n",
       "\n",
       "    const paths = {\n",
       "      \"vega\": \"https://cdn.jsdelivr.net/npm/vega@5?noext\",\n",
       "      \"vega-lib\": \"https://cdn.jsdelivr.net/npm/vega-lib?noext\",\n",
       "      \"vega-lite\": \"https://cdn.jsdelivr.net/npm/vega-lite@5.20.1?noext\",\n",
       "      \"vega-embed\": \"https://cdn.jsdelivr.net/npm/vega-embed@6?noext\",\n",
       "    };\n",
       "\n",
       "    function maybeLoadScript(lib, version) {\n",
       "      var key = `${lib.replace(\"-\", \"\")}_version`;\n",
       "      return (VEGA_DEBUG[key] == version) ?\n",
       "        Promise.resolve(paths[lib]) :\n",
       "        new Promise(function(resolve, reject) {\n",
       "          var s = document.createElement('script');\n",
       "          document.getElementsByTagName(\"head\")[0].appendChild(s);\n",
       "          s.async = true;\n",
       "          s.onload = () => {\n",
       "            VEGA_DEBUG[key] = version;\n",
       "            return resolve(paths[lib]);\n",
       "          };\n",
       "          s.onerror = () => reject(`Error loading script: ${paths[lib]}`);\n",
       "          s.src = paths[lib];\n",
       "        });\n",
       "    }\n",
       "\n",
       "    function showError(err) {\n",
       "      outputDiv.innerHTML = `<div class=\"error\" style=\"color:red;\">${err}</div>`;\n",
       "      throw err;\n",
       "    }\n",
       "\n",
       "    function displayChart(vegaEmbed) {\n",
       "      vegaEmbed(outputDiv, spec, embedOpt)\n",
       "        .catch(err => showError(`Javascript Error: ${err.message}<br>This usually means there's a typo in your chart specification. See the javascript console for the full traceback.`));\n",
       "    }\n",
       "\n",
       "    if(typeof define === \"function\" && define.amd) {\n",
       "      requirejs.config({paths});\n",
       "      let deps = [\"vega-embed\"];\n",
       "      require(deps, displayChart, err => showError(`Error loading script: ${err.message}`));\n",
       "    } else {\n",
       "      maybeLoadScript(\"vega\", \"5\")\n",
       "        .then(() => maybeLoadScript(\"vega-lite\", \"5.20.1\"))\n",
       "        .then(() => maybeLoadScript(\"vega-embed\", \"6\"))\n",
       "        .catch(showError)\n",
       "        .then(() => displayChart(vegaEmbed));\n",
       "    }\n",
       "  })({\"config\": {\"view\": {\"continuousWidth\": 300, \"continuousHeight\": 300}}, \"data\": {\"name\": \"data-7bd34bc17e6719b4e12365c5b18fa641\"}, \"mark\": {\"type\": \"circle\", \"tooltip\": true}, \"encoding\": {\"color\": {\"field\": \"Field\", \"type\": \"nominal\"}, \"x\": {\"field\": \"Percent\", \"type\": \"quantitative\"}, \"y\": {\"field\": \"Field\", \"sort\": {\"field\": \"Percent\", \"op\": \"mean\", \"order\": \"descending\"}, \"type\": \"nominal\"}, \"yOffset\": {\"field\": \"jitter\", \"type\": \"quantitative\"}}, \"params\": [{\"name\": \"param_76\", \"select\": {\"type\": \"interval\", \"encodings\": [\"x\", \"y\"]}, \"bind\": \"scales\"}], \"transform\": [{\"calculate\": \"sqrt(-2*log(random()))*cos(2*PI*random())\", \"as\": \"jitter\"}], \"$schema\": \"https://vega.github.io/schema/vega-lite/v5.20.1.json\", \"datasets\": {\"data-7bd34bc17e6719b4e12365c5b18fa641\": [{\"Year\": 1970, \"Field\": \"Agriculture\", \"Percent\": 4.22979798, \"Yeardate\": \"1970-01-01T00:00:00\"}, {\"Year\": 1971, \"Field\": \"Agriculture\", \"Percent\": 5.452796685, \"Yeardate\": \"1971-01-01T00:00:00\"}, {\"Year\": 1972, \"Field\": \"Agriculture\", \"Percent\": 7.42071022, \"Yeardate\": \"1972-01-01T00:00:00\"}, {\"Year\": 1973, \"Field\": \"Agriculture\", \"Percent\": 9.653602412, \"Yeardate\": \"1973-01-01T00:00:00\"}, {\"Year\": 1974, \"Field\": \"Agriculture\", \"Percent\": 14.07462346, \"Yeardate\": \"1974-01-01T00:00:00\"}, {\"Year\": 1975, \"Field\": \"Agriculture\", \"Percent\": 18.33316153, \"Yeardate\": \"1975-01-01T00:00:00\"}, {\"Year\": 1976, \"Field\": \"Agriculture\", \"Percent\": 22.25276005, \"Yeardate\": \"1976-01-01T00:00:00\"}, {\"Year\": 1977, \"Field\": \"Agriculture\", \"Percent\": 24.6401766, \"Yeardate\": \"1977-01-01T00:00:00\"}, {\"Year\": 1978, \"Field\": \"Agriculture\", \"Percent\": 27.14619175, \"Yeardate\": \"1978-01-01T00:00:00\"}, {\"Year\": 1979, \"Field\": \"Agriculture\", \"Percent\": 29.63336549, \"Yeardate\": \"1979-01-01T00:00:00\"}, {\"Year\": 1980, \"Field\": \"Agriculture\", \"Percent\": 30.75938956, \"Yeardate\": \"1980-01-01T00:00:00\"}, {\"Year\": 1981, \"Field\": \"Agriculture\", \"Percent\": 31.31865519, \"Yeardate\": \"1981-01-01T00:00:00\"}, {\"Year\": 1982, \"Field\": \"Agriculture\", \"Percent\": 32.63666364, \"Yeardate\": \"1982-01-01T00:00:00\"}, {\"Year\": 1983, \"Field\": \"Agriculture\", \"Percent\": 31.6353471, \"Yeardate\": \"1983-01-01T00:00:00\"}, {\"Year\": 1984, \"Field\": \"Agriculture\", \"Percent\": 31.09294748, \"Yeardate\": \"1984-01-01T00:00:00\"}, {\"Year\": 1985, \"Field\": \"Agriculture\", \"Percent\": 31.3796588, \"Yeardate\": \"1985-01-01T00:00:00\"}, {\"Year\": 1986, \"Field\": \"Agriculture\", \"Percent\": 31.19871923, \"Yeardate\": \"1986-01-01T00:00:00\"}, {\"Year\": 1987, \"Field\": \"Agriculture\", \"Percent\": 31.48642948, \"Yeardate\": \"1987-01-01T00:00:00\"}, {\"Year\": 1988, \"Field\": \"Agriculture\", \"Percent\": 31.08508746, \"Yeardate\": \"1988-01-01T00:00:00\"}, {\"Year\": 1989, \"Field\": \"Agriculture\", \"Percent\": 31.6124031, \"Yeardate\": \"1989-01-01T00:00:00\"}, {\"Year\": 1990, \"Field\": \"Agriculture\", \"Percent\": 32.70344407, \"Yeardate\": \"1990-01-01T00:00:00\"}, {\"Year\": 1991, \"Field\": \"Agriculture\", \"Percent\": 34.71183749, \"Yeardate\": \"1991-01-01T00:00:00\"}, {\"Year\": 1992, \"Field\": \"Agriculture\", \"Percent\": 33.93165961, \"Yeardate\": \"1992-01-01T00:00:00\"}, {\"Year\": 1993, \"Field\": \"Agriculture\", \"Percent\": 34.94683208, \"Yeardate\": \"1993-01-01T00:00:00\"}, {\"Year\": 1994, \"Field\": \"Agriculture\", \"Percent\": 36.03267447, \"Yeardate\": \"1994-01-01T00:00:00\"}, {\"Year\": 1995, \"Field\": \"Agriculture\", \"Percent\": 36.84480747, \"Yeardate\": \"1995-01-01T00:00:00\"}, {\"Year\": 1996, \"Field\": \"Agriculture\", \"Percent\": 38.96977475, \"Yeardate\": \"1996-01-01T00:00:00\"}, {\"Year\": 1997, \"Field\": \"Agriculture\", \"Percent\": 40.68568483, \"Yeardate\": \"1997-01-01T00:00:00\"}, {\"Year\": 1998, \"Field\": \"Agriculture\", \"Percent\": 41.91240333, \"Yeardate\": \"1998-01-01T00:00:00\"}, {\"Year\": 1999, \"Field\": \"Agriculture\", \"Percent\": 42.88720191, \"Yeardate\": \"1999-01-01T00:00:00\"}, {\"Year\": 2000, \"Field\": \"Agriculture\", \"Percent\": 45.05776637, \"Yeardate\": \"2000-01-01T00:00:00\"}, {\"Year\": 2001, \"Field\": \"Agriculture\", \"Percent\": 45.86601517, \"Yeardate\": \"2001-01-01T00:00:00\"}, {\"Year\": 2002, \"Field\": \"Agriculture\", \"Percent\": 47.13465821, \"Yeardate\": \"2002-01-01T00:00:00\"}, {\"Year\": 2003, \"Field\": \"Agriculture\", \"Percent\": 47.93518721, \"Yeardate\": \"2003-01-01T00:00:00\"}, {\"Year\": 2004, \"Field\": \"Agriculture\", \"Percent\": 47.88714025, \"Yeardate\": \"2004-01-01T00:00:00\"}, {\"Year\": 2005, \"Field\": \"Agriculture\", \"Percent\": 47.67275409, \"Yeardate\": \"2005-01-01T00:00:00\"}, {\"Year\": 2006, \"Field\": \"Agriculture\", \"Percent\": 46.79029957, \"Yeardate\": \"2006-01-01T00:00:00\"}, {\"Year\": 2007, \"Field\": \"Agriculture\", \"Percent\": 47.60502633, \"Yeardate\": \"2007-01-01T00:00:00\"}, {\"Year\": 2008, \"Field\": \"Agriculture\", \"Percent\": 47.570834, \"Yeardate\": \"2008-01-01T00:00:00\"}, {\"Year\": 2009, \"Field\": \"Agriculture\", \"Percent\": 48.66722357, \"Yeardate\": \"2009-01-01T00:00:00\"}, {\"Year\": 2010, \"Field\": \"Agriculture\", \"Percent\": 48.73004227, \"Yeardate\": \"2010-01-01T00:00:00\"}, {\"Year\": 2011, \"Field\": \"Agriculture\", \"Percent\": 50.03718193, \"Yeardate\": \"2011-01-01T00:00:00\"}, {\"Year\": 1970, \"Field\": \"Business\", \"Percent\": 9.064438975, \"Yeardate\": \"1970-01-01T00:00:00\"}, {\"Year\": 1971, \"Field\": \"Business\", \"Percent\": 9.503186594, \"Yeardate\": \"1971-01-01T00:00:00\"}, {\"Year\": 1972, \"Field\": \"Business\", \"Percent\": 10.5589621, \"Yeardate\": \"1972-01-01T00:00:00\"}, {\"Year\": 1973, \"Field\": \"Business\", \"Percent\": 12.80460152, \"Yeardate\": \"1973-01-01T00:00:00\"}, {\"Year\": 1974, \"Field\": \"Business\", \"Percent\": 16.20485038, \"Yeardate\": \"1974-01-01T00:00:00\"}, {\"Year\": 1975, \"Field\": \"Business\", \"Percent\": 19.68624931, \"Yeardate\": \"1975-01-01T00:00:00\"}, {\"Year\": 1976, \"Field\": \"Business\", \"Percent\": 23.4300375, \"Yeardate\": \"1976-01-01T00:00:00\"}, {\"Year\": 1977, \"Field\": \"Business\", \"Percent\": 27.16342715, \"Yeardate\": \"1977-01-01T00:00:00\"}, {\"Year\": 1978, \"Field\": \"Business\", \"Percent\": 30.52751868, \"Yeardate\": \"1978-01-01T00:00:00\"}, {\"Year\": 1979, \"Field\": \"Business\", \"Percent\": 33.62163381, \"Yeardate\": \"1979-01-01T00:00:00\"}, {\"Year\": 1980, \"Field\": \"Business\", \"Percent\": 36.76572529, \"Yeardate\": \"1980-01-01T00:00:00\"}, {\"Year\": 1981, \"Field\": \"Business\", \"Percent\": 39.26622984, \"Yeardate\": \"1981-01-01T00:00:00\"}, {\"Year\": 1982, \"Field\": \"Business\", \"Percent\": 41.94937335, \"Yeardate\": \"1982-01-01T00:00:00\"}, {\"Year\": 1983, \"Field\": \"Business\", \"Percent\": 43.54206966, \"Yeardate\": \"1983-01-01T00:00:00\"}, {\"Year\": 1984, \"Field\": \"Business\", \"Percent\": 45.12403027, \"Yeardate\": \"1984-01-01T00:00:00\"}, {\"Year\": 1985, \"Field\": \"Business\", \"Percent\": 45.747782, \"Yeardate\": \"1985-01-01T00:00:00\"}, {\"Year\": 1986, \"Field\": \"Business\", \"Percent\": 46.53291505, \"Yeardate\": \"1986-01-01T00:00:00\"}, {\"Year\": 1987, \"Field\": \"Business\", \"Percent\": 46.69046648, \"Yeardate\": \"1987-01-01T00:00:00\"}, {\"Year\": 1988, \"Field\": \"Business\", \"Percent\": 46.7648277, \"Yeardate\": \"1988-01-01T00:00:00\"}, {\"Year\": 1989, \"Field\": \"Business\", \"Percent\": 46.7815648, \"Yeardate\": \"1989-01-01T00:00:00\"}, {\"Year\": 1990, \"Field\": \"Business\", \"Percent\": 47.20085084, \"Yeardate\": \"1990-01-01T00:00:00\"}, {\"Year\": 1991, \"Field\": \"Business\", \"Percent\": 47.22432481, \"Yeardate\": \"1991-01-01T00:00:00\"}, {\"Year\": 1992, \"Field\": \"Business\", \"Percent\": 47.21939541, \"Yeardate\": \"1992-01-01T00:00:00\"}, {\"Year\": 1993, \"Field\": \"Business\", \"Percent\": 47.63933161, \"Yeardate\": \"1993-01-01T00:00:00\"}, {\"Year\": 1994, \"Field\": \"Business\", \"Percent\": 47.98392441, \"Yeardate\": \"1994-01-01T00:00:00\"}, {\"Year\": 1995, \"Field\": \"Business\", \"Percent\": 48.57318101, \"Yeardate\": \"1995-01-01T00:00:00\"}, {\"Year\": 1996, \"Field\": \"Business\", \"Percent\": 48.6473926, \"Yeardate\": \"1996-01-01T00:00:00\"}, {\"Year\": 1997, \"Field\": \"Business\", \"Percent\": 48.56105033, \"Yeardate\": \"1997-01-01T00:00:00\"}, {\"Year\": 1998, \"Field\": \"Business\", \"Percent\": 49.2585152, \"Yeardate\": \"1998-01-01T00:00:00\"}, {\"Year\": 1999, \"Field\": \"Business\", \"Percent\": 49.81020815, \"Yeardate\": \"1999-01-01T00:00:00\"}, {\"Year\": 2000, \"Field\": \"Business\", \"Percent\": 49.80361649, \"Yeardate\": \"2000-01-01T00:00:00\"}, {\"Year\": 2001, \"Field\": \"Business\", \"Percent\": 50.27514494, \"Yeardate\": \"2001-01-01T00:00:00\"}, {\"Year\": 2002, \"Field\": \"Business\", \"Percent\": 50.5523346, \"Yeardate\": \"2002-01-01T00:00:00\"}, {\"Year\": 2003, \"Field\": \"Business\", \"Percent\": 50.34559774, \"Yeardate\": \"2003-01-01T00:00:00\"}, {\"Year\": 2004, \"Field\": \"Business\", \"Percent\": 49.95089449, \"Yeardate\": \"2004-01-01T00:00:00\"}, {\"Year\": 2005, \"Field\": \"Business\", \"Percent\": 49.79185139, \"Yeardate\": \"2005-01-01T00:00:00\"}, {\"Year\": 2006, \"Field\": \"Business\", \"Percent\": 49.21091439, \"Yeardate\": \"2006-01-01T00:00:00\"}, {\"Year\": 2007, \"Field\": \"Business\", \"Percent\": 49.00045935, \"Yeardate\": \"2007-01-01T00:00:00\"}, {\"Year\": 2008, \"Field\": \"Business\", \"Percent\": 48.88802678, \"Yeardate\": \"2008-01-01T00:00:00\"}, {\"Year\": 2009, \"Field\": \"Business\", \"Percent\": 48.84047414, \"Yeardate\": \"2009-01-01T00:00:00\"}, {\"Year\": 2010, \"Field\": \"Business\", \"Percent\": 48.75798769, \"Yeardate\": \"2010-01-01T00:00:00\"}, {\"Year\": 2011, \"Field\": \"Business\", \"Percent\": 48.18041792, \"Yeardate\": \"2011-01-01T00:00:00\"}, {\"Year\": 1970, \"Field\": \"Engineering\", \"Percent\": 0.8, \"Yeardate\": \"1970-01-01T00:00:00\"}, {\"Year\": 1971, \"Field\": \"Engineering\", \"Percent\": 1.0, \"Yeardate\": \"1971-01-01T00:00:00\"}, {\"Year\": 1972, \"Field\": \"Engineering\", \"Percent\": 1.2, \"Yeardate\": \"1972-01-01T00:00:00\"}, {\"Year\": 1973, \"Field\": \"Engineering\", \"Percent\": 1.6, \"Yeardate\": \"1973-01-01T00:00:00\"}, {\"Year\": 1974, \"Field\": \"Engineering\", \"Percent\": 2.2, \"Yeardate\": \"1974-01-01T00:00:00\"}, {\"Year\": 1975, \"Field\": \"Engineering\", \"Percent\": 3.2, \"Yeardate\": \"1975-01-01T00:00:00\"}, {\"Year\": 1976, \"Field\": \"Engineering\", \"Percent\": 4.5, \"Yeardate\": \"1976-01-01T00:00:00\"}, {\"Year\": 1977, \"Field\": \"Engineering\", \"Percent\": 6.8, \"Yeardate\": \"1977-01-01T00:00:00\"}, {\"Year\": 1978, \"Field\": \"Engineering\", \"Percent\": 8.4, \"Yeardate\": \"1978-01-01T00:00:00\"}, {\"Year\": 1979, \"Field\": \"Engineering\", \"Percent\": 9.4, \"Yeardate\": \"1979-01-01T00:00:00\"}, {\"Year\": 1980, \"Field\": \"Engineering\", \"Percent\": 10.3, \"Yeardate\": \"1980-01-01T00:00:00\"}, {\"Year\": 1981, \"Field\": \"Engineering\", \"Percent\": 11.6, \"Yeardate\": \"1981-01-01T00:00:00\"}, {\"Year\": 1982, \"Field\": \"Engineering\", \"Percent\": 12.4, \"Yeardate\": \"1982-01-01T00:00:00\"}, {\"Year\": 1983, \"Field\": \"Engineering\", \"Percent\": 13.1, \"Yeardate\": \"1983-01-01T00:00:00\"}, {\"Year\": 1984, \"Field\": \"Engineering\", \"Percent\": 13.5, \"Yeardate\": \"1984-01-01T00:00:00\"}, {\"Year\": 1985, \"Field\": \"Engineering\", \"Percent\": 13.5, \"Yeardate\": \"1985-01-01T00:00:00\"}, {\"Year\": 1986, \"Field\": \"Engineering\", \"Percent\": 13.9, \"Yeardate\": \"1986-01-01T00:00:00\"}, {\"Year\": 1987, \"Field\": \"Engineering\", \"Percent\": 14.0, \"Yeardate\": \"1987-01-01T00:00:00\"}, {\"Year\": 1988, \"Field\": \"Engineering\", \"Percent\": 13.9, \"Yeardate\": \"1988-01-01T00:00:00\"}, {\"Year\": 1989, \"Field\": \"Engineering\", \"Percent\": 14.1, \"Yeardate\": \"1989-01-01T00:00:00\"}, {\"Year\": 1990, \"Field\": \"Engineering\", \"Percent\": 14.1, \"Yeardate\": \"1990-01-01T00:00:00\"}, {\"Year\": 1991, \"Field\": \"Engineering\", \"Percent\": 14.0, \"Yeardate\": \"1991-01-01T00:00:00\"}, {\"Year\": 1992, \"Field\": \"Engineering\", \"Percent\": 14.5, \"Yeardate\": \"1992-01-01T00:00:00\"}, {\"Year\": 1993, \"Field\": \"Engineering\", \"Percent\": 14.9, \"Yeardate\": \"1993-01-01T00:00:00\"}, {\"Year\": 1994, \"Field\": \"Engineering\", \"Percent\": 15.7, \"Yeardate\": \"1994-01-01T00:00:00\"}, {\"Year\": 1995, \"Field\": \"Engineering\", \"Percent\": 16.2, \"Yeardate\": \"1995-01-01T00:00:00\"}, {\"Year\": 1996, \"Field\": \"Engineering\", \"Percent\": 16.7, \"Yeardate\": \"1996-01-01T00:00:00\"}, {\"Year\": 1997, \"Field\": \"Engineering\", \"Percent\": 17.0, \"Yeardate\": \"1997-01-01T00:00:00\"}, {\"Year\": 1998, \"Field\": \"Engineering\", \"Percent\": 17.8, \"Yeardate\": \"1998-01-01T00:00:00\"}, {\"Year\": 1999, \"Field\": \"Engineering\", \"Percent\": 18.6, \"Yeardate\": \"1999-01-01T00:00:00\"}, {\"Year\": 2000, \"Field\": \"Engineering\", \"Percent\": 18.4, \"Yeardate\": \"2000-01-01T00:00:00\"}, {\"Year\": 2001, \"Field\": \"Engineering\", \"Percent\": 19.0, \"Yeardate\": \"2001-01-01T00:00:00\"}, {\"Year\": 2002, \"Field\": \"Engineering\", \"Percent\": 18.7, \"Yeardate\": \"2002-01-01T00:00:00\"}, {\"Year\": 2003, \"Field\": \"Engineering\", \"Percent\": 18.8, \"Yeardate\": \"2003-01-01T00:00:00\"}, {\"Year\": 2004, \"Field\": \"Engineering\", \"Percent\": 18.2, \"Yeardate\": \"2004-01-01T00:00:00\"}, {\"Year\": 2005, \"Field\": \"Engineering\", \"Percent\": 17.9, \"Yeardate\": \"2005-01-01T00:00:00\"}, {\"Year\": 2006, \"Field\": \"Engineering\", \"Percent\": 16.8, \"Yeardate\": \"2006-01-01T00:00:00\"}, {\"Year\": 2007, \"Field\": \"Engineering\", \"Percent\": 16.8, \"Yeardate\": \"2007-01-01T00:00:00\"}, {\"Year\": 2008, \"Field\": \"Engineering\", \"Percent\": 16.5, \"Yeardate\": \"2008-01-01T00:00:00\"}, {\"Year\": 2009, \"Field\": \"Engineering\", \"Percent\": 16.8, \"Yeardate\": \"2009-01-01T00:00:00\"}, {\"Year\": 2010, \"Field\": \"Engineering\", \"Percent\": 17.2, \"Yeardate\": \"2010-01-01T00:00:00\"}, {\"Year\": 2011, \"Field\": \"Engineering\", \"Percent\": 17.5, \"Yeardate\": \"2011-01-01T00:00:00\"}, {\"Year\": 1970, \"Field\": \"Health\", \"Percent\": 77.1, \"Yeardate\": \"1970-01-01T00:00:00\"}, {\"Year\": 1971, \"Field\": \"Health\", \"Percent\": 75.5, \"Yeardate\": \"1971-01-01T00:00:00\"}, {\"Year\": 1972, \"Field\": \"Health\", \"Percent\": 76.9, \"Yeardate\": \"1972-01-01T00:00:00\"}, {\"Year\": 1973, \"Field\": \"Health\", \"Percent\": 77.4, \"Yeardate\": \"1973-01-01T00:00:00\"}, {\"Year\": 1974, \"Field\": \"Health\", \"Percent\": 77.9, \"Yeardate\": \"1974-01-01T00:00:00\"}, {\"Year\": 1975, \"Field\": \"Health\", \"Percent\": 78.9, \"Yeardate\": \"1975-01-01T00:00:00\"}, {\"Year\": 1976, \"Field\": \"Health\", \"Percent\": 79.2, \"Yeardate\": \"1976-01-01T00:00:00\"}, {\"Year\": 1977, \"Field\": \"Health\", \"Percent\": 80.5, \"Yeardate\": \"1977-01-01T00:00:00\"}, {\"Year\": 1978, \"Field\": \"Health\", \"Percent\": 81.9, \"Yeardate\": \"1978-01-01T00:00:00\"}, {\"Year\": 1979, \"Field\": \"Health\", \"Percent\": 82.3, \"Yeardate\": \"1979-01-01T00:00:00\"}, {\"Year\": 1980, \"Field\": \"Health\", \"Percent\": 83.5, \"Yeardate\": \"1980-01-01T00:00:00\"}, {\"Year\": 1981, \"Field\": \"Health\", \"Percent\": 84.1, \"Yeardate\": \"1981-01-01T00:00:00\"}, {\"Year\": 1982, \"Field\": \"Health\", \"Percent\": 84.4, \"Yeardate\": \"1982-01-01T00:00:00\"}, {\"Year\": 1983, \"Field\": \"Health\", \"Percent\": 84.6, \"Yeardate\": \"1983-01-01T00:00:00\"}, {\"Year\": 1984, \"Field\": \"Health\", \"Percent\": 85.1, \"Yeardate\": \"1984-01-01T00:00:00\"}, {\"Year\": 1985, \"Field\": \"Health\", \"Percent\": 85.3, \"Yeardate\": \"1985-01-01T00:00:00\"}, {\"Year\": 1986, \"Field\": \"Health\", \"Percent\": 85.7, \"Yeardate\": \"1986-01-01T00:00:00\"}, {\"Year\": 1987, \"Field\": \"Health\", \"Percent\": 85.5, \"Yeardate\": \"1987-01-01T00:00:00\"}, {\"Year\": 1988, \"Field\": \"Health\", \"Percent\": 85.2, \"Yeardate\": \"1988-01-01T00:00:00\"}, {\"Year\": 1989, \"Field\": \"Health\", \"Percent\": 84.6, \"Yeardate\": \"1989-01-01T00:00:00\"}, {\"Year\": 1990, \"Field\": \"Health\", \"Percent\": 83.9, \"Yeardate\": \"1990-01-01T00:00:00\"}, {\"Year\": 1991, \"Field\": \"Health\", \"Percent\": 83.5, \"Yeardate\": \"1991-01-01T00:00:00\"}, {\"Year\": 1992, \"Field\": \"Health\", \"Percent\": 83.0, \"Yeardate\": \"1992-01-01T00:00:00\"}, {\"Year\": 1993, \"Field\": \"Health\", \"Percent\": 82.4, \"Yeardate\": \"1993-01-01T00:00:00\"}, {\"Year\": 1994, \"Field\": \"Health\", \"Percent\": 81.8, \"Yeardate\": \"1994-01-01T00:00:00\"}, {\"Year\": 1995, \"Field\": \"Health\", \"Percent\": 81.5, \"Yeardate\": \"1995-01-01T00:00:00\"}, {\"Year\": 1996, \"Field\": \"Health\", \"Percent\": 81.3, \"Yeardate\": \"1996-01-01T00:00:00\"}, {\"Year\": 1997, \"Field\": \"Health\", \"Percent\": 81.9, \"Yeardate\": \"1997-01-01T00:00:00\"}, {\"Year\": 1998, \"Field\": \"Health\", \"Percent\": 82.1, \"Yeardate\": \"1998-01-01T00:00:00\"}, {\"Year\": 1999, \"Field\": \"Health\", \"Percent\": 83.5, \"Yeardate\": \"1999-01-01T00:00:00\"}, {\"Year\": 2000, \"Field\": \"Health\", \"Percent\": 83.5, \"Yeardate\": \"2000-01-01T00:00:00\"}, {\"Year\": 2001, \"Field\": \"Health\", \"Percent\": 85.1, \"Yeardate\": \"2001-01-01T00:00:00\"}, {\"Year\": 2002, \"Field\": \"Health\", \"Percent\": 85.8, \"Yeardate\": \"2002-01-01T00:00:00\"}, {\"Year\": 2003, \"Field\": \"Health\", \"Percent\": 86.5, \"Yeardate\": \"2003-01-01T00:00:00\"}, {\"Year\": 2004, \"Field\": \"Health\", \"Percent\": 86.5, \"Yeardate\": \"2004-01-01T00:00:00\"}, {\"Year\": 2005, \"Field\": \"Health\", \"Percent\": 86.0, \"Yeardate\": \"2005-01-01T00:00:00\"}, {\"Year\": 2006, \"Field\": \"Health\", \"Percent\": 85.9, \"Yeardate\": \"2006-01-01T00:00:00\"}, {\"Year\": 2007, \"Field\": \"Health\", \"Percent\": 85.4, \"Yeardate\": \"2007-01-01T00:00:00\"}, {\"Year\": 2008, \"Field\": \"Health\", \"Percent\": 85.2, \"Yeardate\": \"2008-01-01T00:00:00\"}, {\"Year\": 2009, \"Field\": \"Health\", \"Percent\": 85.1, \"Yeardate\": \"2009-01-01T00:00:00\"}, {\"Year\": 2010, \"Field\": \"Health\", \"Percent\": 85.0, \"Yeardate\": \"2010-01-01T00:00:00\"}, {\"Year\": 2011, \"Field\": \"Health\", \"Percent\": 84.8, \"Yeardate\": \"2011-01-01T00:00:00\"}, {\"Year\": 1970, \"Field\": \"Psychology\", \"Percent\": 44.4, \"Yeardate\": \"1970-01-01T00:00:00\"}, {\"Year\": 1971, \"Field\": \"Psychology\", \"Percent\": 46.2, \"Yeardate\": \"1971-01-01T00:00:00\"}, {\"Year\": 1972, \"Field\": \"Psychology\", \"Percent\": 47.6, \"Yeardate\": \"1972-01-01T00:00:00\"}, {\"Year\": 1973, \"Field\": \"Psychology\", \"Percent\": 50.4, \"Yeardate\": \"1973-01-01T00:00:00\"}, {\"Year\": 1974, \"Field\": \"Psychology\", \"Percent\": 52.6, \"Yeardate\": \"1974-01-01T00:00:00\"}, {\"Year\": 1975, \"Field\": \"Psychology\", \"Percent\": 54.5, \"Yeardate\": \"1975-01-01T00:00:00\"}, {\"Year\": 1976, \"Field\": \"Psychology\", \"Percent\": 56.9, \"Yeardate\": \"1976-01-01T00:00:00\"}, {\"Year\": 1977, \"Field\": \"Psychology\", \"Percent\": 59.0, \"Yeardate\": \"1977-01-01T00:00:00\"}, {\"Year\": 1978, \"Field\": \"Psychology\", \"Percent\": 61.3, \"Yeardate\": \"1978-01-01T00:00:00\"}, {\"Year\": 1979, \"Field\": \"Psychology\", \"Percent\": 63.3, \"Yeardate\": \"1979-01-01T00:00:00\"}, {\"Year\": 1980, \"Field\": \"Psychology\", \"Percent\": 65.1, \"Yeardate\": \"1980-01-01T00:00:00\"}, {\"Year\": 1981, \"Field\": \"Psychology\", \"Percent\": 66.9, \"Yeardate\": \"1981-01-01T00:00:00\"}, {\"Year\": 1982, \"Field\": \"Psychology\", \"Percent\": 67.5, \"Yeardate\": \"1982-01-01T00:00:00\"}, {\"Year\": 1983, \"Field\": \"Psychology\", \"Percent\": 67.9, \"Yeardate\": \"1983-01-01T00:00:00\"}, {\"Year\": 1984, \"Field\": \"Psychology\", \"Percent\": 68.2, \"Yeardate\": \"1984-01-01T00:00:00\"}, {\"Year\": 1985, \"Field\": \"Psychology\", \"Percent\": 69.0, \"Yeardate\": \"1985-01-01T00:00:00\"}, {\"Year\": 1986, \"Field\": \"Psychology\", \"Percent\": 69.0, \"Yeardate\": \"1986-01-01T00:00:00\"}, {\"Year\": 1987, \"Field\": \"Psychology\", \"Percent\": 70.1, \"Yeardate\": \"1987-01-01T00:00:00\"}, {\"Year\": 1988, \"Field\": \"Psychology\", \"Percent\": 70.9, \"Yeardate\": \"1988-01-01T00:00:00\"}, {\"Year\": 1989, \"Field\": \"Psychology\", \"Percent\": 71.6, \"Yeardate\": \"1989-01-01T00:00:00\"}, {\"Year\": 1990, \"Field\": \"Psychology\", \"Percent\": 72.6, \"Yeardate\": \"1990-01-01T00:00:00\"}, {\"Year\": 1991, \"Field\": \"Psychology\", \"Percent\": 73.2, \"Yeardate\": \"1991-01-01T00:00:00\"}, {\"Year\": 1992, \"Field\": \"Psychology\", \"Percent\": 73.2, \"Yeardate\": \"1992-01-01T00:00:00\"}, {\"Year\": 1993, \"Field\": \"Psychology\", \"Percent\": 73.1, \"Yeardate\": \"1993-01-01T00:00:00\"}, {\"Year\": 1994, \"Field\": \"Psychology\", \"Percent\": 72.9, \"Yeardate\": \"1994-01-01T00:00:00\"}, {\"Year\": 1995, \"Field\": \"Psychology\", \"Percent\": 73.0, \"Yeardate\": \"1995-01-01T00:00:00\"}, {\"Year\": 1996, \"Field\": \"Psychology\", \"Percent\": 73.9, \"Yeardate\": \"1996-01-01T00:00:00\"}, {\"Year\": 1997, \"Field\": \"Psychology\", \"Percent\": 74.4, \"Yeardate\": \"1997-01-01T00:00:00\"}, {\"Year\": 1998, \"Field\": \"Psychology\", \"Percent\": 75.1, \"Yeardate\": \"1998-01-01T00:00:00\"}, {\"Year\": 1999, \"Field\": \"Psychology\", \"Percent\": 76.5, \"Yeardate\": \"1999-01-01T00:00:00\"}, {\"Year\": 2000, \"Field\": \"Psychology\", \"Percent\": 77.5, \"Yeardate\": \"2000-01-01T00:00:00\"}, {\"Year\": 2001, \"Field\": \"Psychology\", \"Percent\": 77.5, \"Yeardate\": \"2001-01-01T00:00:00\"}, {\"Year\": 2002, \"Field\": \"Psychology\", \"Percent\": 77.7, \"Yeardate\": \"2002-01-01T00:00:00\"}, {\"Year\": 2003, \"Field\": \"Psychology\", \"Percent\": 77.8, \"Yeardate\": \"2003-01-01T00:00:00\"}, {\"Year\": 2004, \"Field\": \"Psychology\", \"Percent\": 77.8, \"Yeardate\": \"2004-01-01T00:00:00\"}, {\"Year\": 2005, \"Field\": \"Psychology\", \"Percent\": 77.5, \"Yeardate\": \"2005-01-01T00:00:00\"}, {\"Year\": 2006, \"Field\": \"Psychology\", \"Percent\": 77.4, \"Yeardate\": \"2006-01-01T00:00:00\"}, {\"Year\": 2007, \"Field\": \"Psychology\", \"Percent\": 77.1, \"Yeardate\": \"2007-01-01T00:00:00\"}, {\"Year\": 2008, \"Field\": \"Psychology\", \"Percent\": 77.2, \"Yeardate\": \"2008-01-01T00:00:00\"}, {\"Year\": 2009, \"Field\": \"Psychology\", \"Percent\": 77.1, \"Yeardate\": \"2009-01-01T00:00:00\"}, {\"Year\": 2010, \"Field\": \"Psychology\", \"Percent\": 77.0, \"Yeardate\": \"2010-01-01T00:00:00\"}, {\"Year\": 2011, \"Field\": \"Psychology\", \"Percent\": 76.7, \"Yeardate\": \"2011-01-01T00:00:00\"}]}}, {\"mode\": \"vega-lite\"});\n",
       "</script>"
      ],
      "text/plain": [
       "alt.Chart(...)"
      ]
     },
     "execution_count": 109,
     "metadata": {},
     "output_type": "execute_result"
    }
   ],
   "source": [
    "df_tall.plot.circle(\n",
    "    y=alt.Y(\"Field:N\").sort(\n",
    "        field='Percent',\n",
    "        op='mean',\n",
    "        order='descending'\n",
    "    ),\n",
    "    x=\"Percent:Q\",\n",
    "    color=\"Field:N\",\n",
    "    yOffset=\"jitter:Q\"\n",
    ").transform_calculate(\n",
    "    jitter = 'sqrt(-2*log(random()))*cos(2*PI*random())'\n",
    ")"
   ]
  },
  {
   "cell_type": "markdown",
   "metadata": {},
   "source": [
    "### Sorting a box plot\n",
    "\n",
    "To sort the box plot, it's slightly less straightforward than the bar chart, because **the box plot needs to be computed and plotted with the whole original DataFrame** – we just want to change the order in which the columns are plotted. \n",
    "\n",
    "To do this we'll sort the `.median()` Series, which gives us the degree subject area names in the order we want. *We'll just use the degree names to specify the column ordering for plotting, which are stored in the Index of the Series. We won't actually use the median values – those get calculated by the box plot routine for chart creation.*"
   ]
  },
  {
   "cell_type": "raw",
   "metadata": {},
   "source": [
    "median_series = df.median().sort_values(ascending=False)\n",
    "median_series"
   ]
  },
  {
   "cell_type": "markdown",
   "metadata": {},
   "source": [
    "#### Ordered degree names are in the Index\n",
    "\n",
    "Note that, just like the line plot, we need to give the degree names in the `y=` argument, since in the Pandas plotting routines **Y is always the columns that are being used**, not the Y-axis of the resulting plot!!"
   ]
  },
  {
   "cell_type": "raw",
   "metadata": {},
   "source": [
    "df.plot.box(y=median_series.index);"
   ]
  },
  {
   "cell_type": "markdown",
   "metadata": {},
   "source": [
    "### Horizontal box plot\n",
    "\n",
    "To make the boxplot horizontal, we need to feed in a `vert=False` argument. **This type of thing is why I don't tend to use the Pandas plotting routines – the syntax doesn't always make sense, and the arguments change based on the plot you're doing!**\n",
    "\n",
    "*Take my Altair workshop to learn about a Python plotting module that is more consistent in its syntax, even if it isn't as convenient because it's not built into Pandas.*\n",
    "\n",
    "Just like in the bar chart, left-to-right vertical boxplot translates into bottom-to-top in the horizontal version."
   ]
  },
  {
   "cell_type": "raw",
   "metadata": {},
   "source": [
    "df.plot.box(y=df.median().sort_values(ascending=True).index, vert=False);"
   ]
  },
  {
   "cell_type": "code",
   "execution_count": null,
   "metadata": {},
   "outputs": [],
   "source": []
  }
 ],
 "metadata": {
  "kernelspec": {
   "display_name": "Python 3 (ipykernel)",
   "language": "python",
   "name": "python3"
  },
  "language_info": {
   "codemirror_mode": {
    "name": "ipython",
    "version": 3
   },
   "file_extension": ".py",
   "mimetype": "text/x-python",
   "name": "python",
   "nbconvert_exporter": "python",
   "pygments_lexer": "ipython3",
   "version": "3.13.1"
  },
  "toc-autonumbering": false
 },
 "nbformat": 4,
 "nbformat_minor": 4
}
